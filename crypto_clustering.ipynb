{
 "cells": [
  {
   "cell_type": "markdown",
   "metadata": {},
   "source": [
    "# Clustering Crypto"
   ]
  },
  {
   "cell_type": "code",
   "execution_count": 132,
   "metadata": {},
   "outputs": [],
   "source": [
    "# Initial imports\n",
    "import pandas as pd\n",
    "import hvplot.pandas\n",
    "from pathlib import Path\n",
    "import plotly.express as px\n",
    "from sklearn.preprocessing import StandardScaler, MinMaxScaler\n",
    "from sklearn.decomposition import PCA\n",
    "from sklearn.cluster import KMeans\n"
   ]
  },
  {
   "cell_type": "markdown",
   "metadata": {},
   "source": [
    "### Deliverable 1: Preprocessing the Data for PCA"
   ]
  },
  {
   "cell_type": "code",
   "execution_count": 133,
   "metadata": {},
   "outputs": [
    {
     "data": {
      "text/html": [
       "<div>\n",
       "<style scoped>\n",
       "    .dataframe tbody tr th:only-of-type {\n",
       "        vertical-align: middle;\n",
       "    }\n",
       "\n",
       "    .dataframe tbody tr th {\n",
       "        vertical-align: top;\n",
       "    }\n",
       "\n",
       "    .dataframe thead th {\n",
       "        text-align: right;\n",
       "    }\n",
       "</style>\n",
       "<table border=\"1\" class=\"dataframe\">\n",
       "  <thead>\n",
       "    <tr style=\"text-align: right;\">\n",
       "      <th></th>\n",
       "      <th>Unnamed: 0</th>\n",
       "      <th>CoinName</th>\n",
       "      <th>Algorithm</th>\n",
       "      <th>IsTrading</th>\n",
       "      <th>ProofType</th>\n",
       "      <th>TotalCoinsMined</th>\n",
       "      <th>TotalCoinSupply</th>\n",
       "    </tr>\n",
       "  </thead>\n",
       "  <tbody>\n",
       "    <tr>\n",
       "      <th>0</th>\n",
       "      <td>42</td>\n",
       "      <td>42 Coin</td>\n",
       "      <td>Scrypt</td>\n",
       "      <td>True</td>\n",
       "      <td>PoW/PoS</td>\n",
       "      <td>4.199995e+01</td>\n",
       "      <td>42</td>\n",
       "    </tr>\n",
       "    <tr>\n",
       "      <th>1</th>\n",
       "      <td>365</td>\n",
       "      <td>365Coin</td>\n",
       "      <td>X11</td>\n",
       "      <td>True</td>\n",
       "      <td>PoW/PoS</td>\n",
       "      <td>NaN</td>\n",
       "      <td>2300000000</td>\n",
       "    </tr>\n",
       "    <tr>\n",
       "      <th>2</th>\n",
       "      <td>404</td>\n",
       "      <td>404Coin</td>\n",
       "      <td>Scrypt</td>\n",
       "      <td>True</td>\n",
       "      <td>PoW/PoS</td>\n",
       "      <td>1.055185e+09</td>\n",
       "      <td>532000000</td>\n",
       "    </tr>\n",
       "    <tr>\n",
       "      <th>3</th>\n",
       "      <td>611</td>\n",
       "      <td>SixEleven</td>\n",
       "      <td>SHA-256</td>\n",
       "      <td>True</td>\n",
       "      <td>PoW</td>\n",
       "      <td>NaN</td>\n",
       "      <td>611000</td>\n",
       "    </tr>\n",
       "    <tr>\n",
       "      <th>4</th>\n",
       "      <td>808</td>\n",
       "      <td>808</td>\n",
       "      <td>SHA-256</td>\n",
       "      <td>True</td>\n",
       "      <td>PoW/PoS</td>\n",
       "      <td>0.000000e+00</td>\n",
       "      <td>0</td>\n",
       "    </tr>\n",
       "    <tr>\n",
       "      <th>5</th>\n",
       "      <td>1337</td>\n",
       "      <td>EliteCoin</td>\n",
       "      <td>X13</td>\n",
       "      <td>True</td>\n",
       "      <td>PoW/PoS</td>\n",
       "      <td>2.927942e+10</td>\n",
       "      <td>314159265359</td>\n",
       "    </tr>\n",
       "    <tr>\n",
       "      <th>6</th>\n",
       "      <td>2015</td>\n",
       "      <td>2015 coin</td>\n",
       "      <td>X11</td>\n",
       "      <td>True</td>\n",
       "      <td>PoW/PoS</td>\n",
       "      <td>NaN</td>\n",
       "      <td>0</td>\n",
       "    </tr>\n",
       "    <tr>\n",
       "      <th>7</th>\n",
       "      <td>BTC</td>\n",
       "      <td>Bitcoin</td>\n",
       "      <td>SHA-256</td>\n",
       "      <td>True</td>\n",
       "      <td>PoW</td>\n",
       "      <td>1.792718e+07</td>\n",
       "      <td>21000000</td>\n",
       "    </tr>\n",
       "    <tr>\n",
       "      <th>8</th>\n",
       "      <td>ETH</td>\n",
       "      <td>Ethereum</td>\n",
       "      <td>Ethash</td>\n",
       "      <td>True</td>\n",
       "      <td>PoW</td>\n",
       "      <td>1.076842e+08</td>\n",
       "      <td>0</td>\n",
       "    </tr>\n",
       "    <tr>\n",
       "      <th>9</th>\n",
       "      <td>LTC</td>\n",
       "      <td>Litecoin</td>\n",
       "      <td>Scrypt</td>\n",
       "      <td>True</td>\n",
       "      <td>PoW</td>\n",
       "      <td>6.303924e+07</td>\n",
       "      <td>84000000</td>\n",
       "    </tr>\n",
       "  </tbody>\n",
       "</table>\n",
       "</div>"
      ],
      "text/plain": [
       "  Unnamed: 0   CoinName Algorithm  IsTrading ProofType  TotalCoinsMined  \\\n",
       "0         42    42 Coin    Scrypt       True   PoW/PoS     4.199995e+01   \n",
       "1        365    365Coin       X11       True   PoW/PoS              NaN   \n",
       "2        404    404Coin    Scrypt       True   PoW/PoS     1.055185e+09   \n",
       "3        611  SixEleven   SHA-256       True       PoW              NaN   \n",
       "4        808        808   SHA-256       True   PoW/PoS     0.000000e+00   \n",
       "5       1337  EliteCoin       X13       True   PoW/PoS     2.927942e+10   \n",
       "6       2015  2015 coin       X11       True   PoW/PoS              NaN   \n",
       "7        BTC    Bitcoin   SHA-256       True       PoW     1.792718e+07   \n",
       "8        ETH   Ethereum    Ethash       True       PoW     1.076842e+08   \n",
       "9        LTC   Litecoin    Scrypt       True       PoW     6.303924e+07   \n",
       "\n",
       "  TotalCoinSupply  \n",
       "0              42  \n",
       "1      2300000000  \n",
       "2       532000000  \n",
       "3          611000  \n",
       "4               0  \n",
       "5    314159265359  \n",
       "6               0  \n",
       "7        21000000  \n",
       "8               0  \n",
       "9        84000000  "
      ]
     },
     "execution_count": 133,
     "metadata": {},
     "output_type": "execute_result"
    }
   ],
   "source": [
    "# Loading data\n",
    "file_path = \"Resources/crypto_data.csv\"\n",
    "crypto_df = pd.read_csv(file_path)\n",
    "\n",
    "crypto_df.head(10)"
   ]
  },
  {
   "cell_type": "code",
   "execution_count": 134,
   "metadata": {},
   "outputs": [
    {
     "data": {
      "text/html": [
       "<div>\n",
       "<style scoped>\n",
       "    .dataframe tbody tr th:only-of-type {\n",
       "        vertical-align: middle;\n",
       "    }\n",
       "\n",
       "    .dataframe tbody tr th {\n",
       "        vertical-align: top;\n",
       "    }\n",
       "\n",
       "    .dataframe thead th {\n",
       "        text-align: right;\n",
       "    }\n",
       "</style>\n",
       "<table border=\"1\" class=\"dataframe\">\n",
       "  <thead>\n",
       "    <tr style=\"text-align: right;\">\n",
       "      <th></th>\n",
       "      <th>CoinName</th>\n",
       "      <th>Algorithm</th>\n",
       "      <th>IsTrading</th>\n",
       "      <th>ProofType</th>\n",
       "      <th>TotalCoinsMined</th>\n",
       "      <th>TotalCoinSupply</th>\n",
       "    </tr>\n",
       "    <tr>\n",
       "      <th></th>\n",
       "      <th></th>\n",
       "      <th></th>\n",
       "      <th></th>\n",
       "      <th></th>\n",
       "      <th></th>\n",
       "      <th></th>\n",
       "    </tr>\n",
       "  </thead>\n",
       "  <tbody>\n",
       "    <tr>\n",
       "      <th>42</th>\n",
       "      <td>42 Coin</td>\n",
       "      <td>Scrypt</td>\n",
       "      <td>True</td>\n",
       "      <td>PoW/PoS</td>\n",
       "      <td>4.199995e+01</td>\n",
       "      <td>42</td>\n",
       "    </tr>\n",
       "    <tr>\n",
       "      <th>365</th>\n",
       "      <td>365Coin</td>\n",
       "      <td>X11</td>\n",
       "      <td>True</td>\n",
       "      <td>PoW/PoS</td>\n",
       "      <td>NaN</td>\n",
       "      <td>2300000000</td>\n",
       "    </tr>\n",
       "    <tr>\n",
       "      <th>404</th>\n",
       "      <td>404Coin</td>\n",
       "      <td>Scrypt</td>\n",
       "      <td>True</td>\n",
       "      <td>PoW/PoS</td>\n",
       "      <td>1.055185e+09</td>\n",
       "      <td>532000000</td>\n",
       "    </tr>\n",
       "    <tr>\n",
       "      <th>611</th>\n",
       "      <td>SixEleven</td>\n",
       "      <td>SHA-256</td>\n",
       "      <td>True</td>\n",
       "      <td>PoW</td>\n",
       "      <td>NaN</td>\n",
       "      <td>611000</td>\n",
       "    </tr>\n",
       "    <tr>\n",
       "      <th>808</th>\n",
       "      <td>808</td>\n",
       "      <td>SHA-256</td>\n",
       "      <td>True</td>\n",
       "      <td>PoW/PoS</td>\n",
       "      <td>0.000000e+00</td>\n",
       "      <td>0</td>\n",
       "    </tr>\n",
       "  </tbody>\n",
       "</table>\n",
       "</div>"
      ],
      "text/plain": [
       "      CoinName Algorithm  IsTrading ProofType  TotalCoinsMined TotalCoinSupply\n",
       "                                                                              \n",
       "42     42 Coin    Scrypt       True   PoW/PoS     4.199995e+01              42\n",
       "365    365Coin       X11       True   PoW/PoS              NaN      2300000000\n",
       "404    404Coin    Scrypt       True   PoW/PoS     1.055185e+09       532000000\n",
       "611  SixEleven   SHA-256       True       PoW              NaN          611000\n",
       "808        808   SHA-256       True   PoW/PoS     0.000000e+00               0"
      ]
     },
     "execution_count": 134,
     "metadata": {},
     "output_type": "execute_result"
    }
   ],
   "source": [
    "# Rename index to Unnamed:0 \n",
    "crypto_df  = crypto_df.rename(columns={'Unnamed: 0': ''})\n",
    "crypto_df = crypto_df.set_index('')\n",
    "crypto_df.head()"
   ]
  },
  {
   "cell_type": "code",
   "execution_count": 135,
   "metadata": {},
   "outputs": [
    {
     "data": {
      "text/html": [
       "<div>\n",
       "<style scoped>\n",
       "    .dataframe tbody tr th:only-of-type {\n",
       "        vertical-align: middle;\n",
       "    }\n",
       "\n",
       "    .dataframe tbody tr th {\n",
       "        vertical-align: top;\n",
       "    }\n",
       "\n",
       "    .dataframe thead th {\n",
       "        text-align: right;\n",
       "    }\n",
       "</style>\n",
       "<table border=\"1\" class=\"dataframe\">\n",
       "  <thead>\n",
       "    <tr style=\"text-align: right;\">\n",
       "      <th></th>\n",
       "      <th>CoinName</th>\n",
       "      <th>Algorithm</th>\n",
       "      <th>IsTrading</th>\n",
       "      <th>ProofType</th>\n",
       "      <th>TotalCoinsMined</th>\n",
       "      <th>TotalCoinSupply</th>\n",
       "    </tr>\n",
       "    <tr>\n",
       "      <th></th>\n",
       "      <th></th>\n",
       "      <th></th>\n",
       "      <th></th>\n",
       "      <th></th>\n",
       "      <th></th>\n",
       "      <th></th>\n",
       "    </tr>\n",
       "  </thead>\n",
       "  <tbody>\n",
       "    <tr>\n",
       "      <th>42</th>\n",
       "      <td>42 Coin</td>\n",
       "      <td>Scrypt</td>\n",
       "      <td>True</td>\n",
       "      <td>PoW/PoS</td>\n",
       "      <td>4.199995e+01</td>\n",
       "      <td>42</td>\n",
       "    </tr>\n",
       "    <tr>\n",
       "      <th>365</th>\n",
       "      <td>365Coin</td>\n",
       "      <td>X11</td>\n",
       "      <td>True</td>\n",
       "      <td>PoW/PoS</td>\n",
       "      <td>NaN</td>\n",
       "      <td>2300000000</td>\n",
       "    </tr>\n",
       "    <tr>\n",
       "      <th>404</th>\n",
       "      <td>404Coin</td>\n",
       "      <td>Scrypt</td>\n",
       "      <td>True</td>\n",
       "      <td>PoW/PoS</td>\n",
       "      <td>1.055185e+09</td>\n",
       "      <td>532000000</td>\n",
       "    </tr>\n",
       "    <tr>\n",
       "      <th>611</th>\n",
       "      <td>SixEleven</td>\n",
       "      <td>SHA-256</td>\n",
       "      <td>True</td>\n",
       "      <td>PoW</td>\n",
       "      <td>NaN</td>\n",
       "      <td>611000</td>\n",
       "    </tr>\n",
       "    <tr>\n",
       "      <th>808</th>\n",
       "      <td>808</td>\n",
       "      <td>SHA-256</td>\n",
       "      <td>True</td>\n",
       "      <td>PoW/PoS</td>\n",
       "      <td>0.000000e+00</td>\n",
       "      <td>0</td>\n",
       "    </tr>\n",
       "    <tr>\n",
       "      <th>...</th>\n",
       "      <td>...</td>\n",
       "      <td>...</td>\n",
       "      <td>...</td>\n",
       "      <td>...</td>\n",
       "      <td>...</td>\n",
       "      <td>...</td>\n",
       "    </tr>\n",
       "    <tr>\n",
       "      <th>SERO</th>\n",
       "      <td>Super Zero</td>\n",
       "      <td>Ethash</td>\n",
       "      <td>True</td>\n",
       "      <td>PoW</td>\n",
       "      <td>NaN</td>\n",
       "      <td>1000000000</td>\n",
       "    </tr>\n",
       "    <tr>\n",
       "      <th>UOS</th>\n",
       "      <td>UOS</td>\n",
       "      <td>SHA-256</td>\n",
       "      <td>True</td>\n",
       "      <td>DPoI</td>\n",
       "      <td>NaN</td>\n",
       "      <td>1000000000</td>\n",
       "    </tr>\n",
       "    <tr>\n",
       "      <th>BDX</th>\n",
       "      <td>Beldex</td>\n",
       "      <td>CryptoNight</td>\n",
       "      <td>True</td>\n",
       "      <td>PoW</td>\n",
       "      <td>9.802226e+08</td>\n",
       "      <td>1400222610</td>\n",
       "    </tr>\n",
       "    <tr>\n",
       "      <th>ZEN</th>\n",
       "      <td>Horizen</td>\n",
       "      <td>Equihash</td>\n",
       "      <td>True</td>\n",
       "      <td>PoW</td>\n",
       "      <td>7.296538e+06</td>\n",
       "      <td>21000000</td>\n",
       "    </tr>\n",
       "    <tr>\n",
       "      <th>XBC</th>\n",
       "      <td>BitcoinPlus</td>\n",
       "      <td>Scrypt</td>\n",
       "      <td>True</td>\n",
       "      <td>PoS</td>\n",
       "      <td>1.283270e+05</td>\n",
       "      <td>1000000</td>\n",
       "    </tr>\n",
       "  </tbody>\n",
       "</table>\n",
       "<p>1144 rows × 6 columns</p>\n",
       "</div>"
      ],
      "text/plain": [
       "         CoinName    Algorithm  IsTrading ProofType  TotalCoinsMined  \\\n",
       "                                                                       \n",
       "42        42 Coin       Scrypt       True   PoW/PoS     4.199995e+01   \n",
       "365       365Coin          X11       True   PoW/PoS              NaN   \n",
       "404       404Coin       Scrypt       True   PoW/PoS     1.055185e+09   \n",
       "611     SixEleven      SHA-256       True       PoW              NaN   \n",
       "808           808      SHA-256       True   PoW/PoS     0.000000e+00   \n",
       "...           ...          ...        ...       ...              ...   \n",
       "SERO   Super Zero       Ethash       True       PoW              NaN   \n",
       "UOS           UOS      SHA-256       True      DPoI              NaN   \n",
       "BDX        Beldex  CryptoNight       True       PoW     9.802226e+08   \n",
       "ZEN       Horizen     Equihash       True       PoW     7.296538e+06   \n",
       "XBC   BitcoinPlus       Scrypt       True       PoS     1.283270e+05   \n",
       "\n",
       "     TotalCoinSupply  \n",
       "                      \n",
       "42                42  \n",
       "365       2300000000  \n",
       "404        532000000  \n",
       "611           611000  \n",
       "808                0  \n",
       "...              ...  \n",
       "SERO      1000000000  \n",
       "UOS       1000000000  \n",
       "BDX       1400222610  \n",
       "ZEN         21000000  \n",
       "XBC          1000000  \n",
       "\n",
       "[1144 rows x 6 columns]"
      ]
     },
     "execution_count": 135,
     "metadata": {},
     "output_type": "execute_result"
    }
   ],
   "source": [
    "# Keep all the cryptocurrencies that are being traded.\n",
    "crypto_df = crypto_df[crypto_df['IsTrading']== True]\n",
    "crypto_df"
   ]
  },
  {
   "cell_type": "code",
   "execution_count": 136,
   "metadata": {},
   "outputs": [
    {
     "data": {
      "text/html": [
       "<div>\n",
       "<style scoped>\n",
       "    .dataframe tbody tr th:only-of-type {\n",
       "        vertical-align: middle;\n",
       "    }\n",
       "\n",
       "    .dataframe tbody tr th {\n",
       "        vertical-align: top;\n",
       "    }\n",
       "\n",
       "    .dataframe thead th {\n",
       "        text-align: right;\n",
       "    }\n",
       "</style>\n",
       "<table border=\"1\" class=\"dataframe\">\n",
       "  <thead>\n",
       "    <tr style=\"text-align: right;\">\n",
       "      <th></th>\n",
       "      <th>CoinName</th>\n",
       "      <th>Algorithm</th>\n",
       "      <th>IsTrading</th>\n",
       "      <th>ProofType</th>\n",
       "      <th>TotalCoinsMined</th>\n",
       "      <th>TotalCoinSupply</th>\n",
       "    </tr>\n",
       "    <tr>\n",
       "      <th></th>\n",
       "      <th></th>\n",
       "      <th></th>\n",
       "      <th></th>\n",
       "      <th></th>\n",
       "      <th></th>\n",
       "      <th></th>\n",
       "    </tr>\n",
       "  </thead>\n",
       "  <tbody>\n",
       "    <tr>\n",
       "      <th>42</th>\n",
       "      <td>42 Coin</td>\n",
       "      <td>Scrypt</td>\n",
       "      <td>True</td>\n",
       "      <td>PoW/PoS</td>\n",
       "      <td>4.199995e+01</td>\n",
       "      <td>42</td>\n",
       "    </tr>\n",
       "    <tr>\n",
       "      <th>365</th>\n",
       "      <td>365Coin</td>\n",
       "      <td>X11</td>\n",
       "      <td>True</td>\n",
       "      <td>PoW/PoS</td>\n",
       "      <td>NaN</td>\n",
       "      <td>2300000000</td>\n",
       "    </tr>\n",
       "    <tr>\n",
       "      <th>404</th>\n",
       "      <td>404Coin</td>\n",
       "      <td>Scrypt</td>\n",
       "      <td>True</td>\n",
       "      <td>PoW/PoS</td>\n",
       "      <td>1.055185e+09</td>\n",
       "      <td>532000000</td>\n",
       "    </tr>\n",
       "    <tr>\n",
       "      <th>611</th>\n",
       "      <td>SixEleven</td>\n",
       "      <td>SHA-256</td>\n",
       "      <td>True</td>\n",
       "      <td>PoW</td>\n",
       "      <td>NaN</td>\n",
       "      <td>611000</td>\n",
       "    </tr>\n",
       "    <tr>\n",
       "      <th>808</th>\n",
       "      <td>808</td>\n",
       "      <td>SHA-256</td>\n",
       "      <td>True</td>\n",
       "      <td>PoW/PoS</td>\n",
       "      <td>0.000000e+00</td>\n",
       "      <td>0</td>\n",
       "    </tr>\n",
       "    <tr>\n",
       "      <th>...</th>\n",
       "      <td>...</td>\n",
       "      <td>...</td>\n",
       "      <td>...</td>\n",
       "      <td>...</td>\n",
       "      <td>...</td>\n",
       "      <td>...</td>\n",
       "    </tr>\n",
       "    <tr>\n",
       "      <th>SERO</th>\n",
       "      <td>Super Zero</td>\n",
       "      <td>Ethash</td>\n",
       "      <td>True</td>\n",
       "      <td>PoW</td>\n",
       "      <td>NaN</td>\n",
       "      <td>1000000000</td>\n",
       "    </tr>\n",
       "    <tr>\n",
       "      <th>UOS</th>\n",
       "      <td>UOS</td>\n",
       "      <td>SHA-256</td>\n",
       "      <td>True</td>\n",
       "      <td>DPoI</td>\n",
       "      <td>NaN</td>\n",
       "      <td>1000000000</td>\n",
       "    </tr>\n",
       "    <tr>\n",
       "      <th>BDX</th>\n",
       "      <td>Beldex</td>\n",
       "      <td>CryptoNight</td>\n",
       "      <td>True</td>\n",
       "      <td>PoW</td>\n",
       "      <td>9.802226e+08</td>\n",
       "      <td>1400222610</td>\n",
       "    </tr>\n",
       "    <tr>\n",
       "      <th>ZEN</th>\n",
       "      <td>Horizen</td>\n",
       "      <td>Equihash</td>\n",
       "      <td>True</td>\n",
       "      <td>PoW</td>\n",
       "      <td>7.296538e+06</td>\n",
       "      <td>21000000</td>\n",
       "    </tr>\n",
       "    <tr>\n",
       "      <th>XBC</th>\n",
       "      <td>BitcoinPlus</td>\n",
       "      <td>Scrypt</td>\n",
       "      <td>True</td>\n",
       "      <td>PoS</td>\n",
       "      <td>1.283270e+05</td>\n",
       "      <td>1000000</td>\n",
       "    </tr>\n",
       "  </tbody>\n",
       "</table>\n",
       "<p>1144 rows × 6 columns</p>\n",
       "</div>"
      ],
      "text/plain": [
       "         CoinName    Algorithm  IsTrading ProofType  TotalCoinsMined  \\\n",
       "                                                                       \n",
       "42        42 Coin       Scrypt       True   PoW/PoS     4.199995e+01   \n",
       "365       365Coin          X11       True   PoW/PoS              NaN   \n",
       "404       404Coin       Scrypt       True   PoW/PoS     1.055185e+09   \n",
       "611     SixEleven      SHA-256       True       PoW              NaN   \n",
       "808           808      SHA-256       True   PoW/PoS     0.000000e+00   \n",
       "...           ...          ...        ...       ...              ...   \n",
       "SERO   Super Zero       Ethash       True       PoW              NaN   \n",
       "UOS           UOS      SHA-256       True      DPoI              NaN   \n",
       "BDX        Beldex  CryptoNight       True       PoW     9.802226e+08   \n",
       "ZEN       Horizen     Equihash       True       PoW     7.296538e+06   \n",
       "XBC   BitcoinPlus       Scrypt       True       PoS     1.283270e+05   \n",
       "\n",
       "     TotalCoinSupply  \n",
       "                      \n",
       "42                42  \n",
       "365       2300000000  \n",
       "404        532000000  \n",
       "611           611000  \n",
       "808                0  \n",
       "...              ...  \n",
       "SERO      1000000000  \n",
       "UOS       1000000000  \n",
       "BDX       1400222610  \n",
       "ZEN         21000000  \n",
       "XBC          1000000  \n",
       "\n",
       "[1144 rows x 6 columns]"
      ]
     },
     "execution_count": 136,
     "metadata": {},
     "output_type": "execute_result"
    }
   ],
   "source": [
    "# Keep all the cryptocurrencies that have a working algorithm.\n",
    "crypto_df = crypto_df.dropna(subset=['Algorithm'])\n",
    "crypto_df"
   ]
  },
  {
   "cell_type": "code",
   "execution_count": 137,
   "metadata": {},
   "outputs": [
    {
     "data": {
      "text/html": [
       "<div>\n",
       "<style scoped>\n",
       "    .dataframe tbody tr th:only-of-type {\n",
       "        vertical-align: middle;\n",
       "    }\n",
       "\n",
       "    .dataframe tbody tr th {\n",
       "        vertical-align: top;\n",
       "    }\n",
       "\n",
       "    .dataframe thead th {\n",
       "        text-align: right;\n",
       "    }\n",
       "</style>\n",
       "<table border=\"1\" class=\"dataframe\">\n",
       "  <thead>\n",
       "    <tr style=\"text-align: right;\">\n",
       "      <th></th>\n",
       "      <th>CoinName</th>\n",
       "      <th>Algorithm</th>\n",
       "      <th>ProofType</th>\n",
       "      <th>TotalCoinsMined</th>\n",
       "      <th>TotalCoinSupply</th>\n",
       "    </tr>\n",
       "    <tr>\n",
       "      <th></th>\n",
       "      <th></th>\n",
       "      <th></th>\n",
       "      <th></th>\n",
       "      <th></th>\n",
       "      <th></th>\n",
       "    </tr>\n",
       "  </thead>\n",
       "  <tbody>\n",
       "    <tr>\n",
       "      <th>42</th>\n",
       "      <td>42 Coin</td>\n",
       "      <td>Scrypt</td>\n",
       "      <td>PoW/PoS</td>\n",
       "      <td>4.199995e+01</td>\n",
       "      <td>42</td>\n",
       "    </tr>\n",
       "    <tr>\n",
       "      <th>365</th>\n",
       "      <td>365Coin</td>\n",
       "      <td>X11</td>\n",
       "      <td>PoW/PoS</td>\n",
       "      <td>NaN</td>\n",
       "      <td>2300000000</td>\n",
       "    </tr>\n",
       "    <tr>\n",
       "      <th>404</th>\n",
       "      <td>404Coin</td>\n",
       "      <td>Scrypt</td>\n",
       "      <td>PoW/PoS</td>\n",
       "      <td>1.055185e+09</td>\n",
       "      <td>532000000</td>\n",
       "    </tr>\n",
       "    <tr>\n",
       "      <th>611</th>\n",
       "      <td>SixEleven</td>\n",
       "      <td>SHA-256</td>\n",
       "      <td>PoW</td>\n",
       "      <td>NaN</td>\n",
       "      <td>611000</td>\n",
       "    </tr>\n",
       "    <tr>\n",
       "      <th>808</th>\n",
       "      <td>808</td>\n",
       "      <td>SHA-256</td>\n",
       "      <td>PoW/PoS</td>\n",
       "      <td>0.000000e+00</td>\n",
       "      <td>0</td>\n",
       "    </tr>\n",
       "  </tbody>\n",
       "</table>\n",
       "</div>"
      ],
      "text/plain": [
       "      CoinName Algorithm ProofType  TotalCoinsMined TotalCoinSupply\n",
       "                                                                   \n",
       "42     42 Coin    Scrypt   PoW/PoS     4.199995e+01              42\n",
       "365    365Coin       X11   PoW/PoS              NaN      2300000000\n",
       "404    404Coin    Scrypt   PoW/PoS     1.055185e+09       532000000\n",
       "611  SixEleven   SHA-256       PoW              NaN          611000\n",
       "808        808   SHA-256   PoW/PoS     0.000000e+00               0"
      ]
     },
     "execution_count": 137,
     "metadata": {},
     "output_type": "execute_result"
    }
   ],
   "source": [
    "# Remove the \"IsTrading\" column. \n",
    "crypto_df.drop(columns=[\"IsTrading\"], inplace=True)\n",
    "crypto_df.head()"
   ]
  },
  {
   "cell_type": "code",
   "execution_count": 138,
   "metadata": {},
   "outputs": [
    {
     "data": {
      "text/html": [
       "<div>\n",
       "<style scoped>\n",
       "    .dataframe tbody tr th:only-of-type {\n",
       "        vertical-align: middle;\n",
       "    }\n",
       "\n",
       "    .dataframe tbody tr th {\n",
       "        vertical-align: top;\n",
       "    }\n",
       "\n",
       "    .dataframe thead th {\n",
       "        text-align: right;\n",
       "    }\n",
       "</style>\n",
       "<table border=\"1\" class=\"dataframe\">\n",
       "  <thead>\n",
       "    <tr style=\"text-align: right;\">\n",
       "      <th></th>\n",
       "      <th>CoinName</th>\n",
       "      <th>Algorithm</th>\n",
       "      <th>ProofType</th>\n",
       "      <th>TotalCoinsMined</th>\n",
       "      <th>TotalCoinSupply</th>\n",
       "    </tr>\n",
       "    <tr>\n",
       "      <th></th>\n",
       "      <th></th>\n",
       "      <th></th>\n",
       "      <th></th>\n",
       "      <th></th>\n",
       "      <th></th>\n",
       "    </tr>\n",
       "  </thead>\n",
       "  <tbody>\n",
       "    <tr>\n",
       "      <th>42</th>\n",
       "      <td>42 Coin</td>\n",
       "      <td>Scrypt</td>\n",
       "      <td>PoW/PoS</td>\n",
       "      <td>4.199995e+01</td>\n",
       "      <td>42</td>\n",
       "    </tr>\n",
       "    <tr>\n",
       "      <th>404</th>\n",
       "      <td>404Coin</td>\n",
       "      <td>Scrypt</td>\n",
       "      <td>PoW/PoS</td>\n",
       "      <td>1.055185e+09</td>\n",
       "      <td>532000000</td>\n",
       "    </tr>\n",
       "    <tr>\n",
       "      <th>808</th>\n",
       "      <td>808</td>\n",
       "      <td>SHA-256</td>\n",
       "      <td>PoW/PoS</td>\n",
       "      <td>0.000000e+00</td>\n",
       "      <td>0</td>\n",
       "    </tr>\n",
       "    <tr>\n",
       "      <th>1337</th>\n",
       "      <td>EliteCoin</td>\n",
       "      <td>X13</td>\n",
       "      <td>PoW/PoS</td>\n",
       "      <td>2.927942e+10</td>\n",
       "      <td>314159265359</td>\n",
       "    </tr>\n",
       "    <tr>\n",
       "      <th>BTC</th>\n",
       "      <td>Bitcoin</td>\n",
       "      <td>SHA-256</td>\n",
       "      <td>PoW</td>\n",
       "      <td>1.792718e+07</td>\n",
       "      <td>21000000</td>\n",
       "    </tr>\n",
       "    <tr>\n",
       "      <th>...</th>\n",
       "      <td>...</td>\n",
       "      <td>...</td>\n",
       "      <td>...</td>\n",
       "      <td>...</td>\n",
       "      <td>...</td>\n",
       "    </tr>\n",
       "    <tr>\n",
       "      <th>ZEPH</th>\n",
       "      <td>ZEPHYR</td>\n",
       "      <td>SHA-256</td>\n",
       "      <td>DPoS</td>\n",
       "      <td>2.000000e+09</td>\n",
       "      <td>2000000000</td>\n",
       "    </tr>\n",
       "    <tr>\n",
       "      <th>GAP</th>\n",
       "      <td>Gapcoin</td>\n",
       "      <td>Scrypt</td>\n",
       "      <td>PoW/PoS</td>\n",
       "      <td>1.493105e+07</td>\n",
       "      <td>250000000</td>\n",
       "    </tr>\n",
       "    <tr>\n",
       "      <th>BDX</th>\n",
       "      <td>Beldex</td>\n",
       "      <td>CryptoNight</td>\n",
       "      <td>PoW</td>\n",
       "      <td>9.802226e+08</td>\n",
       "      <td>1400222610</td>\n",
       "    </tr>\n",
       "    <tr>\n",
       "      <th>ZEN</th>\n",
       "      <td>Horizen</td>\n",
       "      <td>Equihash</td>\n",
       "      <td>PoW</td>\n",
       "      <td>7.296538e+06</td>\n",
       "      <td>21000000</td>\n",
       "    </tr>\n",
       "    <tr>\n",
       "      <th>XBC</th>\n",
       "      <td>BitcoinPlus</td>\n",
       "      <td>Scrypt</td>\n",
       "      <td>PoS</td>\n",
       "      <td>1.283270e+05</td>\n",
       "      <td>1000000</td>\n",
       "    </tr>\n",
       "  </tbody>\n",
       "</table>\n",
       "<p>685 rows × 5 columns</p>\n",
       "</div>"
      ],
      "text/plain": [
       "         CoinName    Algorithm ProofType  TotalCoinsMined TotalCoinSupply\n",
       "                                                                         \n",
       "42        42 Coin       Scrypt   PoW/PoS     4.199995e+01              42\n",
       "404       404Coin       Scrypt   PoW/PoS     1.055185e+09       532000000\n",
       "808           808      SHA-256   PoW/PoS     0.000000e+00               0\n",
       "1337    EliteCoin          X13   PoW/PoS     2.927942e+10    314159265359\n",
       "BTC       Bitcoin      SHA-256       PoW     1.792718e+07        21000000\n",
       "...           ...          ...       ...              ...             ...\n",
       "ZEPH       ZEPHYR      SHA-256      DPoS     2.000000e+09      2000000000\n",
       "GAP       Gapcoin       Scrypt   PoW/PoS     1.493105e+07       250000000\n",
       "BDX        Beldex  CryptoNight       PoW     9.802226e+08      1400222610\n",
       "ZEN       Horizen     Equihash       PoW     7.296538e+06        21000000\n",
       "XBC   BitcoinPlus       Scrypt       PoS     1.283270e+05         1000000\n",
       "\n",
       "[685 rows x 5 columns]"
      ]
     },
     "execution_count": 138,
     "metadata": {},
     "output_type": "execute_result"
    }
   ],
   "source": [
    "# Remove rows that have at least 1 null value.\n",
    "# Drop null rows\n",
    "crypto_df = crypto_df.dropna(how = 'any', axis=0)\n",
    "crypto_df"
   ]
  },
  {
   "cell_type": "code",
   "execution_count": 139,
   "metadata": {},
   "outputs": [
    {
     "data": {
      "text/html": [
       "<div>\n",
       "<style scoped>\n",
       "    .dataframe tbody tr th:only-of-type {\n",
       "        vertical-align: middle;\n",
       "    }\n",
       "\n",
       "    .dataframe tbody tr th {\n",
       "        vertical-align: top;\n",
       "    }\n",
       "\n",
       "    .dataframe thead th {\n",
       "        text-align: right;\n",
       "    }\n",
       "</style>\n",
       "<table border=\"1\" class=\"dataframe\">\n",
       "  <thead>\n",
       "    <tr style=\"text-align: right;\">\n",
       "      <th></th>\n",
       "      <th>CoinName</th>\n",
       "      <th>Algorithm</th>\n",
       "      <th>ProofType</th>\n",
       "      <th>TotalCoinsMined</th>\n",
       "      <th>TotalCoinSupply</th>\n",
       "    </tr>\n",
       "    <tr>\n",
       "      <th></th>\n",
       "      <th></th>\n",
       "      <th></th>\n",
       "      <th></th>\n",
       "      <th></th>\n",
       "      <th></th>\n",
       "    </tr>\n",
       "  </thead>\n",
       "  <tbody>\n",
       "    <tr>\n",
       "      <th>42</th>\n",
       "      <td>42 Coin</td>\n",
       "      <td>Scrypt</td>\n",
       "      <td>PoW/PoS</td>\n",
       "      <td>4.199995e+01</td>\n",
       "      <td>42</td>\n",
       "    </tr>\n",
       "    <tr>\n",
       "      <th>404</th>\n",
       "      <td>404Coin</td>\n",
       "      <td>Scrypt</td>\n",
       "      <td>PoW/PoS</td>\n",
       "      <td>1.055185e+09</td>\n",
       "      <td>532000000</td>\n",
       "    </tr>\n",
       "    <tr>\n",
       "      <th>1337</th>\n",
       "      <td>EliteCoin</td>\n",
       "      <td>X13</td>\n",
       "      <td>PoW/PoS</td>\n",
       "      <td>2.927942e+10</td>\n",
       "      <td>314159265359</td>\n",
       "    </tr>\n",
       "    <tr>\n",
       "      <th>BTC</th>\n",
       "      <td>Bitcoin</td>\n",
       "      <td>SHA-256</td>\n",
       "      <td>PoW</td>\n",
       "      <td>1.792718e+07</td>\n",
       "      <td>21000000</td>\n",
       "    </tr>\n",
       "    <tr>\n",
       "      <th>ETH</th>\n",
       "      <td>Ethereum</td>\n",
       "      <td>Ethash</td>\n",
       "      <td>PoW</td>\n",
       "      <td>1.076842e+08</td>\n",
       "      <td>0</td>\n",
       "    </tr>\n",
       "    <tr>\n",
       "      <th>...</th>\n",
       "      <td>...</td>\n",
       "      <td>...</td>\n",
       "      <td>...</td>\n",
       "      <td>...</td>\n",
       "      <td>...</td>\n",
       "    </tr>\n",
       "    <tr>\n",
       "      <th>ZEPH</th>\n",
       "      <td>ZEPHYR</td>\n",
       "      <td>SHA-256</td>\n",
       "      <td>DPoS</td>\n",
       "      <td>2.000000e+09</td>\n",
       "      <td>2000000000</td>\n",
       "    </tr>\n",
       "    <tr>\n",
       "      <th>GAP</th>\n",
       "      <td>Gapcoin</td>\n",
       "      <td>Scrypt</td>\n",
       "      <td>PoW/PoS</td>\n",
       "      <td>1.493105e+07</td>\n",
       "      <td>250000000</td>\n",
       "    </tr>\n",
       "    <tr>\n",
       "      <th>BDX</th>\n",
       "      <td>Beldex</td>\n",
       "      <td>CryptoNight</td>\n",
       "      <td>PoW</td>\n",
       "      <td>9.802226e+08</td>\n",
       "      <td>1400222610</td>\n",
       "    </tr>\n",
       "    <tr>\n",
       "      <th>ZEN</th>\n",
       "      <td>Horizen</td>\n",
       "      <td>Equihash</td>\n",
       "      <td>PoW</td>\n",
       "      <td>7.296538e+06</td>\n",
       "      <td>21000000</td>\n",
       "    </tr>\n",
       "    <tr>\n",
       "      <th>XBC</th>\n",
       "      <td>BitcoinPlus</td>\n",
       "      <td>Scrypt</td>\n",
       "      <td>PoS</td>\n",
       "      <td>1.283270e+05</td>\n",
       "      <td>1000000</td>\n",
       "    </tr>\n",
       "  </tbody>\n",
       "</table>\n",
       "<p>532 rows × 5 columns</p>\n",
       "</div>"
      ],
      "text/plain": [
       "         CoinName    Algorithm ProofType  TotalCoinsMined TotalCoinSupply\n",
       "                                                                         \n",
       "42        42 Coin       Scrypt   PoW/PoS     4.199995e+01              42\n",
       "404       404Coin       Scrypt   PoW/PoS     1.055185e+09       532000000\n",
       "1337    EliteCoin          X13   PoW/PoS     2.927942e+10    314159265359\n",
       "BTC       Bitcoin      SHA-256       PoW     1.792718e+07        21000000\n",
       "ETH      Ethereum       Ethash       PoW     1.076842e+08               0\n",
       "...           ...          ...       ...              ...             ...\n",
       "ZEPH       ZEPHYR      SHA-256      DPoS     2.000000e+09      2000000000\n",
       "GAP       Gapcoin       Scrypt   PoW/PoS     1.493105e+07       250000000\n",
       "BDX        Beldex  CryptoNight       PoW     9.802226e+08      1400222610\n",
       "ZEN       Horizen     Equihash       PoW     7.296538e+06        21000000\n",
       "XBC   BitcoinPlus       Scrypt       PoS     1.283270e+05         1000000\n",
       "\n",
       "[532 rows x 5 columns]"
      ]
     },
     "execution_count": 139,
     "metadata": {},
     "output_type": "execute_result"
    }
   ],
   "source": [
    "# Keep the rows where coins are mined.\n",
    "crypto_df = crypto_df[crypto_df['TotalCoinsMined'] > 0.1]\n",
    "crypto_df\n"
   ]
  },
  {
   "cell_type": "code",
   "execution_count": 140,
   "metadata": {},
   "outputs": [
    {
     "data": {
      "text/html": [
       "<div>\n",
       "<style scoped>\n",
       "    .dataframe tbody tr th:only-of-type {\n",
       "        vertical-align: middle;\n",
       "    }\n",
       "\n",
       "    .dataframe tbody tr th {\n",
       "        vertical-align: top;\n",
       "    }\n",
       "\n",
       "    .dataframe thead th {\n",
       "        text-align: right;\n",
       "    }\n",
       "</style>\n",
       "<table border=\"1\" class=\"dataframe\">\n",
       "  <thead>\n",
       "    <tr style=\"text-align: right;\">\n",
       "      <th></th>\n",
       "      <th>CoinName</th>\n",
       "    </tr>\n",
       "    <tr>\n",
       "      <th></th>\n",
       "      <th></th>\n",
       "    </tr>\n",
       "  </thead>\n",
       "  <tbody>\n",
       "    <tr>\n",
       "      <th>42</th>\n",
       "      <td>42 Coin</td>\n",
       "    </tr>\n",
       "    <tr>\n",
       "      <th>404</th>\n",
       "      <td>404Coin</td>\n",
       "    </tr>\n",
       "    <tr>\n",
       "      <th>1337</th>\n",
       "      <td>EliteCoin</td>\n",
       "    </tr>\n",
       "    <tr>\n",
       "      <th>BTC</th>\n",
       "      <td>Bitcoin</td>\n",
       "    </tr>\n",
       "    <tr>\n",
       "      <th>ETH</th>\n",
       "      <td>Ethereum</td>\n",
       "    </tr>\n",
       "    <tr>\n",
       "      <th>LTC</th>\n",
       "      <td>Litecoin</td>\n",
       "    </tr>\n",
       "    <tr>\n",
       "      <th>DASH</th>\n",
       "      <td>Dash</td>\n",
       "    </tr>\n",
       "    <tr>\n",
       "      <th>XMR</th>\n",
       "      <td>Monero</td>\n",
       "    </tr>\n",
       "    <tr>\n",
       "      <th>ETC</th>\n",
       "      <td>Ethereum Classic</td>\n",
       "    </tr>\n",
       "    <tr>\n",
       "      <th>ZEC</th>\n",
       "      <td>ZCash</td>\n",
       "    </tr>\n",
       "  </tbody>\n",
       "</table>\n",
       "</div>"
      ],
      "text/plain": [
       "              CoinName\n",
       "                      \n",
       "42             42 Coin\n",
       "404            404Coin\n",
       "1337         EliteCoin\n",
       "BTC            Bitcoin\n",
       "ETH           Ethereum\n",
       "LTC           Litecoin\n",
       "DASH              Dash\n",
       "XMR             Monero\n",
       "ETC   Ethereum Classic\n",
       "ZEC              ZCash"
      ]
     },
     "execution_count": 140,
     "metadata": {},
     "output_type": "execute_result"
    }
   ],
   "source": [
    "# Create a new DataFrame that holds only the cryptocurrencies names.\n",
    "crypto_name_df = crypto_df.filter(['CoinName'], axis = 1)\n",
    "crypto_name_df.head(10)"
   ]
  },
  {
   "cell_type": "code",
   "execution_count": 141,
   "metadata": {},
   "outputs": [
    {
     "name": "stderr",
     "output_type": "stream",
     "text": [
      "/Users/melaniepjenkins/opt/anaconda3/envs/PythonData/lib/python3.7/site-packages/pandas/core/frame.py:4913: SettingWithCopyWarning:\n",
      "\n",
      "\n",
      "A value is trying to be set on a copy of a slice from a DataFrame\n",
      "\n",
      "See the caveats in the documentation: https://pandas.pydata.org/pandas-docs/stable/user_guide/indexing.html#returning-a-view-versus-a-copy\n",
      "\n"
     ]
    },
    {
     "data": {
      "text/html": [
       "<div>\n",
       "<style scoped>\n",
       "    .dataframe tbody tr th:only-of-type {\n",
       "        vertical-align: middle;\n",
       "    }\n",
       "\n",
       "    .dataframe tbody tr th {\n",
       "        vertical-align: top;\n",
       "    }\n",
       "\n",
       "    .dataframe thead th {\n",
       "        text-align: right;\n",
       "    }\n",
       "</style>\n",
       "<table border=\"1\" class=\"dataframe\">\n",
       "  <thead>\n",
       "    <tr style=\"text-align: right;\">\n",
       "      <th></th>\n",
       "      <th>Algorithm</th>\n",
       "      <th>ProofType</th>\n",
       "      <th>TotalCoinsMined</th>\n",
       "      <th>TotalCoinSupply</th>\n",
       "    </tr>\n",
       "    <tr>\n",
       "      <th></th>\n",
       "      <th></th>\n",
       "      <th></th>\n",
       "      <th></th>\n",
       "      <th></th>\n",
       "    </tr>\n",
       "  </thead>\n",
       "  <tbody>\n",
       "    <tr>\n",
       "      <th>42</th>\n",
       "      <td>Scrypt</td>\n",
       "      <td>PoW/PoS</td>\n",
       "      <td>4.199995e+01</td>\n",
       "      <td>42</td>\n",
       "    </tr>\n",
       "    <tr>\n",
       "      <th>404</th>\n",
       "      <td>Scrypt</td>\n",
       "      <td>PoW/PoS</td>\n",
       "      <td>1.055185e+09</td>\n",
       "      <td>532000000</td>\n",
       "    </tr>\n",
       "    <tr>\n",
       "      <th>1337</th>\n",
       "      <td>X13</td>\n",
       "      <td>PoW/PoS</td>\n",
       "      <td>2.927942e+10</td>\n",
       "      <td>314159265359</td>\n",
       "    </tr>\n",
       "    <tr>\n",
       "      <th>BTC</th>\n",
       "      <td>SHA-256</td>\n",
       "      <td>PoW</td>\n",
       "      <td>1.792718e+07</td>\n",
       "      <td>21000000</td>\n",
       "    </tr>\n",
       "    <tr>\n",
       "      <th>ETH</th>\n",
       "      <td>Ethash</td>\n",
       "      <td>PoW</td>\n",
       "      <td>1.076842e+08</td>\n",
       "      <td>0</td>\n",
       "    </tr>\n",
       "    <tr>\n",
       "      <th>LTC</th>\n",
       "      <td>Scrypt</td>\n",
       "      <td>PoW</td>\n",
       "      <td>6.303924e+07</td>\n",
       "      <td>84000000</td>\n",
       "    </tr>\n",
       "    <tr>\n",
       "      <th>DASH</th>\n",
       "      <td>X11</td>\n",
       "      <td>PoW/PoS</td>\n",
       "      <td>9.031294e+06</td>\n",
       "      <td>22000000</td>\n",
       "    </tr>\n",
       "    <tr>\n",
       "      <th>XMR</th>\n",
       "      <td>CryptoNight-V7</td>\n",
       "      <td>PoW</td>\n",
       "      <td>1.720114e+07</td>\n",
       "      <td>0</td>\n",
       "    </tr>\n",
       "    <tr>\n",
       "      <th>ETC</th>\n",
       "      <td>Ethash</td>\n",
       "      <td>PoW</td>\n",
       "      <td>1.133597e+08</td>\n",
       "      <td>210000000</td>\n",
       "    </tr>\n",
       "    <tr>\n",
       "      <th>ZEC</th>\n",
       "      <td>Equihash</td>\n",
       "      <td>PoW</td>\n",
       "      <td>7.383056e+06</td>\n",
       "      <td>21000000</td>\n",
       "    </tr>\n",
       "  </tbody>\n",
       "</table>\n",
       "</div>"
      ],
      "text/plain": [
       "           Algorithm ProofType  TotalCoinsMined TotalCoinSupply\n",
       "                                                               \n",
       "42            Scrypt   PoW/PoS     4.199995e+01              42\n",
       "404           Scrypt   PoW/PoS     1.055185e+09       532000000\n",
       "1337             X13   PoW/PoS     2.927942e+10    314159265359\n",
       "BTC          SHA-256       PoW     1.792718e+07        21000000\n",
       "ETH           Ethash       PoW     1.076842e+08               0\n",
       "LTC           Scrypt       PoW     6.303924e+07        84000000\n",
       "DASH             X11   PoW/PoS     9.031294e+06        22000000\n",
       "XMR   CryptoNight-V7       PoW     1.720114e+07               0\n",
       "ETC           Ethash       PoW     1.133597e+08       210000000\n",
       "ZEC         Equihash       PoW     7.383056e+06        21000000"
      ]
     },
     "execution_count": 141,
     "metadata": {},
     "output_type": "execute_result"
    }
   ],
   "source": [
    "# Drop the 'CoinName' column since it's not going to be used on the clustering algorithm.\n",
    "crypto_df.drop(columns=['CoinName'], inplace=True)\n",
    "crypto_df.head(10)"
   ]
  },
  {
   "cell_type": "code",
   "execution_count": 142,
   "metadata": {},
   "outputs": [
    {
     "data": {
      "text/html": [
       "<div>\n",
       "<style scoped>\n",
       "    .dataframe tbody tr th:only-of-type {\n",
       "        vertical-align: middle;\n",
       "    }\n",
       "\n",
       "    .dataframe tbody tr th {\n",
       "        vertical-align: top;\n",
       "    }\n",
       "\n",
       "    .dataframe thead th {\n",
       "        text-align: right;\n",
       "    }\n",
       "</style>\n",
       "<table border=\"1\" class=\"dataframe\">\n",
       "  <thead>\n",
       "    <tr style=\"text-align: right;\">\n",
       "      <th></th>\n",
       "      <th>TotalCoinsMined</th>\n",
       "      <th>TotalCoinSupply</th>\n",
       "      <th>Algorithm_1GB AES Pattern Search</th>\n",
       "      <th>Algorithm_536</th>\n",
       "      <th>Algorithm_Argon2d</th>\n",
       "      <th>Algorithm_BLAKE256</th>\n",
       "      <th>Algorithm_Blake</th>\n",
       "      <th>Algorithm_Blake2S</th>\n",
       "      <th>Algorithm_Blake2b</th>\n",
       "      <th>Algorithm_C11</th>\n",
       "      <th>...</th>\n",
       "      <th>ProofType_PoW/PoS</th>\n",
       "      <th>ProofType_PoW/PoS</th>\n",
       "      <th>ProofType_PoW/PoW</th>\n",
       "      <th>ProofType_PoW/nPoS</th>\n",
       "      <th>ProofType_Pos</th>\n",
       "      <th>ProofType_Proof of Authority</th>\n",
       "      <th>ProofType_Proof of Trust</th>\n",
       "      <th>ProofType_TPoS</th>\n",
       "      <th>ProofType_Zero-Knowledge Proof</th>\n",
       "      <th>ProofType_dPoW/PoW</th>\n",
       "    </tr>\n",
       "    <tr>\n",
       "      <th></th>\n",
       "      <th></th>\n",
       "      <th></th>\n",
       "      <th></th>\n",
       "      <th></th>\n",
       "      <th></th>\n",
       "      <th></th>\n",
       "      <th></th>\n",
       "      <th></th>\n",
       "      <th></th>\n",
       "      <th></th>\n",
       "      <th></th>\n",
       "      <th></th>\n",
       "      <th></th>\n",
       "      <th></th>\n",
       "      <th></th>\n",
       "      <th></th>\n",
       "      <th></th>\n",
       "      <th></th>\n",
       "      <th></th>\n",
       "      <th></th>\n",
       "      <th></th>\n",
       "    </tr>\n",
       "  </thead>\n",
       "  <tbody>\n",
       "    <tr>\n",
       "      <th>42</th>\n",
       "      <td>4.199995e+01</td>\n",
       "      <td>42</td>\n",
       "      <td>0</td>\n",
       "      <td>0</td>\n",
       "      <td>0</td>\n",
       "      <td>0</td>\n",
       "      <td>0</td>\n",
       "      <td>0</td>\n",
       "      <td>0</td>\n",
       "      <td>0</td>\n",
       "      <td>...</td>\n",
       "      <td>1</td>\n",
       "      <td>0</td>\n",
       "      <td>0</td>\n",
       "      <td>0</td>\n",
       "      <td>0</td>\n",
       "      <td>0</td>\n",
       "      <td>0</td>\n",
       "      <td>0</td>\n",
       "      <td>0</td>\n",
       "      <td>0</td>\n",
       "    </tr>\n",
       "    <tr>\n",
       "      <th>404</th>\n",
       "      <td>1.055185e+09</td>\n",
       "      <td>532000000</td>\n",
       "      <td>0</td>\n",
       "      <td>0</td>\n",
       "      <td>0</td>\n",
       "      <td>0</td>\n",
       "      <td>0</td>\n",
       "      <td>0</td>\n",
       "      <td>0</td>\n",
       "      <td>0</td>\n",
       "      <td>...</td>\n",
       "      <td>1</td>\n",
       "      <td>0</td>\n",
       "      <td>0</td>\n",
       "      <td>0</td>\n",
       "      <td>0</td>\n",
       "      <td>0</td>\n",
       "      <td>0</td>\n",
       "      <td>0</td>\n",
       "      <td>0</td>\n",
       "      <td>0</td>\n",
       "    </tr>\n",
       "    <tr>\n",
       "      <th>1337</th>\n",
       "      <td>2.927942e+10</td>\n",
       "      <td>314159265359</td>\n",
       "      <td>0</td>\n",
       "      <td>0</td>\n",
       "      <td>0</td>\n",
       "      <td>0</td>\n",
       "      <td>0</td>\n",
       "      <td>0</td>\n",
       "      <td>0</td>\n",
       "      <td>0</td>\n",
       "      <td>...</td>\n",
       "      <td>1</td>\n",
       "      <td>0</td>\n",
       "      <td>0</td>\n",
       "      <td>0</td>\n",
       "      <td>0</td>\n",
       "      <td>0</td>\n",
       "      <td>0</td>\n",
       "      <td>0</td>\n",
       "      <td>0</td>\n",
       "      <td>0</td>\n",
       "    </tr>\n",
       "    <tr>\n",
       "      <th>BTC</th>\n",
       "      <td>1.792718e+07</td>\n",
       "      <td>21000000</td>\n",
       "      <td>0</td>\n",
       "      <td>0</td>\n",
       "      <td>0</td>\n",
       "      <td>0</td>\n",
       "      <td>0</td>\n",
       "      <td>0</td>\n",
       "      <td>0</td>\n",
       "      <td>0</td>\n",
       "      <td>...</td>\n",
       "      <td>0</td>\n",
       "      <td>0</td>\n",
       "      <td>0</td>\n",
       "      <td>0</td>\n",
       "      <td>0</td>\n",
       "      <td>0</td>\n",
       "      <td>0</td>\n",
       "      <td>0</td>\n",
       "      <td>0</td>\n",
       "      <td>0</td>\n",
       "    </tr>\n",
       "    <tr>\n",
       "      <th>ETH</th>\n",
       "      <td>1.076842e+08</td>\n",
       "      <td>0</td>\n",
       "      <td>0</td>\n",
       "      <td>0</td>\n",
       "      <td>0</td>\n",
       "      <td>0</td>\n",
       "      <td>0</td>\n",
       "      <td>0</td>\n",
       "      <td>0</td>\n",
       "      <td>0</td>\n",
       "      <td>...</td>\n",
       "      <td>0</td>\n",
       "      <td>0</td>\n",
       "      <td>0</td>\n",
       "      <td>0</td>\n",
       "      <td>0</td>\n",
       "      <td>0</td>\n",
       "      <td>0</td>\n",
       "      <td>0</td>\n",
       "      <td>0</td>\n",
       "      <td>0</td>\n",
       "    </tr>\n",
       "    <tr>\n",
       "      <th>...</th>\n",
       "      <td>...</td>\n",
       "      <td>...</td>\n",
       "      <td>...</td>\n",
       "      <td>...</td>\n",
       "      <td>...</td>\n",
       "      <td>...</td>\n",
       "      <td>...</td>\n",
       "      <td>...</td>\n",
       "      <td>...</td>\n",
       "      <td>...</td>\n",
       "      <td>...</td>\n",
       "      <td>...</td>\n",
       "      <td>...</td>\n",
       "      <td>...</td>\n",
       "      <td>...</td>\n",
       "      <td>...</td>\n",
       "      <td>...</td>\n",
       "      <td>...</td>\n",
       "      <td>...</td>\n",
       "      <td>...</td>\n",
       "      <td>...</td>\n",
       "    </tr>\n",
       "    <tr>\n",
       "      <th>ZEPH</th>\n",
       "      <td>2.000000e+09</td>\n",
       "      <td>2000000000</td>\n",
       "      <td>0</td>\n",
       "      <td>0</td>\n",
       "      <td>0</td>\n",
       "      <td>0</td>\n",
       "      <td>0</td>\n",
       "      <td>0</td>\n",
       "      <td>0</td>\n",
       "      <td>0</td>\n",
       "      <td>...</td>\n",
       "      <td>0</td>\n",
       "      <td>0</td>\n",
       "      <td>0</td>\n",
       "      <td>0</td>\n",
       "      <td>0</td>\n",
       "      <td>0</td>\n",
       "      <td>0</td>\n",
       "      <td>0</td>\n",
       "      <td>0</td>\n",
       "      <td>0</td>\n",
       "    </tr>\n",
       "    <tr>\n",
       "      <th>GAP</th>\n",
       "      <td>1.493105e+07</td>\n",
       "      <td>250000000</td>\n",
       "      <td>0</td>\n",
       "      <td>0</td>\n",
       "      <td>0</td>\n",
       "      <td>0</td>\n",
       "      <td>0</td>\n",
       "      <td>0</td>\n",
       "      <td>0</td>\n",
       "      <td>0</td>\n",
       "      <td>...</td>\n",
       "      <td>1</td>\n",
       "      <td>0</td>\n",
       "      <td>0</td>\n",
       "      <td>0</td>\n",
       "      <td>0</td>\n",
       "      <td>0</td>\n",
       "      <td>0</td>\n",
       "      <td>0</td>\n",
       "      <td>0</td>\n",
       "      <td>0</td>\n",
       "    </tr>\n",
       "    <tr>\n",
       "      <th>BDX</th>\n",
       "      <td>9.802226e+08</td>\n",
       "      <td>1400222610</td>\n",
       "      <td>0</td>\n",
       "      <td>0</td>\n",
       "      <td>0</td>\n",
       "      <td>0</td>\n",
       "      <td>0</td>\n",
       "      <td>0</td>\n",
       "      <td>0</td>\n",
       "      <td>0</td>\n",
       "      <td>...</td>\n",
       "      <td>0</td>\n",
       "      <td>0</td>\n",
       "      <td>0</td>\n",
       "      <td>0</td>\n",
       "      <td>0</td>\n",
       "      <td>0</td>\n",
       "      <td>0</td>\n",
       "      <td>0</td>\n",
       "      <td>0</td>\n",
       "      <td>0</td>\n",
       "    </tr>\n",
       "    <tr>\n",
       "      <th>ZEN</th>\n",
       "      <td>7.296538e+06</td>\n",
       "      <td>21000000</td>\n",
       "      <td>0</td>\n",
       "      <td>0</td>\n",
       "      <td>0</td>\n",
       "      <td>0</td>\n",
       "      <td>0</td>\n",
       "      <td>0</td>\n",
       "      <td>0</td>\n",
       "      <td>0</td>\n",
       "      <td>...</td>\n",
       "      <td>0</td>\n",
       "      <td>0</td>\n",
       "      <td>0</td>\n",
       "      <td>0</td>\n",
       "      <td>0</td>\n",
       "      <td>0</td>\n",
       "      <td>0</td>\n",
       "      <td>0</td>\n",
       "      <td>0</td>\n",
       "      <td>0</td>\n",
       "    </tr>\n",
       "    <tr>\n",
       "      <th>XBC</th>\n",
       "      <td>1.283270e+05</td>\n",
       "      <td>1000000</td>\n",
       "      <td>0</td>\n",
       "      <td>0</td>\n",
       "      <td>0</td>\n",
       "      <td>0</td>\n",
       "      <td>0</td>\n",
       "      <td>0</td>\n",
       "      <td>0</td>\n",
       "      <td>0</td>\n",
       "      <td>...</td>\n",
       "      <td>0</td>\n",
       "      <td>0</td>\n",
       "      <td>0</td>\n",
       "      <td>0</td>\n",
       "      <td>0</td>\n",
       "      <td>0</td>\n",
       "      <td>0</td>\n",
       "      <td>0</td>\n",
       "      <td>0</td>\n",
       "      <td>0</td>\n",
       "    </tr>\n",
       "  </tbody>\n",
       "</table>\n",
       "<p>532 rows × 98 columns</p>\n",
       "</div>"
      ],
      "text/plain": [
       "      TotalCoinsMined TotalCoinSupply  Algorithm_1GB AES Pattern Search  \\\n",
       "                                                                          \n",
       "42       4.199995e+01              42                                 0   \n",
       "404      1.055185e+09       532000000                                 0   \n",
       "1337     2.927942e+10    314159265359                                 0   \n",
       "BTC      1.792718e+07        21000000                                 0   \n",
       "ETH      1.076842e+08               0                                 0   \n",
       "...               ...             ...                               ...   \n",
       "ZEPH     2.000000e+09      2000000000                                 0   \n",
       "GAP      1.493105e+07       250000000                                 0   \n",
       "BDX      9.802226e+08      1400222610                                 0   \n",
       "ZEN      7.296538e+06        21000000                                 0   \n",
       "XBC      1.283270e+05         1000000                                 0   \n",
       "\n",
       "      Algorithm_536  Algorithm_Argon2d  Algorithm_BLAKE256  Algorithm_Blake  \\\n",
       "                                                                              \n",
       "42                0                  0                   0                0   \n",
       "404               0                  0                   0                0   \n",
       "1337              0                  0                   0                0   \n",
       "BTC               0                  0                   0                0   \n",
       "ETH               0                  0                   0                0   \n",
       "...             ...                ...                 ...              ...   \n",
       "ZEPH              0                  0                   0                0   \n",
       "GAP               0                  0                   0                0   \n",
       "BDX               0                  0                   0                0   \n",
       "ZEN               0                  0                   0                0   \n",
       "XBC               0                  0                   0                0   \n",
       "\n",
       "      Algorithm_Blake2S  Algorithm_Blake2b  Algorithm_C11  ...  \\\n",
       "                                                           ...   \n",
       "42                    0                  0              0  ...   \n",
       "404                   0                  0              0  ...   \n",
       "1337                  0                  0              0  ...   \n",
       "BTC                   0                  0              0  ...   \n",
       "ETH                   0                  0              0  ...   \n",
       "...                 ...                ...            ...  ...   \n",
       "ZEPH                  0                  0              0  ...   \n",
       "GAP                   0                  0              0  ...   \n",
       "BDX                   0                  0              0  ...   \n",
       "ZEN                   0                  0              0  ...   \n",
       "XBC                   0                  0              0  ...   \n",
       "\n",
       "      ProofType_PoW/PoS  ProofType_PoW/PoS   ProofType_PoW/PoW  \\\n",
       "                                                                 \n",
       "42                    1                   0                  0   \n",
       "404                   1                   0                  0   \n",
       "1337                  1                   0                  0   \n",
       "BTC                   0                   0                  0   \n",
       "ETH                   0                   0                  0   \n",
       "...                 ...                 ...                ...   \n",
       "ZEPH                  0                   0                  0   \n",
       "GAP                   1                   0                  0   \n",
       "BDX                   0                   0                  0   \n",
       "ZEN                   0                   0                  0   \n",
       "XBC                   0                   0                  0   \n",
       "\n",
       "      ProofType_PoW/nPoS  ProofType_Pos  ProofType_Proof of Authority  \\\n",
       "                                                                        \n",
       "42                     0              0                             0   \n",
       "404                    0              0                             0   \n",
       "1337                   0              0                             0   \n",
       "BTC                    0              0                             0   \n",
       "ETH                    0              0                             0   \n",
       "...                  ...            ...                           ...   \n",
       "ZEPH                   0              0                             0   \n",
       "GAP                    0              0                             0   \n",
       "BDX                    0              0                             0   \n",
       "ZEN                    0              0                             0   \n",
       "XBC                    0              0                             0   \n",
       "\n",
       "      ProofType_Proof of Trust  ProofType_TPoS  \\\n",
       "                                                 \n",
       "42                           0               0   \n",
       "404                          0               0   \n",
       "1337                         0               0   \n",
       "BTC                          0               0   \n",
       "ETH                          0               0   \n",
       "...                        ...             ...   \n",
       "ZEPH                         0               0   \n",
       "GAP                          0               0   \n",
       "BDX                          0               0   \n",
       "ZEN                          0               0   \n",
       "XBC                          0               0   \n",
       "\n",
       "      ProofType_Zero-Knowledge Proof  ProofType_dPoW/PoW  \n",
       "                                                          \n",
       "42                                 0                   0  \n",
       "404                                0                   0  \n",
       "1337                               0                   0  \n",
       "BTC                                0                   0  \n",
       "ETH                                0                   0  \n",
       "...                              ...                 ...  \n",
       "ZEPH                               0                   0  \n",
       "GAP                                0                   0  \n",
       "BDX                                0                   0  \n",
       "ZEN                                0                   0  \n",
       "XBC                                0                   0  \n",
       "\n",
       "[532 rows x 98 columns]"
      ]
     },
     "execution_count": 142,
     "metadata": {},
     "output_type": "execute_result"
    }
   ],
   "source": [
    "# Use get_dummies() to create variables for text features.\n",
    "X = pd.get_dummies(crypto_df, columns=[\"Algorithm\", \"ProofType\"])\n",
    "X"
   ]
  },
  {
   "cell_type": "code",
   "execution_count": 143,
   "metadata": {},
   "outputs": [
    {
     "name": "stdout",
     "output_type": "stream",
     "text": [
      "[[-0.11710817 -0.1528703  -0.0433963  ... -0.0433963  -0.0433963\n",
      "  -0.0433963 ]\n",
      " [-0.09396955 -0.145009   -0.0433963  ... -0.0433963  -0.0433963\n",
      "  -0.0433963 ]\n",
      " [ 0.52494561  4.48942416 -0.0433963  ... -0.0433963  -0.0433963\n",
      "  -0.0433963 ]\n",
      " ...\n",
      " [-0.09561336 -0.13217937 -0.0433963  ... -0.0433963  -0.0433963\n",
      "  -0.0433963 ]\n",
      " [-0.11694817 -0.15255998 -0.0433963  ... -0.0433963  -0.0433963\n",
      "  -0.0433963 ]\n",
      " [-0.11710536 -0.15285552 -0.0433963  ... -0.0433963  -0.0433963\n",
      "  -0.0433963 ]]\n"
     ]
    }
   ],
   "source": [
    "# Standardize the data with StandardScaler().\n",
    "#Standardize data with StandardScaler\n",
    "X_scaled = StandardScaler().fit_transform(X)\n",
    "print(X_scaled)"
   ]
  },
  {
   "cell_type": "markdown",
   "metadata": {},
   "source": [
    "### Deliverable 2: Reducing Data Dimensions Using PCA"
   ]
  },
  {
   "cell_type": "code",
   "execution_count": 144,
   "metadata": {},
   "outputs": [
    {
     "data": {
      "text/plain": [
       "array([[-0.34624061,  1.1245855 , -0.45415414],\n",
       "       [-0.32961229,  1.12491984, -0.45457066],\n",
       "       [ 2.31258826,  1.67925271, -0.59421245],\n",
       "       ...,\n",
       "       [ 0.33245478, -2.38115425,  0.3518777 ],\n",
       "       [-0.17227404, -1.81955965,  0.38538687],\n",
       "       [-0.29975577,  0.85097875, -0.22379016]])"
      ]
     },
     "execution_count": 144,
     "metadata": {},
     "output_type": "execute_result"
    }
   ],
   "source": [
    "# Using PCA to reduce dimension to three principal components.\n",
    "\n",
    "# Initialize PCA model\n",
    "pca = PCA(n_components=3)\n",
    "\n",
    "# Get two principal components for the iris data.\n",
    "crypto_pca = pca.fit_transform(X_scaled)\n",
    "\n",
    "crypto_pca"
   ]
  },
  {
   "cell_type": "code",
   "execution_count": 145,
   "metadata": {},
   "outputs": [
    {
     "data": {
      "text/html": [
       "<div>\n",
       "<style scoped>\n",
       "    .dataframe tbody tr th:only-of-type {\n",
       "        vertical-align: middle;\n",
       "    }\n",
       "\n",
       "    .dataframe tbody tr th {\n",
       "        vertical-align: top;\n",
       "    }\n",
       "\n",
       "    .dataframe thead th {\n",
       "        text-align: right;\n",
       "    }\n",
       "</style>\n",
       "<table border=\"1\" class=\"dataframe\">\n",
       "  <thead>\n",
       "    <tr style=\"text-align: right;\">\n",
       "      <th></th>\n",
       "      <th>PC1</th>\n",
       "      <th>PC2</th>\n",
       "      <th>PC3</th>\n",
       "    </tr>\n",
       "    <tr>\n",
       "      <th></th>\n",
       "      <th></th>\n",
       "      <th></th>\n",
       "      <th></th>\n",
       "    </tr>\n",
       "  </thead>\n",
       "  <tbody>\n",
       "    <tr>\n",
       "      <th>42</th>\n",
       "      <td>-0.346241</td>\n",
       "      <td>1.124585</td>\n",
       "      <td>-0.454154</td>\n",
       "    </tr>\n",
       "    <tr>\n",
       "      <th>404</th>\n",
       "      <td>-0.329612</td>\n",
       "      <td>1.124920</td>\n",
       "      <td>-0.454571</td>\n",
       "    </tr>\n",
       "    <tr>\n",
       "      <th>1337</th>\n",
       "      <td>2.312588</td>\n",
       "      <td>1.679253</td>\n",
       "      <td>-0.594212</td>\n",
       "    </tr>\n",
       "    <tr>\n",
       "      <th>BTC</th>\n",
       "      <td>-0.134891</td>\n",
       "      <td>-1.371651</td>\n",
       "      <td>0.124028</td>\n",
       "    </tr>\n",
       "    <tr>\n",
       "      <th>ETH</th>\n",
       "      <td>-0.139032</td>\n",
       "      <td>-2.132224</td>\n",
       "      <td>0.340984</td>\n",
       "    </tr>\n",
       "  </tbody>\n",
       "</table>\n",
       "</div>"
      ],
      "text/plain": [
       "           PC1       PC2       PC3\n",
       "                                  \n",
       "42   -0.346241  1.124585 -0.454154\n",
       "404  -0.329612  1.124920 -0.454571\n",
       "1337  2.312588  1.679253 -0.594212\n",
       "BTC  -0.134891 -1.371651  0.124028\n",
       "ETH  -0.139032 -2.132224  0.340984"
      ]
     },
     "execution_count": 145,
     "metadata": {},
     "output_type": "execute_result"
    }
   ],
   "source": [
    "# Create a DataFrame with the three principal components.\n",
    "#Transform PCA data to a dataframe\n",
    "pcs_df = pd.DataFrame(data = crypto_pca, columns = [\"PC1\", \"PC2\", \"PC3\"], index = crypto_df.index)\n",
    "pcs_df.head()\n"
   ]
  },
  {
   "cell_type": "markdown",
   "metadata": {},
   "source": [
    "### Deliverable 3: Clustering Crytocurrencies Using K-Means\n",
    "\n",
    "#### Finding the Best Value for `k` Using the Elbow Curve"
   ]
  },
  {
   "cell_type": "code",
   "execution_count": 155,
   "metadata": {},
   "outputs": [
    {
     "data": {},
     "metadata": {},
     "output_type": "display_data"
    },
    {
     "data": {
      "application/vnd.holoviews_exec.v0+json": "",
      "text/html": [
       "<div id='4601'>\n",
       "\n",
       "\n",
       "\n",
       "\n",
       "\n",
       "  <div class=\"bk-root\" id=\"4748070f-61ad-4fea-90b4-782fe03c65c5\" data-root-id=\"4601\"></div>\n",
       "</div>\n",
       "<script type=\"application/javascript\">(function(root) {\n",
       "  function embed_document(root) {\n",
       "    var docs_json = {\"1901a9e9-9400-4423-a121-59ee631e622b\":{\"defs\":[{\"extends\":null,\"module\":null,\"name\":\"ReactiveHTML1\",\"overrides\":[],\"properties\":[]},{\"extends\":null,\"module\":null,\"name\":\"FlexBox1\",\"overrides\":[],\"properties\":[{\"default\":\"flex-start\",\"kind\":null,\"name\":\"align_content\"},{\"default\":\"flex-start\",\"kind\":null,\"name\":\"align_items\"},{\"default\":\"row\",\"kind\":null,\"name\":\"flex_direction\"},{\"default\":\"wrap\",\"kind\":null,\"name\":\"flex_wrap\"},{\"default\":\"flex-start\",\"kind\":null,\"name\":\"justify_content\"}]},{\"extends\":null,\"module\":null,\"name\":\"GridStack1\",\"overrides\":[],\"properties\":[{\"default\":\"warn\",\"kind\":null,\"name\":\"mode\"},{\"default\":null,\"kind\":null,\"name\":\"ncols\"},{\"default\":null,\"kind\":null,\"name\":\"nrows\"},{\"default\":true,\"kind\":null,\"name\":\"allow_resize\"},{\"default\":true,\"kind\":null,\"name\":\"allow_drag\"},{\"default\":[],\"kind\":null,\"name\":\"state\"}]},{\"extends\":null,\"module\":null,\"name\":\"click1\",\"overrides\":[],\"properties\":[{\"default\":\"\",\"kind\":null,\"name\":\"terminal_output\"},{\"default\":\"\",\"kind\":null,\"name\":\"debug_name\"},{\"default\":0,\"kind\":null,\"name\":\"clears\"}]},{\"extends\":null,\"module\":null,\"name\":\"TemplateActions1\",\"overrides\":[],\"properties\":[{\"default\":0,\"kind\":null,\"name\":\"open_modal\"},{\"default\":0,\"kind\":null,\"name\":\"close_modal\"}]},{\"extends\":null,\"module\":null,\"name\":\"MaterialTemplateActions1\",\"overrides\":[],\"properties\":[{\"default\":0,\"kind\":null,\"name\":\"open_modal\"},{\"default\":0,\"kind\":null,\"name\":\"close_modal\"}]}],\"roots\":{\"references\":[{\"attributes\":{\"line_color\":\"#30a2da\",\"line_width\":2,\"x\":{\"field\":\"k\"},\"y\":{\"field\":\"inertia\"}},\"id\":\"4639\",\"type\":\"Line\"},{\"attributes\":{\"ticks\":[1,2,3,4,5,6,7,8,9,10]},\"id\":\"4645\",\"type\":\"FixedTicker\"},{\"attributes\":{\"end\":3991.293000911612,\"reset_end\":3991.293000911612,\"reset_start\":-248.3803043407901,\"start\":-248.3803043407901,\"tags\":[[[\"inertia\",\"inertia\",null]]]},\"id\":\"4604\",\"type\":\"Range1d\"},{\"attributes\":{},\"id\":\"4624\",\"type\":\"PanTool\"},{\"attributes\":{},\"id\":\"4660\",\"type\":\"UnionRenderers\"},{\"attributes\":{\"data\":{\"inertia\":{\"__ndarray__\":\"7jjtSflrrEDCtYpuZVKjQFBj6qFPQJdARMM3r8mYgEC6kceV/DJ2QErwBghvYHBANPQf7xEjaEAz+b/jjgBjQOZjVQR+AWBAzpg5YUA7WkA=\",\"dtype\":\"float64\",\"order\":\"little\",\"shape\":[10]},\"k\":[1,2,3,4,5,6,7,8,9,10]},\"selected\":{\"id\":\"4637\"},\"selection_policy\":{\"id\":\"4660\"}},\"id\":\"4636\",\"type\":\"ColumnDataSource\"},{\"attributes\":{},\"id\":\"4625\",\"type\":\"WheelZoomTool\"},{\"attributes\":{\"children\":[{\"id\":\"4602\"},{\"id\":\"4606\"},{\"id\":\"4672\"}],\"margin\":[0,0,0,0],\"name\":\"Row09011\",\"tags\":[\"embedded\"]},\"id\":\"4601\",\"type\":\"Row\"},{\"attributes\":{\"overlay\":{\"id\":\"4628\"}},\"id\":\"4626\",\"type\":\"BoxZoomTool\"},{\"attributes\":{\"callback\":null,\"renderers\":[{\"id\":\"4642\"}],\"tags\":[\"hv_created\"],\"tooltips\":[[\"k\",\"@{k}\"],[\"inertia\",\"@{inertia}\"]]},\"id\":\"4605\",\"type\":\"HoverTool\"},{\"attributes\":{},\"id\":\"4648\",\"type\":\"AllLabels\"},{\"attributes\":{\"below\":[{\"id\":\"4615\"}],\"center\":[{\"id\":\"4618\"},{\"id\":\"4622\"}],\"height\":300,\"left\":[{\"id\":\"4619\"}],\"margin\":[5,5,5,5],\"min_border_bottom\":10,\"min_border_left\":10,\"min_border_right\":10,\"min_border_top\":10,\"renderers\":[{\"id\":\"4642\"}],\"sizing_mode\":\"fixed\",\"title\":{\"id\":\"4607\"},\"toolbar\":{\"id\":\"4629\"},\"width\":700,\"x_range\":{\"id\":\"4603\"},\"x_scale\":{\"id\":\"4611\"},\"y_range\":{\"id\":\"4604\"},\"y_scale\":{\"id\":\"4613\"}},\"id\":\"4606\",\"subtype\":\"Figure\",\"type\":\"Plot\"},{\"attributes\":{},\"id\":\"4627\",\"type\":\"ResetTool\"},{\"attributes\":{},\"id\":\"4637\",\"type\":\"Selection\"},{\"attributes\":{\"coordinates\":null,\"group\":null,\"text\":\"Elbow Curve\",\"text_color\":\"black\",\"text_font_size\":\"12pt\"},\"id\":\"4607\",\"type\":\"Title\"},{\"attributes\":{\"line_color\":\"#30a2da\",\"line_width\":2,\"x\":{\"field\":\"k\"},\"y\":{\"field\":\"inertia\"}},\"id\":\"4644\",\"type\":\"Line\"},{\"attributes\":{\"axis\":{\"id\":\"4619\"},\"coordinates\":null,\"dimension\":1,\"grid_line_color\":null,\"group\":null,\"ticker\":null},\"id\":\"4622\",\"type\":\"Grid\"},{\"attributes\":{\"margin\":[5,5,5,5],\"name\":\"HSpacer09016\",\"sizing_mode\":\"stretch_width\"},\"id\":\"4672\",\"type\":\"Spacer\"},{\"attributes\":{\"bottom_units\":\"screen\",\"coordinates\":null,\"fill_alpha\":0.5,\"fill_color\":\"lightgrey\",\"group\":null,\"left_units\":\"screen\",\"level\":\"overlay\",\"line_alpha\":1.0,\"line_color\":\"black\",\"line_dash\":[4,4],\"line_width\":2,\"right_units\":\"screen\",\"syncable\":false,\"top_units\":\"screen\"},\"id\":\"4628\",\"type\":\"BoxAnnotation\"},{\"attributes\":{},\"id\":\"4623\",\"type\":\"SaveTool\"},{\"attributes\":{\"margin\":[5,5,5,5],\"name\":\"HSpacer09015\",\"sizing_mode\":\"stretch_width\"},\"id\":\"4602\",\"type\":\"Spacer\"},{\"attributes\":{\"coordinates\":null,\"data_source\":{\"id\":\"4636\"},\"glyph\":{\"id\":\"4639\"},\"group\":null,\"hover_glyph\":null,\"muted_glyph\":{\"id\":\"4641\"},\"nonselection_glyph\":{\"id\":\"4640\"},\"selection_glyph\":{\"id\":\"4644\"},\"view\":{\"id\":\"4643\"}},\"id\":\"4642\",\"type\":\"GlyphRenderer\"},{\"attributes\":{\"axis_label\":\"k\",\"coordinates\":null,\"formatter\":{\"id\":\"4647\"},\"group\":null,\"major_label_policy\":{\"id\":\"4648\"},\"ticker\":{\"id\":\"4645\"}},\"id\":\"4615\",\"type\":\"LinearAxis\"},{\"attributes\":{},\"id\":\"4611\",\"type\":\"LinearScale\"},{\"attributes\":{},\"id\":\"4653\",\"type\":\"AllLabels\"},{\"attributes\":{},\"id\":\"4652\",\"type\":\"BasicTickFormatter\"},{\"attributes\":{\"axis_label\":\"inertia\",\"coordinates\":null,\"formatter\":{\"id\":\"4652\"},\"group\":null,\"major_label_policy\":{\"id\":\"4653\"},\"ticker\":{\"id\":\"4620\"}},\"id\":\"4619\",\"type\":\"LinearAxis\"},{\"attributes\":{\"axis\":{\"id\":\"4615\"},\"coordinates\":null,\"grid_line_color\":null,\"group\":null,\"ticker\":null},\"id\":\"4618\",\"type\":\"Grid\"},{\"attributes\":{},\"id\":\"4620\",\"type\":\"BasicTicker\"},{\"attributes\":{\"line_alpha\":0.1,\"line_color\":\"#30a2da\",\"line_width\":2,\"x\":{\"field\":\"k\"},\"y\":{\"field\":\"inertia\"}},\"id\":\"4640\",\"type\":\"Line\"},{\"attributes\":{\"line_alpha\":0.2,\"line_color\":\"#30a2da\",\"line_width\":2,\"x\":{\"field\":\"k\"},\"y\":{\"field\":\"inertia\"}},\"id\":\"4641\",\"type\":\"Line\"},{\"attributes\":{},\"id\":\"4613\",\"type\":\"LinearScale\"},{\"attributes\":{\"source\":{\"id\":\"4636\"}},\"id\":\"4643\",\"type\":\"CDSView\"},{\"attributes\":{},\"id\":\"4647\",\"type\":\"BasicTickFormatter\"},{\"attributes\":{\"tools\":[{\"id\":\"4605\"},{\"id\":\"4623\"},{\"id\":\"4624\"},{\"id\":\"4625\"},{\"id\":\"4626\"},{\"id\":\"4627\"}]},\"id\":\"4629\",\"type\":\"Toolbar\"},{\"attributes\":{\"end\":10.0,\"reset_end\":10.0,\"reset_start\":1.0,\"start\":1.0,\"tags\":[[[\"k\",\"k\",null]]]},\"id\":\"4603\",\"type\":\"Range1d\"}],\"root_ids\":[\"4601\"]},\"title\":\"Bokeh Application\",\"version\":\"2.4.2\"}};\n",
       "    var render_items = [{\"docid\":\"1901a9e9-9400-4423-a121-59ee631e622b\",\"root_ids\":[\"4601\"],\"roots\":{\"4601\":\"4748070f-61ad-4fea-90b4-782fe03c65c5\"}}];\n",
       "    root.Bokeh.embed.embed_items_notebook(docs_json, render_items);\n",
       "  }\n",
       "  if (root.Bokeh !== undefined && root.Bokeh.Panel !== undefined) {\n",
       "    embed_document(root);\n",
       "  } else {\n",
       "    var attempts = 0;\n",
       "    var timer = setInterval(function(root) {\n",
       "      if (root.Bokeh !== undefined && root.Bokeh.Panel !== undefined) {\n",
       "        clearInterval(timer);\n",
       "        embed_document(root);\n",
       "      } else if (document.readyState == \"complete\") {\n",
       "        attempts++;\n",
       "        if (attempts > 200) {\n",
       "          clearInterval(timer);\n",
       "          console.log(\"Bokeh: ERROR: Unable to run BokehJS code because BokehJS library is missing\");\n",
       "        }\n",
       "      }\n",
       "    }, 25, root)\n",
       "  }\n",
       "})(window);</script>"
      ],
      "text/plain": [
       ":Curve   [k]   (inertia)"
      ]
     },
     "execution_count": 155,
     "metadata": {
      "application/vnd.holoviews_exec.v0+json": {
       "id": "4601"
      }
     },
     "output_type": "execute_result"
    }
   ],
   "source": [
    "# Create an elbow curve to find the best value for K.\n",
    "inertia = []\n",
    "k = list(range(1, 11))\n",
    "\n",
    "# Calculate the inertia for the range of K values\n",
    "for i in k:\n",
    "    km = KMeans(n_clusters=i, random_state=0)\n",
    "    km.fit(pcs_df)\n",
    "    inertia.append(km.inertia_)\n",
    "    \n",
    "# Define a DataFrame to plot the Elbow Curve using hvPlot\n",
    "elbow_data = {\"k\": k, \"inertia\": inertia}\n",
    "df_elbow = pd.DataFrame(elbow_data)\n",
    "df_elbow.hvplot.line(x=\"k\", y=\"inertia\", title=\"Elbow Curve\", xticks=k)\n"
   ]
  },
  {
   "cell_type": "markdown",
   "metadata": {},
   "source": [
    "Running K-Means with `k=4`"
   ]
  },
  {
   "cell_type": "code",
   "execution_count": 156,
   "metadata": {},
   "outputs": [
    {
     "data": {
      "text/plain": [
       "array([0, 0, 0, 1, 1, 1, 0, 1, 1, 1, 0, 1, 0, 0, 1, 0, 1, 1, 0, 0, 1, 1,\n",
       "       1, 1, 1, 0, 1, 1, 1, 0, 1, 0, 1, 1, 0, 0, 1, 1, 1, 1, 1, 1, 0, 0,\n",
       "       1, 1, 1, 1, 1, 0, 0, 1, 0, 1, 1, 1, 1, 0, 1, 1, 0, 1, 0, 0, 0, 1,\n",
       "       1, 1, 0, 0, 0, 0, 0, 1, 1, 1, 0, 0, 1, 0, 1, 0, 0, 1, 1, 1, 1, 0,\n",
       "       0, 1, 0, 1, 1, 0, 0, 1, 0, 0, 1, 1, 0, 0, 1, 0, 0, 1, 0, 1, 0, 1,\n",
       "       0, 1, 0, 0, 1, 1, 0, 1, 1, 1, 0, 1, 1, 1, 1, 1, 0, 0, 1, 1, 1, 0,\n",
       "       1, 0, 1, 1, 0, 1, 0, 1, 0, 0, 1, 1, 0, 1, 1, 0, 0, 1, 0, 1, 0, 0,\n",
       "       0, 1, 1, 1, 1, 0, 0, 0, 0, 0, 1, 1, 0, 0, 0, 0, 0, 1, 0, 0, 0, 0,\n",
       "       0, 1, 0, 1, 0, 0, 1, 0, 1, 0, 0, 1, 0, 1, 0, 1, 0, 1, 0, 0, 0, 0,\n",
       "       1, 0, 0, 0, 0, 0, 1, 1, 0, 0, 1, 1, 0, 0, 0, 0, 0, 1, 0, 0, 0, 0,\n",
       "       0, 0, 0, 0, 1, 0, 0, 0, 0, 0, 0, 1, 1, 1, 0, 0, 0, 0, 1, 0, 1, 0,\n",
       "       0, 1, 0, 1, 1, 0, 1, 1, 0, 1, 0, 0, 0, 1, 0, 0, 1, 0, 0, 0, 0, 0,\n",
       "       0, 0, 1, 0, 1, 0, 0, 0, 0, 1, 0, 1, 0, 1, 1, 1, 1, 0, 1, 0, 0, 1,\n",
       "       0, 1, 1, 1, 0, 1, 0, 1, 1, 1, 0, 1, 0, 1, 0, 0, 3, 1, 0, 1, 1, 1,\n",
       "       1, 1, 0, 0, 1, 0, 0, 0, 1, 0, 1, 0, 1, 0, 1, 0, 0, 0, 0, 1, 0, 0,\n",
       "       1, 0, 0, 0, 1, 1, 1, 1, 0, 0, 0, 0, 1, 0, 1, 1, 1, 0, 0, 1, 1, 0,\n",
       "       0, 1, 0, 1, 1, 1, 0, 1, 1, 0, 0, 0, 1, 1, 1, 0, 1, 0, 1, 1, 0, 1,\n",
       "       1, 1, 1, 0, 3, 0, 1, 1, 1, 0, 3, 0, 0, 0, 0, 1, 1, 1, 1, 0, 0, 0,\n",
       "       1, 0, 1, 0, 0, 0, 0, 1, 0, 0, 1, 0, 0, 1, 1, 0, 1, 0, 1, 1, 1, 1,\n",
       "       0, 0, 1, 0, 1, 0, 0, 0, 0, 0, 0, 1, 1, 1, 0, 0, 0, 0, 0, 0, 1, 0,\n",
       "       1, 1, 1, 1, 0, 0, 0, 0, 1, 0, 0, 1, 0, 0, 1, 3, 1, 0, 1, 1, 0, 0,\n",
       "       1, 0, 1, 1, 0, 1, 1, 0, 1, 0, 1, 0, 0, 1, 0, 0, 0, 0, 0, 1, 1, 1,\n",
       "       0, 0, 0, 1, 0, 1, 0, 1, 0, 0, 0, 0, 1, 0, 0, 0, 1, 0, 1, 0, 1, 0,\n",
       "       0, 0, 1, 1, 0, 0, 0, 0, 0, 0, 1, 0, 1, 0, 1, 0, 0, 3, 0, 2, 0, 0,\n",
       "       0, 1, 1, 0], dtype=int32)"
      ]
     },
     "execution_count": 156,
     "metadata": {},
     "output_type": "execute_result"
    }
   ],
   "source": [
    "# Initialize the K-Means model.\n",
    "model = KMeans(n_clusters=4, random_state=0)\n",
    "\n",
    "# Fit the model\n",
    "model.fit(pcs_df)\n",
    "\n",
    "# Predict clusters\n",
    "predictions = model.predict(pcs_df)\n",
    "    \n",
    "predictions"
   ]
  },
  {
   "cell_type": "code",
   "execution_count": 148,
   "metadata": {},
   "outputs": [
    {
     "name": "stdout",
     "output_type": "stream",
     "text": [
      "(532, 9)\n"
     ]
    },
    {
     "data": {
      "text/html": [
       "<div>\n",
       "<style scoped>\n",
       "    .dataframe tbody tr th:only-of-type {\n",
       "        vertical-align: middle;\n",
       "    }\n",
       "\n",
       "    .dataframe tbody tr th {\n",
       "        vertical-align: top;\n",
       "    }\n",
       "\n",
       "    .dataframe thead th {\n",
       "        text-align: right;\n",
       "    }\n",
       "</style>\n",
       "<table border=\"1\" class=\"dataframe\">\n",
       "  <thead>\n",
       "    <tr style=\"text-align: right;\">\n",
       "      <th></th>\n",
       "      <th>Algorithm</th>\n",
       "      <th>ProofType</th>\n",
       "      <th>TotalCoinsMined</th>\n",
       "      <th>TotalCoinSupply</th>\n",
       "      <th>PC1</th>\n",
       "      <th>PC2</th>\n",
       "      <th>PC3</th>\n",
       "      <th>CoinName</th>\n",
       "      <th>Class</th>\n",
       "    </tr>\n",
       "    <tr>\n",
       "      <th></th>\n",
       "      <th></th>\n",
       "      <th></th>\n",
       "      <th></th>\n",
       "      <th></th>\n",
       "      <th></th>\n",
       "      <th></th>\n",
       "      <th></th>\n",
       "      <th></th>\n",
       "      <th></th>\n",
       "    </tr>\n",
       "  </thead>\n",
       "  <tbody>\n",
       "    <tr>\n",
       "      <th>42</th>\n",
       "      <td>Scrypt</td>\n",
       "      <td>PoW/PoS</td>\n",
       "      <td>4.199995e+01</td>\n",
       "      <td>42</td>\n",
       "      <td>-0.346241</td>\n",
       "      <td>1.124585</td>\n",
       "      <td>-0.454154</td>\n",
       "      <td>42 Coin</td>\n",
       "      <td>0</td>\n",
       "    </tr>\n",
       "    <tr>\n",
       "      <th>404</th>\n",
       "      <td>Scrypt</td>\n",
       "      <td>PoW/PoS</td>\n",
       "      <td>1.055185e+09</td>\n",
       "      <td>532000000</td>\n",
       "      <td>-0.329612</td>\n",
       "      <td>1.124920</td>\n",
       "      <td>-0.454571</td>\n",
       "      <td>404Coin</td>\n",
       "      <td>0</td>\n",
       "    </tr>\n",
       "    <tr>\n",
       "      <th>1337</th>\n",
       "      <td>X13</td>\n",
       "      <td>PoW/PoS</td>\n",
       "      <td>2.927942e+10</td>\n",
       "      <td>314159265359</td>\n",
       "      <td>2.312588</td>\n",
       "      <td>1.679253</td>\n",
       "      <td>-0.594212</td>\n",
       "      <td>EliteCoin</td>\n",
       "      <td>0</td>\n",
       "    </tr>\n",
       "    <tr>\n",
       "      <th>BTC</th>\n",
       "      <td>SHA-256</td>\n",
       "      <td>PoW</td>\n",
       "      <td>1.792718e+07</td>\n",
       "      <td>21000000</td>\n",
       "      <td>-0.134891</td>\n",
       "      <td>-1.371651</td>\n",
       "      <td>0.124028</td>\n",
       "      <td>Bitcoin</td>\n",
       "      <td>1</td>\n",
       "    </tr>\n",
       "    <tr>\n",
       "      <th>ETH</th>\n",
       "      <td>Ethash</td>\n",
       "      <td>PoW</td>\n",
       "      <td>1.076842e+08</td>\n",
       "      <td>0</td>\n",
       "      <td>-0.139032</td>\n",
       "      <td>-2.132224</td>\n",
       "      <td>0.340984</td>\n",
       "      <td>Ethereum</td>\n",
       "      <td>1</td>\n",
       "    </tr>\n",
       "    <tr>\n",
       "      <th>LTC</th>\n",
       "      <td>Scrypt</td>\n",
       "      <td>PoW</td>\n",
       "      <td>6.303924e+07</td>\n",
       "      <td>84000000</td>\n",
       "      <td>-0.179025</td>\n",
       "      <td>-1.065007</td>\n",
       "      <td>0.043007</td>\n",
       "      <td>Litecoin</td>\n",
       "      <td>1</td>\n",
       "    </tr>\n",
       "    <tr>\n",
       "      <th>DASH</th>\n",
       "      <td>X11</td>\n",
       "      <td>PoW/PoS</td>\n",
       "      <td>9.031294e+06</td>\n",
       "      <td>22000000</td>\n",
       "      <td>-0.395608</td>\n",
       "      <td>1.286658</td>\n",
       "      <td>-0.534671</td>\n",
       "      <td>Dash</td>\n",
       "      <td>0</td>\n",
       "    </tr>\n",
       "    <tr>\n",
       "      <th>XMR</th>\n",
       "      <td>CryptoNight-V7</td>\n",
       "      <td>PoW</td>\n",
       "      <td>1.720114e+07</td>\n",
       "      <td>0</td>\n",
       "      <td>-0.137719</td>\n",
       "      <td>-2.263691</td>\n",
       "      <td>0.341385</td>\n",
       "      <td>Monero</td>\n",
       "      <td>1</td>\n",
       "    </tr>\n",
       "    <tr>\n",
       "      <th>ETC</th>\n",
       "      <td>Ethash</td>\n",
       "      <td>PoW</td>\n",
       "      <td>1.133597e+08</td>\n",
       "      <td>210000000</td>\n",
       "      <td>-0.137477</td>\n",
       "      <td>-2.132311</td>\n",
       "      <td>0.340970</td>\n",
       "      <td>Ethereum Classic</td>\n",
       "      <td>1</td>\n",
       "    </tr>\n",
       "    <tr>\n",
       "      <th>ZEC</th>\n",
       "      <td>Equihash</td>\n",
       "      <td>PoW</td>\n",
       "      <td>7.383056e+06</td>\n",
       "      <td>21000000</td>\n",
       "      <td>-0.172273</td>\n",
       "      <td>-1.819560</td>\n",
       "      <td>0.385387</td>\n",
       "      <td>ZCash</td>\n",
       "      <td>1</td>\n",
       "    </tr>\n",
       "  </tbody>\n",
       "</table>\n",
       "</div>"
      ],
      "text/plain": [
       "           Algorithm ProofType  TotalCoinsMined TotalCoinSupply       PC1  \\\n",
       "                                                                            \n",
       "42            Scrypt   PoW/PoS     4.199995e+01              42 -0.346241   \n",
       "404           Scrypt   PoW/PoS     1.055185e+09       532000000 -0.329612   \n",
       "1337             X13   PoW/PoS     2.927942e+10    314159265359  2.312588   \n",
       "BTC          SHA-256       PoW     1.792718e+07        21000000 -0.134891   \n",
       "ETH           Ethash       PoW     1.076842e+08               0 -0.139032   \n",
       "LTC           Scrypt       PoW     6.303924e+07        84000000 -0.179025   \n",
       "DASH             X11   PoW/PoS     9.031294e+06        22000000 -0.395608   \n",
       "XMR   CryptoNight-V7       PoW     1.720114e+07               0 -0.137719   \n",
       "ETC           Ethash       PoW     1.133597e+08       210000000 -0.137477   \n",
       "ZEC         Equihash       PoW     7.383056e+06        21000000 -0.172273   \n",
       "\n",
       "           PC2       PC3          CoinName  Class  \n",
       "                                                   \n",
       "42    1.124585 -0.454154           42 Coin      0  \n",
       "404   1.124920 -0.454571           404Coin      0  \n",
       "1337  1.679253 -0.594212         EliteCoin      0  \n",
       "BTC  -1.371651  0.124028           Bitcoin      1  \n",
       "ETH  -2.132224  0.340984          Ethereum      1  \n",
       "LTC  -1.065007  0.043007          Litecoin      1  \n",
       "DASH  1.286658 -0.534671              Dash      0  \n",
       "XMR  -2.263691  0.341385            Monero      1  \n",
       "ETC  -2.132311  0.340970  Ethereum Classic      1  \n",
       "ZEC  -1.819560  0.385387             ZCash      1  "
      ]
     },
     "execution_count": 148,
     "metadata": {},
     "output_type": "execute_result"
    }
   ],
   "source": [
    "# Create a new DataFrame including predicted clusters and cryptocurrencies features.\n",
    "\n",
    "# Concatentate the crypto_df and pcs_df DataFrames on the same columns.\n",
    "clustered_df = pd.concat([crypto_df, pcs_df], axis = 1)\n",
    "\n",
    "#  Add a new column, \"CoinName\" to the clustered_df DataFrame that holds the names of the cryptocurrencies. \n",
    "clustered_df['CoinName'] = crypto_name_df\n",
    "\n",
    "#  Add a new column, \"Class\" to the clustered_df DataFrame that holds the predictions.\n",
    "clustered_df['Class'] = predictions\n",
    "\n",
    "# Print the shape of the clustered_df\n",
    "print(clustered_df.shape)\n",
    "clustered_df.head(10)"
   ]
  },
  {
   "cell_type": "markdown",
   "metadata": {},
   "source": [
    "### Deliverable 4: Visualizing Cryptocurrencies Results\n",
    "\n",
    "#### 3D-Scatter with Clusters"
   ]
  },
  {
   "cell_type": "code",
   "execution_count": 149,
   "metadata": {},
   "outputs": [
    {
     "data": {
      "application/vnd.plotly.v1+json": {
       "config": {
        "plotlyServerURL": "https://plot.ly"
       },
       "data": [
        {
         "customdata": [
          [
           "Scrypt"
          ],
          [
           "Scrypt"
          ],
          [
           "X13"
          ],
          [
           "X11"
          ],
          [
           "SHA-512"
          ],
          [
           "SHA-256"
          ],
          [
           "SHA-256"
          ],
          [
           "X15"
          ],
          [
           "Scrypt"
          ],
          [
           "Scrypt"
          ],
          [
           "Scrypt"
          ],
          [
           "Scrypt"
          ],
          [
           "Scrypt"
          ],
          [
           "Scrypt"
          ],
          [
           "Groestl"
          ],
          [
           "PoS"
          ],
          [
           "Scrypt"
          ],
          [
           "Scrypt"
          ],
          [
           "X11"
          ],
          [
           "X11"
          ],
          [
           "SHA3"
          ],
          [
           "Scrypt"
          ],
          [
           "SHA-256"
          ],
          [
           "Scrypt"
          ],
          [
           "X13"
          ],
          [
           "X13"
          ],
          [
           "NeoScrypt"
          ],
          [
           "Scrypt"
          ],
          [
           "Scrypt"
          ],
          [
           "Scrypt"
          ],
          [
           "X11"
          ],
          [
           "X11"
          ],
          [
           "Multiple"
          ],
          [
           "PHI1612"
          ],
          [
           "X11"
          ],
          [
           "Scrypt"
          ],
          [
           "Scrypt"
          ],
          [
           "Scrypt"
          ],
          [
           "X11"
          ],
          [
           "Multiple"
          ],
          [
           "X13"
          ],
          [
           "Scrypt"
          ],
          [
           "Shabal256"
          ],
          [
           "Counterparty"
          ],
          [
           "SHA-256"
          ],
          [
           "Groestl"
          ],
          [
           "Scrypt"
          ],
          [
           "X13"
          ],
          [
           "Scrypt"
          ],
          [
           "Scrypt"
          ],
          [
           "X13"
          ],
          [
           "X11"
          ],
          [
           "Scrypt"
          ],
          [
           "X11"
          ],
          [
           "SHA3"
          ],
          [
           "QUAIT"
          ],
          [
           "X11"
          ],
          [
           "Scrypt"
          ],
          [
           "X13"
          ],
          [
           "SHA-256"
          ],
          [
           "X15"
          ],
          [
           "BLAKE256"
          ],
          [
           "SHA-256"
          ],
          [
           "X11"
          ],
          [
           "SHA-256"
          ],
          [
           "NIST5"
          ],
          [
           "Scrypt"
          ],
          [
           "Scrypt"
          ],
          [
           "X11"
          ],
          [
           "Scrypt"
          ],
          [
           "SHA-256"
          ],
          [
           "Scrypt"
          ],
          [
           "PoS"
          ],
          [
           "X11"
          ],
          [
           "SHA-256"
          ],
          [
           "SHA-256"
          ],
          [
           "NIST5"
          ],
          [
           "X11"
          ],
          [
           "POS 3.0"
          ],
          [
           "Scrypt"
          ],
          [
           "Scrypt"
          ],
          [
           "Scrypt"
          ],
          [
           "X13"
          ],
          [
           "X11"
          ],
          [
           "X11"
          ],
          [
           "Scrypt"
          ],
          [
           "SHA-256"
          ],
          [
           "X11"
          ],
          [
           "Scrypt"
          ],
          [
           "Scrypt"
          ],
          [
           "Scrypt"
          ],
          [
           "Scrypt"
          ],
          [
           "SHA-256D"
          ],
          [
           "PoS"
          ],
          [
           "Scrypt"
          ],
          [
           "X11"
          ],
          [
           "PoS"
          ],
          [
           "X13"
          ],
          [
           "X14"
          ],
          [
           "PoS"
          ],
          [
           "SHA-256D"
          ],
          [
           "DPoS"
          ],
          [
           "X11"
          ],
          [
           "X13"
          ],
          [
           "X11"
          ],
          [
           "PoS"
          ],
          [
           "Scrypt"
          ],
          [
           "Scrypt"
          ],
          [
           "PoS"
          ],
          [
           "X11"
          ],
          [
           "SHA-256"
          ],
          [
           "Scrypt"
          ],
          [
           "X11"
          ],
          [
           "Scrypt"
          ],
          [
           "Scrypt"
          ],
          [
           "X11"
          ],
          [
           "Scrypt"
          ],
          [
           "Scrypt"
          ],
          [
           "Scrypt"
          ],
          [
           "Scrypt"
          ],
          [
           "Quark"
          ],
          [
           "QuBit"
          ],
          [
           "Scrypt"
          ],
          [
           "SHA-256"
          ],
          [
           "X11"
          ],
          [
           "Scrypt"
          ],
          [
           "Scrypt"
          ],
          [
           "Scrypt"
          ],
          [
           "Scrypt"
          ],
          [
           "X13"
          ],
          [
           "Scrypt"
          ],
          [
           "Scrypt"
          ],
          [
           "X11"
          ],
          [
           "Blake2S"
          ],
          [
           "X11"
          ],
          [
           "PoS"
          ],
          [
           "X11"
          ],
          [
           "PoS"
          ],
          [
           "X11"
          ],
          [
           "Scrypt"
          ],
          [
           "Scrypt"
          ],
          [
           "Scrypt"
          ],
          [
           "SHA-256"
          ],
          [
           "X11"
          ],
          [
           "Scrypt"
          ],
          [
           "PoS"
          ],
          [
           "Scrypt"
          ],
          [
           "X15"
          ],
          [
           "SHA-256"
          ],
          [
           "POS 3.0"
          ],
          [
           "536"
          ],
          [
           "NIST5"
          ],
          [
           "NIST5"
          ],
          [
           "Skein"
          ],
          [
           "X13"
          ],
          [
           "Scrypt"
          ],
          [
           "X13"
          ],
          [
           "SkunkHash v2 Raptor"
          ],
          [
           "Skein"
          ],
          [
           "X11"
          ],
          [
           "Scrypt"
          ],
          [
           "PoS"
          ],
          [
           "Scrypt"
          ],
          [
           "Scrypt"
          ],
          [
           "SHA-512"
          ],
          [
           "Ouroboros"
          ],
          [
           "X11"
          ],
          [
           "NeoScrypt"
          ],
          [
           "Scrypt"
          ],
          [
           "Lyra2REv2"
          ],
          [
           "Scrypt"
          ],
          [
           "SHA-256"
          ],
          [
           "NIST5"
          ],
          [
           "PHI1612"
          ],
          [
           "Scrypt"
          ],
          [
           "Quark"
          ],
          [
           "POS 2.0"
          ],
          [
           "Scrypt"
          ],
          [
           "SHA-256"
          ],
          [
           "X11"
          ],
          [
           "DPoS"
          ],
          [
           "NIST5"
          ],
          [
           "X13"
          ],
          [
           "Scrypt"
          ],
          [
           "NIST5"
          ],
          [
           "Quark"
          ],
          [
           "Scrypt"
          ],
          [
           "Scrypt"
          ],
          [
           "X11"
          ],
          [
           "Quark"
          ],
          [
           "Scrypt"
          ],
          [
           "Scrypt"
          ],
          [
           "X11"
          ],
          [
           "POS 3.0"
          ],
          [
           "Scrypt"
          ],
          [
           "Scrypt"
          ],
          [
           "X13"
          ],
          [
           "SHA-256 + Hive"
          ],
          [
           "C11"
          ],
          [
           "X11"
          ],
          [
           "XEVAN"
          ],
          [
           "Scrypt"
          ],
          [
           "VBFT"
          ],
          [
           "NIST5"
          ],
          [
           "Scrypt"
          ],
          [
           "Scrypt"
          ],
          [
           "Scrypt"
          ],
          [
           "Green Protocol"
          ],
          [
           "PoS"
          ],
          [
           "Scrypt"
          ],
          [
           "Semux BFT consensus"
          ],
          [
           "Quark"
          ],
          [
           "PoS"
          ],
          [
           "X16R"
          ],
          [
           "Scrypt"
          ],
          [
           "XEVAN"
          ],
          [
           "Scrypt"
          ],
          [
           "Scrypt"
          ],
          [
           "Scrypt"
          ],
          [
           "SHA-256D"
          ],
          [
           "Scrypt"
          ],
          [
           "X15"
          ],
          [
           "Scrypt"
          ],
          [
           "Quark"
          ],
          [
           "SHA-256"
          ],
          [
           "DPoS"
          ],
          [
           "X16R"
          ],
          [
           "Quark"
          ],
          [
           "Quark"
          ],
          [
           "Scrypt"
          ],
          [
           "Lyra2REv2"
          ],
          [
           "Quark"
          ],
          [
           "Scrypt"
          ],
          [
           "X11"
          ],
          [
           "X11"
          ],
          [
           "Scrypt"
          ],
          [
           "PoS"
          ],
          [
           "Keccak"
          ],
          [
           "X11"
          ],
          [
           "Scrypt"
          ],
          [
           "SHA-512"
          ],
          [
           "XEVAN"
          ],
          [
           "XEVAN"
          ],
          [
           "X11"
          ],
          [
           "Quark"
          ],
          [
           "Equihash"
          ],
          [
           "Scrypt"
          ],
          [
           "Quark"
          ],
          [
           "Quark"
          ],
          [
           "Scrypt"
          ],
          [
           "X11"
          ],
          [
           "Scrypt"
          ],
          [
           "XEVAN"
          ],
          [
           "SHA-256D"
          ],
          [
           "X11"
          ],
          [
           "X11"
          ],
          [
           "DPoS"
          ],
          [
           "Scrypt"
          ],
          [
           "X11"
          ],
          [
           "Scrypt"
          ],
          [
           "Scrypt"
          ],
          [
           "SHA-256"
          ],
          [
           "Scrypt"
          ],
          [
           "X11"
          ],
          [
           "Scrypt"
          ],
          [
           "SHA-256"
          ],
          [
           "X11"
          ],
          [
           "Scrypt"
          ],
          [
           "Scrypt"
          ],
          [
           "X11"
          ],
          [
           "Scrypt"
          ],
          [
           "PoS"
          ],
          [
           "X11"
          ],
          [
           "SHA-256"
          ],
          [
           "DPoS"
          ],
          [
           "Scrypt"
          ],
          [
           "Scrypt"
          ],
          [
           "NeoScrypt"
          ],
          [
           "X13"
          ],
          [
           "DPoS"
          ],
          [
           "DPoS"
          ],
          [
           "SHA-256"
          ],
          [
           "PoS"
          ],
          [
           "PoS"
          ],
          [
           "SHA-256"
          ],
          [
           "Scrypt"
          ],
          [
           "Scrypt"
          ]
         ],
         "hovertemplate": "<b>%{hovertext}</b><br><br>Class=%{marker.color}<br>PC1=%{x}<br>PC2=%{y}<br>PC3=%{z}<br>Algorithm=%{customdata[0]}<extra></extra>",
         "hovertext": [
          "42 Coin",
          "404Coin",
          "EliteCoin",
          "Dash",
          "Bitshares",
          "BitcoinDark",
          "PayCoin",
          "KoboCoin",
          "Aurora Coin",
          "BlueCoin",
          "EnergyCoin",
          "BitBar",
          "CryptoBullion",
          "CasinoCoin",
          "Diamond",
          "Exclusive Coin",
          "FlutterCoin",
          "HoboNickels",
          "HyperStake",
          "IOCoin",
          "MaxCoin",
          "MintCoin",
          "MazaCoin",
          "Nautilus Coin",
          "NavCoin",
          "OpalCoin",
          "Orbitcoin",
          "PotCoin",
          "PhoenixCoin",
          "Reddcoin",
          "SuperCoin",
          "SyncCoin",
          "TeslaCoin",
          "TittieCoin",
          "TorCoin",
          "UnitaryStatus Dollar",
          "UltraCoin",
          "VeriCoin",
          "X11 Coin",
          "Crypti",
          "StealthCoin",
          "ZCC Coin",
          "BurstCoin",
          "StorjCoin",
          "Neutron",
          "FairCoin",
          "RubyCoin",
          "Kore",
          "Dnotes",
          "8BIT Coin",
          "Sativa Coin",
          "Ucoin",
          "Vtorrent",
          "IslaCoin",
          "Nexus",
          "Droidz",
          "Squall Coin",
          "Diggits",
          "Paycon",
          "Emercoin",
          "EverGreenCoin",
          "Decred",
          "EDRCoin",
          "Hitcoin",
          "DubaiCoin",
          "PWR Coin",
          "BillaryCoin",
          "GPU Coin",
          "EuropeCoin",
          "ZeitCoin",
          "SwingCoin",
          "SafeExchangeCoin",
          "Nebuchadnezzar",
          "Ratecoin",
          "Revenu",
          "Clockcoin",
          "VIP Tokens",
          "BitSend",
          "Let it Ride",
          "PutinCoin",
          "iBankCoin",
          "Frankywillcoin",
          "MudraCoin",
          "Lutetium Coin",
          "GoldBlocks",
          "CarterCoin",
          "BitTokens",
          "MustangCoin",
          "ZoneCoin",
          "RootCoin",
          "BitCurrency",
          "Swiscoin",
          "BuzzCoin",
          "Opair",
          "PesoBit",
          "Halloween Coin",
          "CoffeeCoin",
          "RoyalCoin",
          "GanjaCoin V2",
          "TeamUP",
          "LanaCoin",
          "ARK",
          "InsaneCoin",
          "EmberCoin",
          "XenixCoin",
          "FreeCoin",
          "PLNCoin",
          "AquariusCoin",
          "Creatio",
          "Eternity",
          "Eurocoin",
          "BitcoinFast",
          "Stakenet",
          "BitConnect Coin",
          "MoneyCoin",
          "Enigma",
          "Russiacoin",
          "PandaCoin",
          "GameUnits",
          "GAKHcoin",
          "Allsafe",
          "LiteCreed",
          "Klingon Empire Darsek",
          "Internet of People",
          "KushCoin",
          "Printerium",
          "Impeach",
          "Zilbercoin",
          "FirstCoin",
          "FindCoin",
          "OpenChat",
          "RenosCoin",
          "VirtacoinPlus",
          "TajCoin",
          "Impact",
          "Atmos",
          "HappyCoin",
          "MacronCoin",
          "Condensate",
          "Independent Money System",
          "ArgusCoin",
          "LomoCoin",
          "ProCurrency",
          "GoldReserve",
          "GrowthCoin",
          "Phreak",
          "Degas Coin",
          "HTML5 Coin",
          "Ultimate Secure Cash",
          "QTUM",
          "Espers",
          "Denarius",
          "Virta Unique Coin",
          "Bitcoin Planet",
          "BritCoin",
          "Linda",
          "DeepOnion",
          "Signatum",
          "Cream",
          "Monoeci",
          "Draftcoin",
          "Stakecoin",
          "CoinonatX",
          "Ethereum Dark",
          "Obsidian",
          "Cardano",
          "Regalcoin",
          "TrezarCoin",
          "TerraNovaCoin",
          "Rupee",
          "WomenCoin",
          "Theresa May Coin",
          "NamoCoin",
          "LUXCoin",
          "Xios",
          "Bitcloud 2.0",
          "KekCoin",
          "BlackholeCoin",
          "Infinity Economics",
          "Magnet",
          "Lamden Tau",
          "Electra",
          "Bitcoin Diamond",
          "Cash & Back Coin",
          "Bulwark",
          "Kalkulus",
          "GermanCoin",
          "LiteCoin Ultra",
          "PhantomX",
          "Digiwage",
          "Trollcoin",
          "Litecoin Plus",
          "Monkey Project",
          "TokenPay",
          "My Big Coin",
          "Unified Society USDEX",
          "Tokyo Coin",
          "LitecoinCash",
          "Stipend",
          "Pushi",
          "Ellerium",
          "Velox",
          "Ontology",
          "Bitspace",
          "Briacoin",
          "Ignition",
          "MedicCoin",
          "Bitcoin Green",
          "Deviant Coin",
          "Abjcoin",
          "Semux",
          "Carebit",
          "Zealium",
          "Proton",
          "iDealCash",
          "Bitcoin Incognito",
          "HollyWoodCoin",
          "Swisscoin",
          "Xt3ch",
          "TheVig",
          "EmaratCoin",
          "Dekado",
          "Lynx",
          "Poseidon Quark",
          "BitcoinWSpectrum",
          "Muse",
          "Trivechain",
          "Dystem",
          "Giant",
          "Peony Coin",
          "Absolute Coin",
          "Vitae",
          "TPCash",
          "ARENON",
          "EUNO",
          "MMOCoin",
          "Ketan",
          "XDNA",
          "PAXEX",
          "ThunderStake",
          "Kcash",
          "Bettex coin",
          "BitMoney",
          "Junson Ming Chan Coin",
          "HerbCoin",
          "PirateCash",
          "Oduwa",
          "Galilel",
          "Crypto Sports",
          "Credit",
          "Dash Platinum",
          "Nasdacoin",
          "Beetle Coin",
          "Titan Coin",
          "Award",
          "Insane Coin",
          "ALAX",
          "LiteDoge",
          "TruckCoin",
          "OrangeCoin",
          "BitstarCoin",
          "NeosCoin",
          "HyperCoin",
          "PinkCoin",
          "AudioCoin",
          "IncaKoin",
          "Piggy Coin",
          "Genstake",
          "XiaoMiCoin",
          "CapriCoin",
          " ClubCoin",
          "Radium",
          "Creditbit ",
          "OKCash",
          "Lisk",
          "HiCoin",
          "WhiteCoin",
          "FriendshipCoin",
          "Triangles Coin",
          "EOS",
          "Oxycoin",
          "TigerCash",
          "Particl",
          "Nxt",
          "ZEPHYR",
          "Gapcoin",
          "BitcoinPlus"
         ],
         "legendgroup": "0",
         "marker": {
          "color": [
           0,
           0,
           0,
           0,
           0,
           0,
           0,
           0,
           0,
           0,
           0,
           0,
           0,
           0,
           0,
           0,
           0,
           0,
           0,
           0,
           0,
           0,
           0,
           0,
           0,
           0,
           0,
           0,
           0,
           0,
           0,
           0,
           0,
           0,
           0,
           0,
           0,
           0,
           0,
           0,
           0,
           0,
           0,
           0,
           0,
           0,
           0,
           0,
           0,
           0,
           0,
           0,
           0,
           0,
           0,
           0,
           0,
           0,
           0,
           0,
           0,
           0,
           0,
           0,
           0,
           0,
           0,
           0,
           0,
           0,
           0,
           0,
           0,
           0,
           0,
           0,
           0,
           0,
           0,
           0,
           0,
           0,
           0,
           0,
           0,
           0,
           0,
           0,
           0,
           0,
           0,
           0,
           0,
           0,
           0,
           0,
           0,
           0,
           0,
           0,
           0,
           0,
           0,
           0,
           0,
           0,
           0,
           0,
           0,
           0,
           0,
           0,
           0,
           0,
           0,
           0,
           0,
           0,
           0,
           0,
           0,
           0,
           0,
           0,
           0,
           0,
           0,
           0,
           0,
           0,
           0,
           0,
           0,
           0,
           0,
           0,
           0,
           0,
           0,
           0,
           0,
           0,
           0,
           0,
           0,
           0,
           0,
           0,
           0,
           0,
           0,
           0,
           0,
           0,
           0,
           0,
           0,
           0,
           0,
           0,
           0,
           0,
           0,
           0,
           0,
           0,
           0,
           0,
           0,
           0,
           0,
           0,
           0,
           0,
           0,
           0,
           0,
           0,
           0,
           0,
           0,
           0,
           0,
           0,
           0,
           0,
           0,
           0,
           0,
           0,
           0,
           0,
           0,
           0,
           0,
           0,
           0,
           0,
           0,
           0,
           0,
           0,
           0,
           0,
           0,
           0,
           0,
           0,
           0,
           0,
           0,
           0,
           0,
           0,
           0,
           0,
           0,
           0,
           0,
           0,
           0,
           0,
           0,
           0,
           0,
           0,
           0,
           0,
           0,
           0,
           0,
           0,
           0,
           0,
           0,
           0,
           0,
           0,
           0,
           0,
           0,
           0,
           0,
           0,
           0,
           0,
           0,
           0,
           0,
           0,
           0,
           0,
           0,
           0,
           0,
           0,
           0,
           0,
           0,
           0,
           0,
           0,
           0,
           0,
           0,
           0,
           0,
           0,
           0,
           0,
           0,
           0,
           0,
           0,
           0,
           0,
           0,
           0,
           0,
           0,
           0,
           0,
           0,
           0,
           0,
           0,
           0
          ],
          "coloraxis": "coloraxis",
          "symbol": "circle"
         },
         "mode": "markers",
         "name": "0",
         "scene": "scene",
         "showlegend": true,
         "type": "scatter3d",
         "x": [
          -0.346240605849762,
          -0.32961229484011473,
          2.312588259868199,
          -0.3956082859226381,
          -0.32495566011748556,
          -0.30093938907430823,
          -0.2543998950305813,
          -0.21988735716523558,
          -0.3459008644994819,
          -0.3384941056349865,
          -0.3447403387040683,
          -0.3462365495312514,
          -0.3462208626327711,
          0.6183281078670435,
          -0.3546501061752087,
          -0.32746969281915206,
          -0.28875116285364416,
          -0.3443032175466589,
          -0.3289349015444926,
          -0.395503203485468,
          -0.4183747280588587,
          -0.040168550980738064,
          -0.26431793335676357,
          -0.2994526707936498,
          -0.26656865760144316,
          -0.2671895580218377,
          -0.3213026183905478,
          -0.34055397968027823,
          -0.3446455080572666,
          0.011147699154738455,
          -0.34877968649561275,
          -0.3958740393697329,
          -0.2329012709554539,
          -0.2745785779134158,
          -0.3957858442284062,
          -0.3215214702175449,
          -0.3449205777645787,
          -0.33608475988572567,
          -0.39575040426579366,
          -0.2333682323897692,
          -0.26697088229058613,
          -0.33736037022704274,
          -0.0676920148888628,
          -0.3528743739693494,
          -0.3001526666408173,
          -0.3540728946163867,
          -0.29943300512845056,
          -0.26726476147303313,
          -0.2940972511758382,
          -0.34622271209787825,
          -0.26721705160619097,
          -0.3492235542247371,
          -0.34595761108770867,
          -0.3958556071142788,
          -0.4281600499496624,
          -0.3776059635976841,
          -0.327106013037662,
          -0.2978376981005128,
          -0.2667396124650252,
          -0.29350975393529105,
          -0.22232433613406555,
          -0.0833359336768471,
          -0.3009103641968496,
          -0.0739472885606461,
          -0.30097394836593866,
          -0.21439500805497178,
          -0.3458337070962493,
          -0.2977067693537452,
          -0.3930299717170442,
          0.8514862771378849,
          -0.300774370982883,
          -0.11098205101458399,
          -0.32715359149118667,
          -0.39370298557287753,
          -0.2995201815572767,
          -0.2971926976555037,
          -0.33549822889757996,
          -0.3945931736011488,
          -0.34612330274911063,
          -0.3221759838043552,
          -0.3458717198567784,
          -0.3443138914440795,
          -0.2194219664469391,
          -0.33673934848918474,
          -0.3953305166268589,
          -0.34507752591205165,
          -0.30095491884487735,
          -0.3958448152714679,
          -0.3460605320663983,
          -0.3462169573248593,
          -0.29769682370710954,
          -0.28678672196487887,
          0.04648204398513634,
          -0.3261127531339307,
          -0.345831925744204,
          -0.3820332313061297,
          -0.3254428742092962,
          -0.2208499667974203,
          -0.4121041981515151,
          -0.32519180669003583,
          -0.2674080165609754,
          3.7725027182968747,
          -0.3954381598822885,
          0.8625700380266613,
          -0.39579981816141163,
          -0.3265755769267139,
          -0.34575955407067527,
          -0.3459135484742276,
          -0.32715359149118667,
          -0.3953755027056656,
          -0.3008178826884139,
          -0.34576029971465416,
          -0.4193540033935129,
          -0.34590739059730014,
          -0.3415034296008515,
          -0.3958287486976659,
          -0.34511951639999033,
          0.34253222069950423,
          -0.3461062782688545,
          -0.3461767208478315,
          -0.3477266580714265,
          -0.34857813672847066,
          -0.3424104048882142,
          -0.3009313821504956,
          -0.39573888069711677,
          -0.34595496555108146,
          -0.3460816476897399,
          -0.2993395993155512,
          -0.30915135535345206,
          -0.2206182845434596,
          -0.32697345450989596,
          -0.2990813165852751,
          -0.395005985100797,
          -0.4063305839252941,
          -0.39374698895214366,
          -0.3254036484496095,
          -0.3949040851034629,
          -0.319814745266988,
          -0.3908527899328779,
          -0.34602505499225045,
          -0.3460242315745376,
          -0.33915843491980835,
          0.2772968938823228,
          -0.39538168012456515,
          -0.28201424202767655,
          -0.32718779313821633,
          -0.345237232343785,
          0.909848684068303,
          -0.2530926772997184,
          -0.34490408737520106,
          0.5846001860757837,
          -0.3370308115597617,
          -0.335535965195756,
          -0.42355574546956654,
          -0.2669027671996118,
          0.11783064347379246,
          -0.266973413363221,
          -0.3643102740932613,
          -0.42306167236473285,
          -0.3956535537864596,
          -0.29941372222754226,
          -0.32705428418404553,
          -0.3456609632288299,
          -0.3461596846199626,
          -0.3829048073993598,
          0.6713872255115342,
          -0.395594470242407,
          -0.3163115688896023,
          -0.34611536960977474,
          -0.2925631639755138,
          0.4214344074523976,
          -0.29928096945127874,
          -0.3218272657264838,
          -0.3565818310674869,
          -0.3460658020490911,
          -0.39264759343905437,
          -0.3454126318197503,
          -0.3459364866624939,
          -0.08123021280177091,
          -0.39438942385100534,
          3.7773492810367504,
          0.2213460571208141,
          -0.26365087717178026,
          -0.34340170189808494,
          -0.29031861386494856,
          -0.34761279163901054,
          0.06743967620377794,
          -0.3450765536556767,
          -0.3949695347095701,
          -0.3467790805643325,
          -0.3326669348701063,
          -0.3461817699723714,
          -0.34919554070706005,
          -0.346404643634294,
          -0.32153853581049757,
          -0.3417359283180811,
          -0.2124296844205631,
          -0.3413628054394274,
          -0.3551643754541504,
          -0.3956707307448573,
          -0.27439251574087525,
          -0.2985752538943576,
          -0.34255901649094234,
          -0.33663053336355736,
          -0.34620906919557654,
          -0.34619081455488215,
          -0.29296772894219963,
          -0.3759948870238329,
          -0.3266495406966565,
          -0.34590787041813503,
          3.947115065378079,
          -0.39131842425009544,
          -0.3268378291742821,
          -0.32711878151086343,
          -0.2928790984429595,
          -0.2057766164428137,
          -0.2991085576802838,
          -0.14971565473824103,
          -0.29936004805289884,
          -0.3326009545627732,
          -0.3453828970677121,
          -0.17519313768728276,
          2.1950748198534593,
          -0.3433284584575892,
          -0.2532203407151903,
          1.0507380992908146,
          -0.3729328469990134,
          -0.34772608259870363,
          -0.3943286017064284,
          -0.18030754378611205,
          -0.338967736012188,
          -0.3464481467218033,
          -0.3390986522911473,
          -0.3487737672009153,
          -0.3951451238508687,
          -0.296610876004886,
          -0.3259392507622391,
          -0.3272004904190826,
          -0.3486353434348513,
          -0.2059492543414242,
          -0.473397039830443,
          -0.22790944880528113,
          0.6318049590180024,
          -0.1395903802217764,
          -0.3936246138711241,
          -0.29098092726872393,
          -0.3459118548317767,
          -0.3940798452054661,
          -0.34784282894684065,
          0.5588484649491401,
          -0.34924974409136006,
          -0.3453957319722627,
          -0.2688588836034795,
          -0.287405783323169,
          -0.39271411953980045,
          -0.3953719239706653,
          3.789566261097053,
          0.0881757762249839,
          -0.39291682145493106,
          -0.3447822697544585,
          -0.3456058361622071,
          -0.25443243806760557,
          -0.3461231919684037,
          -0.3870164025178054,
          -0.259985621800966,
          -0.08106177037516686,
          -0.38277265909741076,
          -0.3454030009590976,
          -0.3384811233181498,
          -0.3919473891359909,
          -0.3438451723045808,
          -0.32742866475130755,
          -0.408138039096922,
          -0.2994574057848555,
          3.7728937808457426,
          -0.10702738731352093,
          -0.3410455648262653,
          -0.32092914489789326,
          -0.26737176504905946,
          3.7827406447369323,
          3.783982156607086,
          -0.23536742987260353,
          -0.32736466726661856,
          -0.26199568633609277,
          2.5038104959601597,
          -0.34428956209103434,
          -0.2997557727950624
         ],
         "y": [
          1.1245854971215055,
          1.1249198376118885,
          1.6792527125271932,
          1.2866575869734749,
          1.6279163651768749,
          0.8179300852645445,
          0.5443334836782948,
          1.8046910056298942,
          1.1245879693529863,
          1.1249243853372064,
          1.1246511297344035,
          1.124585305148002,
          1.1245856219495114,
          0.5220184907208769,
          0.8730146310906517,
          1.4028846580783887,
          0.4937368526181868,
          1.1245815828201582,
          1.013951024423481,
          1.2866621840425232,
          1.8273443999793266,
          0.8623357151536396,
          0.8177608473196907,
          0.8509807888501908,
          1.7985585671358668,
          1.7985314044416836,
          0.45884189106380036,
          1.1245239272947816,
          1.1245828646713072,
          1.1402202574374447,
          1.0130828693907852,
          1.2866622163727794,
          0.02208614196119488,
          1.5226450746581461,
          1.2866586862603802,
          1.1244846281063756,
          1.1245693532949141,
          0.5911656280983822,
          1.2866635617780793,
          0.02213960515021957,
          1.7985409709064788,
          1.124235068420131,
          0.7379524864323853,
          1.3943776773145178,
          0.8179305121400273,
          0.8730431189632588,
          0.8509936048096937,
          1.7985192475196394,
          0.8508575720735962,
          1.1245862799552127,
          1.7985228125252242,
          1.0130486730975923,
          1.12458309910414,
          1.2866630234724268,
          1.6973522042772513,
          1.873282783355532,
          0.6170102580669924,
          0.8509895036524642,
          1.79851414259151,
          0.8175324528550584,
          1.8048235826479313,
          0.9778570236024811,
          0.8179313550235008,
          1.2811274451405417,
          0.8179370709096058,
          1.459906247901238,
          1.1245722634404334,
          0.8509057838529056,
          1.2865028940286005,
          0.8281906145946601,
          0.8179240038891484,
          0.5180829493840562,
          1.4028837083516472,
          1.2867017761684298,
          0.8178438530486061,
          0.8177223186471406,
          1.454541811084218,
          1.286615542335093,
          1.506820072316026,
          1.1241604290327514,
          1.1245688763520456,
          1.1245958941611263,
          1.5248337261237916,
          1.0131241342447677,
          1.2866490490073197,
          1.1245698763903647,
          0.8179301447943201,
          1.2866612788418006,
          1.1245778576782461,
          1.1245865317107835,
          0.8510695579954963,
          0.43683045953599103,
          1.943193387048865,
          1.402889340785452,
          1.1246033757887273,
          1.286159342478806,
          1.402943769331636,
          1.5249171905856729,
          1.8790457145260793,
          1.4027618960263943,
          1.9386935566608223,
          1.581774713284238,
          1.28665911820425,
          1.8473272174454924,
          1.28666261680649,
          1.4028868274648447,
          1.124578064077364,
          1.1245687705986471,
          1.4028837083516472,
          1.2866396918420997,
          0.8179368786658792,
          1.1245821250451318,
          0.9037157480109028,
          1.1245793847952497,
          1.1243119535089188,
          1.2866605038809578,
          1.1245281380255532,
          0.8550520752664356,
          1.1245817677249896,
          1.124585841861177,
          1.3868570898949615,
          0.58525633444244,
          1.124383600593305,
          0.817931174460287,
          1.2866612181252706,
          1.1245832148391277,
          1.1245762442740022,
          0.8509570507477681,
          0.4921869709997703,
          1.524918440801879,
          1.124689467557045,
          0.8509835520296484,
          1.28662630063652,
          1.9370523016048453,
          1.2866739891251628,
          1.4028935469367683,
          1.286630758482535,
          1.4029239751892204,
          1.2865124256637326,
          1.1245792529638174,
          1.1245738299734096,
          1.1241564080105582,
          0.5121843941538177,
          1.2866541998916983,
          0.8502777985486988,
          1.4028748229758041,
          1.124551805949965,
          1.7878701593964712,
          0.5442520621464881,
          1.5068242718219167,
          1.8586793632158864,
          1.4545338779660222,
          1.4545179927822904,
          1.9717631159884954,
          1.7985217833131446,
          1.1079416073689887,
          1.798526896029613,
          1.3826217053420133,
          1.9717847303347102,
          1.2866648376898981,
          0.8509815869142949,
          1.4028573139473026,
          1.124575200816942,
          1.1245859337929835,
          1.6279742345436177,
          1.5813596012245499,
          1.2866544967979827,
          0.45876745563370397,
          1.1245793503036654,
          0.5456255820563616,
          1.1396963096377606,
          0.8179450012348776,
          1.4543196829501086,
          1.796352422540688,
          1.1245776271309256,
          1.6603948194572,
          1.482961562819652,
          1.1245878742596154,
          0.5452681871527755,
          1.2866207612553704,
          1.5817096441136582,
          1.4568012848619416,
          1.7985310399495358,
          1.1245545193361544,
          1.1809247212989415,
          1.3868583766660707,
          1.1057371404551046,
          1.1245255840396107,
          1.2866648409783072,
          1.386820957770134,
          1.1245142848463947,
          1.1245851154022042,
          1.0130491596975881,
          1.5068140451975176,
          0.5208603697698704,
          1.1246111362473357,
          1.5246962704836775,
          2.6075454779243956,
          0.9890912402754809,
          1.286652638439178,
          1.24753231197776,
          0.8509395036512167,
          1.4535951514039103,
          1.4545218324521312,
          1.1245846600506364,
          1.124583980811733,
          0.8509069855801722,
          1.5016131235939858,
          1.4028555129922622,
          1.1245778859749243,
          1.7316843844138012,
          1.6604529669716996,
          1.4028531872045602,
          0.6052087678974578,
          1.123135231821653,
          0.5779025154664447,
          0.8509885867144394,
          1.1256459956042062,
          0.8509642842335945,
          1.9413139465890574,
          1.1245609507264402,
          1.53119877647332,
          0.4113595258900858,
          1.3865802882326361,
          0.5443202371647677,
          1.4705510686971632,
          0.8788163809782408,
          1.3868526815818871,
          1.6604652567437728,
          0.8437321369487849,
          0.8192140467311492,
          1.3868502135148533,
          1.1241590233369556,
          1.0130424880331121,
          1.2866571594339076,
          0.8509249474035633,
          1.402796438634957,
          0.9585663214585538,
          1.0130152925308222,
          1.117422394554911,
          2.045483569697562,
          0.9739336113173218,
          0.4486658896088046,
          1.022234329055131,
          1.6604599590389137,
          0.09639135891890342,
          1.124584361900378,
          1.6604658793295164,
          1.3868532121681085,
          1.1089098446171657,
          1.0130477490370222,
          1.1245603892344906,
          1.2474492707550262,
          1.9396704294272284,
          1.2864901107663813,
          1.2866620158441169,
          1.5818746461880286,
          1.117728009160325,
          1.2867915873024942,
          1.1245015124180016,
          1.124573175943221,
          0.5443257792342081,
          1.124590633688522,
          1.2866802571141598,
          1.1206003118977743,
          0.8274249916708901,
          1.2864964519057664,
          1.1246110563531664,
          1.124629387382641,
          1.2866803030478096,
          1.1245720644564339,
          1.402879802711429,
          1.0339364330869942,
          0.8179335880544415,
          1.5817660194801313,
          0.8520151478697262,
          1.1245910915585782,
          0.4588165560864603,
          1.7985233447131168,
          1.5823149588903278,
          1.5823692716370217,
          0.544436423638838,
          1.4028828727655898,
          1.2510844116319946,
          0.6557619414357171,
          1.1244861212929667,
          0.850978745692854
         ],
         "z": [
          -0.4541541407015896,
          -0.4545706587626776,
          -0.5942124466790865,
          -0.5346711214612745,
          -0.1376800930081002,
          -0.37315520377855693,
          -0.14279446715099717,
          -0.6919054699161766,
          -0.45416174570821394,
          -0.4543862066307593,
          -0.454199084988659,
          -0.4541541855101614,
          -0.4541545787356,
          -0.01180653582030439,
          -0.4480607875908709,
          -0.12681453828715167,
          -0.36324292809045805,
          -0.4541937684270705,
          -0.3049154641016591,
          -0.5346742694703172,
          -0.5126509946877161,
          -0.23156689795978505,
          -0.37388448878258546,
          -0.22379690666856236,
          -0.565148831864301,
          -0.5651302312285327,
          -0.2657202854544434,
          -0.4542600572226769,
          -0.45418688971769633,
          -0.46486060743128926,
          -0.3043209635913344,
          -0.5346665354589563,
          0.05500722904827129,
          -0.3867693802589301,
          -0.5346676434177299,
          -0.45464917631251217,
          -0.4541783424514329,
          0.09355299098029048,
          -0.5346693955470635,
          0.05500587503177768,
          -0.5651367822107749,
          -0.4542667403075611,
          0.3830473936457833,
          -0.19073075409848012,
          -0.37317171424009726,
          -0.44807875144113996,
          -0.22379997830409054,
          -0.5651261371570887,
          -0.22388310914003384,
          -0.4541546767604377,
          -0.5651278732867476,
          -0.30430459781122104,
          -0.45415954992437696,
          -0.5346670877970187,
          -0.2901614403290876,
          -0.3105064287897992,
          -0.1752417518824359,
          -0.2238324267214799,
          -0.5651360389697023,
          -0.3732277224522955,
          -0.6918821297437735,
          -0.5029425915876753,
          -0.3731560732918578,
          -0.5402370897648243,
          -0.37315593291550114,
          -0.5339276193492468,
          -0.4541598863155848,
          -0.22381777588955254,
          -0.534692819615967,
          -0.2430890718482407,
          -0.3731573855670614,
          0.004234066676145684,
          -0.1268209392940498,
          -0.5347200677297638,
          -0.3731669224324425,
          -0.3731902699537372,
          -0.5302858586624799,
          -0.534683580371284,
          -0.22414018926872556,
          -0.454568196620675,
          -0.4541583895438106,
          -0.45419651726804244,
          -0.3347741417237376,
          -0.3045808585824986,
          -0.53467514669383,
          -0.4541751749766422,
          -0.37315489197539187,
          -0.5346669508031803,
          -0.45415631323704175,
          -0.4541548491591563,
          -0.2238519899909665,
          0.025842179762574864,
          -0.6375447744845689,
          -0.12684383499627158,
          -0.4541663837498183,
          -0.5348510265408148,
          -0.1268691195496988,
          -0.3347616648268893,
          -0.43121734346931734,
          -0.12683659560579325,
          -0.6300583644205066,
          -0.41165021196783436,
          -0.534674990573476,
          -0.5988446094260006,
          -0.5346681678788154,
          -0.1268336522693247,
          -0.45416263862478334,
          -0.4541574944660352,
          -0.1268209392940498,
          -0.5346722647203216,
          -0.3731591506687932,
          -0.4541634662905728,
          -0.6300384280548619,
          -0.4541598269638622,
          -0.4541962238697023,
          -0.5346671252574152,
          -0.45416563181381014,
          -0.23804289243362858,
          -0.45415617023612004,
          -0.45415554580191325,
          -0.21640855160719985,
          -0.2617814754427186,
          -0.45419216891254804,
          -0.3731555970763469,
          -0.5346691494445067,
          -0.4541596291780894,
          -0.4541555374638766,
          -0.22379433784820857,
          -0.1160547792397479,
          -0.33476676049566173,
          -0.45457790652628094,
          -0.22380523196635116,
          -0.5346771973418668,
          -0.7105189743991953,
          -0.53471337943993,
          -0.12685951002552137,
          -0.5346802500129116,
          -0.12698248943028337,
          -0.5347402446735131,
          -0.45415734349637066,
          -0.45415623464000326,
          -0.45421287475144234,
          -0.14721743467538217,
          -0.5346751482646318,
          -0.2240149407751088,
          -0.1268183803953545,
          -0.4541680891149372,
          -0.7119945387080783,
          -0.14280484706467117,
          -0.22416651082592443,
          -0.6558232592717816,
          -0.5302522207069809,
          -0.5302801252699565,
          -0.6910100275242291,
          -0.5651342198631896,
          -0.46038505257161505,
          -0.5651338068329878,
          -0.42835751685117535,
          -0.6910248287283581,
          -0.5346716821105988,
          -0.223797885382189,
          -0.1268175316026432,
          -0.45416410204742047,
          -0.4541559205003324,
          -0.13648249486919517,
          -0.2599940770049909,
          -0.5346707681936541,
          -0.26580901125462697,
          -0.4541554785062164,
          -0.1721134584848784,
          -0.47331602348098895,
          -0.373192918357571,
          -0.5305250992462068,
          -0.6164128519560047,
          -0.45415615536143805,
          -0.44679084923202556,
          -0.3928226091115995,
          -0.45416098239570857,
          -0.14660324696765506,
          -0.5346889170570602,
          -0.4117378666268398,
          -0.5423784336507795,
          -0.565204020978477,
          -0.454206966878672,
          -0.29989248207672514,
          -0.21641119561183209,
          -0.4588754642424112,
          -0.45416599828967824,
          -0.5346859608162592,
          -0.21642082850443814,
          -0.4544226870058819,
          -0.45415528956402557,
          -0.30430528359646963,
          -0.22413306515087214,
          -0.1875405014249384,
          -0.4542534938564498,
          -0.3348915550076787,
          1.8849850247682425,
          -0.4294011722741004,
          -0.5346687904786935,
          -0.24428881288878174,
          -0.22380664905487332,
          -0.2553052632980305,
          -0.5302580748395076,
          -0.4541546251772666,
          -0.4541548651805558,
          -0.22391694682313193,
          -0.12573779720288647,
          -0.12682560614986935,
          -0.4541595057291756,
          -0.01244226137320101,
          -0.44683066784246084,
          -0.12682119293611605,
          -0.028508529786230908,
          -0.45496685693251177,
          0.11513454441090824,
          -0.22380570875870254,
          -0.4584765522771611,
          -0.22379541298723135,
          -0.6292416500088921,
          -0.4541669473959633,
          -0.46152788771260506,
          -0.2680234160095771,
          -0.21644288256174543,
          -0.14281633829646068,
          -0.31708341417653846,
          -0.2588866952625363,
          -0.21640764826559952,
          -0.4467703861213563,
          -0.22477877934769203,
          -0.40247532186671897,
          -0.21643381106556567,
          -0.4542146656906405,
          -0.3043127022564745,
          -0.5346807006013288,
          -0.2238446304313766,
          -0.1268281661864993,
          -0.3951922045233915,
          -0.3043099447289789,
          -0.4555951774464987,
          -0.004285499382724547,
          -0.013926462560203334,
          0.44548450263598394,
          -0.3105877560831961,
          -0.4467839809369448,
          0.1185545069617764,
          -0.4541607672380335,
          -0.4467757078703247,
          -0.2164053215073253,
          -0.4697917825543079,
          -0.30430385925687664,
          -0.45416656289407387,
          -0.24438707747743998,
          -0.6298437770924528,
          -0.5346967582753677,
          -0.5346769748370168,
          -0.4120271419205217,
          -0.4617981196784845,
          -0.5347551265224828,
          -0.45416714279393683,
          -0.454164832304219,
          -0.14279218808547522,
          -0.4541576581365476,
          -0.5348551733200908,
          -0.4551271086431079,
          -0.37971641530918127,
          -0.5349055902304226,
          -0.4541769318186224,
          -0.45432522345973736,
          -0.5347522548227268,
          -0.4542013531169366,
          -0.1268143865142457,
          -0.4467228024073683,
          -0.37318686561174885,
          -0.41165656969345493,
          -0.22802831526124956,
          -0.45426374217832555,
          -0.26572282061353286,
          -0.565124754346535,
          -0.41197609361536097,
          -0.4120132862300558,
          -0.1432131202314116,
          -0.1268163598540524,
          0.26194164834282935,
          -0.23816455174213683,
          -0.4541742315817029,
          -0.22379015555555618
         ]
        },
        {
         "customdata": [
          [
           "SHA-256"
          ],
          [
           "Ethash"
          ],
          [
           "Scrypt"
          ],
          [
           "CryptoNight-V7"
          ],
          [
           "Ethash"
          ],
          [
           "Equihash"
          ],
          [
           "Multiple"
          ],
          [
           "Scrypt"
          ],
          [
           "X11"
          ],
          [
           "Scrypt"
          ],
          [
           "Multiple"
          ],
          [
           "Scrypt"
          ],
          [
           "SHA-256"
          ],
          [
           "Scrypt"
          ],
          [
           "Scrypt"
          ],
          [
           "Quark"
          ],
          [
           "Groestl"
          ],
          [
           "Scrypt"
          ],
          [
           "Scrypt"
          ],
          [
           "Scrypt"
          ],
          [
           "X11"
          ],
          [
           "Multiple"
          ],
          [
           "SHA-256"
          ],
          [
           "Scrypt"
          ],
          [
           "Scrypt"
          ],
          [
           "Scrypt"
          ],
          [
           "Scrypt"
          ],
          [
           "Scrypt"
          ],
          [
           "NeoScrypt"
          ],
          [
           "Scrypt"
          ],
          [
           "Scrypt"
          ],
          [
           "Scrypt"
          ],
          [
           "Scrypt"
          ],
          [
           "SHA-256"
          ],
          [
           "Scrypt"
          ],
          [
           "Scrypt"
          ],
          [
           "Scrypt"
          ],
          [
           "Scrypt"
          ],
          [
           "HybridScryptHash256"
          ],
          [
           "Scrypt"
          ],
          [
           "Scrypt"
          ],
          [
           "SHA-256"
          ],
          [
           "Scrypt"
          ],
          [
           "Scrypt"
          ],
          [
           "Scrypt"
          ],
          [
           "Scrypt"
          ],
          [
           "SHA-256"
          ],
          [
           "SHA-256"
          ],
          [
           "SHA-256"
          ],
          [
           "SHA-256"
          ],
          [
           "SHA-256"
          ],
          [
           "X11"
          ],
          [
           "Scrypt"
          ],
          [
           "Lyra2REv2"
          ],
          [
           "Scrypt"
          ],
          [
           "SHA-256"
          ],
          [
           "CryptoNight"
          ],
          [
           "CryptoNight"
          ],
          [
           "Scrypt"
          ],
          [
           "Scrypt"
          ],
          [
           "Scrypt"
          ],
          [
           "Scrypt"
          ],
          [
           "Scrypt"
          ],
          [
           "Scrypt"
          ],
          [
           "Stanford Folding"
          ],
          [
           "Multiple"
          ],
          [
           "QuBit"
          ],
          [
           "Scrypt"
          ],
          [
           "Scrypt"
          ],
          [
           "M7 POW"
          ],
          [
           "Scrypt"
          ],
          [
           "SHA-256"
          ],
          [
           "Scrypt"
          ],
          [
           "X11"
          ],
          [
           "Lyra2RE"
          ],
          [
           "SHA-256"
          ],
          [
           "X11"
          ],
          [
           "Scrypt"
          ],
          [
           "Scrypt"
          ],
          [
           "Ethash"
          ],
          [
           "Blake2b"
          ],
          [
           "X11"
          ],
          [
           "SHA-256"
          ],
          [
           "Scrypt"
          ],
          [
           "1GB AES Pattern Search"
          ],
          [
           "Scrypt"
          ],
          [
           "SHA-256"
          ],
          [
           "X11"
          ],
          [
           "Dagger"
          ],
          [
           "Scrypt"
          ],
          [
           "X11GOST"
          ],
          [
           "Scrypt"
          ],
          [
           "X11"
          ],
          [
           "Scrypt"
          ],
          [
           "X11"
          ],
          [
           "Equihash"
          ],
          [
           "CryptoNight"
          ],
          [
           "SHA-256"
          ],
          [
           "Multiple"
          ],
          [
           "Scrypt"
          ],
          [
           "SHA-256"
          ],
          [
           "Scrypt"
          ],
          [
           "Lyra2Z"
          ],
          [
           "Ethash"
          ],
          [
           "Equihash"
          ],
          [
           "Scrypt"
          ],
          [
           "X11"
          ],
          [
           "X11"
          ],
          [
           "CryptoNight"
          ],
          [
           "Scrypt"
          ],
          [
           "CryptoNight"
          ],
          [
           "Lyra2RE"
          ],
          [
           "X11"
          ],
          [
           "CryptoNight-V7"
          ],
          [
           "Scrypt"
          ],
          [
           "X11"
          ],
          [
           "Equihash"
          ],
          [
           "Scrypt"
          ],
          [
           "Lyra2RE"
          ],
          [
           "Dagger-Hashimoto"
          ],
          [
           "Scrypt"
          ],
          [
           "NIST5"
          ],
          [
           "Scrypt"
          ],
          [
           "SHA-256"
          ],
          [
           "Scrypt"
          ],
          [
           "CryptoNight-V7"
          ],
          [
           "Argon2d"
          ],
          [
           "Blake2b"
          ],
          [
           "Cloverhash"
          ],
          [
           "CryptoNight"
          ],
          [
           "X11"
          ],
          [
           "Scrypt"
          ],
          [
           "Scrypt"
          ],
          [
           "X11"
          ],
          [
           "X11"
          ],
          [
           "CryptoNight"
          ],
          [
           "Time Travel"
          ],
          [
           "Scrypt"
          ],
          [
           "Keccak"
          ],
          [
           "X11"
          ],
          [
           "SHA-256"
          ],
          [
           "Scrypt"
          ],
          [
           "Scrypt"
          ],
          [
           "Scrypt"
          ],
          [
           "Scrypt"
          ],
          [
           "Scrypt"
          ],
          [
           "Scrypt"
          ],
          [
           "CryptoNight"
          ],
          [
           "Equihash"
          ],
          [
           "X11"
          ],
          [
           "NeoScrypt"
          ],
          [
           "Equihash"
          ],
          [
           "Dagger"
          ],
          [
           "Scrypt"
          ],
          [
           "X11"
          ],
          [
           "NeoScrypt"
          ],
          [
           "Ethash"
          ],
          [
           "NeoScrypt"
          ],
          [
           "Multiple"
          ],
          [
           "CryptoNight"
          ],
          [
           "CryptoNight"
          ],
          [
           "Ethash"
          ],
          [
           "X11"
          ],
          [
           "CryptoNight-V7"
          ],
          [
           "Scrypt"
          ],
          [
           "BLAKE256"
          ],
          [
           "X11"
          ],
          [
           "NeoScrypt"
          ],
          [
           "NeoScrypt"
          ],
          [
           "Scrypt"
          ],
          [
           "X11"
          ],
          [
           "SHA-256"
          ],
          [
           "C11"
          ],
          [
           "Ethash"
          ],
          [
           "CryptoNight"
          ],
          [
           "SkunkHash"
          ],
          [
           "CryptoNight"
          ],
          [
           "Scrypt"
          ],
          [
           "Dagger"
          ],
          [
           "Lyra2REv2"
          ],
          [
           "Scrypt"
          ],
          [
           "Scrypt"
          ],
          [
           "X11"
          ],
          [
           "Ethash"
          ],
          [
           "CryptoNight"
          ],
          [
           "Scrypt"
          ],
          [
           "IMesh"
          ],
          [
           "Equihash"
          ],
          [
           "Lyra2Z"
          ],
          [
           "X11"
          ],
          [
           "CryptoNight"
          ],
          [
           "NIST5"
          ],
          [
           "Lyra2RE"
          ],
          [
           "Tribus"
          ],
          [
           "Lyra2Z"
          ],
          [
           "CryptoNight"
          ],
          [
           "CryptoNight Heavy"
          ],
          [
           "CryptoNight"
          ],
          [
           "Jump Consistent Hash"
          ],
          [
           "CryptoNight"
          ],
          [
           "X16R"
          ],
          [
           "HMQ1725"
          ],
          [
           "X11"
          ],
          [
           "Scrypt"
          ],
          [
           "CryptoNight-V7"
          ],
          [
           "Cryptonight-GPU"
          ],
          [
           "XEVAN"
          ],
          [
           "CryptoNight Heavy"
          ],
          [
           "SHA-256"
          ],
          [
           "X11"
          ],
          [
           "X16R"
          ],
          [
           "Equihash"
          ],
          [
           "Lyra2Z"
          ],
          [
           "SHA-256"
          ],
          [
           "CryptoNight"
          ],
          [
           "Blake"
          ],
          [
           "Blake"
          ],
          [
           "Exosis"
          ],
          [
           "Scrypt"
          ],
          [
           "Equihash"
          ],
          [
           "Equihash"
          ],
          [
           "QuBit"
          ],
          [
           "SHA-256"
          ],
          [
           "X13"
          ],
          [
           "SHA-256"
          ],
          [
           "Scrypt"
          ],
          [
           "NeoScrypt"
          ],
          [
           "Blake"
          ],
          [
           "Scrypt"
          ],
          [
           "SHA-256"
          ],
          [
           "Scrypt"
          ],
          [
           "Groestl"
          ],
          [
           "Scrypt"
          ],
          [
           "Scrypt"
          ],
          [
           "Multiple"
          ],
          [
           "Equihash+Scrypt"
          ],
          [
           "Ethash"
          ],
          [
           "CryptoNight"
          ],
          [
           "Equihash"
          ]
         ],
         "hovertemplate": "<b>%{hovertext}</b><br><br>Class=%{marker.color}<br>PC1=%{x}<br>PC2=%{y}<br>PC3=%{z}<br>Algorithm=%{customdata[0]}<extra></extra>",
         "hovertext": [
          "Bitcoin",
          "Ethereum",
          "Litecoin",
          "Monero",
          "Ethereum Classic",
          "ZCash",
          "DigiByte",
          "ProsperCoin",
          "Spreadcoin",
          "Argentum",
          "MyriadCoin",
          "MoonCoin",
          "ZetaCoin",
          "SexCoin",
          "Quatloo",
          "QuarkCoin",
          "Riecoin",
          "Digitalcoin ",
          "Catcoin",
          "CannaCoin",
          "CryptCoin",
          "Verge",
          "DevCoin",
          "EarthCoin",
          "E-Gulden",
          "Einsteinium",
          "Emerald",
          "Franko",
          "FeatherCoin",
          "GrandCoin",
          "GlobalCoin",
          "GoldCoin",
          "Infinite Coin",
          "IXcoin",
          "KrugerCoin",
          "LuckyCoin",
          "Litebar ",
          "MegaCoin",
          "MediterraneanCoin",
          "MinCoin",
          "NobleCoin",
          "Namecoin",
          "NyanCoin",
          "RonPaulCoin",
          "StableCoin",
          "SmartCoin",
          "SysCoin",
          "TigerCoin",
          "TerraCoin",
          "UnbreakableCoin",
          "Unobtanium",
          "UroCoin",
          "ViaCoin",
          "Vertcoin",
          "WorldCoin",
          "JouleCoin",
          "ByteCoin",
          "DigitalNote ",
          "MonaCoin",
          "Gulden",
          "PesetaCoin",
          "Wild Beast Coin",
          "Flo",
          "ArtByte",
          "Folding Coin",
          "Unitus",
          "CypherPunkCoin",
          "OmniCron",
          "GreenCoin",
          "Cryptonite",
          "MasterCoin",
          "SoonCoin",
          "1Credit",
          "MarsCoin ",
          "Crypto",
          "Anarchists Prime",
          "BowsCoin",
          "Song Coin",
          "BitZeny",
          "Expanse",
          "Siacoin",
          "MindCoin",
          "I0coin",
          "Revolution VR",
          "HOdlcoin",
          "Gamecredits",
          "CarpeDiemCoin",
          "Adzcoin",
          "SoilCoin",
          "YoCoin",
          "SibCoin",
          "Francs",
          "BolivarCoin",
          "Omni",
          "PizzaCoin",
          "Komodo",
          "Karbo",
          "ZayedCoin",
          "Circuits of Value",
          "DopeCoin",
          "DollarCoin",
          "Shilling",
          "ZCoin",
          "Elementrem",
          "ZClassic",
          "KiloCoin",
          "ArtexCoin",
          "Kurrent",
          "Cannabis Industry Coin",
          "OsmiumCoin",
          "Bikercoins",
          "HexxCoin",
          "PacCoin",
          "Citadel",
          "BeaverCoin",
          "VaultCoin",
          "Zero",
          "Canada eCoin",
          "Zoin",
          "DubaiCoin",
          "EB3coin",
          "Coinonat",
          "BenjiRolls",
          "ILCoin",
          "EquiTrader",
          "Quantum Resistant Ledger",
          "Dynamic",
          "Nano",
          "ChanCoin",
          "Dinastycoin",
          "DigitalPrice",
          "Unify",
          "SocialCoin",
          "ArcticCoin",
          "DAS",
          "LeviarCoin",
          "Bitcore",
          "gCn Coin",
          "SmartCash",
          "Onix",
          "Bitcoin Cash",
          "Sojourn Coin",
          "NewYorkCoin",
          "FrazCoin",
          "Kronecoin",
          "AdCoin",
          "Linx",
          "Sumokoin",
          "BitcoinZ",
          "Elements",
          "VIVO Coin",
          "Bitcoin Gold",
          "Pirl",
          "eBoost",
          "Pura",
          "Innova",
          "Ellaism",
          "GoByte",
          "SHIELD",
          "UltraNote",
          "BitCoal",
          "DaxxCoin",
          "AC3",
          "Lethean",
          "PopularCoin",
          "Photon",
          "Sucre",
          "SparksPay",
          "GunCoin",
          "IrishCoin",
          "Pioneer Coin",
          "UnitedBitcoin",
          "Interzone",
          "1717 Masonic Commemorative Token",
          "TurtleCoin",
          "MUNcoin",
          "Niobio Cash",
          "ShareChain",
          "Travelflex",
          "KREDS",
          "BitFlip",
          "LottoCoin",
          "Crypto Improvement Fund",
          "Callisto Network",
          "BitTube",
          "Poseidon",
          "Aidos Kuneen",
          "Bitrolium",
          "Alpenschillling",
          "FuturoCoin",
          "Monero Classic",
          "Jumpcoin",
          "Infinex",
          "KEYCO",
          "GINcoin",
          "PlatinCoin",
          "Loki",
          "Newton Coin",
          "MassGrid",
          "PluraCoin",
          "Motion",
          "PlusOneCoin",
          "Axe",
          "HexCoin",
          "Webchain",
          "Ryo",
          "Urals Coin",
          "Qwertycoin",
          "Project Pai",
          "Azart",
          "Xchange",
          "CrypticCoin",
          "Actinium",
          "Bitcoin SV",
          "FREDEnergy",
          "Universal Molecule",
          "Lithium",
          "Exosis",
          "Block-Logic",
          "Beam",
          "Bithereum",
          "SLICE",
          "BLAST",
          "Bitcoin Rhodium",
          "GlobalToken",
          "SolarCoin",
          "UFO Coin",
          "BlakeCoin",
          "Crypto Escudo",
          "Crown Coin",
          "SmileyCoin",
          "Groestlcoin",
          "Bata",
          "Pakcoin",
          "JoinCoin",
          "Vollar",
          "Reality Clash",
          "Beldex",
          "Horizen"
         ],
         "legendgroup": "1",
         "marker": {
          "color": [
           1,
           1,
           1,
           1,
           1,
           1,
           1,
           1,
           1,
           1,
           1,
           1,
           1,
           1,
           1,
           1,
           1,
           1,
           1,
           1,
           1,
           1,
           1,
           1,
           1,
           1,
           1,
           1,
           1,
           1,
           1,
           1,
           1,
           1,
           1,
           1,
           1,
           1,
           1,
           1,
           1,
           1,
           1,
           1,
           1,
           1,
           1,
           1,
           1,
           1,
           1,
           1,
           1,
           1,
           1,
           1,
           1,
           1,
           1,
           1,
           1,
           1,
           1,
           1,
           1,
           1,
           1,
           1,
           1,
           1,
           1,
           1,
           1,
           1,
           1,
           1,
           1,
           1,
           1,
           1,
           1,
           1,
           1,
           1,
           1,
           1,
           1,
           1,
           1,
           1,
           1,
           1,
           1,
           1,
           1,
           1,
           1,
           1,
           1,
           1,
           1,
           1,
           1,
           1,
           1,
           1,
           1,
           1,
           1,
           1,
           1,
           1,
           1,
           1,
           1,
           1,
           1,
           1,
           1,
           1,
           1,
           1,
           1,
           1,
           1,
           1,
           1,
           1,
           1,
           1,
           1,
           1,
           1,
           1,
           1,
           1,
           1,
           1,
           1,
           1,
           1,
           1,
           1,
           1,
           1,
           1,
           1,
           1,
           1,
           1,
           1,
           1,
           1,
           1,
           1,
           1,
           1,
           1,
           1,
           1,
           1,
           1,
           1,
           1,
           1,
           1,
           1,
           1,
           1,
           1,
           1,
           1,
           1,
           1,
           1,
           1,
           1,
           1,
           1,
           1,
           1,
           1,
           1,
           1,
           1,
           1,
           1,
           1,
           1,
           1,
           1,
           1,
           1,
           1,
           1,
           1,
           1,
           1,
           1,
           1,
           1,
           1,
           1,
           1,
           1,
           1,
           1,
           1,
           1,
           1,
           1,
           1,
           1,
           1,
           1,
           1,
           1,
           1,
           1,
           1,
           1,
           1,
           1,
           1,
           1,
           1,
           1,
           1,
           1,
           1,
           1,
           1,
           1,
           1,
           1,
           1,
           1,
           1,
           1
          ],
          "coloraxis": "coloraxis",
          "symbol": "diamond"
         },
         "mode": "markers",
         "name": "1",
         "scene": "scene",
         "showlegend": true,
         "type": "scatter3d",
         "x": [
          -0.1348908234390888,
          -0.13903240100277933,
          -0.17902489728132828,
          -0.13771912676308834,
          -0.13747723478898322,
          -0.17227298680391695,
          0.1724409534973703,
          -0.18016888437947104,
          -0.22974380924272617,
          -0.17978613322884623,
          -0.080476942370628,
          2.536825458451113,
          -0.13198151142978992,
          -0.1770468559060304,
          -0.17959049682975234,
          -0.22367234081829335,
          -0.18767014091060613,
          -0.1796392715878635,
          -0.18015118724495685,
          -0.18023747889125688,
          -0.22983297001074743,
          0.1961318291582757,
          0.24221315025136197,
          0.06800331128553878,
          -0.17998428504953823,
          -0.17559816569455286,
          -0.17992368264391065,
          -0.1802943672816087,
          -0.15059429283705472,
          -0.15955701720449864,
          -0.17909185742794798,
          -0.17936872406493384,
          1.5651644055504068,
          -0.134852273135708,
          -0.17666335627797136,
          -0.1800106737364985,
          -0.18036478803775263,
          -0.17962549475506695,
          -0.16161642097822224,
          -0.18024628362037917,
          -0.04540176683558581,
          -0.13492972241944795,
          -0.1739227006412496,
          -0.1802257454177856,
          -0.17832357571519428,
          -0.17971349359028632,
          -0.12210673836539276,
          -0.134394551888007,
          -0.13468117023629017,
          -0.13466411339550446,
          -0.1352537542413121,
          -0.2300065396128113,
          -0.1799428198476884,
          -0.17243071304218102,
          -0.17705152877718663,
          -0.1344617109268206,
          3.859875087301629,
          0.4655562265721168,
          -0.1788126002941305,
          -0.16344030411391527,
          -0.17753395570104738,
          -0.18036699016542537,
          -0.17739928845285283,
          -0.1636498458775117,
          -0.14591914731266076,
          -0.11441692934423338,
          -0.18357408696013564,
          -0.1802403299955654,
          -0.05342202897421489,
          -0.1029883802033584,
          -0.18037586830811828,
          -0.13495744224411665,
          0.47061228203738326,
          -0.22939493184027093,
          -0.18530152812923562,
          -0.13469777849947367,
          -0.22967926317270126,
          -0.17850312357888995,
          -0.17769696272243415,
          -0.14009760785528752,
          0.4060279073228092,
          -0.22971459652663181,
          -0.13485339315587086,
          -0.17634170193368778,
          -0.14974932798619114,
          -0.17894203628509173,
          0.28280488152871425,
          -0.22887692423389475,
          -0.14826302899263244,
          -0.1791887780942201,
          -0.12295537087351728,
          -0.1801661771457904,
          -0.2296778981589422,
          -0.18037592668758926,
          -0.22982755782488695,
          -0.35871252039754853,
          0.31076285509459467,
          -0.13511296078573018,
          -0.09452836316479879,
          -0.17754811959605982,
          -0.13507167454196292,
          -0.18003996658728133,
          -0.17601277450598196,
          -0.13984028143287755,
          -0.17229455898900095,
          -0.10723395840005524,
          -0.21643777333905245,
          -0.227659809551028,
          0.3107572527013504,
          -0.18035769825156409,
          0.31088770533663135,
          -0.18584096257801525,
          0.48413275134672284,
          -0.13648602531312534,
          -0.18032604992208598,
          -0.22257474939364996,
          -0.17230691609981538,
          -0.17846299769120222,
          -0.1855599052383154,
          -0.13857646302196075,
          -0.15130209924227953,
          -0.17083477565365557,
          -0.17988927136327784,
          -0.10150302223561788,
          -0.17971163286222513,
          -0.13634421588006876,
          -0.1513953690567544,
          0.0065563646473857625,
          -0.1408099328014477,
          0.34680823422907353,
          -0.2288852684876374,
          -0.18003033662185905,
          -0.1797940974324002,
          -0.22927920900670104,
          -0.22985554437808253,
          0.3111514861919394,
          -0.17963212973755996,
          3.222644513668829,
          -0.10129380076176321,
          -0.22074446439001172,
          -0.13488998939093386,
          -0.10608308849160407,
          1.5630173679902195,
          -0.18012797964794966,
          -0.1795806334995332,
          -0.17928219748703686,
          -0.17926915553571166,
          0.31133478433227313,
          0.03962044999664054,
          -0.18433360212338143,
          -0.15527391351695816,
          -0.1721532789128693,
          -0.14702444917305826,
          -0.1784612105626405,
          -0.2254085615059485,
          -0.1551196105052954,
          -0.13820837236468564,
          -0.15521963388223117,
          -0.10466770633791009,
          1.1471293568291623,
          0.3107400412554226,
          -0.0632341942772649,
          -0.22515027513066732,
          -0.12547710472952373,
          -0.09667954438834522,
          1.085914239406759,
          -0.22982959515795992,
          -0.15527148914056052,
          -0.1483228574868468,
          -0.17938044769927686,
          -0.22975515105418678,
          -0.13486943120103295,
          -0.18927756838107787,
          -0.25969062208237115,
          8.034504698616876,
          -0.15557402902684705,
          0.3146070729512696,
          0.012283717605931945,
          -0.1465288072895026,
          -0.15801671752281585,
          -0.17995302948656008,
          0.12652244546524283,
          -0.22390727436154229,
          -0.09133203001193176,
          0.31864869111161104,
          -0.18018958601933577,
          -0.12148009293441486,
          -0.17114636643012443,
          -0.17380033503574766,
          -0.22892595637201152,
          0.31092219306871527,
          -0.17089416758199272,
          -0.1856864899717438,
          -0.13077703669706164,
          -0.17609699749868601,
          0.3148434075549762,
          0.5662007360125134,
          2.116019381241901,
          -0.12687503624777524,
          0.32450085704545795,
          -0.20785901019674427,
          -0.10962233105804413,
          -0.22981179000404692,
          -0.1802141147125314,
          -0.12535575446039104,
          -0.1527009758472148,
          -0.10730364148236736,
          3.0838891293414643,
          -0.09479695307817647,
          -0.2297832071249181,
          -0.20728776619853226,
          -0.06710284668141255,
          -0.17549585413540658,
          -0.13489002687849214,
          0.3905328339259671,
          -0.1268549372186423,
          -0.12724630581293395,
          -0.1323531582499694,
          -0.1791085160739852,
          -0.17021692971122462,
          -0.17198642495350136,
          -0.1827864997201502,
          -0.13416758558045858,
          -0.10149240075172371,
          -0.1330376670611829,
          0.5144526695196362,
          -0.08058442493863296,
          -0.07780073749540584,
          -0.1638001197847371,
          -0.13468054199253193,
          0.534076666852522,
          -0.187232009904514,
          -0.18029082741104177,
          -0.17825042952773737,
          -0.11515028562944382,
          -0.15100525422144315,
          -0.13987337459590496,
          0.33245478044963395,
          -0.17227404156056908
         ],
         "y": [
          -1.3716507814043708,
          -2.132224290478253,
          -1.065007117959921,
          -2.263690868776247,
          -2.132311428307481,
          -1.819559603844798,
          -1.8968307421782593,
          -1.0650106126362087,
          -0.9029305941687016,
          -1.0650256416545933,
          -1.8938558279345514,
          -1.2298772880670763,
          -1.3716334542188275,
          -1.0650432439096182,
          -1.065043684028114,
          -0.5290934805729628,
          -1.3165850606996403,
          -1.0650075168837447,
          -1.0650098384350046,
          -1.065007805588533,
          -0.9029330168788207,
          -1.8925098551899286,
          -1.3706552068689464,
          -1.0641135900050704,
          -1.0650025369207141,
          -1.0650166600585562,
          -1.0650080137934408,
          -1.0650088872680858,
          -1.7307813524192903,
          -1.0651430920274079,
          -1.0649997024767484,
          -1.0650134740152484,
          -1.0555872157266868,
          -1.3716490949340958,
          -1.0650378615068072,
          -1.065002952438813,
          -1.0650046632105201,
          -1.0650023580367352,
          -2.0733888037232093,
          -1.0650058705790573,
          -1.0701831239266946,
          -1.371652483128305,
          -1.0649708562488605,
          -1.0650131001510241,
          -1.0650990969072898,
          -1.0650130057605451,
          -1.3717321517466792,
          -1.3716482915086803,
          -1.3716571268600093,
          -1.3716844594299673,
          -1.3716513261529149,
          -0.9029273096086129,
          -1.065002200761087,
          -1.3703694659951218,
          -1.0650548429913425,
          -1.3716497428600267,
          -2.362110334112958,
          -2.3816859317430614,
          -1.0650134364269985,
          -1.0655046425816035,
          -1.0650027695756672,
          -1.0650057038806149,
          -1.0649921595425804,
          -1.0650113474381329,
          -2.218878259352481,
          -1.8938627800046155,
          -1.6043127133606845,
          -1.0650007121074778,
          -1.066839414753847,
          -2.233129273672386,
          -1.065004608148553,
          -1.3716536957947738,
          -1.1045053563204328,
          -0.902924937628712,
          -2.17100720160896,
          -1.371666543063397,
          -0.9029285093695187,
          -1.065077572384958,
          -1.0650716843036985,
          -2.1322833827488314,
          -2.4138709514556034,
          -0.9029263605333646,
          -1.371649143931913,
          -1.0649828387635722,
          -2.2411697750219326,
          -1.0650034930181005,
          -1.3693421972347504,
          -0.9029399608652198,
          -2.256772388071397,
          -1.065076615715777,
          -2.3173646532421035,
          -1.0650097552874047,
          -0.9029314053128564,
          -1.0650046084635834,
          -0.9029379525136702,
          -0.33809998273043884,
          -2.3810759598869944,
          -1.37165217616975,
          -1.8938794073491936,
          -1.0650282270873315,
          -1.3716510367308634,
          -1.0650116230682538,
          -2.2169264238716044,
          -2.132278996695152,
          -1.8195605475688599,
          -1.0691935393999532,
          -0.9027031705868167,
          -0.902993119151047,
          -2.381084333038491,
          -1.0650053611428099,
          -2.381081581751659,
          -2.1709895770008556,
          -0.9455771438527779,
          -2.263773623189044,
          -1.065004453742598,
          -0.9033411038634866,
          -1.8195581324996861,
          -1.0649943590264117,
          -2.1709854095742713,
          -2.240003298791529,
          -1.06668791153022,
          -0.735069541163434,
          -1.065009109669531,
          -1.3720219261103295,
          -1.0650282937853452,
          -2.263708306235356,
          -2.2659467365099113,
          -2.431598177876295,
          -2.2390113037950643,
          -2.3809695135243016,
          -0.9029521485393013,
          -1.065003278253097,
          -1.0650341181288268,
          -0.9029398257693796,
          -0.9029346694688773,
          -2.3810914705885406,
          -2.0927147534447297,
          -1.063914269388228,
          -1.2318207859101273,
          -0.9033349253773396,
          -1.3716507449170445,
          -1.0695126493602751,
          -0.9887354674363458,
          -1.0650080842514094,
          -1.0650314298985935,
          -1.0650301967755877,
          -1.0650296262259094,
          -2.3811092317100826,
          -1.8257915381691914,
          -0.9022592901151656,
          -1.7307577483631944,
          -1.8195543669521679,
          -2.256811533500264,
          -1.0649942808444277,
          -0.9029847808081269,
          -1.7307642984940061,
          -2.132395137607221,
          -1.7307589205684666,
          -1.8939239619060453,
          -2.4072875779322254,
          -2.38107880521687,
          -2.1362974737547598,
          -0.9031212644337564,
          -2.2638938454378597,
          -1.065037238977818,
          -1.234324066356834,
          -0.9029341992847766,
          -1.7307532088149316,
          -1.7308031653560343,
          -1.0650078940229075,
          -0.9029333070861294,
          -1.3716492292976055,
          -1.2005001457916098,
          -0.21629777390454102,
          -2.782090741027264,
          -2.317862733090763,
          -2.381148672080926,
          -1.0639649681568646,
          -2.2567482446495974,
          -1.3704896305120207,
          -1.0650152089554017,
          -1.0651793777584007,
          -0.9030299408148829,
          -2.1349404755884995,
          -2.381462501733407,
          -1.0650115182762987,
          -2.3570308489707408,
          -1.8195465241088362,
          -2.217035497345675,
          -0.9029539285228927,
          -2.3810751961704875,
          -0.7350520024933083,
          -2.1709948487797552,
          -2.5054566972083014,
          -2.2169220542263934,
          -2.3813334069625087,
          -2.245717604042322,
          -2.438053850021703,
          -2.292464367503631,
          -2.3812064854893324,
          -1.3107631835116673,
          -2.5828935486713727,
          -0.9029343070557059,
          -1.0650134080346196,
          -2.2644431058650247,
          -2.323619809041566,
          -0.9421146201613941,
          -2.2717723915527954,
          -1.3714329880416884,
          -0.9029360122919206,
          -1.310795772563817,
          -1.820558932835002,
          -2.216950066082669,
          -1.3716507465570222,
          -2.3835492835580587,
          -2.3251572973739436,
          -2.325115385892672,
          -2.4221785576706836,
          -1.0650373769838481,
          -1.8196483265575416,
          -1.8195543724591767,
          -1.604352150048163,
          -1.371650915061083,
          -0.39106712601719873,
          -1.371678331350899,
          -1.1070948392502253,
          -1.7304259958955084,
          -2.3281060388330257,
          -1.065017921510322,
          -1.3716570993760644,
          -1.070694544149892,
          -1.3165814108766585,
          -1.0650041246743043,
          -1.065045650759549,
          -1.893896931296397,
          -2.2472106803593808,
          -2.132279175274208,
          -2.381154253492989,
          -1.819559649987516
         ],
         "z": [
          0.12402805273962372,
          0.3409843138265233,
          0.04300719267316206,
          0.3413847541689211,
          0.34096994525279056,
          0.3853868344572787,
          0.3164722844968521,
          0.043031797583682856,
          -0.03748250352505025,
          0.043026928808614626,
          0.3211339027877985,
          0.020551372986206587,
          0.12396372671175056,
          0.04297340487920556,
          0.04302659151560091,
          0.05031209565761404,
          0.04910693605031369,
          0.04302009978415867,
          0.04303126742145003,
          0.043032646543482655,
          -0.03748013935014667,
          0.3150805673141192,
          0.1159497661476496,
          0.03766526043523406,
          0.04302626744585978,
          0.04293764538345072,
          0.04302613968062619,
          0.043034058618648195,
          0.23137450377330068,
          0.042629059608071174,
          0.0430070506098698,
          0.04301568940549236,
          0.004643499563478248,
          0.12402689786819876,
          0.04296428219881725,
          0.04302690455521251,
          0.04303465146725754,
          0.04301874101368447,
          0.20250176957093594,
          0.04303242854041855,
          0.04129274048355819,
          0.12402921805654155,
          0.04289316136973615,
          0.043033500999284546,
          0.04301165223638086,
          0.04302278879845721,
          0.12377809727873873,
          0.12401717669753719,
          0.12402499408461451,
          0.12403031345244943,
          0.12403574156868902,
          -0.03747770137960463,
          0.04302533211175745,
          0.09469828816409749,
          0.04297591088360499,
          0.12401887991898063,
          0.27429298178814554,
          0.34920977325683883,
          0.043004073228560355,
          0.04278519157176316,
          0.0429751682656497,
          0.04303491352136221,
          0.04297015416368306,
          0.042687136371673075,
          0.41999524132455085,
          0.32184380012698416,
          0.2354211299067046,
          0.043031233147354374,
          0.04076585652143972,
          0.3282158537142356,
          0.043034871320507845,
          0.12403004847369888,
          0.03764836725535469,
          -0.03749096043336069,
          0.3881211571549755,
          0.12402729596638122,
          -0.03748428373490828,
          0.04301093065916244,
          0.042992880466120355,
          0.34101881873266354,
          0.22911911137566934,
          -0.037483992386420056,
          0.12402693142122385,
          0.04294614300720206,
          0.19543622227105334,
          0.04300471036334102,
          0.11482982889077888,
          -0.03749865371441051,
          0.28676472718334844,
          0.043025044174359164,
          0.23876568804301607,
          0.04303156305145785,
          -0.03748371090644274,
          0.043034872604518416,
          -0.03747922747424625,
          0.5882461658428173,
          0.3523142306079352,
          0.12403297918524403,
          0.3214321043067572,
          0.04298074998429593,
          0.12403188079161977,
          0.043029316398554326,
          0.41239116757849437,
          0.3410125366410558,
          0.38538748070641116,
          0.04237792838737424,
          -0.03780747283365018,
          -0.037513021497871835,
          0.3523160861741822,
          0.04303464839756181,
          0.3523127918578507,
          0.3881287575382193,
          -0.043528520074721404,
          0.34137619810071745,
          0.04303379936419201,
          -0.03754690914930068,
          0.38538723717389595,
          0.042992814439411095,
          0.3881220254903941,
          0.30467233939386956,
          0.04277751919227189,
          -0.033067359589060895,
          0.04302564893980876,
          0.12340819059240268,
          0.04302592440429123,
          0.3413596754242143,
          0.37581581197043484,
          0.24113849706509252,
          0.20030531433950663,
          0.3515397266421251,
          -0.03749594885771492,
          0.043027382645725476,
          0.04302885512883698,
          -0.037490284586267915,
          -0.03747932499092145,
          0.3523093391144781,
          0.592207324547635,
          -0.028225224927608067,
          0.10090900022446675,
          -0.03758639692372118,
          0.12402802775360895,
          0.04242016629218699,
          -0.009192958681646369,
          0.0430304187492132,
          0.04302384115114346,
          0.04301735563236847,
          0.04301696492787145,
          0.35230920096691587,
          0.3822578455641235,
          -0.03856977484426767,
          0.23146728365716002,
          0.3853832483059311,
          0.28674700167572104,
          0.042992760901474004,
          -0.03756174481545606,
          0.23146542286585414,
          0.34100258843574904,
          0.23146639403907193,
          0.3216530015462603,
          0.3402988003566372,
          0.35231529762949854,
          0.34024788987925403,
          -0.037538796389787375,
          0.3411713642400237,
          0.04129459322254852,
          -0.022007114259559552,
          -0.03747996427796037,
          0.23146629044752462,
          0.2313316197634979,
          0.04301477547689791,
          -0.03748170346185708,
          0.12402728392045063,
          0.06778764502288005,
          0.0741977720148948,
          0.2743587804509828,
          0.3969753566448797,
          0.35224908563330737,
          0.03879747540925454,
          0.2867235143203436,
          0.09442236573420601,
          0.04302824628098474,
          0.03666505140513335,
          -0.03758370511932755,
          0.34055262553138677,
          0.35222988645067005,
          0.043032417753439724,
          0.3251545025435168,
          0.3853606017876057,
          0.4123676340423551,
          -0.03749472994966998,
          0.35231074605151297,
          -0.033069761634699886,
          0.3881266277664499,
          0.22593373407783313,
          0.4123920183009223,
          0.352282511293296,
          0.36935217586932734,
          0.3264628516540429,
          0.28160889069182465,
          0.35205457008202434,
          0.2383166370846925,
          0.3832975513211844,
          -0.03748031355991979,
          0.04303332215296601,
          0.3412828811051246,
          0.38161164173803586,
          0.2528864465282769,
          0.32220873811876266,
          0.12314592131320763,
          -0.03748055611115666,
          0.23831147997479554,
          0.38339904570603756,
          0.4123852866589115,
          0.12402802887664276,
          0.3511627018952134,
          0.3539899468725192,
          0.3539894135795682,
          0.26034300215720235,
          0.043015221172691756,
          0.38536233951690335,
          0.38537976658655304,
          0.23541287876972455,
          0.1240129838277331,
          -0.06793597175409995,
          0.12399509101604556,
          0.03727094239818385,
          0.22983935020292082,
          0.3535782877542765,
          0.04269163820501367,
          0.12402497526399024,
          0.029303062432706153,
          0.049097032767309895,
          0.043032995810734165,
          0.0429990277029911,
          0.32186619926601534,
          0.41165666920545074,
          0.341013264499113,
          0.35187769651940787,
          0.38538686605517164
         ]
        },
        {
         "customdata": [
          [
           "VeChainThor Authority"
          ],
          [
           "Proof-of-BibleHash"
          ],
          [
           "Proof-of-Authority"
          ],
          [
           "ECC 256K1"
          ],
          [
           "Leased POS"
          ]
         ],
         "hovertemplate": "<b>%{hovertext}</b><br><br>Class=%{marker.color}<br>PC1=%{x}<br>PC2=%{y}<br>PC3=%{z}<br>Algorithm=%{customdata[0]}<extra></extra>",
         "hovertext": [
          "Vechain",
          "BiblePay",
          "Poa Network",
          "Acute Angle Cloud",
          "Waves"
         ],
         "legendgroup": "3",
         "marker": {
          "color": [
           3,
           3,
           3,
           3,
           3
          ],
          "coloraxis": "coloraxis",
          "symbol": "square"
         },
         "mode": "markers",
         "name": "3",
         "scene": "scene",
         "showlegend": true,
         "type": "scatter3d",
         "x": [
          4.4476201073476425,
          -0.19275534323772275,
          -0.40851151083274906,
          -0.34680436324796987,
          -0.4410356472503928
         ],
         "y": [
          2.5921822124672413,
          2.3916828714171574,
          4.021978566530121,
          2.43748766393558,
          3.8971955275488246
         ],
         "z": [
          9.248656046668856,
          18.070075065387417,
          19.229763737047804,
          12.133074844216189,
          8.540990472963868
         ]
        },
        {
         "customdata": [
          [
           "TRC10"
          ]
         ],
         "hovertemplate": "<b>%{hovertext}</b><br><br>Class=%{marker.color}<br>PC1=%{x}<br>PC2=%{y}<br>PC3=%{z}<br>Algorithm=%{customdata[0]}<extra></extra>",
         "hovertext": [
          "BitTorrent"
         ],
         "legendgroup": "2",
         "marker": {
          "color": [
           2
          ],
          "coloraxis": "coloraxis",
          "symbol": "x"
         },
         "mode": "markers",
         "name": "2",
         "scene": "scene",
         "showlegend": true,
         "type": "scatter3d",
         "x": [
          34.02130502575766
         ],
         "y": [
          1.913983765622877
         ],
         "z": [
          -1.2193445114838852
         ]
        }
       ],
       "layout": {
        "coloraxis": {
         "colorbar": {
          "title": {
           "text": "Class"
          }
         },
         "colorscale": [
          [
           0,
           "#0d0887"
          ],
          [
           0.1111111111111111,
           "#46039f"
          ],
          [
           0.2222222222222222,
           "#7201a8"
          ],
          [
           0.3333333333333333,
           "#9c179e"
          ],
          [
           0.4444444444444444,
           "#bd3786"
          ],
          [
           0.5555555555555556,
           "#d8576b"
          ],
          [
           0.6666666666666666,
           "#ed7953"
          ],
          [
           0.7777777777777778,
           "#fb9f3a"
          ],
          [
           0.8888888888888888,
           "#fdca26"
          ],
          [
           1,
           "#f0f921"
          ]
         ]
        },
        "legend": {
         "title": {
          "text": "Class"
         },
         "tracegroupgap": 0,
         "x": 0,
         "y": 1
        },
        "margin": {
         "t": 60
        },
        "scene": {
         "domain": {
          "x": [
           0,
           1
          ],
          "y": [
           0,
           1
          ]
         },
         "xaxis": {
          "title": {
           "text": "PC1"
          }
         },
         "yaxis": {
          "title": {
           "text": "PC2"
          }
         },
         "zaxis": {
          "title": {
           "text": "PC3"
          }
         }
        },
        "template": {
         "data": {
          "bar": [
           {
            "error_x": {
             "color": "#2a3f5f"
            },
            "error_y": {
             "color": "#2a3f5f"
            },
            "marker": {
             "line": {
              "color": "#E5ECF6",
              "width": 0.5
             },
             "pattern": {
              "fillmode": "overlay",
              "size": 10,
              "solidity": 0.2
             }
            },
            "type": "bar"
           }
          ],
          "barpolar": [
           {
            "marker": {
             "line": {
              "color": "#E5ECF6",
              "width": 0.5
             },
             "pattern": {
              "fillmode": "overlay",
              "size": 10,
              "solidity": 0.2
             }
            },
            "type": "barpolar"
           }
          ],
          "carpet": [
           {
            "aaxis": {
             "endlinecolor": "#2a3f5f",
             "gridcolor": "white",
             "linecolor": "white",
             "minorgridcolor": "white",
             "startlinecolor": "#2a3f5f"
            },
            "baxis": {
             "endlinecolor": "#2a3f5f",
             "gridcolor": "white",
             "linecolor": "white",
             "minorgridcolor": "white",
             "startlinecolor": "#2a3f5f"
            },
            "type": "carpet"
           }
          ],
          "choropleth": [
           {
            "colorbar": {
             "outlinewidth": 0,
             "ticks": ""
            },
            "type": "choropleth"
           }
          ],
          "contour": [
           {
            "colorbar": {
             "outlinewidth": 0,
             "ticks": ""
            },
            "colorscale": [
             [
              0,
              "#0d0887"
             ],
             [
              0.1111111111111111,
              "#46039f"
             ],
             [
              0.2222222222222222,
              "#7201a8"
             ],
             [
              0.3333333333333333,
              "#9c179e"
             ],
             [
              0.4444444444444444,
              "#bd3786"
             ],
             [
              0.5555555555555556,
              "#d8576b"
             ],
             [
              0.6666666666666666,
              "#ed7953"
             ],
             [
              0.7777777777777778,
              "#fb9f3a"
             ],
             [
              0.8888888888888888,
              "#fdca26"
             ],
             [
              1,
              "#f0f921"
             ]
            ],
            "type": "contour"
           }
          ],
          "contourcarpet": [
           {
            "colorbar": {
             "outlinewidth": 0,
             "ticks": ""
            },
            "type": "contourcarpet"
           }
          ],
          "heatmap": [
           {
            "colorbar": {
             "outlinewidth": 0,
             "ticks": ""
            },
            "colorscale": [
             [
              0,
              "#0d0887"
             ],
             [
              0.1111111111111111,
              "#46039f"
             ],
             [
              0.2222222222222222,
              "#7201a8"
             ],
             [
              0.3333333333333333,
              "#9c179e"
             ],
             [
              0.4444444444444444,
              "#bd3786"
             ],
             [
              0.5555555555555556,
              "#d8576b"
             ],
             [
              0.6666666666666666,
              "#ed7953"
             ],
             [
              0.7777777777777778,
              "#fb9f3a"
             ],
             [
              0.8888888888888888,
              "#fdca26"
             ],
             [
              1,
              "#f0f921"
             ]
            ],
            "type": "heatmap"
           }
          ],
          "heatmapgl": [
           {
            "colorbar": {
             "outlinewidth": 0,
             "ticks": ""
            },
            "colorscale": [
             [
              0,
              "#0d0887"
             ],
             [
              0.1111111111111111,
              "#46039f"
             ],
             [
              0.2222222222222222,
              "#7201a8"
             ],
             [
              0.3333333333333333,
              "#9c179e"
             ],
             [
              0.4444444444444444,
              "#bd3786"
             ],
             [
              0.5555555555555556,
              "#d8576b"
             ],
             [
              0.6666666666666666,
              "#ed7953"
             ],
             [
              0.7777777777777778,
              "#fb9f3a"
             ],
             [
              0.8888888888888888,
              "#fdca26"
             ],
             [
              1,
              "#f0f921"
             ]
            ],
            "type": "heatmapgl"
           }
          ],
          "histogram": [
           {
            "marker": {
             "pattern": {
              "fillmode": "overlay",
              "size": 10,
              "solidity": 0.2
             }
            },
            "type": "histogram"
           }
          ],
          "histogram2d": [
           {
            "colorbar": {
             "outlinewidth": 0,
             "ticks": ""
            },
            "colorscale": [
             [
              0,
              "#0d0887"
             ],
             [
              0.1111111111111111,
              "#46039f"
             ],
             [
              0.2222222222222222,
              "#7201a8"
             ],
             [
              0.3333333333333333,
              "#9c179e"
             ],
             [
              0.4444444444444444,
              "#bd3786"
             ],
             [
              0.5555555555555556,
              "#d8576b"
             ],
             [
              0.6666666666666666,
              "#ed7953"
             ],
             [
              0.7777777777777778,
              "#fb9f3a"
             ],
             [
              0.8888888888888888,
              "#fdca26"
             ],
             [
              1,
              "#f0f921"
             ]
            ],
            "type": "histogram2d"
           }
          ],
          "histogram2dcontour": [
           {
            "colorbar": {
             "outlinewidth": 0,
             "ticks": ""
            },
            "colorscale": [
             [
              0,
              "#0d0887"
             ],
             [
              0.1111111111111111,
              "#46039f"
             ],
             [
              0.2222222222222222,
              "#7201a8"
             ],
             [
              0.3333333333333333,
              "#9c179e"
             ],
             [
              0.4444444444444444,
              "#bd3786"
             ],
             [
              0.5555555555555556,
              "#d8576b"
             ],
             [
              0.6666666666666666,
              "#ed7953"
             ],
             [
              0.7777777777777778,
              "#fb9f3a"
             ],
             [
              0.8888888888888888,
              "#fdca26"
             ],
             [
              1,
              "#f0f921"
             ]
            ],
            "type": "histogram2dcontour"
           }
          ],
          "mesh3d": [
           {
            "colorbar": {
             "outlinewidth": 0,
             "ticks": ""
            },
            "type": "mesh3d"
           }
          ],
          "parcoords": [
           {
            "line": {
             "colorbar": {
              "outlinewidth": 0,
              "ticks": ""
             }
            },
            "type": "parcoords"
           }
          ],
          "pie": [
           {
            "automargin": true,
            "type": "pie"
           }
          ],
          "scatter": [
           {
            "marker": {
             "colorbar": {
              "outlinewidth": 0,
              "ticks": ""
             }
            },
            "type": "scatter"
           }
          ],
          "scatter3d": [
           {
            "line": {
             "colorbar": {
              "outlinewidth": 0,
              "ticks": ""
             }
            },
            "marker": {
             "colorbar": {
              "outlinewidth": 0,
              "ticks": ""
             }
            },
            "type": "scatter3d"
           }
          ],
          "scattercarpet": [
           {
            "marker": {
             "colorbar": {
              "outlinewidth": 0,
              "ticks": ""
             }
            },
            "type": "scattercarpet"
           }
          ],
          "scattergeo": [
           {
            "marker": {
             "colorbar": {
              "outlinewidth": 0,
              "ticks": ""
             }
            },
            "type": "scattergeo"
           }
          ],
          "scattergl": [
           {
            "marker": {
             "colorbar": {
              "outlinewidth": 0,
              "ticks": ""
             }
            },
            "type": "scattergl"
           }
          ],
          "scattermapbox": [
           {
            "marker": {
             "colorbar": {
              "outlinewidth": 0,
              "ticks": ""
             }
            },
            "type": "scattermapbox"
           }
          ],
          "scatterpolar": [
           {
            "marker": {
             "colorbar": {
              "outlinewidth": 0,
              "ticks": ""
             }
            },
            "type": "scatterpolar"
           }
          ],
          "scatterpolargl": [
           {
            "marker": {
             "colorbar": {
              "outlinewidth": 0,
              "ticks": ""
             }
            },
            "type": "scatterpolargl"
           }
          ],
          "scatterternary": [
           {
            "marker": {
             "colorbar": {
              "outlinewidth": 0,
              "ticks": ""
             }
            },
            "type": "scatterternary"
           }
          ],
          "surface": [
           {
            "colorbar": {
             "outlinewidth": 0,
             "ticks": ""
            },
            "colorscale": [
             [
              0,
              "#0d0887"
             ],
             [
              0.1111111111111111,
              "#46039f"
             ],
             [
              0.2222222222222222,
              "#7201a8"
             ],
             [
              0.3333333333333333,
              "#9c179e"
             ],
             [
              0.4444444444444444,
              "#bd3786"
             ],
             [
              0.5555555555555556,
              "#d8576b"
             ],
             [
              0.6666666666666666,
              "#ed7953"
             ],
             [
              0.7777777777777778,
              "#fb9f3a"
             ],
             [
              0.8888888888888888,
              "#fdca26"
             ],
             [
              1,
              "#f0f921"
             ]
            ],
            "type": "surface"
           }
          ],
          "table": [
           {
            "cells": {
             "fill": {
              "color": "#EBF0F8"
             },
             "line": {
              "color": "white"
             }
            },
            "header": {
             "fill": {
              "color": "#C8D4E3"
             },
             "line": {
              "color": "white"
             }
            },
            "type": "table"
           }
          ]
         },
         "layout": {
          "annotationdefaults": {
           "arrowcolor": "#2a3f5f",
           "arrowhead": 0,
           "arrowwidth": 1
          },
          "autotypenumbers": "strict",
          "coloraxis": {
           "colorbar": {
            "outlinewidth": 0,
            "ticks": ""
           }
          },
          "colorscale": {
           "diverging": [
            [
             0,
             "#8e0152"
            ],
            [
             0.1,
             "#c51b7d"
            ],
            [
             0.2,
             "#de77ae"
            ],
            [
             0.3,
             "#f1b6da"
            ],
            [
             0.4,
             "#fde0ef"
            ],
            [
             0.5,
             "#f7f7f7"
            ],
            [
             0.6,
             "#e6f5d0"
            ],
            [
             0.7,
             "#b8e186"
            ],
            [
             0.8,
             "#7fbc41"
            ],
            [
             0.9,
             "#4d9221"
            ],
            [
             1,
             "#276419"
            ]
           ],
           "sequential": [
            [
             0,
             "#0d0887"
            ],
            [
             0.1111111111111111,
             "#46039f"
            ],
            [
             0.2222222222222222,
             "#7201a8"
            ],
            [
             0.3333333333333333,
             "#9c179e"
            ],
            [
             0.4444444444444444,
             "#bd3786"
            ],
            [
             0.5555555555555556,
             "#d8576b"
            ],
            [
             0.6666666666666666,
             "#ed7953"
            ],
            [
             0.7777777777777778,
             "#fb9f3a"
            ],
            [
             0.8888888888888888,
             "#fdca26"
            ],
            [
             1,
             "#f0f921"
            ]
           ],
           "sequentialminus": [
            [
             0,
             "#0d0887"
            ],
            [
             0.1111111111111111,
             "#46039f"
            ],
            [
             0.2222222222222222,
             "#7201a8"
            ],
            [
             0.3333333333333333,
             "#9c179e"
            ],
            [
             0.4444444444444444,
             "#bd3786"
            ],
            [
             0.5555555555555556,
             "#d8576b"
            ],
            [
             0.6666666666666666,
             "#ed7953"
            ],
            [
             0.7777777777777778,
             "#fb9f3a"
            ],
            [
             0.8888888888888888,
             "#fdca26"
            ],
            [
             1,
             "#f0f921"
            ]
           ]
          },
          "colorway": [
           "#636efa",
           "#EF553B",
           "#00cc96",
           "#ab63fa",
           "#FFA15A",
           "#19d3f3",
           "#FF6692",
           "#B6E880",
           "#FF97FF",
           "#FECB52"
          ],
          "font": {
           "color": "#2a3f5f"
          },
          "geo": {
           "bgcolor": "white",
           "lakecolor": "white",
           "landcolor": "#E5ECF6",
           "showlakes": true,
           "showland": true,
           "subunitcolor": "white"
          },
          "hoverlabel": {
           "align": "left"
          },
          "hovermode": "closest",
          "mapbox": {
           "style": "light"
          },
          "paper_bgcolor": "white",
          "plot_bgcolor": "#E5ECF6",
          "polar": {
           "angularaxis": {
            "gridcolor": "white",
            "linecolor": "white",
            "ticks": ""
           },
           "bgcolor": "#E5ECF6",
           "radialaxis": {
            "gridcolor": "white",
            "linecolor": "white",
            "ticks": ""
           }
          },
          "scene": {
           "xaxis": {
            "backgroundcolor": "#E5ECF6",
            "gridcolor": "white",
            "gridwidth": 2,
            "linecolor": "white",
            "showbackground": true,
            "ticks": "",
            "zerolinecolor": "white"
           },
           "yaxis": {
            "backgroundcolor": "#E5ECF6",
            "gridcolor": "white",
            "gridwidth": 2,
            "linecolor": "white",
            "showbackground": true,
            "ticks": "",
            "zerolinecolor": "white"
           },
           "zaxis": {
            "backgroundcolor": "#E5ECF6",
            "gridcolor": "white",
            "gridwidth": 2,
            "linecolor": "white",
            "showbackground": true,
            "ticks": "",
            "zerolinecolor": "white"
           }
          },
          "shapedefaults": {
           "line": {
            "color": "#2a3f5f"
           }
          },
          "ternary": {
           "aaxis": {
            "gridcolor": "white",
            "linecolor": "white",
            "ticks": ""
           },
           "baxis": {
            "gridcolor": "white",
            "linecolor": "white",
            "ticks": ""
           },
           "bgcolor": "#E5ECF6",
           "caxis": {
            "gridcolor": "white",
            "linecolor": "white",
            "ticks": ""
           }
          },
          "title": {
           "x": 0.05
          },
          "xaxis": {
           "automargin": true,
           "gridcolor": "white",
           "linecolor": "white",
           "ticks": "",
           "title": {
            "standoff": 15
           },
           "zerolinecolor": "white",
           "zerolinewidth": 2
          },
          "yaxis": {
           "automargin": true,
           "gridcolor": "white",
           "linecolor": "white",
           "ticks": "",
           "title": {
            "standoff": 15
           },
           "zerolinecolor": "white",
           "zerolinewidth": 2
          }
         }
        },
        "width": 800
       }
      },
      "text/html": [
       "<div>                            <div id=\"5087d222-0229-49a1-a2e1-ff8060b3f6d8\" class=\"plotly-graph-div\" style=\"height:525px; width:800px;\"></div>            <script type=\"text/javascript\">                require([\"plotly\"], function(Plotly) {                    window.PLOTLYENV=window.PLOTLYENV || {};                                    if (document.getElementById(\"5087d222-0229-49a1-a2e1-ff8060b3f6d8\")) {                    Plotly.newPlot(                        \"5087d222-0229-49a1-a2e1-ff8060b3f6d8\",                        [{\"customdata\":[[\"Scrypt\"],[\"Scrypt\"],[\"X13\"],[\"X11\"],[\"SHA-512\"],[\"SHA-256\"],[\"SHA-256\"],[\"X15\"],[\"Scrypt\"],[\"Scrypt\"],[\"Scrypt\"],[\"Scrypt\"],[\"Scrypt\"],[\"Scrypt\"],[\"Groestl\"],[\"PoS\"],[\"Scrypt\"],[\"Scrypt\"],[\"X11\"],[\"X11\"],[\"SHA3\"],[\"Scrypt\"],[\"SHA-256\"],[\"Scrypt\"],[\"X13\"],[\"X13\"],[\"NeoScrypt\"],[\"Scrypt\"],[\"Scrypt\"],[\"Scrypt\"],[\"X11\"],[\"X11\"],[\"Multiple\"],[\"PHI1612\"],[\"X11\"],[\"Scrypt\"],[\"Scrypt\"],[\"Scrypt\"],[\"X11\"],[\"Multiple\"],[\"X13\"],[\"Scrypt\"],[\"Shabal256\"],[\"Counterparty\"],[\"SHA-256\"],[\"Groestl\"],[\"Scrypt\"],[\"X13\"],[\"Scrypt\"],[\"Scrypt\"],[\"X13\"],[\"X11\"],[\"Scrypt\"],[\"X11\"],[\"SHA3\"],[\"QUAIT\"],[\"X11\"],[\"Scrypt\"],[\"X13\"],[\"SHA-256\"],[\"X15\"],[\"BLAKE256\"],[\"SHA-256\"],[\"X11\"],[\"SHA-256\"],[\"NIST5\"],[\"Scrypt\"],[\"Scrypt\"],[\"X11\"],[\"Scrypt\"],[\"SHA-256\"],[\"Scrypt\"],[\"PoS\"],[\"X11\"],[\"SHA-256\"],[\"SHA-256\"],[\"NIST5\"],[\"X11\"],[\"POS 3.0\"],[\"Scrypt\"],[\"Scrypt\"],[\"Scrypt\"],[\"X13\"],[\"X11\"],[\"X11\"],[\"Scrypt\"],[\"SHA-256\"],[\"X11\"],[\"Scrypt\"],[\"Scrypt\"],[\"Scrypt\"],[\"Scrypt\"],[\"SHA-256D\"],[\"PoS\"],[\"Scrypt\"],[\"X11\"],[\"PoS\"],[\"X13\"],[\"X14\"],[\"PoS\"],[\"SHA-256D\"],[\"DPoS\"],[\"X11\"],[\"X13\"],[\"X11\"],[\"PoS\"],[\"Scrypt\"],[\"Scrypt\"],[\"PoS\"],[\"X11\"],[\"SHA-256\"],[\"Scrypt\"],[\"X11\"],[\"Scrypt\"],[\"Scrypt\"],[\"X11\"],[\"Scrypt\"],[\"Scrypt\"],[\"Scrypt\"],[\"Scrypt\"],[\"Quark\"],[\"QuBit\"],[\"Scrypt\"],[\"SHA-256\"],[\"X11\"],[\"Scrypt\"],[\"Scrypt\"],[\"Scrypt\"],[\"Scrypt\"],[\"X13\"],[\"Scrypt\"],[\"Scrypt\"],[\"X11\"],[\"Blake2S\"],[\"X11\"],[\"PoS\"],[\"X11\"],[\"PoS\"],[\"X11\"],[\"Scrypt\"],[\"Scrypt\"],[\"Scrypt\"],[\"SHA-256\"],[\"X11\"],[\"Scrypt\"],[\"PoS\"],[\"Scrypt\"],[\"X15\"],[\"SHA-256\"],[\"POS 3.0\"],[\"536\"],[\"NIST5\"],[\"NIST5\"],[\"Skein\"],[\"X13\"],[\"Scrypt\"],[\"X13\"],[\"SkunkHash v2 Raptor\"],[\"Skein\"],[\"X11\"],[\"Scrypt\"],[\"PoS\"],[\"Scrypt\"],[\"Scrypt\"],[\"SHA-512\"],[\"Ouroboros\"],[\"X11\"],[\"NeoScrypt\"],[\"Scrypt\"],[\"Lyra2REv2\"],[\"Scrypt\"],[\"SHA-256\"],[\"NIST5\"],[\"PHI1612\"],[\"Scrypt\"],[\"Quark\"],[\"POS 2.0\"],[\"Scrypt\"],[\"SHA-256\"],[\"X11\"],[\"DPoS\"],[\"NIST5\"],[\"X13\"],[\"Scrypt\"],[\"NIST5\"],[\"Quark\"],[\"Scrypt\"],[\"Scrypt\"],[\"X11\"],[\"Quark\"],[\"Scrypt\"],[\"Scrypt\"],[\"X11\"],[\"POS 3.0\"],[\"Scrypt\"],[\"Scrypt\"],[\"X13\"],[\"SHA-256 + Hive\"],[\"C11\"],[\"X11\"],[\"XEVAN\"],[\"Scrypt\"],[\"VBFT\"],[\"NIST5\"],[\"Scrypt\"],[\"Scrypt\"],[\"Scrypt\"],[\"Green Protocol\"],[\"PoS\"],[\"Scrypt\"],[\"Semux BFT consensus\"],[\"Quark\"],[\"PoS\"],[\"X16R\"],[\"Scrypt\"],[\"XEVAN\"],[\"Scrypt\"],[\"Scrypt\"],[\"Scrypt\"],[\"SHA-256D\"],[\"Scrypt\"],[\"X15\"],[\"Scrypt\"],[\"Quark\"],[\"SHA-256\"],[\"DPoS\"],[\"X16R\"],[\"Quark\"],[\"Quark\"],[\"Scrypt\"],[\"Lyra2REv2\"],[\"Quark\"],[\"Scrypt\"],[\"X11\"],[\"X11\"],[\"Scrypt\"],[\"PoS\"],[\"Keccak\"],[\"X11\"],[\"Scrypt\"],[\"SHA-512\"],[\"XEVAN\"],[\"XEVAN\"],[\"X11\"],[\"Quark\"],[\"Equihash\"],[\"Scrypt\"],[\"Quark\"],[\"Quark\"],[\"Scrypt\"],[\"X11\"],[\"Scrypt\"],[\"XEVAN\"],[\"SHA-256D\"],[\"X11\"],[\"X11\"],[\"DPoS\"],[\"Scrypt\"],[\"X11\"],[\"Scrypt\"],[\"Scrypt\"],[\"SHA-256\"],[\"Scrypt\"],[\"X11\"],[\"Scrypt\"],[\"SHA-256\"],[\"X11\"],[\"Scrypt\"],[\"Scrypt\"],[\"X11\"],[\"Scrypt\"],[\"PoS\"],[\"X11\"],[\"SHA-256\"],[\"DPoS\"],[\"Scrypt\"],[\"Scrypt\"],[\"NeoScrypt\"],[\"X13\"],[\"DPoS\"],[\"DPoS\"],[\"SHA-256\"],[\"PoS\"],[\"PoS\"],[\"SHA-256\"],[\"Scrypt\"],[\"Scrypt\"]],\"hovertemplate\":\"<b>%{hovertext}</b><br><br>Class=%{marker.color}<br>PC1=%{x}<br>PC2=%{y}<br>PC3=%{z}<br>Algorithm=%{customdata[0]}<extra></extra>\",\"hovertext\":[\"42 Coin\",\"404Coin\",\"EliteCoin\",\"Dash\",\"Bitshares\",\"BitcoinDark\",\"PayCoin\",\"KoboCoin\",\"Aurora Coin\",\"BlueCoin\",\"EnergyCoin\",\"BitBar\",\"CryptoBullion\",\"CasinoCoin\",\"Diamond\",\"Exclusive Coin\",\"FlutterCoin\",\"HoboNickels\",\"HyperStake\",\"IOCoin\",\"MaxCoin\",\"MintCoin\",\"MazaCoin\",\"Nautilus Coin\",\"NavCoin\",\"OpalCoin\",\"Orbitcoin\",\"PotCoin\",\"PhoenixCoin\",\"Reddcoin\",\"SuperCoin\",\"SyncCoin\",\"TeslaCoin\",\"TittieCoin\",\"TorCoin\",\"UnitaryStatus Dollar\",\"UltraCoin\",\"VeriCoin\",\"X11 Coin\",\"Crypti\",\"StealthCoin\",\"ZCC Coin\",\"BurstCoin\",\"StorjCoin\",\"Neutron\",\"FairCoin\",\"RubyCoin\",\"Kore\",\"Dnotes\",\"8BIT Coin\",\"Sativa Coin\",\"Ucoin\",\"Vtorrent\",\"IslaCoin\",\"Nexus\",\"Droidz\",\"Squall Coin\",\"Diggits\",\"Paycon\",\"Emercoin\",\"EverGreenCoin\",\"Decred\",\"EDRCoin\",\"Hitcoin\",\"DubaiCoin\",\"PWR Coin\",\"BillaryCoin\",\"GPU Coin\",\"EuropeCoin\",\"ZeitCoin\",\"SwingCoin\",\"SafeExchangeCoin\",\"Nebuchadnezzar\",\"Ratecoin\",\"Revenu\",\"Clockcoin\",\"VIP Tokens\",\"BitSend\",\"Let it Ride\",\"PutinCoin\",\"iBankCoin\",\"Frankywillcoin\",\"MudraCoin\",\"Lutetium Coin\",\"GoldBlocks\",\"CarterCoin\",\"BitTokens\",\"MustangCoin\",\"ZoneCoin\",\"RootCoin\",\"BitCurrency\",\"Swiscoin\",\"BuzzCoin\",\"Opair\",\"PesoBit\",\"Halloween Coin\",\"CoffeeCoin\",\"RoyalCoin\",\"GanjaCoin V2\",\"TeamUP\",\"LanaCoin\",\"ARK\",\"InsaneCoin\",\"EmberCoin\",\"XenixCoin\",\"FreeCoin\",\"PLNCoin\",\"AquariusCoin\",\"Creatio\",\"Eternity\",\"Eurocoin\",\"BitcoinFast\",\"Stakenet\",\"BitConnect Coin\",\"MoneyCoin\",\"Enigma\",\"Russiacoin\",\"PandaCoin\",\"GameUnits\",\"GAKHcoin\",\"Allsafe\",\"LiteCreed\",\"Klingon Empire Darsek\",\"Internet of People\",\"KushCoin\",\"Printerium\",\"Impeach\",\"Zilbercoin\",\"FirstCoin\",\"FindCoin\",\"OpenChat\",\"RenosCoin\",\"VirtacoinPlus\",\"TajCoin\",\"Impact\",\"Atmos\",\"HappyCoin\",\"MacronCoin\",\"Condensate\",\"Independent Money System\",\"ArgusCoin\",\"LomoCoin\",\"ProCurrency\",\"GoldReserve\",\"GrowthCoin\",\"Phreak\",\"Degas Coin\",\"HTML5 Coin\",\"Ultimate Secure Cash\",\"QTUM\",\"Espers\",\"Denarius\",\"Virta Unique Coin\",\"Bitcoin Planet\",\"BritCoin\",\"Linda\",\"DeepOnion\",\"Signatum\",\"Cream\",\"Monoeci\",\"Draftcoin\",\"Stakecoin\",\"CoinonatX\",\"Ethereum Dark\",\"Obsidian\",\"Cardano\",\"Regalcoin\",\"TrezarCoin\",\"TerraNovaCoin\",\"Rupee\",\"WomenCoin\",\"Theresa May Coin\",\"NamoCoin\",\"LUXCoin\",\"Xios\",\"Bitcloud 2.0\",\"KekCoin\",\"BlackholeCoin\",\"Infinity Economics\",\"Magnet\",\"Lamden Tau\",\"Electra\",\"Bitcoin Diamond\",\"Cash & Back Coin\",\"Bulwark\",\"Kalkulus\",\"GermanCoin\",\"LiteCoin Ultra\",\"PhantomX\",\"Digiwage\",\"Trollcoin\",\"Litecoin Plus\",\"Monkey Project\",\"TokenPay\",\"My Big Coin\",\"Unified Society USDEX\",\"Tokyo Coin\",\"LitecoinCash\",\"Stipend\",\"Pushi\",\"Ellerium\",\"Velox\",\"Ontology\",\"Bitspace\",\"Briacoin\",\"Ignition\",\"MedicCoin\",\"Bitcoin Green\",\"Deviant Coin\",\"Abjcoin\",\"Semux\",\"Carebit\",\"Zealium\",\"Proton\",\"iDealCash\",\"Bitcoin Incognito\",\"HollyWoodCoin\",\"Swisscoin\",\"Xt3ch\",\"TheVig\",\"EmaratCoin\",\"Dekado\",\"Lynx\",\"Poseidon Quark\",\"BitcoinWSpectrum\",\"Muse\",\"Trivechain\",\"Dystem\",\"Giant\",\"Peony Coin\",\"Absolute Coin\",\"Vitae\",\"TPCash\",\"ARENON\",\"EUNO\",\"MMOCoin\",\"Ketan\",\"XDNA\",\"PAXEX\",\"ThunderStake\",\"Kcash\",\"Bettex coin\",\"BitMoney\",\"Junson Ming Chan Coin\",\"HerbCoin\",\"PirateCash\",\"Oduwa\",\"Galilel\",\"Crypto Sports\",\"Credit\",\"Dash Platinum\",\"Nasdacoin\",\"Beetle Coin\",\"Titan Coin\",\"Award\",\"Insane Coin\",\"ALAX\",\"LiteDoge\",\"TruckCoin\",\"OrangeCoin\",\"BitstarCoin\",\"NeosCoin\",\"HyperCoin\",\"PinkCoin\",\"AudioCoin\",\"IncaKoin\",\"Piggy Coin\",\"Genstake\",\"XiaoMiCoin\",\"CapriCoin\",\" ClubCoin\",\"Radium\",\"Creditbit \",\"OKCash\",\"Lisk\",\"HiCoin\",\"WhiteCoin\",\"FriendshipCoin\",\"Triangles Coin\",\"EOS\",\"Oxycoin\",\"TigerCash\",\"Particl\",\"Nxt\",\"ZEPHYR\",\"Gapcoin\",\"BitcoinPlus\"],\"legendgroup\":\"0\",\"marker\":{\"color\":[0,0,0,0,0,0,0,0,0,0,0,0,0,0,0,0,0,0,0,0,0,0,0,0,0,0,0,0,0,0,0,0,0,0,0,0,0,0,0,0,0,0,0,0,0,0,0,0,0,0,0,0,0,0,0,0,0,0,0,0,0,0,0,0,0,0,0,0,0,0,0,0,0,0,0,0,0,0,0,0,0,0,0,0,0,0,0,0,0,0,0,0,0,0,0,0,0,0,0,0,0,0,0,0,0,0,0,0,0,0,0,0,0,0,0,0,0,0,0,0,0,0,0,0,0,0,0,0,0,0,0,0,0,0,0,0,0,0,0,0,0,0,0,0,0,0,0,0,0,0,0,0,0,0,0,0,0,0,0,0,0,0,0,0,0,0,0,0,0,0,0,0,0,0,0,0,0,0,0,0,0,0,0,0,0,0,0,0,0,0,0,0,0,0,0,0,0,0,0,0,0,0,0,0,0,0,0,0,0,0,0,0,0,0,0,0,0,0,0,0,0,0,0,0,0,0,0,0,0,0,0,0,0,0,0,0,0,0,0,0,0,0,0,0,0,0,0,0,0,0,0,0,0,0,0,0,0,0,0,0,0,0,0,0,0,0,0,0,0,0,0,0,0,0,0,0,0,0,0,0,0,0,0,0,0,0,0],\"coloraxis\":\"coloraxis\",\"symbol\":\"circle\"},\"mode\":\"markers\",\"name\":\"0\",\"scene\":\"scene\",\"showlegend\":true,\"x\":[-0.346240605849762,-0.32961229484011473,2.312588259868199,-0.3956082859226381,-0.32495566011748556,-0.30093938907430823,-0.2543998950305813,-0.21988735716523558,-0.3459008644994819,-0.3384941056349865,-0.3447403387040683,-0.3462365495312514,-0.3462208626327711,0.6183281078670435,-0.3546501061752087,-0.32746969281915206,-0.28875116285364416,-0.3443032175466589,-0.3289349015444926,-0.395503203485468,-0.4183747280588587,-0.040168550980738064,-0.26431793335676357,-0.2994526707936498,-0.26656865760144316,-0.2671895580218377,-0.3213026183905478,-0.34055397968027823,-0.3446455080572666,0.011147699154738455,-0.34877968649561275,-0.3958740393697329,-0.2329012709554539,-0.2745785779134158,-0.3957858442284062,-0.3215214702175449,-0.3449205777645787,-0.33608475988572567,-0.39575040426579366,-0.2333682323897692,-0.26697088229058613,-0.33736037022704274,-0.0676920148888628,-0.3528743739693494,-0.3001526666408173,-0.3540728946163867,-0.29943300512845056,-0.26726476147303313,-0.2940972511758382,-0.34622271209787825,-0.26721705160619097,-0.3492235542247371,-0.34595761108770867,-0.3958556071142788,-0.4281600499496624,-0.3776059635976841,-0.327106013037662,-0.2978376981005128,-0.2667396124650252,-0.29350975393529105,-0.22232433613406555,-0.0833359336768471,-0.3009103641968496,-0.0739472885606461,-0.30097394836593866,-0.21439500805497178,-0.3458337070962493,-0.2977067693537452,-0.3930299717170442,0.8514862771378849,-0.300774370982883,-0.11098205101458399,-0.32715359149118667,-0.39370298557287753,-0.2995201815572767,-0.2971926976555037,-0.33549822889757996,-0.3945931736011488,-0.34612330274911063,-0.3221759838043552,-0.3458717198567784,-0.3443138914440795,-0.2194219664469391,-0.33673934848918474,-0.3953305166268589,-0.34507752591205165,-0.30095491884487735,-0.3958448152714679,-0.3460605320663983,-0.3462169573248593,-0.29769682370710954,-0.28678672196487887,0.04648204398513634,-0.3261127531339307,-0.345831925744204,-0.3820332313061297,-0.3254428742092962,-0.2208499667974203,-0.4121041981515151,-0.32519180669003583,-0.2674080165609754,3.7725027182968747,-0.3954381598822885,0.8625700380266613,-0.39579981816141163,-0.3265755769267139,-0.34575955407067527,-0.3459135484742276,-0.32715359149118667,-0.3953755027056656,-0.3008178826884139,-0.34576029971465416,-0.4193540033935129,-0.34590739059730014,-0.3415034296008515,-0.3958287486976659,-0.34511951639999033,0.34253222069950423,-0.3461062782688545,-0.3461767208478315,-0.3477266580714265,-0.34857813672847066,-0.3424104048882142,-0.3009313821504956,-0.39573888069711677,-0.34595496555108146,-0.3460816476897399,-0.2993395993155512,-0.30915135535345206,-0.2206182845434596,-0.32697345450989596,-0.2990813165852751,-0.395005985100797,-0.4063305839252941,-0.39374698895214366,-0.3254036484496095,-0.3949040851034629,-0.319814745266988,-0.3908527899328779,-0.34602505499225045,-0.3460242315745376,-0.33915843491980835,0.2772968938823228,-0.39538168012456515,-0.28201424202767655,-0.32718779313821633,-0.345237232343785,0.909848684068303,-0.2530926772997184,-0.34490408737520106,0.5846001860757837,-0.3370308115597617,-0.335535965195756,-0.42355574546956654,-0.2669027671996118,0.11783064347379246,-0.266973413363221,-0.3643102740932613,-0.42306167236473285,-0.3956535537864596,-0.29941372222754226,-0.32705428418404553,-0.3456609632288299,-0.3461596846199626,-0.3829048073993598,0.6713872255115342,-0.395594470242407,-0.3163115688896023,-0.34611536960977474,-0.2925631639755138,0.4214344074523976,-0.29928096945127874,-0.3218272657264838,-0.3565818310674869,-0.3460658020490911,-0.39264759343905437,-0.3454126318197503,-0.3459364866624939,-0.08123021280177091,-0.39438942385100534,3.7773492810367504,0.2213460571208141,-0.26365087717178026,-0.34340170189808494,-0.29031861386494856,-0.34761279163901054,0.06743967620377794,-0.3450765536556767,-0.3949695347095701,-0.3467790805643325,-0.3326669348701063,-0.3461817699723714,-0.34919554070706005,-0.346404643634294,-0.32153853581049757,-0.3417359283180811,-0.2124296844205631,-0.3413628054394274,-0.3551643754541504,-0.3956707307448573,-0.27439251574087525,-0.2985752538943576,-0.34255901649094234,-0.33663053336355736,-0.34620906919557654,-0.34619081455488215,-0.29296772894219963,-0.3759948870238329,-0.3266495406966565,-0.34590787041813503,3.947115065378079,-0.39131842425009544,-0.3268378291742821,-0.32711878151086343,-0.2928790984429595,-0.2057766164428137,-0.2991085576802838,-0.14971565473824103,-0.29936004805289884,-0.3326009545627732,-0.3453828970677121,-0.17519313768728276,2.1950748198534593,-0.3433284584575892,-0.2532203407151903,1.0507380992908146,-0.3729328469990134,-0.34772608259870363,-0.3943286017064284,-0.18030754378611205,-0.338967736012188,-0.3464481467218033,-0.3390986522911473,-0.3487737672009153,-0.3951451238508687,-0.296610876004886,-0.3259392507622391,-0.3272004904190826,-0.3486353434348513,-0.2059492543414242,-0.473397039830443,-0.22790944880528113,0.6318049590180024,-0.1395903802217764,-0.3936246138711241,-0.29098092726872393,-0.3459118548317767,-0.3940798452054661,-0.34784282894684065,0.5588484649491401,-0.34924974409136006,-0.3453957319722627,-0.2688588836034795,-0.287405783323169,-0.39271411953980045,-0.3953719239706653,3.789566261097053,0.0881757762249839,-0.39291682145493106,-0.3447822697544585,-0.3456058361622071,-0.25443243806760557,-0.3461231919684037,-0.3870164025178054,-0.259985621800966,-0.08106177037516686,-0.38277265909741076,-0.3454030009590976,-0.3384811233181498,-0.3919473891359909,-0.3438451723045808,-0.32742866475130755,-0.408138039096922,-0.2994574057848555,3.7728937808457426,-0.10702738731352093,-0.3410455648262653,-0.32092914489789326,-0.26737176504905946,3.7827406447369323,3.783982156607086,-0.23536742987260353,-0.32736466726661856,-0.26199568633609277,2.5038104959601597,-0.34428956209103434,-0.2997557727950624],\"y\":[1.1245854971215055,1.1249198376118885,1.6792527125271932,1.2866575869734749,1.6279163651768749,0.8179300852645445,0.5443334836782948,1.8046910056298942,1.1245879693529863,1.1249243853372064,1.1246511297344035,1.124585305148002,1.1245856219495114,0.5220184907208769,0.8730146310906517,1.4028846580783887,0.4937368526181868,1.1245815828201582,1.013951024423481,1.2866621840425232,1.8273443999793266,0.8623357151536396,0.8177608473196907,0.8509807888501908,1.7985585671358668,1.7985314044416836,0.45884189106380036,1.1245239272947816,1.1245828646713072,1.1402202574374447,1.0130828693907852,1.2866622163727794,0.02208614196119488,1.5226450746581461,1.2866586862603802,1.1244846281063756,1.1245693532949141,0.5911656280983822,1.2866635617780793,0.02213960515021957,1.7985409709064788,1.124235068420131,0.7379524864323853,1.3943776773145178,0.8179305121400273,0.8730431189632588,0.8509936048096937,1.7985192475196394,0.8508575720735962,1.1245862799552127,1.7985228125252242,1.0130486730975923,1.12458309910414,1.2866630234724268,1.6973522042772513,1.873282783355532,0.6170102580669924,0.8509895036524642,1.79851414259151,0.8175324528550584,1.8048235826479313,0.9778570236024811,0.8179313550235008,1.2811274451405417,0.8179370709096058,1.459906247901238,1.1245722634404334,0.8509057838529056,1.2865028940286005,0.8281906145946601,0.8179240038891484,0.5180829493840562,1.4028837083516472,1.2867017761684298,0.8178438530486061,0.8177223186471406,1.454541811084218,1.286615542335093,1.506820072316026,1.1241604290327514,1.1245688763520456,1.1245958941611263,1.5248337261237916,1.0131241342447677,1.2866490490073197,1.1245698763903647,0.8179301447943201,1.2866612788418006,1.1245778576782461,1.1245865317107835,0.8510695579954963,0.43683045953599103,1.943193387048865,1.402889340785452,1.1246033757887273,1.286159342478806,1.402943769331636,1.5249171905856729,1.8790457145260793,1.4027618960263943,1.9386935566608223,1.581774713284238,1.28665911820425,1.8473272174454924,1.28666261680649,1.4028868274648447,1.124578064077364,1.1245687705986471,1.4028837083516472,1.2866396918420997,0.8179368786658792,1.1245821250451318,0.9037157480109028,1.1245793847952497,1.1243119535089188,1.2866605038809578,1.1245281380255532,0.8550520752664356,1.1245817677249896,1.124585841861177,1.3868570898949615,0.58525633444244,1.124383600593305,0.817931174460287,1.2866612181252706,1.1245832148391277,1.1245762442740022,0.8509570507477681,0.4921869709997703,1.524918440801879,1.124689467557045,0.8509835520296484,1.28662630063652,1.9370523016048453,1.2866739891251628,1.4028935469367683,1.286630758482535,1.4029239751892204,1.2865124256637326,1.1245792529638174,1.1245738299734096,1.1241564080105582,0.5121843941538177,1.2866541998916983,0.8502777985486988,1.4028748229758041,1.124551805949965,1.7878701593964712,0.5442520621464881,1.5068242718219167,1.8586793632158864,1.4545338779660222,1.4545179927822904,1.9717631159884954,1.7985217833131446,1.1079416073689887,1.798526896029613,1.3826217053420133,1.9717847303347102,1.2866648376898981,0.8509815869142949,1.4028573139473026,1.124575200816942,1.1245859337929835,1.6279742345436177,1.5813596012245499,1.2866544967979827,0.45876745563370397,1.1245793503036654,0.5456255820563616,1.1396963096377606,0.8179450012348776,1.4543196829501086,1.796352422540688,1.1245776271309256,1.6603948194572,1.482961562819652,1.1245878742596154,0.5452681871527755,1.2866207612553704,1.5817096441136582,1.4568012848619416,1.7985310399495358,1.1245545193361544,1.1809247212989415,1.3868583766660707,1.1057371404551046,1.1245255840396107,1.2866648409783072,1.386820957770134,1.1245142848463947,1.1245851154022042,1.0130491596975881,1.5068140451975176,0.5208603697698704,1.1246111362473357,1.5246962704836775,2.6075454779243956,0.9890912402754809,1.286652638439178,1.24753231197776,0.8509395036512167,1.4535951514039103,1.4545218324521312,1.1245846600506364,1.124583980811733,0.8509069855801722,1.5016131235939858,1.4028555129922622,1.1245778859749243,1.7316843844138012,1.6604529669716996,1.4028531872045602,0.6052087678974578,1.123135231821653,0.5779025154664447,0.8509885867144394,1.1256459956042062,0.8509642842335945,1.9413139465890574,1.1245609507264402,1.53119877647332,0.4113595258900858,1.3865802882326361,0.5443202371647677,1.4705510686971632,0.8788163809782408,1.3868526815818871,1.6604652567437728,0.8437321369487849,0.8192140467311492,1.3868502135148533,1.1241590233369556,1.0130424880331121,1.2866571594339076,0.8509249474035633,1.402796438634957,0.9585663214585538,1.0130152925308222,1.117422394554911,2.045483569697562,0.9739336113173218,0.4486658896088046,1.022234329055131,1.6604599590389137,0.09639135891890342,1.124584361900378,1.6604658793295164,1.3868532121681085,1.1089098446171657,1.0130477490370222,1.1245603892344906,1.2474492707550262,1.9396704294272284,1.2864901107663813,1.2866620158441169,1.5818746461880286,1.117728009160325,1.2867915873024942,1.1245015124180016,1.124573175943221,0.5443257792342081,1.124590633688522,1.2866802571141598,1.1206003118977743,0.8274249916708901,1.2864964519057664,1.1246110563531664,1.124629387382641,1.2866803030478096,1.1245720644564339,1.402879802711429,1.0339364330869942,0.8179335880544415,1.5817660194801313,0.8520151478697262,1.1245910915585782,0.4588165560864603,1.7985233447131168,1.5823149588903278,1.5823692716370217,0.544436423638838,1.4028828727655898,1.2510844116319946,0.6557619414357171,1.1244861212929667,0.850978745692854],\"z\":[-0.4541541407015896,-0.4545706587626776,-0.5942124466790865,-0.5346711214612745,-0.1376800930081002,-0.37315520377855693,-0.14279446715099717,-0.6919054699161766,-0.45416174570821394,-0.4543862066307593,-0.454199084988659,-0.4541541855101614,-0.4541545787356,-0.01180653582030439,-0.4480607875908709,-0.12681453828715167,-0.36324292809045805,-0.4541937684270705,-0.3049154641016591,-0.5346742694703172,-0.5126509946877161,-0.23156689795978505,-0.37388448878258546,-0.22379690666856236,-0.565148831864301,-0.5651302312285327,-0.2657202854544434,-0.4542600572226769,-0.45418688971769633,-0.46486060743128926,-0.3043209635913344,-0.5346665354589563,0.05500722904827129,-0.3867693802589301,-0.5346676434177299,-0.45464917631251217,-0.4541783424514329,0.09355299098029048,-0.5346693955470635,0.05500587503177768,-0.5651367822107749,-0.4542667403075611,0.3830473936457833,-0.19073075409848012,-0.37317171424009726,-0.44807875144113996,-0.22379997830409054,-0.5651261371570887,-0.22388310914003384,-0.4541546767604377,-0.5651278732867476,-0.30430459781122104,-0.45415954992437696,-0.5346670877970187,-0.2901614403290876,-0.3105064287897992,-0.1752417518824359,-0.2238324267214799,-0.5651360389697023,-0.3732277224522955,-0.6918821297437735,-0.5029425915876753,-0.3731560732918578,-0.5402370897648243,-0.37315593291550114,-0.5339276193492468,-0.4541598863155848,-0.22381777588955254,-0.534692819615967,-0.2430890718482407,-0.3731573855670614,0.004234066676145684,-0.1268209392940498,-0.5347200677297638,-0.3731669224324425,-0.3731902699537372,-0.5302858586624799,-0.534683580371284,-0.22414018926872556,-0.454568196620675,-0.4541583895438106,-0.45419651726804244,-0.3347741417237376,-0.3045808585824986,-0.53467514669383,-0.4541751749766422,-0.37315489197539187,-0.5346669508031803,-0.45415631323704175,-0.4541548491591563,-0.2238519899909665,0.025842179762574864,-0.6375447744845689,-0.12684383499627158,-0.4541663837498183,-0.5348510265408148,-0.1268691195496988,-0.3347616648268893,-0.43121734346931734,-0.12683659560579325,-0.6300583644205066,-0.41165021196783436,-0.534674990573476,-0.5988446094260006,-0.5346681678788154,-0.1268336522693247,-0.45416263862478334,-0.4541574944660352,-0.1268209392940498,-0.5346722647203216,-0.3731591506687932,-0.4541634662905728,-0.6300384280548619,-0.4541598269638622,-0.4541962238697023,-0.5346671252574152,-0.45416563181381014,-0.23804289243362858,-0.45415617023612004,-0.45415554580191325,-0.21640855160719985,-0.2617814754427186,-0.45419216891254804,-0.3731555970763469,-0.5346691494445067,-0.4541596291780894,-0.4541555374638766,-0.22379433784820857,-0.1160547792397479,-0.33476676049566173,-0.45457790652628094,-0.22380523196635116,-0.5346771973418668,-0.7105189743991953,-0.53471337943993,-0.12685951002552137,-0.5346802500129116,-0.12698248943028337,-0.5347402446735131,-0.45415734349637066,-0.45415623464000326,-0.45421287475144234,-0.14721743467538217,-0.5346751482646318,-0.2240149407751088,-0.1268183803953545,-0.4541680891149372,-0.7119945387080783,-0.14280484706467117,-0.22416651082592443,-0.6558232592717816,-0.5302522207069809,-0.5302801252699565,-0.6910100275242291,-0.5651342198631896,-0.46038505257161505,-0.5651338068329878,-0.42835751685117535,-0.6910248287283581,-0.5346716821105988,-0.223797885382189,-0.1268175316026432,-0.45416410204742047,-0.4541559205003324,-0.13648249486919517,-0.2599940770049909,-0.5346707681936541,-0.26580901125462697,-0.4541554785062164,-0.1721134584848784,-0.47331602348098895,-0.373192918357571,-0.5305250992462068,-0.6164128519560047,-0.45415615536143805,-0.44679084923202556,-0.3928226091115995,-0.45416098239570857,-0.14660324696765506,-0.5346889170570602,-0.4117378666268398,-0.5423784336507795,-0.565204020978477,-0.454206966878672,-0.29989248207672514,-0.21641119561183209,-0.4588754642424112,-0.45416599828967824,-0.5346859608162592,-0.21642082850443814,-0.4544226870058819,-0.45415528956402557,-0.30430528359646963,-0.22413306515087214,-0.1875405014249384,-0.4542534938564498,-0.3348915550076787,1.8849850247682425,-0.4294011722741004,-0.5346687904786935,-0.24428881288878174,-0.22380664905487332,-0.2553052632980305,-0.5302580748395076,-0.4541546251772666,-0.4541548651805558,-0.22391694682313193,-0.12573779720288647,-0.12682560614986935,-0.4541595057291756,-0.01244226137320101,-0.44683066784246084,-0.12682119293611605,-0.028508529786230908,-0.45496685693251177,0.11513454441090824,-0.22380570875870254,-0.4584765522771611,-0.22379541298723135,-0.6292416500088921,-0.4541669473959633,-0.46152788771260506,-0.2680234160095771,-0.21644288256174543,-0.14281633829646068,-0.31708341417653846,-0.2588866952625363,-0.21640764826559952,-0.4467703861213563,-0.22477877934769203,-0.40247532186671897,-0.21643381106556567,-0.4542146656906405,-0.3043127022564745,-0.5346807006013288,-0.2238446304313766,-0.1268281661864993,-0.3951922045233915,-0.3043099447289789,-0.4555951774464987,-0.004285499382724547,-0.013926462560203334,0.44548450263598394,-0.3105877560831961,-0.4467839809369448,0.1185545069617764,-0.4541607672380335,-0.4467757078703247,-0.2164053215073253,-0.4697917825543079,-0.30430385925687664,-0.45416656289407387,-0.24438707747743998,-0.6298437770924528,-0.5346967582753677,-0.5346769748370168,-0.4120271419205217,-0.4617981196784845,-0.5347551265224828,-0.45416714279393683,-0.454164832304219,-0.14279218808547522,-0.4541576581365476,-0.5348551733200908,-0.4551271086431079,-0.37971641530918127,-0.5349055902304226,-0.4541769318186224,-0.45432522345973736,-0.5347522548227268,-0.4542013531169366,-0.1268143865142457,-0.4467228024073683,-0.37318686561174885,-0.41165656969345493,-0.22802831526124956,-0.45426374217832555,-0.26572282061353286,-0.565124754346535,-0.41197609361536097,-0.4120132862300558,-0.1432131202314116,-0.1268163598540524,0.26194164834282935,-0.23816455174213683,-0.4541742315817029,-0.22379015555555618],\"type\":\"scatter3d\"},{\"customdata\":[[\"SHA-256\"],[\"Ethash\"],[\"Scrypt\"],[\"CryptoNight-V7\"],[\"Ethash\"],[\"Equihash\"],[\"Multiple\"],[\"Scrypt\"],[\"X11\"],[\"Scrypt\"],[\"Multiple\"],[\"Scrypt\"],[\"SHA-256\"],[\"Scrypt\"],[\"Scrypt\"],[\"Quark\"],[\"Groestl\"],[\"Scrypt\"],[\"Scrypt\"],[\"Scrypt\"],[\"X11\"],[\"Multiple\"],[\"SHA-256\"],[\"Scrypt\"],[\"Scrypt\"],[\"Scrypt\"],[\"Scrypt\"],[\"Scrypt\"],[\"NeoScrypt\"],[\"Scrypt\"],[\"Scrypt\"],[\"Scrypt\"],[\"Scrypt\"],[\"SHA-256\"],[\"Scrypt\"],[\"Scrypt\"],[\"Scrypt\"],[\"Scrypt\"],[\"HybridScryptHash256\"],[\"Scrypt\"],[\"Scrypt\"],[\"SHA-256\"],[\"Scrypt\"],[\"Scrypt\"],[\"Scrypt\"],[\"Scrypt\"],[\"SHA-256\"],[\"SHA-256\"],[\"SHA-256\"],[\"SHA-256\"],[\"SHA-256\"],[\"X11\"],[\"Scrypt\"],[\"Lyra2REv2\"],[\"Scrypt\"],[\"SHA-256\"],[\"CryptoNight\"],[\"CryptoNight\"],[\"Scrypt\"],[\"Scrypt\"],[\"Scrypt\"],[\"Scrypt\"],[\"Scrypt\"],[\"Scrypt\"],[\"Stanford Folding\"],[\"Multiple\"],[\"QuBit\"],[\"Scrypt\"],[\"Scrypt\"],[\"M7 POW\"],[\"Scrypt\"],[\"SHA-256\"],[\"Scrypt\"],[\"X11\"],[\"Lyra2RE\"],[\"SHA-256\"],[\"X11\"],[\"Scrypt\"],[\"Scrypt\"],[\"Ethash\"],[\"Blake2b\"],[\"X11\"],[\"SHA-256\"],[\"Scrypt\"],[\"1GB AES Pattern Search\"],[\"Scrypt\"],[\"SHA-256\"],[\"X11\"],[\"Dagger\"],[\"Scrypt\"],[\"X11GOST\"],[\"Scrypt\"],[\"X11\"],[\"Scrypt\"],[\"X11\"],[\"Equihash\"],[\"CryptoNight\"],[\"SHA-256\"],[\"Multiple\"],[\"Scrypt\"],[\"SHA-256\"],[\"Scrypt\"],[\"Lyra2Z\"],[\"Ethash\"],[\"Equihash\"],[\"Scrypt\"],[\"X11\"],[\"X11\"],[\"CryptoNight\"],[\"Scrypt\"],[\"CryptoNight\"],[\"Lyra2RE\"],[\"X11\"],[\"CryptoNight-V7\"],[\"Scrypt\"],[\"X11\"],[\"Equihash\"],[\"Scrypt\"],[\"Lyra2RE\"],[\"Dagger-Hashimoto\"],[\"Scrypt\"],[\"NIST5\"],[\"Scrypt\"],[\"SHA-256\"],[\"Scrypt\"],[\"CryptoNight-V7\"],[\"Argon2d\"],[\"Blake2b\"],[\"Cloverhash\"],[\"CryptoNight\"],[\"X11\"],[\"Scrypt\"],[\"Scrypt\"],[\"X11\"],[\"X11\"],[\"CryptoNight\"],[\"Time Travel\"],[\"Scrypt\"],[\"Keccak\"],[\"X11\"],[\"SHA-256\"],[\"Scrypt\"],[\"Scrypt\"],[\"Scrypt\"],[\"Scrypt\"],[\"Scrypt\"],[\"Scrypt\"],[\"CryptoNight\"],[\"Equihash\"],[\"X11\"],[\"NeoScrypt\"],[\"Equihash\"],[\"Dagger\"],[\"Scrypt\"],[\"X11\"],[\"NeoScrypt\"],[\"Ethash\"],[\"NeoScrypt\"],[\"Multiple\"],[\"CryptoNight\"],[\"CryptoNight\"],[\"Ethash\"],[\"X11\"],[\"CryptoNight-V7\"],[\"Scrypt\"],[\"BLAKE256\"],[\"X11\"],[\"NeoScrypt\"],[\"NeoScrypt\"],[\"Scrypt\"],[\"X11\"],[\"SHA-256\"],[\"C11\"],[\"Ethash\"],[\"CryptoNight\"],[\"SkunkHash\"],[\"CryptoNight\"],[\"Scrypt\"],[\"Dagger\"],[\"Lyra2REv2\"],[\"Scrypt\"],[\"Scrypt\"],[\"X11\"],[\"Ethash\"],[\"CryptoNight\"],[\"Scrypt\"],[\"IMesh\"],[\"Equihash\"],[\"Lyra2Z\"],[\"X11\"],[\"CryptoNight\"],[\"NIST5\"],[\"Lyra2RE\"],[\"Tribus\"],[\"Lyra2Z\"],[\"CryptoNight\"],[\"CryptoNight Heavy\"],[\"CryptoNight\"],[\"Jump Consistent Hash\"],[\"CryptoNight\"],[\"X16R\"],[\"HMQ1725\"],[\"X11\"],[\"Scrypt\"],[\"CryptoNight-V7\"],[\"Cryptonight-GPU\"],[\"XEVAN\"],[\"CryptoNight Heavy\"],[\"SHA-256\"],[\"X11\"],[\"X16R\"],[\"Equihash\"],[\"Lyra2Z\"],[\"SHA-256\"],[\"CryptoNight\"],[\"Blake\"],[\"Blake\"],[\"Exosis\"],[\"Scrypt\"],[\"Equihash\"],[\"Equihash\"],[\"QuBit\"],[\"SHA-256\"],[\"X13\"],[\"SHA-256\"],[\"Scrypt\"],[\"NeoScrypt\"],[\"Blake\"],[\"Scrypt\"],[\"SHA-256\"],[\"Scrypt\"],[\"Groestl\"],[\"Scrypt\"],[\"Scrypt\"],[\"Multiple\"],[\"Equihash+Scrypt\"],[\"Ethash\"],[\"CryptoNight\"],[\"Equihash\"]],\"hovertemplate\":\"<b>%{hovertext}</b><br><br>Class=%{marker.color}<br>PC1=%{x}<br>PC2=%{y}<br>PC3=%{z}<br>Algorithm=%{customdata[0]}<extra></extra>\",\"hovertext\":[\"Bitcoin\",\"Ethereum\",\"Litecoin\",\"Monero\",\"Ethereum Classic\",\"ZCash\",\"DigiByte\",\"ProsperCoin\",\"Spreadcoin\",\"Argentum\",\"MyriadCoin\",\"MoonCoin\",\"ZetaCoin\",\"SexCoin\",\"Quatloo\",\"QuarkCoin\",\"Riecoin\",\"Digitalcoin \",\"Catcoin\",\"CannaCoin\",\"CryptCoin\",\"Verge\",\"DevCoin\",\"EarthCoin\",\"E-Gulden\",\"Einsteinium\",\"Emerald\",\"Franko\",\"FeatherCoin\",\"GrandCoin\",\"GlobalCoin\",\"GoldCoin\",\"Infinite Coin\",\"IXcoin\",\"KrugerCoin\",\"LuckyCoin\",\"Litebar \",\"MegaCoin\",\"MediterraneanCoin\",\"MinCoin\",\"NobleCoin\",\"Namecoin\",\"NyanCoin\",\"RonPaulCoin\",\"StableCoin\",\"SmartCoin\",\"SysCoin\",\"TigerCoin\",\"TerraCoin\",\"UnbreakableCoin\",\"Unobtanium\",\"UroCoin\",\"ViaCoin\",\"Vertcoin\",\"WorldCoin\",\"JouleCoin\",\"ByteCoin\",\"DigitalNote \",\"MonaCoin\",\"Gulden\",\"PesetaCoin\",\"Wild Beast Coin\",\"Flo\",\"ArtByte\",\"Folding Coin\",\"Unitus\",\"CypherPunkCoin\",\"OmniCron\",\"GreenCoin\",\"Cryptonite\",\"MasterCoin\",\"SoonCoin\",\"1Credit\",\"MarsCoin \",\"Crypto\",\"Anarchists Prime\",\"BowsCoin\",\"Song Coin\",\"BitZeny\",\"Expanse\",\"Siacoin\",\"MindCoin\",\"I0coin\",\"Revolution VR\",\"HOdlcoin\",\"Gamecredits\",\"CarpeDiemCoin\",\"Adzcoin\",\"SoilCoin\",\"YoCoin\",\"SibCoin\",\"Francs\",\"BolivarCoin\",\"Omni\",\"PizzaCoin\",\"Komodo\",\"Karbo\",\"ZayedCoin\",\"Circuits of Value\",\"DopeCoin\",\"DollarCoin\",\"Shilling\",\"ZCoin\",\"Elementrem\",\"ZClassic\",\"KiloCoin\",\"ArtexCoin\",\"Kurrent\",\"Cannabis Industry Coin\",\"OsmiumCoin\",\"Bikercoins\",\"HexxCoin\",\"PacCoin\",\"Citadel\",\"BeaverCoin\",\"VaultCoin\",\"Zero\",\"Canada eCoin\",\"Zoin\",\"DubaiCoin\",\"EB3coin\",\"Coinonat\",\"BenjiRolls\",\"ILCoin\",\"EquiTrader\",\"Quantum Resistant Ledger\",\"Dynamic\",\"Nano\",\"ChanCoin\",\"Dinastycoin\",\"DigitalPrice\",\"Unify\",\"SocialCoin\",\"ArcticCoin\",\"DAS\",\"LeviarCoin\",\"Bitcore\",\"gCn Coin\",\"SmartCash\",\"Onix\",\"Bitcoin Cash\",\"Sojourn Coin\",\"NewYorkCoin\",\"FrazCoin\",\"Kronecoin\",\"AdCoin\",\"Linx\",\"Sumokoin\",\"BitcoinZ\",\"Elements\",\"VIVO Coin\",\"Bitcoin Gold\",\"Pirl\",\"eBoost\",\"Pura\",\"Innova\",\"Ellaism\",\"GoByte\",\"SHIELD\",\"UltraNote\",\"BitCoal\",\"DaxxCoin\",\"AC3\",\"Lethean\",\"PopularCoin\",\"Photon\",\"Sucre\",\"SparksPay\",\"GunCoin\",\"IrishCoin\",\"Pioneer Coin\",\"UnitedBitcoin\",\"Interzone\",\"1717 Masonic Commemorative Token\",\"TurtleCoin\",\"MUNcoin\",\"Niobio Cash\",\"ShareChain\",\"Travelflex\",\"KREDS\",\"BitFlip\",\"LottoCoin\",\"Crypto Improvement Fund\",\"Callisto Network\",\"BitTube\",\"Poseidon\",\"Aidos Kuneen\",\"Bitrolium\",\"Alpenschillling\",\"FuturoCoin\",\"Monero Classic\",\"Jumpcoin\",\"Infinex\",\"KEYCO\",\"GINcoin\",\"PlatinCoin\",\"Loki\",\"Newton Coin\",\"MassGrid\",\"PluraCoin\",\"Motion\",\"PlusOneCoin\",\"Axe\",\"HexCoin\",\"Webchain\",\"Ryo\",\"Urals Coin\",\"Qwertycoin\",\"Project Pai\",\"Azart\",\"Xchange\",\"CrypticCoin\",\"Actinium\",\"Bitcoin SV\",\"FREDEnergy\",\"Universal Molecule\",\"Lithium\",\"Exosis\",\"Block-Logic\",\"Beam\",\"Bithereum\",\"SLICE\",\"BLAST\",\"Bitcoin Rhodium\",\"GlobalToken\",\"SolarCoin\",\"UFO Coin\",\"BlakeCoin\",\"Crypto Escudo\",\"Crown Coin\",\"SmileyCoin\",\"Groestlcoin\",\"Bata\",\"Pakcoin\",\"JoinCoin\",\"Vollar\",\"Reality Clash\",\"Beldex\",\"Horizen\"],\"legendgroup\":\"1\",\"marker\":{\"color\":[1,1,1,1,1,1,1,1,1,1,1,1,1,1,1,1,1,1,1,1,1,1,1,1,1,1,1,1,1,1,1,1,1,1,1,1,1,1,1,1,1,1,1,1,1,1,1,1,1,1,1,1,1,1,1,1,1,1,1,1,1,1,1,1,1,1,1,1,1,1,1,1,1,1,1,1,1,1,1,1,1,1,1,1,1,1,1,1,1,1,1,1,1,1,1,1,1,1,1,1,1,1,1,1,1,1,1,1,1,1,1,1,1,1,1,1,1,1,1,1,1,1,1,1,1,1,1,1,1,1,1,1,1,1,1,1,1,1,1,1,1,1,1,1,1,1,1,1,1,1,1,1,1,1,1,1,1,1,1,1,1,1,1,1,1,1,1,1,1,1,1,1,1,1,1,1,1,1,1,1,1,1,1,1,1,1,1,1,1,1,1,1,1,1,1,1,1,1,1,1,1,1,1,1,1,1,1,1,1,1,1,1,1,1,1,1,1,1,1,1,1,1,1,1,1,1,1,1,1,1,1,1,1,1,1,1,1,1,1],\"coloraxis\":\"coloraxis\",\"symbol\":\"diamond\"},\"mode\":\"markers\",\"name\":\"1\",\"scene\":\"scene\",\"showlegend\":true,\"x\":[-0.1348908234390888,-0.13903240100277933,-0.17902489728132828,-0.13771912676308834,-0.13747723478898322,-0.17227298680391695,0.1724409534973703,-0.18016888437947104,-0.22974380924272617,-0.17978613322884623,-0.080476942370628,2.536825458451113,-0.13198151142978992,-0.1770468559060304,-0.17959049682975234,-0.22367234081829335,-0.18767014091060613,-0.1796392715878635,-0.18015118724495685,-0.18023747889125688,-0.22983297001074743,0.1961318291582757,0.24221315025136197,0.06800331128553878,-0.17998428504953823,-0.17559816569455286,-0.17992368264391065,-0.1802943672816087,-0.15059429283705472,-0.15955701720449864,-0.17909185742794798,-0.17936872406493384,1.5651644055504068,-0.134852273135708,-0.17666335627797136,-0.1800106737364985,-0.18036478803775263,-0.17962549475506695,-0.16161642097822224,-0.18024628362037917,-0.04540176683558581,-0.13492972241944795,-0.1739227006412496,-0.1802257454177856,-0.17832357571519428,-0.17971349359028632,-0.12210673836539276,-0.134394551888007,-0.13468117023629017,-0.13466411339550446,-0.1352537542413121,-0.2300065396128113,-0.1799428198476884,-0.17243071304218102,-0.17705152877718663,-0.1344617109268206,3.859875087301629,0.4655562265721168,-0.1788126002941305,-0.16344030411391527,-0.17753395570104738,-0.18036699016542537,-0.17739928845285283,-0.1636498458775117,-0.14591914731266076,-0.11441692934423338,-0.18357408696013564,-0.1802403299955654,-0.05342202897421489,-0.1029883802033584,-0.18037586830811828,-0.13495744224411665,0.47061228203738326,-0.22939493184027093,-0.18530152812923562,-0.13469777849947367,-0.22967926317270126,-0.17850312357888995,-0.17769696272243415,-0.14009760785528752,0.4060279073228092,-0.22971459652663181,-0.13485339315587086,-0.17634170193368778,-0.14974932798619114,-0.17894203628509173,0.28280488152871425,-0.22887692423389475,-0.14826302899263244,-0.1791887780942201,-0.12295537087351728,-0.1801661771457904,-0.2296778981589422,-0.18037592668758926,-0.22982755782488695,-0.35871252039754853,0.31076285509459467,-0.13511296078573018,-0.09452836316479879,-0.17754811959605982,-0.13507167454196292,-0.18003996658728133,-0.17601277450598196,-0.13984028143287755,-0.17229455898900095,-0.10723395840005524,-0.21643777333905245,-0.227659809551028,0.3107572527013504,-0.18035769825156409,0.31088770533663135,-0.18584096257801525,0.48413275134672284,-0.13648602531312534,-0.18032604992208598,-0.22257474939364996,-0.17230691609981538,-0.17846299769120222,-0.1855599052383154,-0.13857646302196075,-0.15130209924227953,-0.17083477565365557,-0.17988927136327784,-0.10150302223561788,-0.17971163286222513,-0.13634421588006876,-0.1513953690567544,0.0065563646473857625,-0.1408099328014477,0.34680823422907353,-0.2288852684876374,-0.18003033662185905,-0.1797940974324002,-0.22927920900670104,-0.22985554437808253,0.3111514861919394,-0.17963212973755996,3.222644513668829,-0.10129380076176321,-0.22074446439001172,-0.13488998939093386,-0.10608308849160407,1.5630173679902195,-0.18012797964794966,-0.1795806334995332,-0.17928219748703686,-0.17926915553571166,0.31133478433227313,0.03962044999664054,-0.18433360212338143,-0.15527391351695816,-0.1721532789128693,-0.14702444917305826,-0.1784612105626405,-0.2254085615059485,-0.1551196105052954,-0.13820837236468564,-0.15521963388223117,-0.10466770633791009,1.1471293568291623,0.3107400412554226,-0.0632341942772649,-0.22515027513066732,-0.12547710472952373,-0.09667954438834522,1.085914239406759,-0.22982959515795992,-0.15527148914056052,-0.1483228574868468,-0.17938044769927686,-0.22975515105418678,-0.13486943120103295,-0.18927756838107787,-0.25969062208237115,8.034504698616876,-0.15557402902684705,0.3146070729512696,0.012283717605931945,-0.1465288072895026,-0.15801671752281585,-0.17995302948656008,0.12652244546524283,-0.22390727436154229,-0.09133203001193176,0.31864869111161104,-0.18018958601933577,-0.12148009293441486,-0.17114636643012443,-0.17380033503574766,-0.22892595637201152,0.31092219306871527,-0.17089416758199272,-0.1856864899717438,-0.13077703669706164,-0.17609699749868601,0.3148434075549762,0.5662007360125134,2.116019381241901,-0.12687503624777524,0.32450085704545795,-0.20785901019674427,-0.10962233105804413,-0.22981179000404692,-0.1802141147125314,-0.12535575446039104,-0.1527009758472148,-0.10730364148236736,3.0838891293414643,-0.09479695307817647,-0.2297832071249181,-0.20728776619853226,-0.06710284668141255,-0.17549585413540658,-0.13489002687849214,0.3905328339259671,-0.1268549372186423,-0.12724630581293395,-0.1323531582499694,-0.1791085160739852,-0.17021692971122462,-0.17198642495350136,-0.1827864997201502,-0.13416758558045858,-0.10149240075172371,-0.1330376670611829,0.5144526695196362,-0.08058442493863296,-0.07780073749540584,-0.1638001197847371,-0.13468054199253193,0.534076666852522,-0.187232009904514,-0.18029082741104177,-0.17825042952773737,-0.11515028562944382,-0.15100525422144315,-0.13987337459590496,0.33245478044963395,-0.17227404156056908],\"y\":[-1.3716507814043708,-2.132224290478253,-1.065007117959921,-2.263690868776247,-2.132311428307481,-1.819559603844798,-1.8968307421782593,-1.0650106126362087,-0.9029305941687016,-1.0650256416545933,-1.8938558279345514,-1.2298772880670763,-1.3716334542188275,-1.0650432439096182,-1.065043684028114,-0.5290934805729628,-1.3165850606996403,-1.0650075168837447,-1.0650098384350046,-1.065007805588533,-0.9029330168788207,-1.8925098551899286,-1.3706552068689464,-1.0641135900050704,-1.0650025369207141,-1.0650166600585562,-1.0650080137934408,-1.0650088872680858,-1.7307813524192903,-1.0651430920274079,-1.0649997024767484,-1.0650134740152484,-1.0555872157266868,-1.3716490949340958,-1.0650378615068072,-1.065002952438813,-1.0650046632105201,-1.0650023580367352,-2.0733888037232093,-1.0650058705790573,-1.0701831239266946,-1.371652483128305,-1.0649708562488605,-1.0650131001510241,-1.0650990969072898,-1.0650130057605451,-1.3717321517466792,-1.3716482915086803,-1.3716571268600093,-1.3716844594299673,-1.3716513261529149,-0.9029273096086129,-1.065002200761087,-1.3703694659951218,-1.0650548429913425,-1.3716497428600267,-2.362110334112958,-2.3816859317430614,-1.0650134364269985,-1.0655046425816035,-1.0650027695756672,-1.0650057038806149,-1.0649921595425804,-1.0650113474381329,-2.218878259352481,-1.8938627800046155,-1.6043127133606845,-1.0650007121074778,-1.066839414753847,-2.233129273672386,-1.065004608148553,-1.3716536957947738,-1.1045053563204328,-0.902924937628712,-2.17100720160896,-1.371666543063397,-0.9029285093695187,-1.065077572384958,-1.0650716843036985,-2.1322833827488314,-2.4138709514556034,-0.9029263605333646,-1.371649143931913,-1.0649828387635722,-2.2411697750219326,-1.0650034930181005,-1.3693421972347504,-0.9029399608652198,-2.256772388071397,-1.065076615715777,-2.3173646532421035,-1.0650097552874047,-0.9029314053128564,-1.0650046084635834,-0.9029379525136702,-0.33809998273043884,-2.3810759598869944,-1.37165217616975,-1.8938794073491936,-1.0650282270873315,-1.3716510367308634,-1.0650116230682538,-2.2169264238716044,-2.132278996695152,-1.8195605475688599,-1.0691935393999532,-0.9027031705868167,-0.902993119151047,-2.381084333038491,-1.0650053611428099,-2.381081581751659,-2.1709895770008556,-0.9455771438527779,-2.263773623189044,-1.065004453742598,-0.9033411038634866,-1.8195581324996861,-1.0649943590264117,-2.1709854095742713,-2.240003298791529,-1.06668791153022,-0.735069541163434,-1.065009109669531,-1.3720219261103295,-1.0650282937853452,-2.263708306235356,-2.2659467365099113,-2.431598177876295,-2.2390113037950643,-2.3809695135243016,-0.9029521485393013,-1.065003278253097,-1.0650341181288268,-0.9029398257693796,-0.9029346694688773,-2.3810914705885406,-2.0927147534447297,-1.063914269388228,-1.2318207859101273,-0.9033349253773396,-1.3716507449170445,-1.0695126493602751,-0.9887354674363458,-1.0650080842514094,-1.0650314298985935,-1.0650301967755877,-1.0650296262259094,-2.3811092317100826,-1.8257915381691914,-0.9022592901151656,-1.7307577483631944,-1.8195543669521679,-2.256811533500264,-1.0649942808444277,-0.9029847808081269,-1.7307642984940061,-2.132395137607221,-1.7307589205684666,-1.8939239619060453,-2.4072875779322254,-2.38107880521687,-2.1362974737547598,-0.9031212644337564,-2.2638938454378597,-1.065037238977818,-1.234324066356834,-0.9029341992847766,-1.7307532088149316,-1.7308031653560343,-1.0650078940229075,-0.9029333070861294,-1.3716492292976055,-1.2005001457916098,-0.21629777390454102,-2.782090741027264,-2.317862733090763,-2.381148672080926,-1.0639649681568646,-2.2567482446495974,-1.3704896305120207,-1.0650152089554017,-1.0651793777584007,-0.9030299408148829,-2.1349404755884995,-2.381462501733407,-1.0650115182762987,-2.3570308489707408,-1.8195465241088362,-2.217035497345675,-0.9029539285228927,-2.3810751961704875,-0.7350520024933083,-2.1709948487797552,-2.5054566972083014,-2.2169220542263934,-2.3813334069625087,-2.245717604042322,-2.438053850021703,-2.292464367503631,-2.3812064854893324,-1.3107631835116673,-2.5828935486713727,-0.9029343070557059,-1.0650134080346196,-2.2644431058650247,-2.323619809041566,-0.9421146201613941,-2.2717723915527954,-1.3714329880416884,-0.9029360122919206,-1.310795772563817,-1.820558932835002,-2.216950066082669,-1.3716507465570222,-2.3835492835580587,-2.3251572973739436,-2.325115385892672,-2.4221785576706836,-1.0650373769838481,-1.8196483265575416,-1.8195543724591767,-1.604352150048163,-1.371650915061083,-0.39106712601719873,-1.371678331350899,-1.1070948392502253,-1.7304259958955084,-2.3281060388330257,-1.065017921510322,-1.3716570993760644,-1.070694544149892,-1.3165814108766585,-1.0650041246743043,-1.065045650759549,-1.893896931296397,-2.2472106803593808,-2.132279175274208,-2.381154253492989,-1.819559649987516],\"z\":[0.12402805273962372,0.3409843138265233,0.04300719267316206,0.3413847541689211,0.34096994525279056,0.3853868344572787,0.3164722844968521,0.043031797583682856,-0.03748250352505025,0.043026928808614626,0.3211339027877985,0.020551372986206587,0.12396372671175056,0.04297340487920556,0.04302659151560091,0.05031209565761404,0.04910693605031369,0.04302009978415867,0.04303126742145003,0.043032646543482655,-0.03748013935014667,0.3150805673141192,0.1159497661476496,0.03766526043523406,0.04302626744585978,0.04293764538345072,0.04302613968062619,0.043034058618648195,0.23137450377330068,0.042629059608071174,0.0430070506098698,0.04301568940549236,0.004643499563478248,0.12402689786819876,0.04296428219881725,0.04302690455521251,0.04303465146725754,0.04301874101368447,0.20250176957093594,0.04303242854041855,0.04129274048355819,0.12402921805654155,0.04289316136973615,0.043033500999284546,0.04301165223638086,0.04302278879845721,0.12377809727873873,0.12401717669753719,0.12402499408461451,0.12403031345244943,0.12403574156868902,-0.03747770137960463,0.04302533211175745,0.09469828816409749,0.04297591088360499,0.12401887991898063,0.27429298178814554,0.34920977325683883,0.043004073228560355,0.04278519157176316,0.0429751682656497,0.04303491352136221,0.04297015416368306,0.042687136371673075,0.41999524132455085,0.32184380012698416,0.2354211299067046,0.043031233147354374,0.04076585652143972,0.3282158537142356,0.043034871320507845,0.12403004847369888,0.03764836725535469,-0.03749096043336069,0.3881211571549755,0.12402729596638122,-0.03748428373490828,0.04301093065916244,0.042992880466120355,0.34101881873266354,0.22911911137566934,-0.037483992386420056,0.12402693142122385,0.04294614300720206,0.19543622227105334,0.04300471036334102,0.11482982889077888,-0.03749865371441051,0.28676472718334844,0.043025044174359164,0.23876568804301607,0.04303156305145785,-0.03748371090644274,0.043034872604518416,-0.03747922747424625,0.5882461658428173,0.3523142306079352,0.12403297918524403,0.3214321043067572,0.04298074998429593,0.12403188079161977,0.043029316398554326,0.41239116757849437,0.3410125366410558,0.38538748070641116,0.04237792838737424,-0.03780747283365018,-0.037513021497871835,0.3523160861741822,0.04303464839756181,0.3523127918578507,0.3881287575382193,-0.043528520074721404,0.34137619810071745,0.04303379936419201,-0.03754690914930068,0.38538723717389595,0.042992814439411095,0.3881220254903941,0.30467233939386956,0.04277751919227189,-0.033067359589060895,0.04302564893980876,0.12340819059240268,0.04302592440429123,0.3413596754242143,0.37581581197043484,0.24113849706509252,0.20030531433950663,0.3515397266421251,-0.03749594885771492,0.043027382645725476,0.04302885512883698,-0.037490284586267915,-0.03747932499092145,0.3523093391144781,0.592207324547635,-0.028225224927608067,0.10090900022446675,-0.03758639692372118,0.12402802775360895,0.04242016629218699,-0.009192958681646369,0.0430304187492132,0.04302384115114346,0.04301735563236847,0.04301696492787145,0.35230920096691587,0.3822578455641235,-0.03856977484426767,0.23146728365716002,0.3853832483059311,0.28674700167572104,0.042992760901474004,-0.03756174481545606,0.23146542286585414,0.34100258843574904,0.23146639403907193,0.3216530015462603,0.3402988003566372,0.35231529762949854,0.34024788987925403,-0.037538796389787375,0.3411713642400237,0.04129459322254852,-0.022007114259559552,-0.03747996427796037,0.23146629044752462,0.2313316197634979,0.04301477547689791,-0.03748170346185708,0.12402728392045063,0.06778764502288005,0.0741977720148948,0.2743587804509828,0.3969753566448797,0.35224908563330737,0.03879747540925454,0.2867235143203436,0.09442236573420601,0.04302824628098474,0.03666505140513335,-0.03758370511932755,0.34055262553138677,0.35222988645067005,0.043032417753439724,0.3251545025435168,0.3853606017876057,0.4123676340423551,-0.03749472994966998,0.35231074605151297,-0.033069761634699886,0.3881266277664499,0.22593373407783313,0.4123920183009223,0.352282511293296,0.36935217586932734,0.3264628516540429,0.28160889069182465,0.35205457008202434,0.2383166370846925,0.3832975513211844,-0.03748031355991979,0.04303332215296601,0.3412828811051246,0.38161164173803586,0.2528864465282769,0.32220873811876266,0.12314592131320763,-0.03748055611115666,0.23831147997479554,0.38339904570603756,0.4123852866589115,0.12402802887664276,0.3511627018952134,0.3539899468725192,0.3539894135795682,0.26034300215720235,0.043015221172691756,0.38536233951690335,0.38537976658655304,0.23541287876972455,0.1240129838277331,-0.06793597175409995,0.12399509101604556,0.03727094239818385,0.22983935020292082,0.3535782877542765,0.04269163820501367,0.12402497526399024,0.029303062432706153,0.049097032767309895,0.043032995810734165,0.0429990277029911,0.32186619926601534,0.41165666920545074,0.341013264499113,0.35187769651940787,0.38538686605517164],\"type\":\"scatter3d\"},{\"customdata\":[[\"VeChainThor Authority\"],[\"Proof-of-BibleHash\"],[\"Proof-of-Authority\"],[\"ECC 256K1\"],[\"Leased POS\"]],\"hovertemplate\":\"<b>%{hovertext}</b><br><br>Class=%{marker.color}<br>PC1=%{x}<br>PC2=%{y}<br>PC3=%{z}<br>Algorithm=%{customdata[0]}<extra></extra>\",\"hovertext\":[\"Vechain\",\"BiblePay\",\"Poa Network\",\"Acute Angle Cloud\",\"Waves\"],\"legendgroup\":\"3\",\"marker\":{\"color\":[3,3,3,3,3],\"coloraxis\":\"coloraxis\",\"symbol\":\"square\"},\"mode\":\"markers\",\"name\":\"3\",\"scene\":\"scene\",\"showlegend\":true,\"x\":[4.4476201073476425,-0.19275534323772275,-0.40851151083274906,-0.34680436324796987,-0.4410356472503928],\"y\":[2.5921822124672413,2.3916828714171574,4.021978566530121,2.43748766393558,3.8971955275488246],\"z\":[9.248656046668856,18.070075065387417,19.229763737047804,12.133074844216189,8.540990472963868],\"type\":\"scatter3d\"},{\"customdata\":[[\"TRC10\"]],\"hovertemplate\":\"<b>%{hovertext}</b><br><br>Class=%{marker.color}<br>PC1=%{x}<br>PC2=%{y}<br>PC3=%{z}<br>Algorithm=%{customdata[0]}<extra></extra>\",\"hovertext\":[\"BitTorrent\"],\"legendgroup\":\"2\",\"marker\":{\"color\":[2],\"coloraxis\":\"coloraxis\",\"symbol\":\"x\"},\"mode\":\"markers\",\"name\":\"2\",\"scene\":\"scene\",\"showlegend\":true,\"x\":[34.02130502575766],\"y\":[1.913983765622877],\"z\":[-1.2193445114838852],\"type\":\"scatter3d\"}],                        {\"template\":{\"data\":{\"bar\":[{\"error_x\":{\"color\":\"#2a3f5f\"},\"error_y\":{\"color\":\"#2a3f5f\"},\"marker\":{\"line\":{\"color\":\"#E5ECF6\",\"width\":0.5},\"pattern\":{\"fillmode\":\"overlay\",\"size\":10,\"solidity\":0.2}},\"type\":\"bar\"}],\"barpolar\":[{\"marker\":{\"line\":{\"color\":\"#E5ECF6\",\"width\":0.5},\"pattern\":{\"fillmode\":\"overlay\",\"size\":10,\"solidity\":0.2}},\"type\":\"barpolar\"}],\"carpet\":[{\"aaxis\":{\"endlinecolor\":\"#2a3f5f\",\"gridcolor\":\"white\",\"linecolor\":\"white\",\"minorgridcolor\":\"white\",\"startlinecolor\":\"#2a3f5f\"},\"baxis\":{\"endlinecolor\":\"#2a3f5f\",\"gridcolor\":\"white\",\"linecolor\":\"white\",\"minorgridcolor\":\"white\",\"startlinecolor\":\"#2a3f5f\"},\"type\":\"carpet\"}],\"choropleth\":[{\"colorbar\":{\"outlinewidth\":0,\"ticks\":\"\"},\"type\":\"choropleth\"}],\"contour\":[{\"colorbar\":{\"outlinewidth\":0,\"ticks\":\"\"},\"colorscale\":[[0.0,\"#0d0887\"],[0.1111111111111111,\"#46039f\"],[0.2222222222222222,\"#7201a8\"],[0.3333333333333333,\"#9c179e\"],[0.4444444444444444,\"#bd3786\"],[0.5555555555555556,\"#d8576b\"],[0.6666666666666666,\"#ed7953\"],[0.7777777777777778,\"#fb9f3a\"],[0.8888888888888888,\"#fdca26\"],[1.0,\"#f0f921\"]],\"type\":\"contour\"}],\"contourcarpet\":[{\"colorbar\":{\"outlinewidth\":0,\"ticks\":\"\"},\"type\":\"contourcarpet\"}],\"heatmap\":[{\"colorbar\":{\"outlinewidth\":0,\"ticks\":\"\"},\"colorscale\":[[0.0,\"#0d0887\"],[0.1111111111111111,\"#46039f\"],[0.2222222222222222,\"#7201a8\"],[0.3333333333333333,\"#9c179e\"],[0.4444444444444444,\"#bd3786\"],[0.5555555555555556,\"#d8576b\"],[0.6666666666666666,\"#ed7953\"],[0.7777777777777778,\"#fb9f3a\"],[0.8888888888888888,\"#fdca26\"],[1.0,\"#f0f921\"]],\"type\":\"heatmap\"}],\"heatmapgl\":[{\"colorbar\":{\"outlinewidth\":0,\"ticks\":\"\"},\"colorscale\":[[0.0,\"#0d0887\"],[0.1111111111111111,\"#46039f\"],[0.2222222222222222,\"#7201a8\"],[0.3333333333333333,\"#9c179e\"],[0.4444444444444444,\"#bd3786\"],[0.5555555555555556,\"#d8576b\"],[0.6666666666666666,\"#ed7953\"],[0.7777777777777778,\"#fb9f3a\"],[0.8888888888888888,\"#fdca26\"],[1.0,\"#f0f921\"]],\"type\":\"heatmapgl\"}],\"histogram\":[{\"marker\":{\"pattern\":{\"fillmode\":\"overlay\",\"size\":10,\"solidity\":0.2}},\"type\":\"histogram\"}],\"histogram2d\":[{\"colorbar\":{\"outlinewidth\":0,\"ticks\":\"\"},\"colorscale\":[[0.0,\"#0d0887\"],[0.1111111111111111,\"#46039f\"],[0.2222222222222222,\"#7201a8\"],[0.3333333333333333,\"#9c179e\"],[0.4444444444444444,\"#bd3786\"],[0.5555555555555556,\"#d8576b\"],[0.6666666666666666,\"#ed7953\"],[0.7777777777777778,\"#fb9f3a\"],[0.8888888888888888,\"#fdca26\"],[1.0,\"#f0f921\"]],\"type\":\"histogram2d\"}],\"histogram2dcontour\":[{\"colorbar\":{\"outlinewidth\":0,\"ticks\":\"\"},\"colorscale\":[[0.0,\"#0d0887\"],[0.1111111111111111,\"#46039f\"],[0.2222222222222222,\"#7201a8\"],[0.3333333333333333,\"#9c179e\"],[0.4444444444444444,\"#bd3786\"],[0.5555555555555556,\"#d8576b\"],[0.6666666666666666,\"#ed7953\"],[0.7777777777777778,\"#fb9f3a\"],[0.8888888888888888,\"#fdca26\"],[1.0,\"#f0f921\"]],\"type\":\"histogram2dcontour\"}],\"mesh3d\":[{\"colorbar\":{\"outlinewidth\":0,\"ticks\":\"\"},\"type\":\"mesh3d\"}],\"parcoords\":[{\"line\":{\"colorbar\":{\"outlinewidth\":0,\"ticks\":\"\"}},\"type\":\"parcoords\"}],\"pie\":[{\"automargin\":true,\"type\":\"pie\"}],\"scatter\":[{\"marker\":{\"colorbar\":{\"outlinewidth\":0,\"ticks\":\"\"}},\"type\":\"scatter\"}],\"scatter3d\":[{\"line\":{\"colorbar\":{\"outlinewidth\":0,\"ticks\":\"\"}},\"marker\":{\"colorbar\":{\"outlinewidth\":0,\"ticks\":\"\"}},\"type\":\"scatter3d\"}],\"scattercarpet\":[{\"marker\":{\"colorbar\":{\"outlinewidth\":0,\"ticks\":\"\"}},\"type\":\"scattercarpet\"}],\"scattergeo\":[{\"marker\":{\"colorbar\":{\"outlinewidth\":0,\"ticks\":\"\"}},\"type\":\"scattergeo\"}],\"scattergl\":[{\"marker\":{\"colorbar\":{\"outlinewidth\":0,\"ticks\":\"\"}},\"type\":\"scattergl\"}],\"scattermapbox\":[{\"marker\":{\"colorbar\":{\"outlinewidth\":0,\"ticks\":\"\"}},\"type\":\"scattermapbox\"}],\"scatterpolar\":[{\"marker\":{\"colorbar\":{\"outlinewidth\":0,\"ticks\":\"\"}},\"type\":\"scatterpolar\"}],\"scatterpolargl\":[{\"marker\":{\"colorbar\":{\"outlinewidth\":0,\"ticks\":\"\"}},\"type\":\"scatterpolargl\"}],\"scatterternary\":[{\"marker\":{\"colorbar\":{\"outlinewidth\":0,\"ticks\":\"\"}},\"type\":\"scatterternary\"}],\"surface\":[{\"colorbar\":{\"outlinewidth\":0,\"ticks\":\"\"},\"colorscale\":[[0.0,\"#0d0887\"],[0.1111111111111111,\"#46039f\"],[0.2222222222222222,\"#7201a8\"],[0.3333333333333333,\"#9c179e\"],[0.4444444444444444,\"#bd3786\"],[0.5555555555555556,\"#d8576b\"],[0.6666666666666666,\"#ed7953\"],[0.7777777777777778,\"#fb9f3a\"],[0.8888888888888888,\"#fdca26\"],[1.0,\"#f0f921\"]],\"type\":\"surface\"}],\"table\":[{\"cells\":{\"fill\":{\"color\":\"#EBF0F8\"},\"line\":{\"color\":\"white\"}},\"header\":{\"fill\":{\"color\":\"#C8D4E3\"},\"line\":{\"color\":\"white\"}},\"type\":\"table\"}]},\"layout\":{\"annotationdefaults\":{\"arrowcolor\":\"#2a3f5f\",\"arrowhead\":0,\"arrowwidth\":1},\"autotypenumbers\":\"strict\",\"coloraxis\":{\"colorbar\":{\"outlinewidth\":0,\"ticks\":\"\"}},\"colorscale\":{\"diverging\":[[0,\"#8e0152\"],[0.1,\"#c51b7d\"],[0.2,\"#de77ae\"],[0.3,\"#f1b6da\"],[0.4,\"#fde0ef\"],[0.5,\"#f7f7f7\"],[0.6,\"#e6f5d0\"],[0.7,\"#b8e186\"],[0.8,\"#7fbc41\"],[0.9,\"#4d9221\"],[1,\"#276419\"]],\"sequential\":[[0.0,\"#0d0887\"],[0.1111111111111111,\"#46039f\"],[0.2222222222222222,\"#7201a8\"],[0.3333333333333333,\"#9c179e\"],[0.4444444444444444,\"#bd3786\"],[0.5555555555555556,\"#d8576b\"],[0.6666666666666666,\"#ed7953\"],[0.7777777777777778,\"#fb9f3a\"],[0.8888888888888888,\"#fdca26\"],[1.0,\"#f0f921\"]],\"sequentialminus\":[[0.0,\"#0d0887\"],[0.1111111111111111,\"#46039f\"],[0.2222222222222222,\"#7201a8\"],[0.3333333333333333,\"#9c179e\"],[0.4444444444444444,\"#bd3786\"],[0.5555555555555556,\"#d8576b\"],[0.6666666666666666,\"#ed7953\"],[0.7777777777777778,\"#fb9f3a\"],[0.8888888888888888,\"#fdca26\"],[1.0,\"#f0f921\"]]},\"colorway\":[\"#636efa\",\"#EF553B\",\"#00cc96\",\"#ab63fa\",\"#FFA15A\",\"#19d3f3\",\"#FF6692\",\"#B6E880\",\"#FF97FF\",\"#FECB52\"],\"font\":{\"color\":\"#2a3f5f\"},\"geo\":{\"bgcolor\":\"white\",\"lakecolor\":\"white\",\"landcolor\":\"#E5ECF6\",\"showlakes\":true,\"showland\":true,\"subunitcolor\":\"white\"},\"hoverlabel\":{\"align\":\"left\"},\"hovermode\":\"closest\",\"mapbox\":{\"style\":\"light\"},\"paper_bgcolor\":\"white\",\"plot_bgcolor\":\"#E5ECF6\",\"polar\":{\"angularaxis\":{\"gridcolor\":\"white\",\"linecolor\":\"white\",\"ticks\":\"\"},\"bgcolor\":\"#E5ECF6\",\"radialaxis\":{\"gridcolor\":\"white\",\"linecolor\":\"white\",\"ticks\":\"\"}},\"scene\":{\"xaxis\":{\"backgroundcolor\":\"#E5ECF6\",\"gridcolor\":\"white\",\"gridwidth\":2,\"linecolor\":\"white\",\"showbackground\":true,\"ticks\":\"\",\"zerolinecolor\":\"white\"},\"yaxis\":{\"backgroundcolor\":\"#E5ECF6\",\"gridcolor\":\"white\",\"gridwidth\":2,\"linecolor\":\"white\",\"showbackground\":true,\"ticks\":\"\",\"zerolinecolor\":\"white\"},\"zaxis\":{\"backgroundcolor\":\"#E5ECF6\",\"gridcolor\":\"white\",\"gridwidth\":2,\"linecolor\":\"white\",\"showbackground\":true,\"ticks\":\"\",\"zerolinecolor\":\"white\"}},\"shapedefaults\":{\"line\":{\"color\":\"#2a3f5f\"}},\"ternary\":{\"aaxis\":{\"gridcolor\":\"white\",\"linecolor\":\"white\",\"ticks\":\"\"},\"baxis\":{\"gridcolor\":\"white\",\"linecolor\":\"white\",\"ticks\":\"\"},\"bgcolor\":\"#E5ECF6\",\"caxis\":{\"gridcolor\":\"white\",\"linecolor\":\"white\",\"ticks\":\"\"}},\"title\":{\"x\":0.05},\"xaxis\":{\"automargin\":true,\"gridcolor\":\"white\",\"linecolor\":\"white\",\"ticks\":\"\",\"title\":{\"standoff\":15},\"zerolinecolor\":\"white\",\"zerolinewidth\":2},\"yaxis\":{\"automargin\":true,\"gridcolor\":\"white\",\"linecolor\":\"white\",\"ticks\":\"\",\"title\":{\"standoff\":15},\"zerolinecolor\":\"white\",\"zerolinewidth\":2}}},\"scene\":{\"domain\":{\"x\":[0.0,1.0],\"y\":[0.0,1.0]},\"xaxis\":{\"title\":{\"text\":\"PC1\"}},\"yaxis\":{\"title\":{\"text\":\"PC2\"}},\"zaxis\":{\"title\":{\"text\":\"PC3\"}}},\"coloraxis\":{\"colorbar\":{\"title\":{\"text\":\"Class\"}},\"colorscale\":[[0.0,\"#0d0887\"],[0.1111111111111111,\"#46039f\"],[0.2222222222222222,\"#7201a8\"],[0.3333333333333333,\"#9c179e\"],[0.4444444444444444,\"#bd3786\"],[0.5555555555555556,\"#d8576b\"],[0.6666666666666666,\"#ed7953\"],[0.7777777777777778,\"#fb9f3a\"],[0.8888888888888888,\"#fdca26\"],[1.0,\"#f0f921\"]]},\"legend\":{\"title\":{\"text\":\"Class\"},\"tracegroupgap\":0,\"x\":0,\"y\":1},\"margin\":{\"t\":60},\"width\":800},                        {\"responsive\": true}                    ).then(function(){\n",
       "                            \n",
       "var gd = document.getElementById('5087d222-0229-49a1-a2e1-ff8060b3f6d8');\n",
       "var x = new MutationObserver(function (mutations, observer) {{\n",
       "        var display = window.getComputedStyle(gd).display;\n",
       "        if (!display || display === 'none') {{\n",
       "            console.log([gd, 'removed!']);\n",
       "            Plotly.purge(gd);\n",
       "            observer.disconnect();\n",
       "        }}\n",
       "}});\n",
       "\n",
       "// Listen for the removal of the full notebook cells\n",
       "var notebookContainer = gd.closest('#notebook-container');\n",
       "if (notebookContainer) {{\n",
       "    x.observe(notebookContainer, {childList: true});\n",
       "}}\n",
       "\n",
       "// Listen for the clearing of the current output cell\n",
       "var outputEl = gd.closest('.output');\n",
       "if (outputEl) {{\n",
       "    x.observe(outputEl, {childList: true});\n",
       "}}\n",
       "\n",
       "                        })                };                });            </script>        </div>"
      ]
     },
     "metadata": {},
     "output_type": "display_data"
    }
   ],
   "source": [
    "# Creating a 3D-Scatter with the PCA data and the clusters\n",
    "fig = px.scatter_3d(\n",
    "    clustered_df,\n",
    "    x=\"PC1\",\n",
    "    y=\"PC2\",\n",
    "    z=\"PC3\",\n",
    "    color=\"Class\",\n",
    "    symbol=\"Class\",\n",
    "    width=800,\n",
    "    hover_name =\"CoinName\",\n",
    "    hover_data=['Algorithm'],\n",
    ")\n",
    "fig.update_layout(legend=dict(x=0, y=1))\n",
    "fig.show()"
   ]
  },
  {
   "cell_type": "code",
   "execution_count": 150,
   "metadata": {},
   "outputs": [
    {
     "data": {},
     "metadata": {},
     "output_type": "display_data"
    },
    {
     "data": {
      "application/vnd.holoviews_exec.v0+json": "",
      "text/html": [
       "<div id='4186'>\n",
       "\n",
       "\n",
       "\n",
       "\n",
       "\n",
       "  <div class=\"bk-root\" id=\"544ab207-96b8-4869-9998-d444ed3dbbf2\" data-root-id=\"4186\"></div>\n",
       "</div>\n",
       "<script type=\"application/javascript\">(function(root) {\n",
       "  function embed_document(root) {\n",
       "    var docs_json = {\"737c43e1-405c-4336-95b0-2c9e5225c814\":{\"defs\":[{\"extends\":null,\"module\":null,\"name\":\"ReactiveHTML1\",\"overrides\":[],\"properties\":[]},{\"extends\":null,\"module\":null,\"name\":\"FlexBox1\",\"overrides\":[],\"properties\":[{\"default\":\"flex-start\",\"kind\":null,\"name\":\"align_content\"},{\"default\":\"flex-start\",\"kind\":null,\"name\":\"align_items\"},{\"default\":\"row\",\"kind\":null,\"name\":\"flex_direction\"},{\"default\":\"wrap\",\"kind\":null,\"name\":\"flex_wrap\"},{\"default\":\"flex-start\",\"kind\":null,\"name\":\"justify_content\"}]},{\"extends\":null,\"module\":null,\"name\":\"GridStack1\",\"overrides\":[],\"properties\":[{\"default\":\"warn\",\"kind\":null,\"name\":\"mode\"},{\"default\":null,\"kind\":null,\"name\":\"ncols\"},{\"default\":null,\"kind\":null,\"name\":\"nrows\"},{\"default\":true,\"kind\":null,\"name\":\"allow_resize\"},{\"default\":true,\"kind\":null,\"name\":\"allow_drag\"},{\"default\":[],\"kind\":null,\"name\":\"state\"}]},{\"extends\":null,\"module\":null,\"name\":\"click1\",\"overrides\":[],\"properties\":[{\"default\":\"\",\"kind\":null,\"name\":\"terminal_output\"},{\"default\":\"\",\"kind\":null,\"name\":\"debug_name\"},{\"default\":0,\"kind\":null,\"name\":\"clears\"}]},{\"extends\":null,\"module\":null,\"name\":\"TemplateActions1\",\"overrides\":[],\"properties\":[{\"default\":0,\"kind\":null,\"name\":\"open_modal\"},{\"default\":0,\"kind\":null,\"name\":\"close_modal\"}]},{\"extends\":null,\"module\":null,\"name\":\"MaterialTemplateActions1\",\"overrides\":[],\"properties\":[{\"default\":0,\"kind\":null,\"name\":\"open_modal\"},{\"default\":0,\"kind\":null,\"name\":\"close_modal\"}]}],\"roots\":{\"references\":[{\"attributes\":{},\"id\":\"4189\",\"type\":\"Selection\"},{\"attributes\":{},\"id\":\"4206\",\"type\":\"StringEditor\"},{\"attributes\":{},\"id\":\"4216\",\"type\":\"IntEditor\"},{\"attributes\":{\"editor\":{\"id\":\"4191\"},\"field\":\"CoinName\",\"formatter\":{\"id\":\"4190\"},\"title\":\"CoinName\"},\"id\":\"4192\",\"type\":\"TableColumn\"},{\"attributes\":{\"source\":{\"id\":\"4188\"}},\"id\":\"4222\",\"type\":\"CDSView\"},{\"attributes\":{},\"id\":\"4195\",\"type\":\"StringFormatter\"},{\"attributes\":{\"editor\":{\"id\":\"4206\"},\"field\":\"TotalCoinSupply\",\"formatter\":{\"id\":\"4205\"},\"title\":\"TotalCoinSupply\"},\"id\":\"4207\",\"type\":\"TableColumn\"},{\"attributes\":{},\"id\":\"4196\",\"type\":\"StringEditor\"},{\"attributes\":{},\"id\":\"4191\",\"type\":\"StringEditor\"},{\"attributes\":{\"format\":\"0,0.0[00000]\"},\"id\":\"4210\",\"type\":\"NumberFormatter\"},{\"attributes\":{\"editor\":{\"id\":\"4196\"},\"field\":\"Algorithm\",\"formatter\":{\"id\":\"4195\"},\"title\":\"Algorithm\"},\"id\":\"4197\",\"type\":\"TableColumn\"},{\"attributes\":{},\"id\":\"4211\",\"type\":\"NumberEditor\"},{\"attributes\":{},\"id\":\"4200\",\"type\":\"StringFormatter\"},{\"attributes\":{\"editor\":{\"id\":\"4216\"},\"field\":\"Class\",\"formatter\":{\"id\":\"4215\"},\"title\":\"Class\"},\"id\":\"4217\",\"type\":\"TableColumn\"},{\"attributes\":{\"data\":{\"Algorithm\":[\"Scrypt\",\"Scrypt\",\"X13\",\"SHA-256\",\"Ethash\",\"Scrypt\",\"X11\",\"CryptoNight-V7\",\"Ethash\",\"Equihash\",\"SHA-512\",\"Multiple\",\"SHA-256\",\"SHA-256\",\"Scrypt\",\"X15\",\"X11\",\"Scrypt\",\"Scrypt\",\"Scrypt\",\"Multiple\",\"Scrypt\",\"SHA-256\",\"Scrypt\",\"Scrypt\",\"Scrypt\",\"Quark\",\"Groestl\",\"Scrypt\",\"Scrypt\",\"Scrypt\",\"Scrypt\",\"Scrypt\",\"X11\",\"Scrypt\",\"Groestl\",\"Multiple\",\"SHA-256\",\"Scrypt\",\"Scrypt\",\"Scrypt\",\"Scrypt\",\"PoS\",\"Scrypt\",\"Scrypt\",\"NeoScrypt\",\"Scrypt\",\"Scrypt\",\"Scrypt\",\"Scrypt\",\"X11\",\"Scrypt\",\"X11\",\"SHA-256\",\"Scrypt\",\"Scrypt\",\"Scrypt\",\"SHA3\",\"Scrypt\",\"HybridScryptHash256\",\"Scrypt\",\"Scrypt\",\"SHA-256\",\"Scrypt\",\"X13\",\"Scrypt\",\"SHA-256\",\"Scrypt\",\"X13\",\"NeoScrypt\",\"Scrypt\",\"Scrypt\",\"Scrypt\",\"Scrypt\",\"Scrypt\",\"Scrypt\",\"X11\",\"X11\",\"SHA-256\",\"Multiple\",\"SHA-256\",\"PHI1612\",\"X11\",\"SHA-256\",\"SHA-256\",\"SHA-256\",\"X11\",\"Scrypt\",\"Scrypt\",\"Scrypt\",\"Scrypt\",\"Lyra2REv2\",\"Scrypt\",\"X11\",\"Multiple\",\"SHA-256\",\"X13\",\"Scrypt\",\"CryptoNight\",\"CryptoNight\",\"Shabal256\",\"Counterparty\",\"Scrypt\",\"SHA-256\",\"Groestl\",\"Scrypt\",\"Scrypt\",\"Scrypt\",\"X13\",\"Scrypt\",\"Scrypt\",\"Scrypt\",\"Scrypt\",\"X13\",\"Scrypt\",\"Stanford Folding\",\"X11\",\"Multiple\",\"QuBit\",\"Scrypt\",\"Scrypt\",\"Scrypt\",\"M7 POW\",\"Scrypt\",\"SHA-256\",\"Scrypt\",\"X11\",\"SHA3\",\"X11\",\"Lyra2RE\",\"SHA-256\",\"QUAIT\",\"X11\",\"X11\",\"Scrypt\",\"Scrypt\",\"Scrypt\",\"Ethash\",\"X13\",\"Blake2b\",\"SHA-256\",\"X15\",\"X11\",\"SHA-256\",\"BLAKE256\",\"Scrypt\",\"1GB AES Pattern Search\",\"SHA-256\",\"X11\",\"Scrypt\",\"SHA-256\",\"SHA-256\",\"NIST5\",\"Scrypt\",\"Scrypt\",\"X11\",\"Dagger\",\"Scrypt\",\"X11GOST\",\"X11\",\"Scrypt\",\"SHA-256\",\"Scrypt\",\"PoS\",\"Scrypt\",\"X11\",\"X11\",\"SHA-256\",\"SHA-256\",\"NIST5\",\"X11\",\"Scrypt\",\"POS 3.0\",\"Scrypt\",\"Scrypt\",\"Scrypt\",\"X13\",\"X11\",\"X11\",\"Equihash\",\"X11\",\"Scrypt\",\"CryptoNight\",\"SHA-256\",\"SHA-256\",\"X11\",\"Scrypt\",\"Multiple\",\"Scrypt\",\"Scrypt\",\"Scrypt\",\"SHA-256\",\"Scrypt\",\"Scrypt\",\"SHA-256D\",\"PoS\",\"Scrypt\",\"X11\",\"Lyra2Z\",\"PoS\",\"X13\",\"X14\",\"PoS\",\"SHA-256D\",\"Ethash\",\"Equihash\",\"DPoS\",\"X11\",\"Scrypt\",\"X11\",\"X13\",\"X11\",\"PoS\",\"Scrypt\",\"Scrypt\",\"X11\",\"PoS\",\"X11\",\"SHA-256\",\"Scrypt\",\"X11\",\"Scrypt\",\"Scrypt\",\"X11\",\"CryptoNight\",\"Scrypt\",\"Scrypt\",\"Scrypt\",\"Scrypt\",\"Quark\",\"QuBit\",\"Scrypt\",\"CryptoNight\",\"Lyra2RE\",\"Scrypt\",\"SHA-256\",\"X11\",\"Scrypt\",\"X11\",\"Scrypt\",\"CryptoNight-V7\",\"Scrypt\",\"Scrypt\",\"Scrypt\",\"X13\",\"X11\",\"Equihash\",\"Scrypt\",\"Scrypt\",\"Lyra2RE\",\"Scrypt\",\"Dagger-Hashimoto\",\"X11\",\"Blake2S\",\"X11\",\"Scrypt\",\"PoS\",\"X11\",\"NIST5\",\"PoS\",\"X11\",\"Scrypt\",\"Scrypt\",\"Scrypt\",\"SHA-256\",\"X11\",\"Scrypt\",\"Scrypt\",\"SHA-256\",\"PoS\",\"Scrypt\",\"X15\",\"SHA-256\",\"Scrypt\",\"POS 3.0\",\"CryptoNight-V7\",\"536\",\"Argon2d\",\"Blake2b\",\"Cloverhash\",\"CryptoNight\",\"NIST5\",\"X11\",\"NIST5\",\"Skein\",\"Scrypt\",\"X13\",\"Scrypt\",\"X11\",\"X11\",\"Scrypt\",\"CryptoNight\",\"X13\",\"Time Travel\",\"Scrypt\",\"Keccak\",\"SkunkHash v2 Raptor\",\"X11\",\"Skein\",\"SHA-256\",\"X11\",\"Scrypt\",\"VeChainThor Authority\",\"Scrypt\",\"PoS\",\"Scrypt\",\"Scrypt\",\"Scrypt\",\"Scrypt\",\"Scrypt\",\"Scrypt\",\"Scrypt\",\"CryptoNight\",\"SHA-512\",\"Ouroboros\",\"X11\",\"Equihash\",\"NeoScrypt\",\"X11\",\"Scrypt\",\"NeoScrypt\",\"Lyra2REv2\",\"Equihash\",\"Scrypt\",\"SHA-256\",\"NIST5\",\"PHI1612\",\"Dagger\",\"Scrypt\",\"Quark\",\"Scrypt\",\"POS 2.0\",\"Scrypt\",\"SHA-256\",\"X11\",\"NeoScrypt\",\"Ethash\",\"NeoScrypt\",\"X11\",\"DPoS\",\"NIST5\",\"X13\",\"Multiple\",\"Scrypt\",\"CryptoNight\",\"CryptoNight\",\"Ethash\",\"NIST5\",\"Quark\",\"X11\",\"CryptoNight-V7\",\"Scrypt\",\"Scrypt\",\"Scrypt\",\"X11\",\"BLAKE256\",\"X11\",\"NeoScrypt\",\"Quark\",\"NeoScrypt\",\"Scrypt\",\"Scrypt\",\"Scrypt\",\"X11\",\"X11\",\"SHA-256\",\"C11\",\"POS 3.0\",\"Ethash\",\"Scrypt\",\"CryptoNight\",\"SkunkHash\",\"Scrypt\",\"CryptoNight\",\"Scrypt\",\"Dagger\",\"Lyra2REv2\",\"X13\",\"Proof-of-BibleHash\",\"SHA-256 + Hive\",\"Scrypt\",\"Scrypt\",\"X11\",\"C11\",\"Proof-of-Authority\",\"X11\",\"XEVAN\",\"Scrypt\",\"VBFT\",\"Ethash\",\"CryptoNight\",\"Scrypt\",\"IMesh\",\"NIST5\",\"Scrypt\",\"Scrypt\",\"Equihash\",\"Scrypt\",\"Lyra2Z\",\"Green Protocol\",\"PoS\",\"Scrypt\",\"Semux BFT consensus\",\"X11\",\"Quark\",\"PoS\",\"CryptoNight\",\"X16R\",\"Scrypt\",\"NIST5\",\"Lyra2RE\",\"XEVAN\",\"Tribus\",\"Scrypt\",\"Lyra2Z\",\"CryptoNight\",\"CryptoNight Heavy\",\"CryptoNight\",\"Scrypt\",\"Scrypt\",\"Jump Consistent Hash\",\"SHA-256D\",\"CryptoNight\",\"Scrypt\",\"X15\",\"Scrypt\",\"Quark\",\"SHA-256\",\"DPoS\",\"X16R\",\"HMQ1725\",\"X11\",\"X16R\",\"Quark\",\"Quark\",\"Scrypt\",\"Lyra2REv2\",\"Quark\",\"Scrypt\",\"Scrypt\",\"CryptoNight-V7\",\"Cryptonight-GPU\",\"XEVAN\",\"CryptoNight Heavy\",\"X11\",\"X11\",\"Scrypt\",\"PoS\",\"SHA-256\",\"Keccak\",\"X11\",\"X11\",\"Scrypt\",\"SHA-512\",\"X16R\",\"ECC 256K1\",\"Equihash\",\"XEVAN\",\"Lyra2Z\",\"SHA-256\",\"XEVAN\",\"X11\",\"CryptoNight\",\"Quark\",\"Blake\",\"Blake\",\"Equihash\",\"Exosis\",\"Scrypt\",\"Scrypt\",\"Equihash\",\"Quark\",\"Equihash\",\"Quark\",\"Scrypt\",\"QuBit\",\"X11\",\"Scrypt\",\"XEVAN\",\"SHA-256D\",\"X11\",\"SHA-256\",\"X13\",\"SHA-256\",\"X11\",\"DPoS\",\"Scrypt\",\"Scrypt\",\"X11\",\"NeoScrypt\",\"Scrypt\",\"Blake\",\"Scrypt\",\"SHA-256\",\"Scrypt\",\"X11\",\"Scrypt\",\"Scrypt\",\"SHA-256\",\"X11\",\"SHA-256\",\"Scrypt\",\"Scrypt\",\"Scrypt\",\"Groestl\",\"X11\",\"Scrypt\",\"PoS\",\"Scrypt\",\"Scrypt\",\"X11\",\"SHA-256\",\"DPoS\",\"Scrypt\",\"Scrypt\",\"NeoScrypt\",\"Multiple\",\"X13\",\"Equihash+Scrypt\",\"DPoS\",\"Ethash\",\"DPoS\",\"SHA-256\",\"Leased POS\",\"PoS\",\"TRC10\",\"PoS\",\"SHA-256\",\"Scrypt\",\"CryptoNight\",\"Equihash\",\"Scrypt\"],\"Class\":{\"__ndarray__\":\"AAAAAAAAAAAAAAAAAQAAAAEAAAABAAAAAAAAAAEAAAABAAAAAQAAAAAAAAABAAAAAAAAAAAAAAABAAAAAAAAAAEAAAABAAAAAAAAAAAAAAABAAAAAQAAAAEAAAABAAAAAQAAAAAAAAABAAAAAQAAAAEAAAAAAAAAAQAAAAAAAAABAAAAAQAAAAAAAAAAAAAAAQAAAAEAAAABAAAAAQAAAAEAAAABAAAAAAAAAAAAAAABAAAAAQAAAAEAAAABAAAAAQAAAAAAAAAAAAAAAQAAAAAAAAABAAAAAQAAAAEAAAABAAAAAAAAAAEAAAABAAAAAAAAAAEAAAAAAAAAAAAAAAAAAAABAAAAAQAAAAEAAAAAAAAAAAAAAAAAAAAAAAAAAAAAAAEAAAABAAAAAQAAAAAAAAAAAAAAAQAAAAAAAAABAAAAAAAAAAAAAAABAAAAAQAAAAEAAAABAAAAAAAAAAAAAAABAAAAAAAAAAEAAAABAAAAAAAAAAAAAAABAAAAAAAAAAAAAAABAAAAAQAAAAAAAAAAAAAAAQAAAAAAAAAAAAAAAQAAAAAAAAABAAAAAAAAAAEAAAAAAAAAAQAAAAAAAAAAAAAAAQAAAAEAAAAAAAAAAQAAAAEAAAABAAAAAAAAAAEAAAABAAAAAQAAAAEAAAABAAAAAAAAAAAAAAABAAAAAQAAAAEAAAAAAAAAAQAAAAAAAAABAAAAAQAAAAAAAAABAAAAAAAAAAEAAAAAAAAAAAAAAAEAAAABAAAAAAAAAAEAAAABAAAAAAAAAAAAAAABAAAAAAAAAAEAAAAAAAAAAAAAAAAAAAABAAAAAQAAAAEAAAABAAAAAAAAAAAAAAAAAAAAAAAAAAAAAAABAAAAAQAAAAAAAAAAAAAAAAAAAAAAAAAAAAAAAQAAAAAAAAAAAAAAAAAAAAAAAAAAAAAAAQAAAAAAAAABAAAAAAAAAAAAAAABAAAAAAAAAAEAAAAAAAAAAAAAAAEAAAAAAAAAAQAAAAAAAAABAAAAAAAAAAEAAAAAAAAAAAAAAAAAAAAAAAAAAQAAAAAAAAAAAAAAAAAAAAAAAAAAAAAAAQAAAAEAAAAAAAAAAAAAAAEAAAABAAAAAAAAAAAAAAAAAAAAAAAAAAAAAAABAAAAAAAAAAAAAAAAAAAAAAAAAAAAAAAAAAAAAAAAAAAAAAABAAAAAAAAAAAAAAAAAAAAAAAAAAAAAAAAAAAAAQAAAAEAAAABAAAAAAAAAAAAAAAAAAAAAAAAAAEAAAAAAAAAAQAAAAAAAAAAAAAAAQAAAAAAAAABAAAAAQAAAAAAAAABAAAAAQAAAAAAAAABAAAAAAAAAAAAAAAAAAAAAQAAAAAAAAAAAAAAAQAAAAAAAAAAAAAAAAAAAAAAAAAAAAAAAAAAAAAAAAABAAAAAAAAAAEAAAAAAAAAAAAAAAAAAAAAAAAAAQAAAAAAAAABAAAAAAAAAAEAAAABAAAAAQAAAAEAAAAAAAAAAQAAAAAAAAAAAAAAAQAAAAAAAAABAAAAAQAAAAEAAAAAAAAAAQAAAAAAAAABAAAAAQAAAAEAAAAAAAAAAQAAAAAAAAABAAAAAAAAAAAAAAADAAAAAQAAAAAAAAABAAAAAQAAAAEAAAABAAAAAQAAAAAAAAAAAAAAAQAAAAAAAAAAAAAAAAAAAAEAAAAAAAAAAQAAAAAAAAABAAAAAAAAAAEAAAAAAAAAAAAAAAAAAAAAAAAAAQAAAAAAAAAAAAAAAQAAAAAAAAAAAAAAAAAAAAEAAAABAAAAAQAAAAEAAAAAAAAAAAAAAAAAAAAAAAAAAQAAAAAAAAABAAAAAQAAAAEAAAAAAAAAAAAAAAEAAAABAAAAAAAAAAAAAAABAAAAAAAAAAEAAAABAAAAAQAAAAAAAAABAAAAAQAAAAAAAAAAAAAAAAAAAAEAAAABAAAAAQAAAAAAAAABAAAAAAAAAAEAAAABAAAAAAAAAAEAAAABAAAAAQAAAAEAAAAAAAAAAwAAAAAAAAABAAAAAQAAAAEAAAAAAAAAAwAAAAAAAAAAAAAAAAAAAAAAAAABAAAAAQAAAAEAAAABAAAAAAAAAAAAAAAAAAAAAQAAAAAAAAABAAAAAAAAAAAAAAAAAAAAAAAAAAEAAAAAAAAAAAAAAAEAAAAAAAAAAAAAAAEAAAABAAAAAAAAAAEAAAAAAAAAAQAAAAEAAAABAAAAAQAAAAAAAAAAAAAAAQAAAAAAAAABAAAAAAAAAAAAAAAAAAAAAAAAAAAAAAAAAAAAAQAAAAEAAAABAAAAAAAAAAAAAAAAAAAAAAAAAAAAAAAAAAAAAQAAAAAAAAABAAAAAQAAAAEAAAABAAAAAAAAAAAAAAAAAAAAAAAAAAEAAAAAAAAAAAAAAAEAAAAAAAAAAAAAAAEAAAADAAAAAQAAAAAAAAABAAAAAQAAAAAAAAAAAAAAAQAAAAAAAAABAAAAAQAAAAAAAAABAAAAAQAAAAAAAAABAAAAAAAAAAEAAAAAAAAAAAAAAAEAAAAAAAAAAAAAAAAAAAAAAAAAAAAAAAEAAAABAAAAAQAAAAAAAAAAAAAAAAAAAAEAAAAAAAAAAQAAAAAAAAABAAAAAAAAAAAAAAAAAAAAAAAAAAEAAAAAAAAAAAAAAAAAAAABAAAAAAAAAAEAAAAAAAAAAQAAAAAAAAAAAAAAAAAAAAEAAAABAAAAAAAAAAAAAAAAAAAAAAAAAAAAAAAAAAAAAQAAAAAAAAABAAAAAAAAAAEAAAAAAAAAAAAAAAMAAAAAAAAAAgAAAAAAAAAAAAAAAAAAAAEAAAABAAAAAAAAAA==\",\"dtype\":\"int32\",\"order\":\"little\",\"shape\":[532]},\"CoinName\":[\"42 Coin\",\"404Coin\",\"EliteCoin\",\"Bitcoin\",\"Ethereum\",\"Litecoin\",\"Dash\",\"Monero\",\"Ethereum Classic\",\"ZCash\",\"Bitshares\",\"DigiByte\",\"BitcoinDark\",\"PayCoin\",\"ProsperCoin\",\"KoboCoin\",\"Spreadcoin\",\"Argentum\",\"Aurora Coin\",\"BlueCoin\",\"MyriadCoin\",\"MoonCoin\",\"ZetaCoin\",\"SexCoin\",\"Quatloo\",\"EnergyCoin\",\"QuarkCoin\",\"Riecoin\",\"Digitalcoin \",\"BitBar\",\"Catcoin\",\"CryptoBullion\",\"CannaCoin\",\"CryptCoin\",\"CasinoCoin\",\"Diamond\",\"Verge\",\"DevCoin\",\"EarthCoin\",\"E-Gulden\",\"Einsteinium\",\"Emerald\",\"Exclusive Coin\",\"FlutterCoin\",\"Franko\",\"FeatherCoin\",\"GrandCoin\",\"GlobalCoin\",\"GoldCoin\",\"HoboNickels\",\"HyperStake\",\"Infinite Coin\",\"IOCoin\",\"IXcoin\",\"KrugerCoin\",\"LuckyCoin\",\"Litebar \",\"MaxCoin\",\"MegaCoin\",\"MediterraneanCoin\",\"MintCoin\",\"MinCoin\",\"MazaCoin\",\"Nautilus Coin\",\"NavCoin\",\"NobleCoin\",\"Namecoin\",\"NyanCoin\",\"OpalCoin\",\"Orbitcoin\",\"PotCoin\",\"PhoenixCoin\",\"Reddcoin\",\"RonPaulCoin\",\"StableCoin\",\"SmartCoin\",\"SuperCoin\",\"SyncCoin\",\"SysCoin\",\"TeslaCoin\",\"TigerCoin\",\"TittieCoin\",\"TorCoin\",\"TerraCoin\",\"UnbreakableCoin\",\"Unobtanium\",\"UroCoin\",\"UnitaryStatus Dollar\",\"UltraCoin\",\"ViaCoin\",\"VeriCoin\",\"Vertcoin\",\"WorldCoin\",\"X11 Coin\",\"Crypti\",\"JouleCoin\",\"StealthCoin\",\"ZCC Coin\",\"ByteCoin\",\"DigitalNote \",\"BurstCoin\",\"StorjCoin\",\"MonaCoin\",\"Neutron\",\"FairCoin\",\"Gulden\",\"RubyCoin\",\"PesetaCoin\",\"Kore\",\"Wild Beast Coin\",\"Dnotes\",\"Flo\",\"8BIT Coin\",\"Sativa Coin\",\"ArtByte\",\"Folding Coin\",\"Ucoin\",\"Unitus\",\"CypherPunkCoin\",\"OmniCron\",\"Vtorrent\",\"GreenCoin\",\"Cryptonite\",\"MasterCoin\",\"SoonCoin\",\"1Credit\",\"IslaCoin\",\"Nexus\",\"MarsCoin \",\"Crypto\",\"Anarchists Prime\",\"Droidz\",\"BowsCoin\",\"Squall Coin\",\"Song Coin\",\"BitZeny\",\"Diggits\",\"Expanse\",\"Paycon\",\"Siacoin\",\"Emercoin\",\"EverGreenCoin\",\"MindCoin\",\"I0coin\",\"Decred\",\"Revolution VR\",\"HOdlcoin\",\"EDRCoin\",\"Hitcoin\",\"Gamecredits\",\"DubaiCoin\",\"CarpeDiemCoin\",\"PWR Coin\",\"BillaryCoin\",\"GPU Coin\",\"Adzcoin\",\"SoilCoin\",\"YoCoin\",\"SibCoin\",\"EuropeCoin\",\"ZeitCoin\",\"SwingCoin\",\"SafeExchangeCoin\",\"Nebuchadnezzar\",\"Francs\",\"BolivarCoin\",\"Ratecoin\",\"Revenu\",\"Clockcoin\",\"VIP Tokens\",\"BitSend\",\"Omni\",\"Let it Ride\",\"PutinCoin\",\"iBankCoin\",\"Frankywillcoin\",\"MudraCoin\",\"PizzaCoin\",\"Lutetium Coin\",\"Komodo\",\"GoldBlocks\",\"CarterCoin\",\"Karbo\",\"BitTokens\",\"ZayedCoin\",\"MustangCoin\",\"ZoneCoin\",\"Circuits of Value\",\"RootCoin\",\"DopeCoin\",\"BitCurrency\",\"DollarCoin\",\"Swiscoin\",\"Shilling\",\"BuzzCoin\",\"Opair\",\"PesoBit\",\"Halloween Coin\",\"ZCoin\",\"CoffeeCoin\",\"RoyalCoin\",\"GanjaCoin V2\",\"TeamUP\",\"LanaCoin\",\"Elementrem\",\"ZClassic\",\"ARK\",\"InsaneCoin\",\"KiloCoin\",\"ArtexCoin\",\"EmberCoin\",\"XenixCoin\",\"FreeCoin\",\"PLNCoin\",\"AquariusCoin\",\"Kurrent\",\"Creatio\",\"Eternity\",\"Eurocoin\",\"BitcoinFast\",\"Stakenet\",\"BitConnect Coin\",\"MoneyCoin\",\"Enigma\",\"Cannabis Industry Coin\",\"Russiacoin\",\"PandaCoin\",\"GameUnits\",\"GAKHcoin\",\"Allsafe\",\"LiteCreed\",\"OsmiumCoin\",\"Bikercoins\",\"HexxCoin\",\"Klingon Empire Darsek\",\"Internet of People\",\"KushCoin\",\"Printerium\",\"PacCoin\",\"Impeach\",\"Citadel\",\"Zilbercoin\",\"FirstCoin\",\"BeaverCoin\",\"FindCoin\",\"VaultCoin\",\"Zero\",\"OpenChat\",\"Canada eCoin\",\"Zoin\",\"RenosCoin\",\"DubaiCoin\",\"VirtacoinPlus\",\"TajCoin\",\"Impact\",\"EB3coin\",\"Atmos\",\"HappyCoin\",\"Coinonat\",\"MacronCoin\",\"Condensate\",\"Independent Money System\",\"ArgusCoin\",\"LomoCoin\",\"ProCurrency\",\"GoldReserve\",\"BenjiRolls\",\"GrowthCoin\",\"ILCoin\",\"Phreak\",\"Degas Coin\",\"HTML5 Coin\",\"Ultimate Secure Cash\",\"EquiTrader\",\"QTUM\",\"Quantum Resistant Ledger\",\"Espers\",\"Dynamic\",\"Nano\",\"ChanCoin\",\"Dinastycoin\",\"Denarius\",\"DigitalPrice\",\"Virta Unique Coin\",\"Bitcoin Planet\",\"Unify\",\"BritCoin\",\"SocialCoin\",\"ArcticCoin\",\"DAS\",\"Linda\",\"LeviarCoin\",\"DeepOnion\",\"Bitcore\",\"gCn Coin\",\"SmartCash\",\"Signatum\",\"Onix\",\"Cream\",\"Bitcoin Cash\",\"Monoeci\",\"Draftcoin\",\"Vechain\",\"Sojourn Coin\",\"Stakecoin\",\"NewYorkCoin\",\"FrazCoin\",\"Kronecoin\",\"AdCoin\",\"Linx\",\"CoinonatX\",\"Ethereum Dark\",\"Sumokoin\",\"Obsidian\",\"Cardano\",\"Regalcoin\",\"BitcoinZ\",\"TrezarCoin\",\"Elements\",\"TerraNovaCoin\",\"VIVO Coin\",\"Rupee\",\"Bitcoin Gold\",\"WomenCoin\",\"Theresa May Coin\",\"NamoCoin\",\"LUXCoin\",\"Pirl\",\"Xios\",\"Bitcloud 2.0\",\"eBoost\",\"KekCoin\",\"BlackholeCoin\",\"Infinity Economics\",\"Pura\",\"Innova\",\"Ellaism\",\"GoByte\",\"Magnet\",\"Lamden Tau\",\"Electra\",\"Bitcoin Diamond\",\"SHIELD\",\"Cash & Back Coin\",\"UltraNote\",\"BitCoal\",\"DaxxCoin\",\"Bulwark\",\"Kalkulus\",\"AC3\",\"Lethean\",\"GermanCoin\",\"LiteCoin Ultra\",\"PopularCoin\",\"PhantomX\",\"Photon\",\"Sucre\",\"SparksPay\",\"Digiwage\",\"GunCoin\",\"IrishCoin\",\"Trollcoin\",\"Litecoin Plus\",\"Monkey Project\",\"Pioneer Coin\",\"UnitedBitcoin\",\"Interzone\",\"TokenPay\",\"1717 Masonic Commemorative Token\",\"My Big Coin\",\"TurtleCoin\",\"MUNcoin\",\"Unified Society USDEX\",\"Niobio Cash\",\"ShareChain\",\"Travelflex\",\"KREDS\",\"Tokyo Coin\",\"BiblePay\",\"LitecoinCash\",\"BitFlip\",\"LottoCoin\",\"Crypto Improvement Fund\",\"Stipend\",\"Poa Network\",\"Pushi\",\"Ellerium\",\"Velox\",\"Ontology\",\"Callisto Network\",\"BitTube\",\"Poseidon\",\"Aidos Kuneen\",\"Bitspace\",\"Briacoin\",\"Ignition\",\"Bitrolium\",\"MedicCoin\",\"Alpenschillling\",\"Bitcoin Green\",\"Deviant Coin\",\"Abjcoin\",\"Semux\",\"FuturoCoin\",\"Carebit\",\"Zealium\",\"Monero Classic\",\"Proton\",\"iDealCash\",\"Jumpcoin\",\"Infinex\",\"Bitcoin Incognito\",\"KEYCO\",\"HollyWoodCoin\",\"GINcoin\",\"PlatinCoin\",\"Loki\",\"Newton Coin\",\"Swisscoin\",\"Xt3ch\",\"MassGrid\",\"TheVig\",\"PluraCoin\",\"EmaratCoin\",\"Dekado\",\"Lynx\",\"Poseidon Quark\",\"BitcoinWSpectrum\",\"Muse\",\"Motion\",\"PlusOneCoin\",\"Axe\",\"Trivechain\",\"Dystem\",\"Giant\",\"Peony Coin\",\"Absolute Coin\",\"Vitae\",\"HexCoin\",\"TPCash\",\"Webchain\",\"Ryo\",\"Urals Coin\",\"Qwertycoin\",\"ARENON\",\"EUNO\",\"MMOCoin\",\"Ketan\",\"Project Pai\",\"XDNA\",\"PAXEX\",\"Azart\",\"ThunderStake\",\"Kcash\",\"Xchange\",\"Acute Angle Cloud\",\"CrypticCoin\",\"Bettex coin\",\"Actinium\",\"Bitcoin SV\",\"BitMoney\",\"Junson Ming Chan Coin\",\"FREDEnergy\",\"HerbCoin\",\"Universal Molecule\",\"Lithium\",\"PirateCash\",\"Exosis\",\"Block-Logic\",\"Oduwa\",\"Beam\",\"Galilel\",\"Bithereum\",\"Crypto Sports\",\"Credit\",\"SLICE\",\"Dash Platinum\",\"Nasdacoin\",\"Beetle Coin\",\"Titan Coin\",\"Award\",\"BLAST\",\"Bitcoin Rhodium\",\"GlobalToken\",\"Insane Coin\",\"ALAX\",\"LiteDoge\",\"SolarCoin\",\"TruckCoin\",\"UFO Coin\",\"OrangeCoin\",\"BlakeCoin\",\"BitstarCoin\",\"NeosCoin\",\"HyperCoin\",\"PinkCoin\",\"Crypto Escudo\",\"AudioCoin\",\"IncaKoin\",\"Piggy Coin\",\"Crown Coin\",\"Genstake\",\"SmileyCoin\",\"XiaoMiCoin\",\"Groestlcoin\",\"CapriCoin\",\" ClubCoin\",\"Radium\",\"Bata\",\"Pakcoin\",\"Creditbit \",\"OKCash\",\"Lisk\",\"HiCoin\",\"WhiteCoin\",\"FriendshipCoin\",\"JoinCoin\",\"Triangles Coin\",\"Vollar\",\"EOS\",\"Reality Clash\",\"Oxycoin\",\"TigerCash\",\"Waves\",\"Particl\",\"BitTorrent\",\"Nxt\",\"ZEPHYR\",\"Gapcoin\",\"Beldex\",\"Horizen\",\"BitcoinPlus\"],\"ProofType\":[\"PoW/PoS\",\"PoW/PoS\",\"PoW/PoS\",\"PoW\",\"PoW\",\"PoW\",\"PoW/PoS\",\"PoW\",\"PoW\",\"PoW\",\"PoS\",\"PoW\",\"PoW/PoS\",\"PoS\",\"PoW\",\"PoW/PoS\",\"PoW\",\"PoW\",\"PoW/PoS\",\"PoW/PoS\",\"PoW\",\"PoW\",\"PoW\",\"PoW\",\"PoW\",\"PoW/PoS\",\"PoW\",\"PoW\",\"PoW\",\"PoW/PoS\",\"PoW\",\"PoW/PoS\",\"PoW\",\"PoW\",\"PoC\",\"PoW/PoS\",\"PoW\",\"PoW\",\"PoW\",\"PoW\",\"PoW\",\"PoW\",\"PoS\",\"PoS/PoW/PoT\",\"PoW\",\"PoW\",\"PoW\",\"PoW\",\"PoW\",\"PoW/PoS\",\"PoS\",\"PoW\",\"PoW/PoS\",\"PoW\",\"PoW\",\"PoW\",\"PoW\",\"PoW/PoS\",\"PoW\",\"PoW\",\"PoS\",\"PoW\",\"PoW/PoS\",\"PoS\",\"PoW/PoS\",\"PoW\",\"PoW\",\"PoW\",\"PoW/PoS\",\"PoW/PoS\",\"PoW/PoS\",\"PoW/PoS\",\"PoW/PoS\",\"PoW\",\"PoW\",\"PoW\",\"PoS\",\"PoW/PoS\",\"PoW\",\"PoS\",\"PoW\",\"PoS\",\"PoW/PoS\",\"PoW\",\"PoW\",\"PoW\",\"PoW\",\"PoW/PoS\",\"PoW/PoS\",\"PoW\",\"PoST\",\"PoW\",\"PoW\",\"PoW/PoS\",\"PoS\",\"PoW\",\"PoW/PoS\",\"PoW/PoS\",\"PoW\",\"PoW\",\"PoC\",\"PoS\",\"PoW\",\"PoW/PoS\",\"PoW/PoS\",\"PoW\",\"PoS\",\"PoW\",\"PoW/PoS\",\"PoW\",\"PoS\",\"PoW\",\"PoW/PoS\",\"PoW/PoS\",\"PoW\",\"PoW\",\"PoS\",\"PoW\",\"PoW\",\"PoW\",\"PoW/PoS\",\"PoW\",\"PoW\",\"PoW\",\"PoW\",\"PoW\",\"PoW/PoS\",\"PoW/nPoS\",\"PoW\",\"PoW\",\"PoW\",\"PoW/PoS\",\"PoW\",\"PoS/PoW\",\"PoW\",\"PoW\",\"PoS\",\"PoW\",\"PoW/PoS\",\"PoW\",\"PoW/PoS\",\"PoW/PoS\",\"PoW\",\"PoW\",\"PoW/PoS\",\"PoW\",\"PoW\",\"PoW/PoS\",\"PoW/PoS\",\"PoW\",\"PoW/PoS\",\"PoW\",\"PoW/PoS\",\"PoW/PoS\",\"PoS\",\"PoW\",\"PoW\",\"PoW\",\"PoW\",\"PoW/PoS\",\"PoS\",\"PoW/PoS\",\"PoC\",\"PoS\",\"PoW\",\"PoW\",\"PoW/PoS\",\"PoW/PoS\",\"PoW/PoS\",\"PoW/PoS\",\"PoW/PoS\",\"PoW\",\"PoS\",\"PoW/PoS\",\"PoW/PoS\",\"PoW/PoS\",\"PoS\",\"PoW\",\"PoS\",\"dPoW/PoW\",\"PoW/PoS\",\"PoW/PoS\",\"PoW\",\"PoW/PoS\",\"PoW\",\"PoW/PoS\",\"PoW/PoS\",\"PoW\",\"PoW/PoS\",\"PoW\",\"PoS\",\"PoW\",\"PoW/PoW\",\"PoW\",\"PoW/PoS\",\"PoS\",\"PoW/PoS\",\"PoW/PoS\",\"PoW\",\"PoS\",\"PoS\",\"PoW/PoS\",\"PoS\",\"PoW/PoS\",\"PoW\",\"PoW\",\"DPoS\",\"PoW/PoS\",\"PoW\",\"PoW\",\"PoW/PoS\",\"PoW/PoS\",\"PoS\",\"PoW/PoS\",\"PoW/PoS\",\"PoW\",\"PoS\",\"PoW/PoS\",\"PoW/PoS\",\"PoW/PoS\",\"TPoS\",\"PoW/PoS\",\"PoW/PoS\",\"PoW/PoS\",\"PoW\",\"PoW/PoS\",\"PoS\",\"PoW/PoS\",\"PoW/PoS\",\"PoS\",\"PoW/PoS\",\"PoW\",\"PoW\",\"PoW\",\"PoW/PoS\",\"PoW/PoS\",\"PoW/PoS\",\"PoW/PoS\",\"PoW\",\"PoW/PoS\",\"PoW\",\"PoS\",\"PoW/PoS \",\"PoW\",\"PoS\",\"PoW\",\"PoW\",\"PoW/PoS\",\"PoW\",\"PoW\",\"PoS\",\"PoW\",\"PoW/PoS\",\"PoW/PoS\",\"PoW/PoS\",\"PoW\",\"PoS\",\"PoW/PoS\",\"PoW\",\"PoS\",\"PoW/PoS\",\"PoW/PoS\",\"PoW/PoS\",\"PoW/PoS\",\"PoS\",\"PoW/PoS\",\"PoW\",\"PoS\",\"PoW\",\"PoS\",\"PoW/PoS\",\"PoW/PoS\",\"PoS\",\"PoW\",\"PoS\",\"PoW\",\"PoW/PoS\",\"PoW\",\"PoW\",\"PoW\",\"PoW\",\"PoW/PoS\",\"PoW\",\"PoW/PoS\",\"PoW/PoS\",\"PoW\",\"PoW/PoS\",\"PoW\",\"PoW\",\"PoW\",\"PoW/PoS\",\"PoW\",\"PoW/PoS\",\"PoW\",\"PoW\",\"PoW\",\"PoS\",\"PoW\",\"PoW/PoS\",\"PoW\",\"PoW/PoS\",\"PoS\",\"Proof of Authority\",\"PoW\",\"PoS\",\"PoW\",\"PoW\",\"PoW\",\"PoW\",\"PoW\",\"PoW/PoS\",\"PoW/PoS\",\"PoW\",\"PoS\",\"PoS\",\"PoW/PoS\",\"PoW\",\"PoW/PoS\",\"PoW\",\"PoW/PoS\",\"PoW\",\"PoS\",\"PoW\",\"PoW/PoS\",\"PoW/PoS\",\"PoW/PoS\",\"PoW/PoS\",\"PoW\",\"PoW/PoS\",\"PoW/PoS\",\"PoW\",\"PoS\",\"PoW/PoS\",\"PoS\",\"PoW\",\"PoW\",\"PoW\",\"PoW\",\"PoW/PoS\",\"DPoS\",\"PoW/PoS\",\"PoW/PoS\",\"PoW\",\"PoW/PoS\",\"PoW\",\"PoW\",\"PoW\",\"PoS\",\"PoS\",\"PoW\",\"PoW\",\"PoW/PoS\",\"PoW/PoS\",\"PoW\",\"PoW/PoS\",\"PoW\",\"PoW\",\"PoW\",\"PoS\",\"PoW\",\"PoW\",\"PoW/PoS\",\"PoW/PoS\",\"PoS\",\"PoW\",\"PoW\",\"PoW\",\"PoS\",\"PoS\",\"PoW and PoS\",\"PoW\",\"PoW\",\"PoW/PoS\",\"PoW\",\"PoW\",\"PoW\",\"PoW\",\"PoS\",\"POBh\",\"PoW + Hive\",\"PoW\",\"PoW\",\"PoW\",\"PoW/PoS\",\"PoA\",\"PoW/PoS\",\"PoW/PoS\",\"PoS\",\"PoS\",\"PoW\",\"PoW\",\"PoW\",\"PoW\",\"PoW/PoS\",\"PoW/PoS\",\"PoW/PoS\",\"PoW\",\"PoS\",\"PoW\",\"PoS\",\"PoS\",\"PoW/PoS\",\"DPoS\",\"PoW\",\"PoW/PoS\",\"PoS\",\"PoW\",\"PoS\",\"PoW/PoS\",\"PoW\",\"PoW\",\"PoS/PoW\",\"PoW\",\"PoS\",\"PoW\",\"PoW\",\"PoW\",\"PoW\",\"PoW/PoS\",\"PoS\",\"PoW\",\"PoW/PoS\",\"PoW\",\"PoW/PoS\",\"PoS\",\"HPoW\",\"PoS\",\"PoS\",\"PoS\",\"PoW\",\"PoW\",\"PoW\",\"PoW/PoS\",\"PoS\",\"PoW/PoS\",\"PoS\",\"PoW/PoS\",\"PoS\",\"PoW\",\"PoW/PoS\",\"PoW\",\"PoW\",\"PoW\",\"PoW\",\"PoS\",\"PoW/PoS\",\"PoS\",\"PoS\",\"PoW\",\"PoW/PoS\",\"PoS\",\"PoW\",\"PoW/PoS\",\"Zero-Knowledge Proof\",\"PoW\",\"DPOS\",\"PoW\",\"PoS\",\"PoW\",\"PoW\",\"Pos\",\"PoS\",\"PoW\",\"PoW/PoS\",\"PoW\",\"PoW\",\"PoS\",\"PoW\",\"PoW\",\"PoW/PoS\",\"PoW\",\"PoW/PoS\",\"PoW\",\"PoS\",\"PoW/PoS\",\"PoW\",\"PoS\",\"PoW/PoS\",\"PoW/PoS\",\"PoW/PoS\",\"PoW/PoS\",\"PoW\",\"PoW\",\"PoW\",\"PoW/PoS\",\"DPoS\",\"PoW/PoS\",\"PoW\",\"PoW/PoS\",\"PoW\",\"PoW/PoS\",\"PoW\",\"PoW/PoS\",\"PoS\",\"PoW/PoS\",\"PoW/PoS\",\"PoW\",\"PoW/PoS\",\"PoW/PoS\",\"PoW/PoS\",\"PoW\",\"PoW/PoS\",\"PoW\",\"PoW/PoS\",\"PoW\",\"PoW/PoS\",\"PoW/PoS\",\"PoS\",\"PoW\",\"PoW\",\"Proof of Trust\",\"PoW/PoS\",\"DPoS\",\"PoS\",\"PoW/PoS\",\"PoW/PoS\",\"PoW\",\"PoW/PoS\",\"PoW\",\"DPoS\",\"PoW\",\"DPoS\",\"PoS\",\"LPoS\",\"PoS\",\"DPoS\",\"PoS/LPoS\",\"DPoS\",\"PoW/PoS\",\"PoW\",\"PoW\",\"PoS\"],\"TotalCoinSupply\":[\"42\",\"532000000\",\"314159265359\",\"21000000\",\"0\",\"84000000\",\"22000000\",\"0\",\"210000000\",\"21000000\",\"3600570502\",\"21000000000\",\"22000000\",\"12500000\",\"21000000\",\"350000000\",\"20000000\",\"64000000\",\"16768584\",\"0\",\"2000000000\",\"384000000000\",\"169795588\",\"250000000\",\"100000000\",\"0\",\"247000000\",\"84000000\",\"48166000\",\"500000\",\"21000000 \",\"1000000\",\"13140000\",\"18000000\",\"40000000000\",\"4380000\",\"16555000000\",\"21000000000\",\"13500000000\",\"21000000 \",\"299792458\",\"32000000\",\"0\",\"0\",\"11235813\",\"336000000\",\"1420609614\",\"70000000\",\"72245700\",\"120000000\",\"0\",\"90600000000\",\"22000000\",\"21000000\",\"265420800\",\"20000000\",\"1350000\",\"100000000\",\"42000000\",\"200000000\",\"0\",\"10000000\",\"2419200000\",\"16180000\",\"0\",\"15000000000\",\"21000000\",\"337000000\",\"0\",\"3770000\",\"420000000\",\"98000000\",\"0\",\"21000000\",\"250000000\",\"51200000\",\"0\",\"1000\",\"888000000\",\"100000000\",\"47011968\",\"2300000000\",\"10000000\",\"42000000\",\"80000000\",\"250000\",\"0\",\"1600000000\",\"100000000\",\"23000000\",\"0\",\"84000000\",\"265420800\",\"5500000\",\"0\",\"45000000\",\"0\",\"1000000000\",\"184467440735\",\"10000000000\",\"2158812800\",\"500000000\",\"105120000\",\"68000000\",\"0\",\"1680000000\",\"0\",\"166386000\",\"12000000\",\"2628000\",\"500000000\",\"160000000\",\"0\",\"10000000\",\"1000000000\",\"1000000000\",\"20000000\",\"0\",\"0\",\"3371337\",\"20000000\",\"10000000000\",\"1840000000\",\"619478\",\"21000000\",\"92000000000\",\"0\",\"78000000\",\"33000000\",\"65789100\",\"53760000\",\"5060000\",\"21000000\",\"0\",\"210240000\",\"250000000\",\"100000000\",\"16906397\",\"50000000\",\"0\",\"1000000000\",\"26298000\",\"16000000\",\"21000000\",\"21000000\",\"210000000\",\"81962100\",\"22000000\",\"26550000000\",\"84000000\",\"10500000\",\"21626280000 \",\"0\",\"42000000\",\"221052632\",\"84000000\",\"30000000\",\"168351300\",\"24000000\",\"384000000\",\" 99000000000\",\"40000000\",\"2147483647\",\"20000000\",\"20000000\",\"25000000\",\"75000000\",\"222725000\",\"525000000\",\"90000000\",\"139000000\",\"616448\",\"33500000\",\"2000000000\",\"44333333\",\"100000000\",\"200000000\",\"25000000\",\"657000000\",\"200000000\",\"50000000\",\"90000000\",\"10000000\",\"21000000\",\"9736000\",\"3000000\",\"21000000\",\"1200000000\",\"0\",\"200000000\",\"0\",\"10638298\",\"3100000000\",\"30000000\",\"20000000000\",\"74000000\",\"0\",\"1500000000\",\"21400000\",\"39999898\",\"2500124\",\"100000000\",\"301000000\",\"7506000000\",\"26205539\",\"21000000\",\"125000000\",\"30000000\",\"10000000000\",\"500000000\",\"850000000\",\"3853326.77707314\",\"50000000\",\"38540000 \",\"42000000\",\"228000000\",\"20000000\",\"60000000\",\"20000000\",\"33000000\",\"76500000\",\"28000000\",\"650659833\",\"5000000\",\"21000000\",\"144000000\",\"32514916898\",\"13000000\",\"3315789\",\"15000000\",\"78835200\",\"2714286\",\"25000000\",\"9999999\",\"500000000\",\"21000000\",\"9354000\",\"20000000\",\"100000000000\",\"21933333\",\"185000000\",\"55000000\",\"110000000\",\"3360000\",\"14524851.4827\",\"1000000000\",\"17000000\",\"1000000000\",\"100000000 \",\"21000000\",\"34426423\",\"2232901\",\"100000000\",\"36900000\",\"110000000\",\"4000000000\",\"110290030\",\"100000000\",\"48252000\",\"400000000\",\"500000000\",\"21212121\",\"28600000\",\"1000000000\",\"75000000000\",\"40000000\",\"35520400\",\"2000000000\",\"2500000000\",\"30000000\",\"105000000\",\"90000000000\",\"200084200\",\"72000000\",\"100000000\",\"105000000\",\"50000000000\",\"0\",\"340282367\",\"30000000\",\"2000000000\",\"10000000\",\"100000000\",\"120000000\",\"100000000\",\"19276800\",\"30000000\",\" 75000000\",\"60000000\",\"18900000\",\"50000000000\",\"54000000\",\"18898187.6216583\",\"21000000\",\"200000000000\",\"5000000000\",\"137500000\",\"1100000000\",\"100000000\",\"21000000\",\"9507271\",\"17405891.19707116\",\"86712634466\",\"10500000000\",\"61599965\",\"0\",\"20000000\",\"84000000\",\"100000000\",\"100000000\",\"48252000\",\"4200000\",\"88888888\",\"91388946\",\"45000000000\",\"27000000\",\"21000000000\",\"400000000\",\"1800000000\",\"15733333\",\"27000000\",\"24000000\",\"21000000\",\"25000000000\",\"100000000\",\"1200000000\",\"60000000\",\"156306732.71\",\"21000000\",\"200000000\",\"100000000\",\"21000000\",\"14788275.991\",\"9000000000\",\"350000000\",\"45000000\",\"280000000\",\"31800000\",\"144000000\",\"500000000\",\"30000000000\",\"210000000\",\"660000000\",\"210000000\",\"85000000000\",\"12500000\",\"10000000000\",\"27716121\",\"20000000\",\"550000000\",\"999481516\",\"50000000000\",\"150000000\",\"4999999999\",\"50000000\",\" 90000000000\",\"19800000\",\"21000000\",\"120000000\",\"500000000\",\"64000000\",\"900000000\",\"4000000\",\"21000000\",\"23000000\",\"20166000\",\"23000000\",\"25000000\",\"1618033\",\"30000000\",\"1000000000000\",\"16600000\",\"232000000\",\"336000000\",\"10000000000\",\"100000000\",\"1100000000\",\"800000000\",\"5200000000\",\"840000000\",\"40000000\",\"18406979840\",\"500000000\",\"19340594\",\"252460800\",\"25000000\",\"60000000\",\"124000000\",\"1000000000\",\"6500000000\",\"1000000000\",\"21000000\",\"25000000\",\"50000000\",\"3000000\",\"5000000\",\"70000000\",\"500000000\",\"300000000\",\"21000000\",\"88000000\",\"30000000\",\"100000000\",\"100000000\",\"200000000\",\"80000000\",\"18400000\",\"45000000\",\"5121951220\",\"21000000\",\"26280000\",\"21000000\",\"18000000\",\"26000000\",\"10500000\",\"600000518\",\"150000000\",\"184000000000\",\"10200000000\",\"44000000\",\"168000000\",\"100000000\",\"1000000000\",\"84000000\",\"90000000\",\"92000000000\",\"650000000 \",\"100262205\",\"18081806 \",\"22075700\",\"21000000\",\"21000000\",\"82546564\",\"21000000\",\"5151000\",\"16880000000\",\"52500000\",\"100000000\",\"22105263\",\"1000000000\",\"1750000000\",\"88188888\",\"210000000\",\"184470000000\",\"55000000\",\"50000000\",\"260000000\",\"210000000\",\"2100000000\",\"366000000\",\"100000000\",\"25000000\",\"18000000000\",\"1000000000\",\"100000000\",\"1000000000\",\"7600000000\",\"50000000\",\"84000000\",\"21000000\",\"70000000000\",\"0\",\"8080000000\",\"54000000\",\"105120001.44\",\"25228800\",\"105000000\",\"21000000\",\"120000000\",\"21000000\",\"262800000\",\"19035999\",\"30886000\",\"13370000\",\"74800000000\",\"100000000\",\"19700000\",\"84000000\",\"500000000\",\"5000000000\",\"420000000\",\"64000000\",\"2100000\",\"168000000\",\"30000000\",\"1000000000\",\"35000000000\",\"98100000000\",\"0\",\"4000000000\",\"200000000\",\"7000000000\",\"54256119\",\"21000000\",\"0\",\"500000000\",\"1000000000\",\"10500000000\",\"190000000\",\"1000000000\",\"42000000\",\"15000000\",\"50000000000\",\"400000000\",\"105000000\",\"208000000\",\"160000000\",\"9000000\",\"5000000\",\"182000000\",\"16504333\",\"105000000\",\"159918400\",\"10008835635\",\"300000000\",\"60168145\",\"2800000\",\"120000\",\"2100000000\",\"0\",\"24487944\",\"0\",\"1000000000\",\"100000000\",\"8634140\",\"990000000000\",\"1000000000\",\"2000000000\",\"250000000\",\"1400222610\",\"21000000\",\"1000000\"],\"TotalCoinsMined\":{\"__ndarray__\":\"E66yfP7/REC4HgUDbHLPQcQCukHCRBtCAAAAcMAYcUHb+b76hayZQfhoZlo4D45BczEFzM85YUFmkFFyf2dwQQAAAFztBptBAAAAEAQqXEEAAAA6IW3kQQAAKLzoPgVCAAAAAJ6qM0Epu0/cGOFmQQAAAIAdAVZBuzNpefhbeEFogey/NERlQQ8SPW7cR2dB+ijjv4NLcUEAAABO5u/CQQAAgMotKNlBAAAAAAAAVkCRe4LLOUqkQWlwu1zuvZ5B7FG4slgRXEES3YNEKFedQbxc1FkO8a5Bi10hSWmgh0FQLIHFyuR/Qc7ixUJvyuRAZlhcKb2KW0HCR4pNGbYvQdDqKuGh8VFBQQ4rjd4PU0GutucKX6AiQqBfqd8TNklB/fZoycqrDUIAAHBTCXwRQnWTloARWwdCTGbm7Bjxc0He//+wcBeqQbTI9iT1l3JBAAAAQJaqVUHCNFQR94a7QaQ8LSbMbzFBMPUDShPgqEEAAAA1WFnKQQJaxIOwUI9BD/H/v0jdg0EMI73Wa0iVQftcscYLA9lBo6E6fO0XNUJp65YfTtVwQW3n+0/EHHRBmpmZw9ANokHNzEzyVm5yQeu2uDrY2TBBAAAAaLVMjUFB3vH/OTGCQTMzM4eHR4NB0/wVEd7UE0K3KNQ4KyRWQdb//9BLDNhBAAAAAGTcbkFIZKnBRYOPQWh5ONDpoOFBAAAAAIIbbEHvrnvnQfOzQWC5lIqR6GxBEqW9I0SSSEECRgfUkYuqQQAAgKodopFB7loEOWBNG0KzdfRrHdkwQZqZmdvoF3dBqQYrknhoeEEorP5t5i2IQQAAAAAAZJJASWWmrurJwEEmvO6+tSKTQQAAAACNwoRBsaedNq8s2EHonwEAK9k1QQAAAEB233VBAAAAAINhQUF75AdVfoYIQQAAAAAObDJBZmYm5Ctg0EHqsCJZOvSHQfP/r8ISFHZBBGSeRqeJfkHGd4jeymaIQQAAAHQ6hJxBqj02xuuDWkEAAAAAhNeXQWWO5dqisIJBhvyY1oWPf0HN5/S7TaShQQAAB3WebUVCcSCmnaK6+UEAAADwLATbQQAAAMC4ZohBcBN8y0VCkEEAAADwmKeCQQAAADhjXYlBAAAAZOS8uEGF80Sm1ux5QeDz06y0ZKBBm6kQ40DcPkGTMePy+TQGQRqL3sPG0aRB26a4ke4mokEAAAAAwWU2QQAAAICAEltBAAAAUZSex0EAAABPt3DFQQAAAACKhURBAAAAsGYMj0EAAABAGUhYQchLLY4xV2NBAAAAQF4iZkFxPQ5ywyzxQQAAAMx5HcVBAAAAAKznIkEAAACAQ8VnQQAAAABQifVAAAAAAOgYN0EAAAAgqFqOQbTMIm2Yun5BAAAAQFI2akFuowEAyCBsQb/Mf8ucV2BBAAAAsANCbkFIisgQwBcUQQAAAECDDn9BAAAAkCQHkkEAAAAAhNeXQQAAAMClBGRBAAAAwKL5dUEAAEizP9MeQnMvcJZSiIRBdN9gjbfOaUEAAADg5UNuQXYi101WBnRBZYmz3Q7FY0EAAAAAsQipQQAAAKBO1mVB0TYn7F3/S0EAAJj8c3sEQgAAABB1ppBBAAAAgM2QU0EAAGSVNj8UQs9mP8p8wQJCZta35+opYUEAAACQC02DQQAAAKChgoVBAAAAAGjAVUEVe6IeXWwjQQAAALCvdnBBhtM4uazZY0FWnZ2VUDchQsSzAmd+slBBAADA////30EAAAAA0BJzQfWeCOrNEFlBACv2TwgLakHHaE16SgqgQQAAAAAFPjJBAAAAgCTIb0EAAACMaOWTQWZvBMgIQndBAAAAAADQIkH8k1OFq2aCQZ+vSflmO8hBAAAAAD1EUUEAAAAAhNeXQQAAAADQElNBAAAAAH0GNUEAAAAgg5TDQQAAAEzcoZtBAAAAIIyvbUEAAADgOZWEQSqHXC4Y111BAAAAAMorIkEAAAAAgNFXQXUZ5bDIESRBAAAAAOmyQ0EAAAAAZc3NQQAAAACxmT1BAAAAsKrbm0EAAAAwvTekQQAAAECjXmFBAACA3BLTw0EAAAAATDVlQQAA7E21OxJCLAwuO6qmkUEAAADQUPh/Qd/Fk3RYja9BUc34T+beXEEAAAAgerqhQQAAAAAOE0NBAAAAAITXl0F4eqWiQ/5wQWxb4nIfINBBAAAAMNb9eEEAAACA+2lVQQAAAJAhzJlBAAAA0Dl+cUEAAADmiWanQQAAAACfjshBAADD1R53NUL1IXdjB2ZNQQAAAACE14dBAAAAAERMcEGnlim1VLBCQQAAAGjSQo1BAAAAANASc0H6EPGEOidXQQAAAEDFrmdBAWxAemNOc0EAAACEqwWSQW8KEEyCImVBAAAAQE7RZEEAAAAAntwoQQAAAADC2S1BAAAAQIT1X0G1VTeErn0fQgAAAIArf0pBAAAAgCZMSUG3QKeXoQ9kQQAAAGDS03xBAAAAAJRIK0EAAAAA5NhhQemBj3GyoDxBAAAAwOvadkGII9U8v0VDQawzRD12llVBAAAAAFSMZkEAAAAd2QDAQQAAAABMzxJBBwq80BzsZEGMg2z7OkxGQQAAAADeOZpBAAAAAH3ER0FFR3JvNrRrQQAAAEBY+nxBHHiWeW1nWkEAAAAAZc3NQaJtQ0H1zZdBAAAA2MWvcUEAAADorTCBQQAAAIAiCUFBTuW+oh8baUEhj6B9UD1nQd/hZs9XYJpBAAAAoDmQjkEEVo5zMX+aQcubKKA6hnRBAAAAAPhOY0EAAABZNO23QTtUk67eAZ1BAAAAgBl7VEEAAAAApIUxQQAAAACAhB5BAAAARNP4l0EAAABgO2BwQY0pWDI4VnNBCaRc6miXsUEAAADLzqLTQWFHLT+iuWVBAAAAwIpedEEAAMDR7u4iQgAAACBZumNBckLXzXcUakEAAAAAhNeXQWUIVsOfdZBBAADce2Q8FUKonWsKIt5yQQAAAKTUxJ9BkdtqsfWNcUEAAMDBkfbaQQAAAAA7009BAAAA+GzBgEEAAADYWwOOQQAAAIDi9FlBAAAAsAxLcUEAAADAZ0h0QQAAAMCntlNBHxX6xf/VeEEAAAAA0wJEQX/w+Yv12ABCAAAAYPECa0Ga3cmg1eZ0QZKakZIo+nBBAABOq2v7QkJLH6e/YrLgQQAAAHgivplByhiP2VEznUGSw9HTzpGGQWq8WVp0KXFBJFgm0VX5Z0Hza5UVeMxxQQAAoDO40ilCAAAAAHidHUEAAAAAgIROQfDX1k3upUBCAAAAQE2CYkFw2XdWK6VwQQkyArFkIn9BAAAAcMkTgEEAAABAaKJyQQAAAACQBVBBAAAAoHsQYUEAAAAAhNd3QQAAKM1+JRhCzr66gjC0W0EDPqDeH2rzQQAAAICuxaVBy0qbvkkj5EGLprPq/mcxQVF7mcmnyE9BAAAAAGDjdkH5hGyRy2dwQQAAjLzRkCZCAAAAwFXylUEAAAAKwrTAQdlvVtQbr19BAAAAIM00gEEAAAAAnGZAQYpweOjvSX1BJ0/5xefWl0Hg88PJ5oRnQcl2vh+GNW9BAACwz4jDAEIAAADmKeOkQSlcj8LWUVhBAAAA4LFUaEEAAAC4nD9WQY52rBbqNoJBYW9+x+krsUEAAACS4nIaQsiUx5ED4aVB6fCQBqC2vEHPayxFf3WaQTj4lfsk9RFCAAAAAIgqUUEAAACELQy/Qb/tLlxZRGlBqdpuTpcrcEEAAAC8HCaTQRKDYLnxTLpBXI/WvvhL8kHLoUVKCQ9gQUjhGyQdie1BBOfcMG6KhUFZF6rN7wUcQv52QCDsIVBBqQRZVX7vXUEAAAAA9gh6QQAAAMGN3rFBm/K3SiGwhUEAAABOJZ3BQQndJR2TG0NBAAAAAPXPUEFs0d4KsytgQQAAAABXO3NBRN0Hg6W6ZkFVAY1Yqn9zQQAAAABxsDhB6KPo0IXtYUE9ipsSw74oQiP3U79oYVJB4naQc/D+q0HErxjPlu6fQQAAACBfoAJCJnMcSJ2WmUHVIcXjxS/DQQAAAFoqdKtB8dd4J/5n2kGWsBp+eAbDQRXGFoAyvWdBAACoqNr9CkJPPwDNSjCpQURLA8bRdWVBAAAAfjRgqEHNzMyMCYpAQVK4HoUtlxlBWiYo0q1ieEEAAIC4lGXDQQAAAEqIhK1BdXWf684Vk0GZUBwTog1PQQAAAACE13dBGcIW1FlMakEZtn+gi84pQQAAAIDJCTJBAAAAVDEDkUEAAKAYR92vQYN0bFrtEnpBfQaUa/WyYkFNBaat9tx0Qeux5ct22GJBAAAAACvJMkGJEf1SB1R+QXJuA5mDqKBBTNr5wtYfZUEAAAAAvIxuQQAAAACWzFBB5nRdlm/s1EGSQQkk4hd0QURRfW02clNBjX70YrDMZEEAAAAAbkYoQbR2u8vzdIJBBFMT7aemWkEAAAAAwJT0QAAAAAAuRHJBAACivbA6I0IAAAAwvf8CQkhQ/AAsG11Bg20UIDEyoEGcs497yrJ/QSXLM+AdscBB78nDukaZdEHP8+dFmuF8QVnmi1WJITJC6NT8eTS5REEY0gHIAZGLQQAAAIAfWnFBpq1XQWr/XkE4UF7FY31gQaKloawBDFNBrPn2hDebgUFNI9YPZgRbQasgKXHAlFZBluWQ57jML0GotR8+EW5pQSFAAa03f49BSGTlENedNUEZ8ryfJp1UQddG4emEt21BAAAAQESoUkFpyxQjRSBsQV3NAOrTLTdCcT0KX3hgckEWDZ5fe1h9Qf+yq29isZlBB1Ybc0PKYUEAAABA3UrfQXtmCXYA01FBAAAAwA8vUUHawOFXUiJTQReaN9DOls9BAAAAAGXNzUFRV68zk5piQQAAAABlzc1BAAAAitWN70FyYIdLU+RZQQAAAECkAWpBP8xZKrQocUFiFLwwZtuoQXBOQWIqBxBCkSxSxj/S20GEJfPNkdaAQZO4O1ApFThByd3xJ6g5bkEAAAAACrRpQTMzM7MvyRhBzT1kaTfTgEEcRpysmS9sQQAAAABjBIFBn0T6MztrcUEAAAA4VPx3QfT+3KxthT1BTx7ABmy1HEKNuYbNa6doQdWNf+IW1yVBJsJLAz6Yc0FvD7pAHLenQQAAAGixtspBrfE+UWlpbUHOuQVlhu+IQQAAAIB02zFB0v7/r18slEE4zCGFrax2QQAAAABlzc1B5x1IVZ2IDEL7Pxej2H6KQSibcjLG6qxBAACA+gF/7EEAAAAAf/xKQUgFZGJXRnZBAAAAQJGfc0FeS8aPUMFQQW94x/+7XmJBFoV9WDoCukEAAAAGiUDHQR9ofThlOs1BBFbV6ym1EEJuUAeag3W9QUrmXREL7HVBAAAAADicjEFprytpX40bQpijizthGbhBuqmMb8R5kUGs4drOJgGoQa4Pq9CTtJhBBonp3l4nTUGfQd76IkZTQZk6wZ0znZBBDFuTijkecEEqosuD3c2RQQAAALD1nJxBApot/nygAkKJmGJ4mQquQaD9SAGBGDFBAAAAQJ1tSUGoOuQGTi8BQQAAAACE15dB2T2JBSNqzkH5eoiBgFp3QRSu13KMudBBAAAAAGXNzUEAAAAAhNeXQdmqyTHItGFBxfR7nv3PbEIAAAAAZc3NQfOO0/5kzd1BlPryxIx6bEEAAIBBgTbNQQAAAGCG1VtBR9gB8W9U/0A=\",\"dtype\":\"float64\",\"order\":\"little\",\"shape\":[532]}},\"selected\":{\"id\":\"4189\"},\"selection_policy\":{\"id\":\"4223\"}},\"id\":\"4188\",\"type\":\"ColumnDataSource\"},{\"attributes\":{\"columns\":[{\"id\":\"4192\"},{\"id\":\"4197\"},{\"id\":\"4202\"},{\"id\":\"4207\"},{\"id\":\"4212\"},{\"id\":\"4217\"}],\"height\":300,\"reorderable\":false,\"source\":{\"id\":\"4188\"},\"view\":{\"id\":\"4222\"},\"width\":700},\"id\":\"4220\",\"type\":\"DataTable\"},{\"attributes\":{\"margin\":[5,5,5,5],\"name\":\"HSpacer08092\",\"sizing_mode\":\"stretch_width\"},\"id\":\"4187\",\"type\":\"Spacer\"},{\"attributes\":{\"margin\":[5,5,5,5],\"name\":\"HSpacer08093\",\"sizing_mode\":\"stretch_width\"},\"id\":\"4227\",\"type\":\"Spacer\"},{\"attributes\":{},\"id\":\"4201\",\"type\":\"StringEditor\"},{\"attributes\":{},\"id\":\"4190\",\"type\":\"StringFormatter\"},{\"attributes\":{\"editor\":{\"id\":\"4201\"},\"field\":\"ProofType\",\"formatter\":{\"id\":\"4200\"},\"title\":\"ProofType\"},\"id\":\"4202\",\"type\":\"TableColumn\"},{\"attributes\":{},\"id\":\"4223\",\"type\":\"UnionRenderers\"},{\"attributes\":{\"editor\":{\"id\":\"4211\"},\"field\":\"TotalCoinsMined\",\"formatter\":{\"id\":\"4210\"},\"title\":\"TotalCoinsMined\"},\"id\":\"4212\",\"type\":\"TableColumn\"},{\"attributes\":{},\"id\":\"4205\",\"type\":\"StringFormatter\"},{\"attributes\":{\"children\":[{\"id\":\"4187\"},{\"id\":\"4220\"},{\"id\":\"4227\"}],\"margin\":[0,0,0,0],\"name\":\"Row08088\",\"tags\":[\"embedded\"]},\"id\":\"4186\",\"type\":\"Row\"},{\"attributes\":{},\"id\":\"4215\",\"type\":\"NumberFormatter\"}],\"root_ids\":[\"4186\"]},\"title\":\"Bokeh Application\",\"version\":\"2.4.2\"}};\n",
       "    var render_items = [{\"docid\":\"737c43e1-405c-4336-95b0-2c9e5225c814\",\"root_ids\":[\"4186\"],\"roots\":{\"4186\":\"544ab207-96b8-4869-9998-d444ed3dbbf2\"}}];\n",
       "    root.Bokeh.embed.embed_items_notebook(docs_json, render_items);\n",
       "  }\n",
       "  if (root.Bokeh !== undefined && root.Bokeh.Panel !== undefined) {\n",
       "    embed_document(root);\n",
       "  } else {\n",
       "    var attempts = 0;\n",
       "    var timer = setInterval(function(root) {\n",
       "      if (root.Bokeh !== undefined && root.Bokeh.Panel !== undefined) {\n",
       "        clearInterval(timer);\n",
       "        embed_document(root);\n",
       "      } else if (document.readyState == \"complete\") {\n",
       "        attempts++;\n",
       "        if (attempts > 200) {\n",
       "          clearInterval(timer);\n",
       "          console.log(\"Bokeh: ERROR: Unable to run BokehJS code because BokehJS library is missing\");\n",
       "        }\n",
       "      }\n",
       "    }, 25, root)\n",
       "  }\n",
       "})(window);</script>"
      ],
      "text/plain": [
       ":Table   [CoinName,Algorithm,ProofType,TotalCoinSupply,TotalCoinsMined,Class]"
      ]
     },
     "execution_count": 150,
     "metadata": {
      "application/vnd.holoviews_exec.v0+json": {
       "id": "4186"
      }
     },
     "output_type": "execute_result"
    }
   ],
   "source": [
    "# Create a table with tradable cryptocurrencies.\n",
    "columns = [\"CoinName\", \"Algorithm\", \"ProofType\", \"TotalCoinSupply\", \"TotalCoinsMined\", \"Class\"]\n",
    "clustered_df.hvplot.table(columns, sortable =True, selectable=True)"
   ]
  },
  {
   "cell_type": "code",
   "execution_count": 151,
   "metadata": {},
   "outputs": [
    {
     "name": "stdout",
     "output_type": "stream",
     "text": [
      "There are 532 tradeable cryptocurrencies.\n"
     ]
    }
   ],
   "source": [
    "# Print the total number of tradable cryptocurrencies.\n",
    "print(f\"There are {clustered_df.CoinName.size} tradeable cryptocurrencies.\")"
   ]
  },
  {
   "cell_type": "code",
   "execution_count": 152,
   "metadata": {},
   "outputs": [
    {
     "name": "stdout",
     "output_type": "stream",
     "text": [
      "[[4.20000000e-11 0.00000000e+00]\n",
      " [5.32000000e-04 1.06585544e-03]\n",
      " [3.14159265e-01 2.95755135e-02]\n",
      " ...\n",
      " [1.40022261e-03 9.90135079e-04]\n",
      " [2.10000000e-05 7.37028150e-06]\n",
      " [1.00000000e-06 1.29582282e-07]]\n"
     ]
    }
   ],
   "source": [
    "# Scaling data to create the scatter plot with tradable cryptocurrencies.\n",
    "scaler =MinMaxScaler(feature_range=(0,1))\n",
    "cluster_scaled = scaler.fit_transform(clustered_df[[\"TotalCoinSupply\", \"TotalCoinsMined\"]])\n",
    "print(cluster_scaled)"
   ]
  },
  {
   "cell_type": "code",
   "execution_count": 153,
   "metadata": {},
   "outputs": [
    {
     "data": {
      "text/html": [
       "<div>\n",
       "<style scoped>\n",
       "    .dataframe tbody tr th:only-of-type {\n",
       "        vertical-align: middle;\n",
       "    }\n",
       "\n",
       "    .dataframe tbody tr th {\n",
       "        vertical-align: top;\n",
       "    }\n",
       "\n",
       "    .dataframe thead th {\n",
       "        text-align: right;\n",
       "    }\n",
       "</style>\n",
       "<table border=\"1\" class=\"dataframe\">\n",
       "  <thead>\n",
       "    <tr style=\"text-align: right;\">\n",
       "      <th></th>\n",
       "      <th>TotalCoinSupply</th>\n",
       "      <th>TotalCoinsMined</th>\n",
       "      <th>CoinName</th>\n",
       "      <th>Class</th>\n",
       "    </tr>\n",
       "    <tr>\n",
       "      <th></th>\n",
       "      <th></th>\n",
       "      <th></th>\n",
       "      <th></th>\n",
       "      <th></th>\n",
       "    </tr>\n",
       "  </thead>\n",
       "  <tbody>\n",
       "    <tr>\n",
       "      <th>42</th>\n",
       "      <td>42</td>\n",
       "      <td>4.199995e+01</td>\n",
       "      <td>42 Coin</td>\n",
       "      <td>0</td>\n",
       "    </tr>\n",
       "    <tr>\n",
       "      <th>404</th>\n",
       "      <td>532000000</td>\n",
       "      <td>1.055185e+09</td>\n",
       "      <td>404Coin</td>\n",
       "      <td>0</td>\n",
       "    </tr>\n",
       "    <tr>\n",
       "      <th>1337</th>\n",
       "      <td>314159265359</td>\n",
       "      <td>2.927942e+10</td>\n",
       "      <td>EliteCoin</td>\n",
       "      <td>0</td>\n",
       "    </tr>\n",
       "    <tr>\n",
       "      <th>BTC</th>\n",
       "      <td>21000000</td>\n",
       "      <td>1.792718e+07</td>\n",
       "      <td>Bitcoin</td>\n",
       "      <td>1</td>\n",
       "    </tr>\n",
       "    <tr>\n",
       "      <th>ETH</th>\n",
       "      <td>0</td>\n",
       "      <td>1.076842e+08</td>\n",
       "      <td>Ethereum</td>\n",
       "      <td>1</td>\n",
       "    </tr>\n",
       "    <tr>\n",
       "      <th>LTC</th>\n",
       "      <td>84000000</td>\n",
       "      <td>6.303924e+07</td>\n",
       "      <td>Litecoin</td>\n",
       "      <td>1</td>\n",
       "    </tr>\n",
       "    <tr>\n",
       "      <th>DASH</th>\n",
       "      <td>22000000</td>\n",
       "      <td>9.031294e+06</td>\n",
       "      <td>Dash</td>\n",
       "      <td>0</td>\n",
       "    </tr>\n",
       "    <tr>\n",
       "      <th>XMR</th>\n",
       "      <td>0</td>\n",
       "      <td>1.720114e+07</td>\n",
       "      <td>Monero</td>\n",
       "      <td>1</td>\n",
       "    </tr>\n",
       "    <tr>\n",
       "      <th>ETC</th>\n",
       "      <td>210000000</td>\n",
       "      <td>1.133597e+08</td>\n",
       "      <td>Ethereum Classic</td>\n",
       "      <td>1</td>\n",
       "    </tr>\n",
       "    <tr>\n",
       "      <th>ZEC</th>\n",
       "      <td>21000000</td>\n",
       "      <td>7.383056e+06</td>\n",
       "      <td>ZCash</td>\n",
       "      <td>1</td>\n",
       "    </tr>\n",
       "  </tbody>\n",
       "</table>\n",
       "</div>"
      ],
      "text/plain": [
       "     TotalCoinSupply  TotalCoinsMined          CoinName  Class\n",
       "                                                              \n",
       "42                42     4.199995e+01           42 Coin      0\n",
       "404        532000000     1.055185e+09           404Coin      0\n",
       "1337    314159265359     2.927942e+10         EliteCoin      0\n",
       "BTC         21000000     1.792718e+07           Bitcoin      1\n",
       "ETH                0     1.076842e+08          Ethereum      1\n",
       "LTC         84000000     6.303924e+07          Litecoin      1\n",
       "DASH        22000000     9.031294e+06              Dash      0\n",
       "XMR                0     1.720114e+07            Monero      1\n",
       "ETC        210000000     1.133597e+08  Ethereum Classic      1\n",
       "ZEC         21000000     7.383056e+06             ZCash      1"
      ]
     },
     "execution_count": 153,
     "metadata": {},
     "output_type": "execute_result"
    }
   ],
   "source": [
    "# Create a new DataFrame that has the scaled data with the clustered_df DataFrame index.\n",
    "plot_df = pd.DataFrame(data=clustered_df, columns=['TotalCoinSupply', 'TotalCoinsMined'], index=clustered_df.index)\n",
    "\n",
    "# Add the \"CoinName\" column from the clustered_df DataFrame to the new DataFrame.\n",
    "plot_df['CoinName'] = clustered_df['CoinName']\n",
    "\n",
    "# Add the \"Class\" column from the clustered_df DataFrame to the new DataFrame. \n",
    "plot_df['Class'] = clustered_df['Class']\n",
    "\n",
    "plot_df.head(10)"
   ]
  },
  {
   "cell_type": "code",
   "execution_count": 154,
   "metadata": {},
   "outputs": [
    {
     "data": {},
     "metadata": {},
     "output_type": "display_data"
    },
    {
     "data": {
      "application/vnd.holoviews_exec.v0+json": "",
      "text/html": [
       "<div id='4239'>\n",
       "\n",
       "\n",
       "\n",
       "\n",
       "\n",
       "  <div class=\"bk-root\" id=\"2e516368-4656-4ad0-b60b-ac8609d1f604\" data-root-id=\"4239\"></div>\n",
       "</div>\n",
       "<script type=\"application/javascript\">(function(root) {\n",
       "  function embed_document(root) {\n",
       "    var docs_json = {\"1a33f5f8-22a4-441a-ae29-63fb8c77efea\":{\"defs\":[{\"extends\":null,\"module\":null,\"name\":\"ReactiveHTML1\",\"overrides\":[],\"properties\":[]},{\"extends\":null,\"module\":null,\"name\":\"FlexBox1\",\"overrides\":[],\"properties\":[{\"default\":\"flex-start\",\"kind\":null,\"name\":\"align_content\"},{\"default\":\"flex-start\",\"kind\":null,\"name\":\"align_items\"},{\"default\":\"row\",\"kind\":null,\"name\":\"flex_direction\"},{\"default\":\"wrap\",\"kind\":null,\"name\":\"flex_wrap\"},{\"default\":\"flex-start\",\"kind\":null,\"name\":\"justify_content\"}]},{\"extends\":null,\"module\":null,\"name\":\"GridStack1\",\"overrides\":[],\"properties\":[{\"default\":\"warn\",\"kind\":null,\"name\":\"mode\"},{\"default\":null,\"kind\":null,\"name\":\"ncols\"},{\"default\":null,\"kind\":null,\"name\":\"nrows\"},{\"default\":true,\"kind\":null,\"name\":\"allow_resize\"},{\"default\":true,\"kind\":null,\"name\":\"allow_drag\"},{\"default\":[],\"kind\":null,\"name\":\"state\"}]},{\"extends\":null,\"module\":null,\"name\":\"click1\",\"overrides\":[],\"properties\":[{\"default\":\"\",\"kind\":null,\"name\":\"terminal_output\"},{\"default\":\"\",\"kind\":null,\"name\":\"debug_name\"},{\"default\":0,\"kind\":null,\"name\":\"clears\"}]},{\"extends\":null,\"module\":null,\"name\":\"TemplateActions1\",\"overrides\":[],\"properties\":[{\"default\":0,\"kind\":null,\"name\":\"open_modal\"},{\"default\":0,\"kind\":null,\"name\":\"close_modal\"}]},{\"extends\":null,\"module\":null,\"name\":\"MaterialTemplateActions1\",\"overrides\":[],\"properties\":[{\"default\":0,\"kind\":null,\"name\":\"open_modal\"},{\"default\":0,\"kind\":null,\"name\":\"close_modal\"}]}],\"roots\":{\"references\":[{\"attributes\":{\"angle\":{\"value\":0.0},\"fill_alpha\":{\"value\":1.0},\"fill_color\":{\"value\":\"#fc4f30\"},\"hatch_alpha\":{\"value\":1.0},\"hatch_color\":{\"value\":\"#fc4f30\"},\"hatch_scale\":{\"value\":12.0},\"hatch_weight\":{\"value\":1.0},\"line_alpha\":{\"value\":1.0},\"line_cap\":{\"value\":\"butt\"},\"line_color\":{\"value\":\"#fc4f30\"},\"line_dash\":{\"value\":[]},\"line_dash_offset\":{\"value\":0},\"line_join\":{\"value\":\"bevel\"},\"line_width\":{\"value\":1},\"marker\":{\"value\":\"circle\"},\"size\":{\"value\":5.477225575051661},\"x\":{\"field\":\"TotalCoinsMined\"},\"y\":{\"field\":\"TotalCoinSupply\"}},\"id\":\"4324\",\"type\":\"Scatter\"},{\"attributes\":{\"click_policy\":\"mute\",\"coordinates\":null,\"group\":null,\"items\":[{\"id\":\"4301\"},{\"id\":\"4323\"},{\"id\":\"4347\"},{\"id\":\"4373\"}],\"location\":[0,0],\"title\":\"Class\"},\"id\":\"4300\",\"type\":\"Legend\"},{\"attributes\":{\"fill_alpha\":{\"value\":0.1},\"fill_color\":{\"value\":\"#e5ae38\"},\"hatch_alpha\":{\"value\":0.1},\"hatch_color\":{\"value\":\"#e5ae38\"},\"line_alpha\":{\"value\":0.1},\"line_color\":{\"value\":\"#e5ae38\"},\"size\":{\"value\":5.477225575051661},\"x\":{\"field\":\"TotalCoinsMined\"},\"y\":{\"field\":\"TotalCoinSupply\"}},\"id\":\"4329\",\"type\":\"Scatter\"},{\"attributes\":{\"tools\":[{\"id\":\"4243\"},{\"id\":\"4263\"},{\"id\":\"4264\"},{\"id\":\"4265\"},{\"id\":\"4266\"},{\"id\":\"4267\"}]},\"id\":\"4269\",\"type\":\"Toolbar\"},{\"attributes\":{\"fill_alpha\":{\"value\":0.2},\"fill_color\":{\"value\":\"#e5ae38\"},\"hatch_alpha\":{\"value\":0.2},\"hatch_color\":{\"value\":\"#e5ae38\"},\"line_alpha\":{\"value\":0.2},\"line_color\":{\"value\":\"#e5ae38\"},\"size\":{\"value\":5.477225575051661},\"x\":{\"field\":\"TotalCoinsMined\"},\"y\":{\"field\":\"TotalCoinSupply\"}},\"id\":\"4330\",\"type\":\"Scatter\"},{\"attributes\":{},\"id\":\"4263\",\"type\":\"SaveTool\"},{\"attributes\":{\"factors\":[\"42\",\"532000000\",\"314159265359\",\"22000000\",\"3600570502\",\"12500000\",\"350000000\",\"16768584\",\"0\",\"500000\",\"1000000\",\"40000000000\",\"4380000\",\"120000000\",\"100000000\",\"2419200000\",\"16180000\",\"3770000\",\"420000000\",\"98000000\",\"1000\",\"2300000000\",\"10000000\",\"1600000000\",\"5500000\",\"1000000000\",\"2158812800\",\"500000000\",\"68000000\",\"12000000\",\"20000000\",\"78000000\",\"5060000\",\"50000000\",\"26298000\",\"21000000\",\"26550000000\",\"10500000\",\"42000000\",\"221052632\",\"384000000\",\" 99000000000\",\"40000000\",\"2147483647\",\"75000000\",\"222725000\",\"525000000\",\"90000000\",\"139000000\",\"33500000\",\"2000000000\",\"44333333\",\"200000000\",\"657000000\",\"3000000\",\"3100000000\",\"20000000000\",\"74000000\",\"1500000000\",\"39999898\",\"2500124\",\"301000000\",\"7506000000\",\"125000000\",\"30000000\",\"850000000\",\"3853326.77707314\",\"38540000 \",\"60000000\",\"33000000\",\"76500000\",\"28000000\",\"650659833\",\"5000000\",\"144000000\",\"32514916898\",\"13000000\",\"3315789\",\"15000000\",\"78835200\",\"9354000\",\"21933333\",\"55000000\",\"110000000\",\"14524851.4827\",\"34426423\",\"36900000\",\"110290030\",\"400000000\",\"21212121\",\"28600000\",\"75000000000\",\"105000000\",\"90000000000\",\"200084200\",\"50000000000\",\"18898187.6216583\",\"137500000\",\"9507271\",\"17405891.19707116\",\"61599965\",\"48252000\",\"4200000\",\"91388946\",\"45000000000\",\"27000000\",\"15733333\",\"24000000\",\"25000000000\",\"1200000000\",\"14788275.991\",\"9000000000\",\"30000000000\",\"210000000\",\"27716121\",\"150000000\",\"900000000\",\"4000000\",\"25000000\",\"232000000\",\"800000000\",\"840000000\",\"19340594\",\"124000000\",\"88000000\",\"80000000\",\"45000000\",\"5121951220\",\"26000000\",\"10200000000\",\"44000000\",\"84000000\",\"92000000000\",\"650000000 \",\"100262205\",\"18081806 \",\"82546564\",\"5151000\",\"16880000000\",\"52500000\",\"260000000\",\"366000000\",\"18000000000\",\"70000000000\",\"54000000\",\"19035999\",\"13370000\",\"74800000000\",\"19700000\",\"5000000000\",\"35000000000\",\"54256119\",\"10500000000\",\"190000000\",\"208000000\",\"160000000\",\"9000000\",\"16504333\",\"159918400\",\"10008835635\",\"300000000\",\"60168145\",\"120000\",\"8634140\",\"250000000\",\"21000000000\",\"64000000\",\"384000000000\",\"169795588\",\"247000000\",\"48166000\",\"21000000 \",\"13140000\",\"18000000\",\"16555000000\",\"13500000000\",\"299792458\",\"32000000\",\"11235813\",\"336000000\",\"1420609614\",\"70000000\",\"72245700\",\"90600000000\",\"265420800\",\"1350000\",\"15000000000\",\"337000000\",\"51200000\",\"888000000\",\"47011968\",\"250000\",\"23000000\",\"184467440735\",\"10000000000\",\"105120000\",\"1680000000\",\"166386000\",\"2628000\",\"3371337\",\"1840000000\",\"619478\",\"65789100\",\"53760000\",\"210240000\",\"16906397\",\"16000000\",\"81962100\",\"21626280000 \",\"168351300\",\"616448\",\"9736000\",\"10638298\",\"21400000\",\"26205539\",\"228000000\",\"2714286\",\"9999999\",\"100000000000\",\"185000000\",\"3360000\",\"17000000\",\"100000000 \",\"2232901\",\"4000000000\",\"35520400\",\"2500000000\",\"72000000\",\"340282367\",\"19276800\",\" 75000000\",\"18900000\",\"200000000000\",\"1100000000\",\"88888888\",\"1800000000\",\"156306732.71\",\"280000000\",\"31800000\",\"660000000\",\"85000000000\",\"550000000\",\"999481516\",\"4999999999\",\" 90000000000\",\"19800000\",\"20166000\",\"1618033\",\"1000000000000\",\"16600000\",\"18406979840\",\"6500000000\",\"18400000\",\"26280000\",\"600000518\",\"184000000000\",\"168000000\",\"22075700\",\"22105263\",\"1750000000\",\"88188888\",\"184470000000\",\"2100000000\",\"7600000000\",\"8080000000\",\"105120001.44\",\"25228800\",\"262800000\",\"30886000\",\"2100000\",\"98100000000\",\"7000000000\",\"182000000\",\"2800000\",\"24487944\",\"1400222610\",\"990000000000\",\"86712634466\",\"5200000000\",\"252460800\"],\"tags\":[[[\"TotalCoinSupply\",\"TotalCoinSupply\",null]]]},\"id\":\"4242\",\"type\":\"FactorRange\"},{\"attributes\":{},\"id\":\"4344\",\"type\":\"UnionRenderers\"},{\"attributes\":{},\"id\":\"4264\",\"type\":\"PanTool\"},{\"attributes\":{},\"id\":\"4326\",\"type\":\"Selection\"},{\"attributes\":{\"label\":{\"value\":\"2\"},\"renderers\":[{\"id\":\"4331\"}]},\"id\":\"4347\",\"type\":\"LegendItem\"},{\"attributes\":{},\"id\":\"4265\",\"type\":\"WheelZoomTool\"},{\"attributes\":{\"source\":{\"id\":\"4325\"}},\"id\":\"4332\",\"type\":\"CDSView\"},{\"attributes\":{\"overlay\":{\"id\":\"4268\"}},\"id\":\"4266\",\"type\":\"BoxZoomTool\"},{\"attributes\":{\"fill_alpha\":{\"value\":0.2},\"fill_color\":{\"value\":\"#6d904f\"},\"hatch_alpha\":{\"value\":0.2},\"hatch_color\":{\"value\":\"#6d904f\"},\"line_alpha\":{\"value\":0.2},\"line_color\":{\"value\":\"#6d904f\"},\"size\":{\"value\":5.477225575051661},\"x\":{\"field\":\"TotalCoinsMined\"},\"y\":{\"field\":\"TotalCoinSupply\"}},\"id\":\"4354\",\"type\":\"Scatter\"},{\"attributes\":{},\"id\":\"4281\",\"type\":\"AllLabels\"},{\"attributes\":{},\"id\":\"4267\",\"type\":\"ResetTool\"},{\"attributes\":{},\"id\":\"4304\",\"type\":\"Selection\"},{\"attributes\":{\"bottom_units\":\"screen\",\"coordinates\":null,\"fill_alpha\":0.5,\"fill_color\":\"lightgrey\",\"group\":null,\"left_units\":\"screen\",\"level\":\"overlay\",\"line_alpha\":1.0,\"line_color\":\"black\",\"line_dash\":[4,4],\"line_width\":2,\"right_units\":\"screen\",\"syncable\":false,\"top_units\":\"screen\"},\"id\":\"4268\",\"type\":\"BoxAnnotation\"},{\"attributes\":{\"fill_alpha\":{\"value\":0.2},\"fill_color\":{\"value\":\"#fc4f30\"},\"hatch_alpha\":{\"value\":0.2},\"hatch_color\":{\"value\":\"#fc4f30\"},\"line_alpha\":{\"value\":0.2},\"line_color\":{\"value\":\"#fc4f30\"},\"size\":{\"value\":5.477225575051661},\"x\":{\"field\":\"TotalCoinsMined\"},\"y\":{\"field\":\"TotalCoinSupply\"}},\"id\":\"4308\",\"type\":\"Scatter\"},{\"attributes\":{\"data\":{\"Class\":[1,1,1,1,1,1,1,1,1,1,1,1,1,1,1,1,1,1,1,1,1,1,1,1,1,1,1,1,1,1,1,1,1,1,1,1,1,1,1,1,1,1,1,1,1,1,1,1,1,1,1,1,1,1,1,1,1,1,1,1,1,1,1,1,1,1,1,1,1,1,1,1,1,1,1,1,1,1,1,1,1,1,1,1,1,1,1,1,1,1,1,1,1,1,1,1,1,1,1,1,1,1,1,1,1,1,1,1,1,1,1,1,1,1,1,1,1,1,1,1,1,1,1,1,1,1,1,1,1,1,1,1,1,1,1,1,1,1,1,1,1,1,1,1,1,1,1,1,1,1,1,1,1,1,1,1,1,1,1,1,1,1,1,1,1,1,1,1,1,1,1,1,1,1,1,1,1,1,1,1,1,1,1,1,1,1,1,1,1,1,1,1,1,1,1,1,1,1,1,1,1,1,1,1,1,1,1,1,1,1,1,1,1,1,1,1,1,1,1,1,1,1,1,1,1,1,1,1,1,1,1,1,1,1,1,1,1,1,1],\"CoinName\":[\"Bitcoin\",\"Ethereum\",\"Litecoin\",\"Monero\",\"Ethereum Classic\",\"ZCash\",\"DigiByte\",\"ProsperCoin\",\"Spreadcoin\",\"Argentum\",\"MyriadCoin\",\"MoonCoin\",\"ZetaCoin\",\"SexCoin\",\"Quatloo\",\"QuarkCoin\",\"Riecoin\",\"Digitalcoin \",\"Catcoin\",\"CannaCoin\",\"CryptCoin\",\"Verge\",\"DevCoin\",\"EarthCoin\",\"E-Gulden\",\"Einsteinium\",\"Emerald\",\"Franko\",\"FeatherCoin\",\"GrandCoin\",\"GlobalCoin\",\"GoldCoin\",\"Infinite Coin\",\"IXcoin\",\"KrugerCoin\",\"LuckyCoin\",\"Litebar \",\"MegaCoin\",\"MediterraneanCoin\",\"MinCoin\",\"NobleCoin\",\"Namecoin\",\"NyanCoin\",\"RonPaulCoin\",\"StableCoin\",\"SmartCoin\",\"SysCoin\",\"TigerCoin\",\"TerraCoin\",\"UnbreakableCoin\",\"Unobtanium\",\"UroCoin\",\"ViaCoin\",\"Vertcoin\",\"WorldCoin\",\"JouleCoin\",\"ByteCoin\",\"DigitalNote \",\"MonaCoin\",\"Gulden\",\"PesetaCoin\",\"Wild Beast Coin\",\"Flo\",\"ArtByte\",\"Folding Coin\",\"Unitus\",\"CypherPunkCoin\",\"OmniCron\",\"GreenCoin\",\"Cryptonite\",\"MasterCoin\",\"SoonCoin\",\"1Credit\",\"MarsCoin \",\"Crypto\",\"Anarchists Prime\",\"BowsCoin\",\"Song Coin\",\"BitZeny\",\"Expanse\",\"Siacoin\",\"MindCoin\",\"I0coin\",\"Revolution VR\",\"HOdlcoin\",\"Gamecredits\",\"CarpeDiemCoin\",\"Adzcoin\",\"SoilCoin\",\"YoCoin\",\"SibCoin\",\"Francs\",\"BolivarCoin\",\"Omni\",\"PizzaCoin\",\"Komodo\",\"Karbo\",\"ZayedCoin\",\"Circuits of Value\",\"DopeCoin\",\"DollarCoin\",\"Shilling\",\"ZCoin\",\"Elementrem\",\"ZClassic\",\"KiloCoin\",\"ArtexCoin\",\"Kurrent\",\"Cannabis Industry Coin\",\"OsmiumCoin\",\"Bikercoins\",\"HexxCoin\",\"PacCoin\",\"Citadel\",\"BeaverCoin\",\"VaultCoin\",\"Zero\",\"Canada eCoin\",\"Zoin\",\"DubaiCoin\",\"EB3coin\",\"Coinonat\",\"BenjiRolls\",\"ILCoin\",\"EquiTrader\",\"Quantum Resistant Ledger\",\"Dynamic\",\"Nano\",\"ChanCoin\",\"Dinastycoin\",\"DigitalPrice\",\"Unify\",\"SocialCoin\",\"ArcticCoin\",\"DAS\",\"LeviarCoin\",\"Bitcore\",\"gCn Coin\",\"SmartCash\",\"Onix\",\"Bitcoin Cash\",\"Sojourn Coin\",\"NewYorkCoin\",\"FrazCoin\",\"Kronecoin\",\"AdCoin\",\"Linx\",\"Sumokoin\",\"BitcoinZ\",\"Elements\",\"VIVO Coin\",\"Bitcoin Gold\",\"Pirl\",\"eBoost\",\"Pura\",\"Innova\",\"Ellaism\",\"GoByte\",\"SHIELD\",\"UltraNote\",\"BitCoal\",\"DaxxCoin\",\"AC3\",\"Lethean\",\"PopularCoin\",\"Photon\",\"Sucre\",\"SparksPay\",\"GunCoin\",\"IrishCoin\",\"Pioneer Coin\",\"UnitedBitcoin\",\"Interzone\",\"1717 Masonic Commemorative Token\",\"TurtleCoin\",\"MUNcoin\",\"Niobio Cash\",\"ShareChain\",\"Travelflex\",\"KREDS\",\"BitFlip\",\"LottoCoin\",\"Crypto Improvement Fund\",\"Callisto Network\",\"BitTube\",\"Poseidon\",\"Aidos Kuneen\",\"Bitrolium\",\"Alpenschillling\",\"FuturoCoin\",\"Monero Classic\",\"Jumpcoin\",\"Infinex\",\"KEYCO\",\"GINcoin\",\"PlatinCoin\",\"Loki\",\"Newton Coin\",\"MassGrid\",\"PluraCoin\",\"Motion\",\"PlusOneCoin\",\"Axe\",\"HexCoin\",\"Webchain\",\"Ryo\",\"Urals Coin\",\"Qwertycoin\",\"Project Pai\",\"Azart\",\"Xchange\",\"CrypticCoin\",\"Actinium\",\"Bitcoin SV\",\"FREDEnergy\",\"Universal Molecule\",\"Lithium\",\"Exosis\",\"Block-Logic\",\"Beam\",\"Bithereum\",\"SLICE\",\"BLAST\",\"Bitcoin Rhodium\",\"GlobalToken\",\"SolarCoin\",\"UFO Coin\",\"BlakeCoin\",\"Crypto Escudo\",\"Crown Coin\",\"SmileyCoin\",\"Groestlcoin\",\"Bata\",\"Pakcoin\",\"JoinCoin\",\"Vollar\",\"Reality Clash\",\"Beldex\",\"Horizen\"],\"TotalCoinSupply\":[\"21000000\",\"0\",\"84000000\",\"0\",\"210000000\",\"21000000\",\"21000000000\",\"21000000\",\"20000000\",\"64000000\",\"2000000000\",\"384000000000\",\"169795588\",\"250000000\",\"100000000\",\"247000000\",\"84000000\",\"48166000\",\"21000000 \",\"13140000\",\"18000000\",\"16555000000\",\"21000000000\",\"13500000000\",\"21000000 \",\"299792458\",\"32000000\",\"11235813\",\"336000000\",\"1420609614\",\"70000000\",\"72245700\",\"90600000000\",\"21000000\",\"265420800\",\"20000000\",\"1350000\",\"42000000\",\"200000000\",\"10000000\",\"15000000000\",\"21000000\",\"337000000\",\"21000000\",\"250000000\",\"51200000\",\"888000000\",\"47011968\",\"42000000\",\"80000000\",\"250000\",\"0\",\"23000000\",\"84000000\",\"265420800\",\"45000000\",\"184467440735\",\"10000000000\",\"105120000\",\"1680000000\",\"166386000\",\"2628000\",\"160000000\",\"1000000000\",\"1000000000\",\"0\",\"0\",\"3371337\",\"10000000000\",\"1840000000\",\"619478\",\"21000000\",\"92000000000\",\"33000000\",\"65789100\",\"53760000\",\"21000000\",\"210240000\",\"250000000\",\"16906397\",\"0\",\"16000000\",\"21000000\",\"210000000\",\"81962100\",\"84000000\",\"21626280000 \",\"84000000\",\"30000000\",\"168351300\",\"24000000\",\"20000000\",\"25000000\",\"616448\",\"25000000\",\"200000000\",\"10000000\",\"9736000\",\"1200000000\",\"200000000\",\"10638298\",\"30000000\",\"21400000\",\"26205539\",\"21000000\",\"10000000000\",\"500000000\",\"228000000\",\"21000000\",\"2714286\",\"25000000\",\"9999999\",\"100000000000\",\"185000000\",\"3360000\",\"1000000000\",\"17000000\",\"100000000 \",\"21000000\",\"2232901\",\"4000000000\",\"48252000\",\"35520400\",\"2500000000\",\"72000000\",\"105000000\",\"0\",\"340282367\",\"30000000\",\"2000000000\",\"100000000\",\"19276800\",\" 75000000\",\"60000000\",\"18900000\",\"54000000\",\"21000000\",\"200000000000\",\"5000000000\",\"1100000000\",\"21000000\",\"10500000000\",\"0\",\"20000000\",\"84000000\",\"100000000\",\"100000000\",\"88888888\",\"21000000000\",\"1800000000\",\"27000000\",\"21000000\",\"156306732.71\",\"100000000\",\"350000000\",\"45000000\",\"280000000\",\"31800000\",\"660000000\",\"85000000000\",\"12500000\",\"10000000000\",\"550000000\",\"999481516\",\"4999999999\",\" 90000000000\",\"19800000\",\"21000000\",\"500000000\",\"64000000\",\"23000000\",\"20166000\",\"23000000\",\"1618033\",\"1000000000000\",\"16600000\",\"336000000\",\"10000000000\",\"100000000\",\"1100000000\",\"40000000\",\"18406979840\",\"500000000\",\"6500000000\",\"1000000000\",\"21000000\",\"25000000\",\"70000000\",\"300000000\",\"100000000\",\"18400000\",\"21000000\",\"26280000\",\"18000000\",\"10500000\",\"600000518\",\"150000000\",\"184000000000\",\"168000000\",\"1000000000\",\"22075700\",\"21000000\",\"21000000\",\"22105263\",\"1750000000\",\"88188888\",\"210000000\",\"184470000000\",\"2100000000\",\"25000000\",\"100000000\",\"7600000000\",\"84000000\",\"21000000\",\"8080000000\",\"105120001.44\",\"25228800\",\"21000000\",\"120000000\",\"262800000\",\"30886000\",\"100000000\",\"64000000\",\"2100000\",\"168000000\",\"98100000000\",\"4000000000\",\"7000000000\",\"1000000000\",\"42000000\",\"50000000000\",\"105000000\",\"5000000\",\"182000000\",\"2800000\",\"2100000000\",\"24487944\",\"1400222610\",\"21000000\"],\"TotalCoinsMined\":{\"__ndarray__\":\"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\",\"dtype\":\"float64\",\"order\":\"little\",\"shape\":[239]}},\"selected\":{\"id\":\"4304\"},\"selection_policy\":{\"id\":\"4320\"}},\"id\":\"4303\",\"type\":\"ColumnDataSource\"},{\"attributes\":{\"fill_color\":{\"value\":\"#e5ae38\"},\"hatch_color\":{\"value\":\"#e5ae38\"},\"line_color\":{\"value\":\"#e5ae38\"},\"size\":{\"value\":5.477225575051661},\"x\":{\"field\":\"TotalCoinsMined\"},\"y\":{\"field\":\"TotalCoinSupply\"}},\"id\":\"4328\",\"type\":\"Scatter\"},{\"attributes\":{\"coordinates\":null,\"data_source\":{\"id\":\"4325\"},\"glyph\":{\"id\":\"4328\"},\"group\":null,\"hover_glyph\":null,\"muted_glyph\":{\"id\":\"4330\"},\"nonselection_glyph\":{\"id\":\"4329\"},\"selection_glyph\":{\"id\":\"4348\"},\"view\":{\"id\":\"4332\"}},\"id\":\"4331\",\"type\":\"GlyphRenderer\"},{\"attributes\":{\"fill_alpha\":{\"value\":0.1},\"fill_color\":{\"value\":\"#30a2da\"},\"hatch_alpha\":{\"value\":0.1},\"hatch_color\":{\"value\":\"#30a2da\"},\"line_alpha\":{\"value\":0.1},\"line_color\":{\"value\":\"#30a2da\"},\"size\":{\"value\":5.477225575051661},\"x\":{\"field\":\"TotalCoinsMined\"},\"y\":{\"field\":\"TotalCoinSupply\"}},\"id\":\"4286\",\"type\":\"Scatter\"},{\"attributes\":{},\"id\":\"4278\",\"type\":\"AllLabels\"},{\"attributes\":{\"angle\":{\"value\":0.0},\"fill_alpha\":{\"value\":1.0},\"fill_color\":{\"value\":\"#e5ae38\"},\"hatch_alpha\":{\"value\":1.0},\"hatch_color\":{\"value\":\"#e5ae38\"},\"hatch_scale\":{\"value\":12.0},\"hatch_weight\":{\"value\":1.0},\"line_alpha\":{\"value\":1.0},\"line_cap\":{\"value\":\"butt\"},\"line_color\":{\"value\":\"#e5ae38\"},\"line_dash\":{\"value\":[]},\"line_dash_offset\":{\"value\":0},\"line_join\":{\"value\":\"bevel\"},\"line_width\":{\"value\":1},\"marker\":{\"value\":\"circle\"},\"size\":{\"value\":5.477225575051661},\"x\":{\"field\":\"TotalCoinsMined\"},\"y\":{\"field\":\"TotalCoinSupply\"}},\"id\":\"4348\",\"type\":\"Scatter\"},{\"attributes\":{\"fill_alpha\":{\"value\":0.2},\"fill_color\":{\"value\":\"#30a2da\"},\"hatch_alpha\":{\"value\":0.2},\"hatch_color\":{\"value\":\"#30a2da\"},\"line_alpha\":{\"value\":0.2},\"line_color\":{\"value\":\"#30a2da\"},\"size\":{\"value\":5.477225575051661},\"x\":{\"field\":\"TotalCoinsMined\"},\"y\":{\"field\":\"TotalCoinSupply\"}},\"id\":\"4287\",\"type\":\"Scatter\"},{\"attributes\":{\"children\":[{\"id\":\"4240\"},{\"id\":\"4247\"},{\"id\":\"4519\"}],\"margin\":[0,0,0,0],\"name\":\"Row08278\",\"tags\":[\"embedded\"]},\"id\":\"4239\",\"type\":\"Row\"},{\"attributes\":{\"end\":1032416801156.6912,\"reset_end\":1032416801156.6912,\"reset_start\":-42428087675.042145,\"start\":-42428087675.042145,\"tags\":[[[\"TotalCoinsMined\",\"TotalCoinsMined\",null]]]},\"id\":\"4241\",\"type\":\"Range1d\"},{\"attributes\":{\"callback\":null,\"renderers\":[{\"id\":\"4288\"},{\"id\":\"4309\"},{\"id\":\"4331\"},{\"id\":\"4355\"}],\"tags\":[\"hv_created\"],\"tooltips\":[[\"Class\",\"@{Class}\"],[\"TotalCoinsMined\",\"@{TotalCoinsMined}\"],[\"TotalCoinSupply\",\"@{TotalCoinSupply}\"],[\"CoinName\",\"@{CoinName}\"]]},\"id\":\"4243\",\"type\":\"HoverTool\"},{\"attributes\":{\"data\":{\"Class\":[3,3,3,3,3],\"CoinName\":[\"Vechain\",\"BiblePay\",\"Poa Network\",\"Acute Angle Cloud\",\"Waves\"],\"TotalCoinSupply\":[\"86712634466\",\"5200000000\",\"252460800\",\"1000000000\",\"100000000\"],\"TotalCoinsMined\":{\"__ndarray__\":\"AACgM7jSKULx13gn/mfaQQAAAH40YKhBAAAAAGXNzUEAAAAAhNeXQQ==\",\"dtype\":\"float64\",\"order\":\"little\",\"shape\":[5]}},\"selected\":{\"id\":\"4350\"},\"selection_policy\":{\"id\":\"4370\"}},\"id\":\"4349\",\"type\":\"ColumnDataSource\"},{\"attributes\":{},\"id\":\"4297\",\"type\":\"UnionRenderers\"},{\"attributes\":{\"source\":{\"id\":\"4282\"}},\"id\":\"4289\",\"type\":\"CDSView\"},{\"attributes\":{\"source\":{\"id\":\"4349\"}},\"id\":\"4356\",\"type\":\"CDSView\"},{\"attributes\":{\"margin\":[5,5,5,5],\"name\":\"HSpacer08283\",\"sizing_mode\":\"stretch_width\"},\"id\":\"4519\",\"type\":\"Spacer\"},{\"attributes\":{},\"id\":\"4277\",\"type\":\"BasicTickFormatter\"},{\"attributes\":{\"fill_color\":{\"value\":\"#30a2da\"},\"hatch_color\":{\"value\":\"#30a2da\"},\"line_color\":{\"value\":\"#30a2da\"},\"size\":{\"value\":5.477225575051661},\"x\":{\"field\":\"TotalCoinsMined\"},\"y\":{\"field\":\"TotalCoinSupply\"}},\"id\":\"4285\",\"type\":\"Scatter\"},{\"attributes\":{},\"id\":\"4283\",\"type\":\"Selection\"},{\"attributes\":{\"coordinates\":null,\"group\":null,\"text_color\":\"black\",\"text_font_size\":\"12pt\"},\"id\":\"4248\",\"type\":\"Title\"},{\"attributes\":{\"angle\":{\"value\":0.0},\"fill_alpha\":{\"value\":1.0},\"fill_color\":{\"value\":\"#30a2da\"},\"hatch_alpha\":{\"value\":1.0},\"hatch_color\":{\"value\":\"#30a2da\"},\"hatch_scale\":{\"value\":12.0},\"hatch_weight\":{\"value\":1.0},\"line_alpha\":{\"value\":1.0},\"line_cap\":{\"value\":\"butt\"},\"line_color\":{\"value\":\"#30a2da\"},\"line_dash\":{\"value\":[]},\"line_dash_offset\":{\"value\":0},\"line_join\":{\"value\":\"bevel\"},\"line_width\":{\"value\":1},\"marker\":{\"value\":\"circle\"},\"size\":{\"value\":5.477225575051661},\"x\":{\"field\":\"TotalCoinsMined\"},\"y\":{\"field\":\"TotalCoinSupply\"}},\"id\":\"4302\",\"type\":\"Scatter\"},{\"attributes\":{},\"id\":\"4370\",\"type\":\"UnionRenderers\"},{\"attributes\":{},\"id\":\"4257\",\"type\":\"BasicTicker\"},{\"attributes\":{},\"id\":\"4350\",\"type\":\"Selection\"},{\"attributes\":{\"margin\":[5,5,5,5],\"name\":\"HSpacer08282\",\"sizing_mode\":\"stretch_width\"},\"id\":\"4240\",\"type\":\"Spacer\"},{\"attributes\":{\"coordinates\":null,\"data_source\":{\"id\":\"4282\"},\"glyph\":{\"id\":\"4285\"},\"group\":null,\"hover_glyph\":null,\"muted_glyph\":{\"id\":\"4287\"},\"nonselection_glyph\":{\"id\":\"4286\"},\"selection_glyph\":{\"id\":\"4302\"},\"view\":{\"id\":\"4289\"}},\"id\":\"4288\",\"type\":\"GlyphRenderer\"},{\"attributes\":{},\"id\":\"4254\",\"type\":\"CategoricalScale\"},{\"attributes\":{\"below\":[{\"id\":\"4256\"}],\"center\":[{\"id\":\"4259\"},{\"id\":\"4262\"}],\"height\":300,\"left\":[{\"id\":\"4260\"}],\"margin\":[5,5,5,5],\"min_border_bottom\":10,\"min_border_left\":10,\"min_border_right\":10,\"min_border_top\":10,\"renderers\":[{\"id\":\"4288\"},{\"id\":\"4309\"},{\"id\":\"4331\"},{\"id\":\"4355\"}],\"right\":[{\"id\":\"4300\"}],\"sizing_mode\":\"fixed\",\"title\":{\"id\":\"4248\"},\"toolbar\":{\"id\":\"4269\"},\"width\":700,\"x_range\":{\"id\":\"4241\"},\"x_scale\":{\"id\":\"4252\"},\"y_range\":{\"id\":\"4242\"},\"y_scale\":{\"id\":\"4254\"}},\"id\":\"4247\",\"subtype\":\"Figure\",\"type\":\"Plot\"},{\"attributes\":{\"fill_color\":{\"value\":\"#6d904f\"},\"hatch_color\":{\"value\":\"#6d904f\"},\"line_color\":{\"value\":\"#6d904f\"},\"size\":{\"value\":5.477225575051661},\"x\":{\"field\":\"TotalCoinsMined\"},\"y\":{\"field\":\"TotalCoinSupply\"}},\"id\":\"4352\",\"type\":\"Scatter\"},{\"attributes\":{\"label\":{\"value\":\"0\"},\"renderers\":[{\"id\":\"4288\"}]},\"id\":\"4301\",\"type\":\"LegendItem\"},{\"attributes\":{\"fill_alpha\":{\"value\":0.1},\"fill_color\":{\"value\":\"#fc4f30\"},\"hatch_alpha\":{\"value\":0.1},\"hatch_color\":{\"value\":\"#fc4f30\"},\"line_alpha\":{\"value\":0.1},\"line_color\":{\"value\":\"#fc4f30\"},\"size\":{\"value\":5.477225575051661},\"x\":{\"field\":\"TotalCoinsMined\"},\"y\":{\"field\":\"TotalCoinSupply\"}},\"id\":\"4307\",\"type\":\"Scatter\"},{\"attributes\":{\"label\":{\"value\":\"3\"},\"renderers\":[{\"id\":\"4355\"}]},\"id\":\"4373\",\"type\":\"LegendItem\"},{\"attributes\":{\"source\":{\"id\":\"4303\"}},\"id\":\"4310\",\"type\":\"CDSView\"},{\"attributes\":{\"fill_alpha\":{\"value\":0.1},\"fill_color\":{\"value\":\"#6d904f\"},\"hatch_alpha\":{\"value\":0.1},\"hatch_color\":{\"value\":\"#6d904f\"},\"line_alpha\":{\"value\":0.1},\"line_color\":{\"value\":\"#6d904f\"},\"size\":{\"value\":5.477225575051661},\"x\":{\"field\":\"TotalCoinsMined\"},\"y\":{\"field\":\"TotalCoinSupply\"}},\"id\":\"4353\",\"type\":\"Scatter\"},{\"attributes\":{\"coordinates\":null,\"data_source\":{\"id\":\"4349\"},\"glyph\":{\"id\":\"4352\"},\"group\":null,\"hover_glyph\":null,\"muted_glyph\":{\"id\":\"4354\"},\"nonselection_glyph\":{\"id\":\"4353\"},\"selection_glyph\":{\"id\":\"4374\"},\"view\":{\"id\":\"4356\"}},\"id\":\"4355\",\"type\":\"GlyphRenderer\"},{\"attributes\":{\"axis\":{\"id\":\"4260\"},\"coordinates\":null,\"dimension\":1,\"grid_line_color\":null,\"group\":null,\"ticker\":null},\"id\":\"4262\",\"type\":\"Grid\"},{\"attributes\":{},\"id\":\"4252\",\"type\":\"LinearScale\"},{\"attributes\":{\"data\":{\"Class\":[2],\"CoinName\":[\"BitTorrent\"],\"TotalCoinSupply\":[\"990000000000\"],\"TotalCoinsMined\":{\"__ndarray__\":\"xfR7nv3PbEI=\",\"dtype\":\"float64\",\"order\":\"little\",\"shape\":[1]}},\"selected\":{\"id\":\"4326\"},\"selection_policy\":{\"id\":\"4344\"}},\"id\":\"4325\",\"type\":\"ColumnDataSource\"},{\"attributes\":{\"angle\":{\"value\":0.0},\"fill_alpha\":{\"value\":1.0},\"fill_color\":{\"value\":\"#6d904f\"},\"hatch_alpha\":{\"value\":1.0},\"hatch_color\":{\"value\":\"#6d904f\"},\"hatch_scale\":{\"value\":12.0},\"hatch_weight\":{\"value\":1.0},\"line_alpha\":{\"value\":1.0},\"line_cap\":{\"value\":\"butt\"},\"line_color\":{\"value\":\"#6d904f\"},\"line_dash\":{\"value\":[]},\"line_dash_offset\":{\"value\":0},\"line_join\":{\"value\":\"bevel\"},\"line_width\":{\"value\":1},\"marker\":{\"value\":\"circle\"},\"size\":{\"value\":5.477225575051661},\"x\":{\"field\":\"TotalCoinsMined\"},\"y\":{\"field\":\"TotalCoinSupply\"}},\"id\":\"4374\",\"type\":\"Scatter\"},{\"attributes\":{\"axis_label\":\"TotalCoinsMined\",\"coordinates\":null,\"formatter\":{\"id\":\"4277\"},\"group\":null,\"major_label_policy\":{\"id\":\"4278\"},\"ticker\":{\"id\":\"4257\"}},\"id\":\"4256\",\"type\":\"LinearAxis\"},{\"attributes\":{},\"id\":\"4320\",\"type\":\"UnionRenderers\"},{\"attributes\":{\"coordinates\":null,\"data_source\":{\"id\":\"4303\"},\"glyph\":{\"id\":\"4306\"},\"group\":null,\"hover_glyph\":null,\"muted_glyph\":{\"id\":\"4308\"},\"nonselection_glyph\":{\"id\":\"4307\"},\"selection_glyph\":{\"id\":\"4324\"},\"view\":{\"id\":\"4310\"}},\"id\":\"4309\",\"type\":\"GlyphRenderer\"},{\"attributes\":{\"axis\":{\"id\":\"4256\"},\"coordinates\":null,\"grid_line_color\":null,\"group\":null,\"ticker\":null},\"id\":\"4259\",\"type\":\"Grid\"},{\"attributes\":{\"label\":{\"value\":\"1\"},\"renderers\":[{\"id\":\"4309\"}]},\"id\":\"4323\",\"type\":\"LegendItem\"},{\"attributes\":{},\"id\":\"4261\",\"type\":\"CategoricalTicker\"},{\"attributes\":{\"axis_label\":\"TotalCoinSupply\",\"coordinates\":null,\"formatter\":{\"id\":\"4280\"},\"group\":null,\"major_label_policy\":{\"id\":\"4281\"},\"ticker\":{\"id\":\"4261\"}},\"id\":\"4260\",\"type\":\"CategoricalAxis\"},{\"attributes\":{\"data\":{\"Class\":[0,0,0,0,0,0,0,0,0,0,0,0,0,0,0,0,0,0,0,0,0,0,0,0,0,0,0,0,0,0,0,0,0,0,0,0,0,0,0,0,0,0,0,0,0,0,0,0,0,0,0,0,0,0,0,0,0,0,0,0,0,0,0,0,0,0,0,0,0,0,0,0,0,0,0,0,0,0,0,0,0,0,0,0,0,0,0,0,0,0,0,0,0,0,0,0,0,0,0,0,0,0,0,0,0,0,0,0,0,0,0,0,0,0,0,0,0,0,0,0,0,0,0,0,0,0,0,0,0,0,0,0,0,0,0,0,0,0,0,0,0,0,0,0,0,0,0,0,0,0,0,0,0,0,0,0,0,0,0,0,0,0,0,0,0,0,0,0,0,0,0,0,0,0,0,0,0,0,0,0,0,0,0,0,0,0,0,0,0,0,0,0,0,0,0,0,0,0,0,0,0,0,0,0,0,0,0,0,0,0,0,0,0,0,0,0,0,0,0,0,0,0,0,0,0,0,0,0,0,0,0,0,0,0,0,0,0,0,0,0,0,0,0,0,0,0,0,0,0,0,0,0,0,0,0,0,0,0,0,0,0,0,0,0,0,0,0,0,0,0,0,0,0,0,0,0,0,0,0,0,0,0,0,0,0,0,0],\"CoinName\":[\"42 Coin\",\"404Coin\",\"EliteCoin\",\"Dash\",\"Bitshares\",\"BitcoinDark\",\"PayCoin\",\"KoboCoin\",\"Aurora Coin\",\"BlueCoin\",\"EnergyCoin\",\"BitBar\",\"CryptoBullion\",\"CasinoCoin\",\"Diamond\",\"Exclusive Coin\",\"FlutterCoin\",\"HoboNickels\",\"HyperStake\",\"IOCoin\",\"MaxCoin\",\"MintCoin\",\"MazaCoin\",\"Nautilus Coin\",\"NavCoin\",\"OpalCoin\",\"Orbitcoin\",\"PotCoin\",\"PhoenixCoin\",\"Reddcoin\",\"SuperCoin\",\"SyncCoin\",\"TeslaCoin\",\"TittieCoin\",\"TorCoin\",\"UnitaryStatus Dollar\",\"UltraCoin\",\"VeriCoin\",\"X11 Coin\",\"Crypti\",\"StealthCoin\",\"ZCC Coin\",\"BurstCoin\",\"StorjCoin\",\"Neutron\",\"FairCoin\",\"RubyCoin\",\"Kore\",\"Dnotes\",\"8BIT Coin\",\"Sativa Coin\",\"Ucoin\",\"Vtorrent\",\"IslaCoin\",\"Nexus\",\"Droidz\",\"Squall Coin\",\"Diggits\",\"Paycon\",\"Emercoin\",\"EverGreenCoin\",\"Decred\",\"EDRCoin\",\"Hitcoin\",\"DubaiCoin\",\"PWR Coin\",\"BillaryCoin\",\"GPU Coin\",\"EuropeCoin\",\"ZeitCoin\",\"SwingCoin\",\"SafeExchangeCoin\",\"Nebuchadnezzar\",\"Ratecoin\",\"Revenu\",\"Clockcoin\",\"VIP Tokens\",\"BitSend\",\"Let it Ride\",\"PutinCoin\",\"iBankCoin\",\"Frankywillcoin\",\"MudraCoin\",\"Lutetium Coin\",\"GoldBlocks\",\"CarterCoin\",\"BitTokens\",\"MustangCoin\",\"ZoneCoin\",\"RootCoin\",\"BitCurrency\",\"Swiscoin\",\"BuzzCoin\",\"Opair\",\"PesoBit\",\"Halloween Coin\",\"CoffeeCoin\",\"RoyalCoin\",\"GanjaCoin V2\",\"TeamUP\",\"LanaCoin\",\"ARK\",\"InsaneCoin\",\"EmberCoin\",\"XenixCoin\",\"FreeCoin\",\"PLNCoin\",\"AquariusCoin\",\"Creatio\",\"Eternity\",\"Eurocoin\",\"BitcoinFast\",\"Stakenet\",\"BitConnect Coin\",\"MoneyCoin\",\"Enigma\",\"Russiacoin\",\"PandaCoin\",\"GameUnits\",\"GAKHcoin\",\"Allsafe\",\"LiteCreed\",\"Klingon Empire Darsek\",\"Internet of People\",\"KushCoin\",\"Printerium\",\"Impeach\",\"Zilbercoin\",\"FirstCoin\",\"FindCoin\",\"OpenChat\",\"RenosCoin\",\"VirtacoinPlus\",\"TajCoin\",\"Impact\",\"Atmos\",\"HappyCoin\",\"MacronCoin\",\"Condensate\",\"Independent Money System\",\"ArgusCoin\",\"LomoCoin\",\"ProCurrency\",\"GoldReserve\",\"GrowthCoin\",\"Phreak\",\"Degas Coin\",\"HTML5 Coin\",\"Ultimate Secure Cash\",\"QTUM\",\"Espers\",\"Denarius\",\"Virta Unique Coin\",\"Bitcoin Planet\",\"BritCoin\",\"Linda\",\"DeepOnion\",\"Signatum\",\"Cream\",\"Monoeci\",\"Draftcoin\",\"Stakecoin\",\"CoinonatX\",\"Ethereum Dark\",\"Obsidian\",\"Cardano\",\"Regalcoin\",\"TrezarCoin\",\"TerraNovaCoin\",\"Rupee\",\"WomenCoin\",\"Theresa May Coin\",\"NamoCoin\",\"LUXCoin\",\"Xios\",\"Bitcloud 2.0\",\"KekCoin\",\"BlackholeCoin\",\"Infinity Economics\",\"Magnet\",\"Lamden Tau\",\"Electra\",\"Bitcoin Diamond\",\"Cash & Back Coin\",\"Bulwark\",\"Kalkulus\",\"GermanCoin\",\"LiteCoin Ultra\",\"PhantomX\",\"Digiwage\",\"Trollcoin\",\"Litecoin Plus\",\"Monkey Project\",\"TokenPay\",\"My Big Coin\",\"Unified Society USDEX\",\"Tokyo Coin\",\"LitecoinCash\",\"Stipend\",\"Pushi\",\"Ellerium\",\"Velox\",\"Ontology\",\"Bitspace\",\"Briacoin\",\"Ignition\",\"MedicCoin\",\"Bitcoin Green\",\"Deviant Coin\",\"Abjcoin\",\"Semux\",\"Carebit\",\"Zealium\",\"Proton\",\"iDealCash\",\"Bitcoin Incognito\",\"HollyWoodCoin\",\"Swisscoin\",\"Xt3ch\",\"TheVig\",\"EmaratCoin\",\"Dekado\",\"Lynx\",\"Poseidon Quark\",\"BitcoinWSpectrum\",\"Muse\",\"Trivechain\",\"Dystem\",\"Giant\",\"Peony Coin\",\"Absolute Coin\",\"Vitae\",\"TPCash\",\"ARENON\",\"EUNO\",\"MMOCoin\",\"Ketan\",\"XDNA\",\"PAXEX\",\"ThunderStake\",\"Kcash\",\"Bettex coin\",\"BitMoney\",\"Junson Ming Chan Coin\",\"HerbCoin\",\"PirateCash\",\"Oduwa\",\"Galilel\",\"Crypto Sports\",\"Credit\",\"Dash Platinum\",\"Nasdacoin\",\"Beetle Coin\",\"Titan Coin\",\"Award\",\"Insane Coin\",\"ALAX\",\"LiteDoge\",\"TruckCoin\",\"OrangeCoin\",\"BitstarCoin\",\"NeosCoin\",\"HyperCoin\",\"PinkCoin\",\"AudioCoin\",\"IncaKoin\",\"Piggy Coin\",\"Genstake\",\"XiaoMiCoin\",\"CapriCoin\",\" ClubCoin\",\"Radium\",\"Creditbit \",\"OKCash\",\"Lisk\",\"HiCoin\",\"WhiteCoin\",\"FriendshipCoin\",\"Triangles Coin\",\"EOS\",\"Oxycoin\",\"TigerCash\",\"Particl\",\"Nxt\",\"ZEPHYR\",\"Gapcoin\",\"BitcoinPlus\"],\"TotalCoinSupply\":[\"42\",\"532000000\",\"314159265359\",\"22000000\",\"3600570502\",\"22000000\",\"12500000\",\"350000000\",\"16768584\",\"0\",\"0\",\"500000\",\"1000000\",\"40000000000\",\"4380000\",\"0\",\"0\",\"120000000\",\"0\",\"22000000\",\"100000000\",\"0\",\"2419200000\",\"16180000\",\"0\",\"0\",\"3770000\",\"420000000\",\"98000000\",\"0\",\"0\",\"1000\",\"100000000\",\"2300000000\",\"10000000\",\"1600000000\",\"100000000\",\"0\",\"5500000\",\"0\",\"0\",\"1000000000\",\"2158812800\",\"500000000\",\"68000000\",\"0\",\"0\",\"12000000\",\"500000000\",\"0\",\"10000000\",\"20000000\",\"20000000\",\"0\",\"78000000\",\"5060000\",\"0\",\"100000000\",\"50000000\",\"1000000000\",\"26298000\",\"21000000\",\"22000000\",\"26550000000\",\"10500000\",\"0\",\"42000000\",\"221052632\",\"384000000\",\" 99000000000\",\"40000000\",\"2147483647\",\"20000000\",\"75000000\",\"222725000\",\"525000000\",\"90000000\",\"139000000\",\"33500000\",\"2000000000\",\"44333333\",\"100000000\",\"200000000\",\"657000000\",\"50000000\",\"90000000\",\"21000000\",\"3000000\",\"21000000\",\"0\",\"0\",\"3100000000\",\"20000000000\",\"74000000\",\"0\",\"1500000000\",\"39999898\",\"2500124\",\"100000000\",\"301000000\",\"7506000000\",\"125000000\",\"30000000\",\"850000000\",\"3853326.77707314\",\"50000000\",\"38540000 \",\"42000000\",\"20000000\",\"60000000\",\"20000000\",\"33000000\",\"76500000\",\"28000000\",\"650659833\",\"5000000\",\"144000000\",\"32514916898\",\"13000000\",\"3315789\",\"15000000\",\"78835200\",\"500000000\",\"21000000\",\"9354000\",\"20000000\",\"21933333\",\"55000000\",\"110000000\",\"14524851.4827\",\"1000000000\",\"34426423\",\"100000000\",\"36900000\",\"110000000\",\"110290030\",\"100000000\",\"400000000\",\"500000000\",\"21212121\",\"28600000\",\"1000000000\",\"75000000000\",\"40000000\",\"2000000000\",\"30000000\",\"105000000\",\"90000000000\",\"200084200\",\"100000000\",\"50000000000\",\"10000000\",\"120000000\",\"100000000\",\"30000000\",\"50000000000\",\"18898187.6216583\",\"137500000\",\"100000000\",\"9507271\",\"17405891.19707116\",\"61599965\",\"48252000\",\"4200000\",\"91388946\",\"45000000000\",\"27000000\",\"400000000\",\"15733333\",\"24000000\",\"25000000000\",\"100000000\",\"1200000000\",\"60000000\",\"21000000\",\"200000000\",\"21000000\",\"14788275.991\",\"9000000000\",\"144000000\",\"500000000\",\"30000000000\",\"210000000\",\"210000000\",\"27716121\",\"20000000\",\"50000000000\",\"150000000\",\"50000000\",\"120000000\",\"900000000\",\"4000000\",\"21000000\",\"25000000\",\"30000000\",\"232000000\",\"800000000\",\"840000000\",\"19340594\",\"25000000\",\"60000000\",\"124000000\",\"1000000000\",\"50000000\",\"3000000\",\"5000000\",\"500000000\",\"21000000\",\"88000000\",\"30000000\",\"100000000\",\"200000000\",\"80000000\",\"45000000\",\"5121951220\",\"21000000\",\"26000000\",\"10200000000\",\"44000000\",\"100000000\",\"84000000\",\"90000000\",\"92000000000\",\"650000000 \",\"100262205\",\"18081806 \",\"82546564\",\"21000000\",\"5151000\",\"16880000000\",\"52500000\",\"100000000\",\"1000000000\",\"55000000\",\"50000000\",\"260000000\",\"210000000\",\"366000000\",\"100000000\",\"18000000000\",\"1000000000\",\"50000000\",\"70000000000\",\"0\",\"54000000\",\"105000000\",\"21000000\",\"19035999\",\"13370000\",\"74800000000\",\"19700000\",\"84000000\",\"500000000\",\"5000000000\",\"420000000\",\"30000000\",\"1000000000\",\"35000000000\",\"0\",\"200000000\",\"54256119\",\"21000000\",\"0\",\"500000000\",\"10500000000\",\"190000000\",\"1000000000\",\"15000000\",\"400000000\",\"208000000\",\"160000000\",\"9000000\",\"16504333\",\"105000000\",\"159918400\",\"10008835635\",\"300000000\",\"60168145\",\"120000\",\"0\",\"0\",\"1000000000\",\"8634140\",\"1000000000\",\"2000000000\",\"250000000\",\"1000000\"],\"TotalCoinsMined\":{\"__ndarray__\":\"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\",\"dtype\":\"float64\",\"order\":\"little\",\"shape\":[287]}},\"selected\":{\"id\":\"4283\"},\"selection_policy\":{\"id\":\"4297\"}},\"id\":\"4282\",\"type\":\"ColumnDataSource\"},{\"attributes\":{\"fill_color\":{\"value\":\"#fc4f30\"},\"hatch_color\":{\"value\":\"#fc4f30\"},\"line_color\":{\"value\":\"#fc4f30\"},\"size\":{\"value\":5.477225575051661},\"x\":{\"field\":\"TotalCoinsMined\"},\"y\":{\"field\":\"TotalCoinSupply\"}},\"id\":\"4306\",\"type\":\"Scatter\"},{\"attributes\":{},\"id\":\"4280\",\"type\":\"CategoricalTickFormatter\"}],\"root_ids\":[\"4239\"]},\"title\":\"Bokeh Application\",\"version\":\"2.4.2\"}};\n",
       "    var render_items = [{\"docid\":\"1a33f5f8-22a4-441a-ae29-63fb8c77efea\",\"root_ids\":[\"4239\"],\"roots\":{\"4239\":\"2e516368-4656-4ad0-b60b-ac8609d1f604\"}}];\n",
       "    root.Bokeh.embed.embed_items_notebook(docs_json, render_items);\n",
       "  }\n",
       "  if (root.Bokeh !== undefined && root.Bokeh.Panel !== undefined) {\n",
       "    embed_document(root);\n",
       "  } else {\n",
       "    var attempts = 0;\n",
       "    var timer = setInterval(function(root) {\n",
       "      if (root.Bokeh !== undefined && root.Bokeh.Panel !== undefined) {\n",
       "        clearInterval(timer);\n",
       "        embed_document(root);\n",
       "      } else if (document.readyState == \"complete\") {\n",
       "        attempts++;\n",
       "        if (attempts > 200) {\n",
       "          clearInterval(timer);\n",
       "          console.log(\"Bokeh: ERROR: Unable to run BokehJS code because BokehJS library is missing\");\n",
       "        }\n",
       "      }\n",
       "    }, 25, root)\n",
       "  }\n",
       "})(window);</script>"
      ],
      "text/plain": [
       ":NdOverlay   [Class]\n",
       "   :Scatter   [TotalCoinsMined]   (TotalCoinSupply,CoinName)"
      ]
     },
     "execution_count": 154,
     "metadata": {
      "application/vnd.holoviews_exec.v0+json": {
       "id": "4239"
      }
     },
     "output_type": "execute_result"
    }
   ],
   "source": [
    "# Create a hvplot.scatter plot using x=\"TotalCoinsMined\" and y=\"TotalCoinSupply\".\n",
    "plot_df.hvplot.scatter(x=\"TotalCoinsMined\", y=\"TotalCoinSupply\", by=\"Class\", hover_cols=[\"CoinName\"])\n"
   ]
  },
  {
   "cell_type": "code",
   "execution_count": null,
   "metadata": {},
   "outputs": [],
   "source": []
  }
 ],
 "metadata": {
  "file_extension": ".py",
  "kernelspec": {
   "display_name": "PythonData",
   "language": "python",
   "name": "pythondata"
  },
  "language_info": {
   "codemirror_mode": {
    "name": "ipython",
    "version": 3
   },
   "file_extension": ".py",
   "mimetype": "text/x-python",
   "name": "python",
   "nbconvert_exporter": "python",
   "pygments_lexer": "ipython3",
   "version": "3.7.13"
  },
  "latex_envs": {
   "LaTeX_envs_menu_present": true,
   "autoclose": false,
   "autocomplete": true,
   "bibliofile": "biblio.bib",
   "cite_by": "apalike",
   "current_citInitial": 1,
   "eqLabelWithNumbers": true,
   "eqNumInitial": 1,
   "hotkeys": {
    "equation": "Ctrl-E",
    "itemize": "Ctrl-I"
   },
   "labels_anchors": false,
   "latex_user_defs": false,
   "report_style_numbering": false,
   "user_envs_cfg": false
  },
  "mimetype": "text/x-python",
  "name": "python",
  "npconvert_exporter": "python",
  "pygments_lexer": "ipython3",
  "version": 3
 },
 "nbformat": 4,
 "nbformat_minor": 2
}
